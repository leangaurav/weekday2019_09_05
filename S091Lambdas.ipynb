{
 "cells": [
  {
   "cell_type": "code",
   "execution_count": 5,
   "metadata": {},
   "outputs": [
    {
     "data": {
      "text/plain": [
       "2"
      ]
     },
     "execution_count": 5,
     "metadata": {},
     "output_type": "execute_result"
    }
   ],
   "source": [
    "from functools import reduce\n",
    "\n",
    "s = 'abcd'\n",
    "def add(x,y):\n",
    "    return  x + y\n",
    "\n",
    "def f(x):\n",
    "    return x %2 == 1\n",
    "\n",
    "reduce(add, map (f, map(ord, s) ) )\n",
    "reduce(add, map (f, [65,66,67,68] ) )\n",
    "reduce(add, [True, False, True, False] ) \n",
    "# 2, "
   ]
  },
  {
   "cell_type": "code",
   "execution_count": 1,
   "metadata": {},
   "outputs": [
    {
     "name": "stdout",
     "output_type": "stream",
     "text": [
      "2\n"
     ]
    }
   ],
   "source": [
    "print( sum([True, False, True ]))"
   ]
  },
  {
   "cell_type": "markdown",
   "metadata": {},
   "source": [
    "### lambda\n",
    " syntax:     \n",
    "- anonymous function\n",
    "- single line\n",
    "- automatically returns value of expression\n",
    "- can take 0-n number of arguments\n"
   ]
  },
  {
   "cell_type": "code",
   "execution_count": 13,
   "metadata": {},
   "outputs": [
    {
     "name": "stdout",
     "output_type": "stream",
     "text": [
      "10\n",
      "10\n",
      "4\n",
      "400\n",
      "512000000000\n",
      "8000\n"
     ]
    }
   ],
   "source": [
    "# lambda <args> : <expression>\n",
    "f1 = lambda : 10\n",
    "f2 = lambda x: x **2 \n",
    "f3 = lambda x,y = 9: x **y \n",
    "\n",
    "print( f1() )\n",
    "print( f1() )\n",
    "print( f2(2) )\n",
    "print( f2(20) )\n",
    "print( f3(20) )\n",
    "print( f3(20,3) )"
   ]
  },
  {
   "cell_type": "code",
   "execution_count": 20,
   "metadata": {},
   "outputs": [
    {
     "name": "stdout",
     "output_type": "stream",
     "text": [
      "(<function <lambda> at 0x00000287374D1598>, <function <lambda> at 0x00000287374D19D8>) <class 'tuple'>\n"
     ]
    }
   ],
   "source": [
    "from functools import reduce\n",
    "\n",
    "s = 'abcd'\n",
    "reduce( lambda x,y : x + y , map ( lambda x : x %2 == 1, map(ord, s) ) )\n",
    "\n",
    "r = lambda x: x** 2, lambda x,y: x ** y\n",
    "print(r, type(r))\n",
    "# 2, "
   ]
  },
  {
   "cell_type": "code",
   "execution_count": 25,
   "metadata": {},
   "outputs": [
    {
     "name": "stdout",
     "output_type": "stream",
     "text": [
      "[91, 65, 87, 18, 69]\n",
      "['gaurav', 'krishna', 'abhishek']\n",
      "['abhishek', 'gaurav', 'krishna']\n",
      "['krishna', 'abhishek', 'gaurav']\n"
     ]
    }
   ],
   "source": [
    "a = [91, 87, 65,69, 18]\n",
    "#    1    7   5  9   8\n",
    "a.sort(key = lambda x: x%10)\n",
    "print(a)\n",
    "\n",
    "a = ['gaurav', 'abhishek', 'krishna']\n",
    "#          v     k            a\n",
    "a.sort(key = len)\n",
    "print(a)\n",
    "a.sort()\n",
    "print(a)\n",
    "a.sort(key = lambda x : x[-1])\n",
    "print(a)"
   ]
  },
  {
   "cell_type": "code",
   "execution_count": 29,
   "metadata": {},
   "outputs": [
    {
     "name": "stdout",
     "output_type": "stream",
     "text": [
      "100\n",
      "100\n",
      "100\n"
     ]
    }
   ],
   "source": [
    "f = lambda : (lambda x: x **2, lambda x: x **3)\n",
    "print(f()[0](10))\n",
    "print(  (lambda x: x **2, lambda x: x **3) [0]  (10))\n",
    "print(  (lambda x: x **2)(10)) "
   ]
  },
  {
   "cell_type": "code",
   "execution_count": 28,
   "metadata": {},
   "outputs": [
    {
     "name": "stdout",
     "output_type": "stream",
     "text": [
      "100\n",
      "1000\n"
     ]
    }
   ],
   "source": [
    "f = lambda i, data: (lambda x: x **2, lambda x: x **3)[i](data)\n",
    "print(f(0,10))\n",
    "print(f(1,10))"
   ]
  },
  {
   "cell_type": "code",
   "execution_count": null,
   "metadata": {},
   "outputs": [],
   "source": []
  }
 ],
 "metadata": {
  "kernelspec": {
   "display_name": "Python 3",
   "language": "python",
   "name": "python3"
  },
  "language_info": {
   "codemirror_mode": {
    "name": "ipython",
    "version": 3
   },
   "file_extension": ".py",
   "mimetype": "text/x-python",
   "name": "python",
   "nbconvert_exporter": "python",
   "pygments_lexer": "ipython3",
   "version": "3.7.3"
  }
 },
 "nbformat": 4,
 "nbformat_minor": 2
}
