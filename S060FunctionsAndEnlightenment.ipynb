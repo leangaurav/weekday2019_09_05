{
 "cells": [
  {
   "cell_type": "code",
   "execution_count": 1,
   "metadata": {},
   "outputs": [
    {
     "name": "stdout",
     "output_type": "stream",
     "text": [
      "() <class 'tuple'>\n"
     ]
    }
   ],
   "source": [
    "t = ()\n",
    "print(t, type(t))"
   ]
  },
  {
   "cell_type": "code",
   "execution_count": 3,
   "metadata": {},
   "outputs": [
    {
     "name": "stdout",
     "output_type": "stream",
     "text": [
      "(1, 2, [(), 'string'], 'tuple') <class 'tuple'>\n"
     ]
    }
   ],
   "source": [
    "t = (1,2, [(), 'string'] , 'tuple')\n",
    "print(t, type(t))"
   ]
  },
  {
   "cell_type": "code",
   "execution_count": 5,
   "metadata": {},
   "outputs": [
    {
     "name": "stdout",
     "output_type": "stream",
     "text": [
      "[1, 2, 3] (1, 2, 3)\n",
      "('a', 'b', 'c', 'd')\n"
     ]
    }
   ],
   "source": [
    "a = [1,2,3]\n",
    "t = tuple(a)\n",
    "print(a,t)\n",
    "t = tuple('abcd')\n",
    "print(t)"
   ]
  },
  {
   "cell_type": "code",
   "execution_count": 8,
   "metadata": {},
   "outputs": [
    {
     "name": "stdout",
     "output_type": "stream",
     "text": [
      "abcdabcdabcd\n",
      "(10, 20, True, 10, 20, True, 10, 20, True)\n",
      "[10, 20, True, 10, 20, True, 10, 20, True]\n"
     ]
    }
   ],
   "source": [
    "s = 'abcd'\n",
    "print(s*3)\n",
    "\n",
    "t = (10,20,True)\n",
    "print(t*3)\n",
    "a = list(t)\n",
    "print(a * 3)"
   ]
  },
  {
   "cell_type": "code",
   "execution_count": 9,
   "metadata": {},
   "outputs": [
    {
     "name": "stdout",
     "output_type": "stream",
     "text": [
      "['__add__', '__class__', '__contains__', '__delattr__', '__dir__', '__doc__', '__eq__', '__format__', '__ge__', '__getattribute__', '__getitem__', '__getnewargs__', '__gt__', '__hash__', '__init__', '__init_subclass__', '__iter__', '__le__', '__len__', '__lt__', '__mul__', '__ne__', '__new__', '__reduce__', '__reduce_ex__', '__repr__', '__rmul__', '__setattr__', '__sizeof__', '__str__', '__subclasshook__', 'count', 'index']\n"
     ]
    }
   ],
   "source": [
    "print(dir(tuple))"
   ]
  },
  {
   "cell_type": "code",
   "execution_count": 11,
   "metadata": {},
   "outputs": [
    {
     "name": "stdout",
     "output_type": "stream",
     "text": [
      "Enter base:10\n",
      "Enter exponent:4\n",
      "10000\n"
     ]
    }
   ],
   "source": [
    "b = int(input('Enter base:'))\n",
    "e = int(input('Enter exponent:'))\n",
    "\n",
    "p = 1\n",
    "for i in range(e):\n",
    "    p*= b\n",
    "print(p)"
   ]
  },
  {
   "cell_type": "code",
   "execution_count": 14,
   "metadata": {},
   "outputs": [
    {
     "name": "stdout",
     "output_type": "stream",
     "text": [
      "Function\n",
      "Function\n",
      "Function\n"
     ]
    }
   ],
   "source": [
    "def funct():\n",
    "    print('Function')\n",
    "    \n",
    "funct()\n",
    "\n",
    "funct()\n",
    "\n",
    "funct()"
   ]
  },
  {
   "cell_type": "code",
   "execution_count": 16,
   "metadata": {},
   "outputs": [
    {
     "name": "stdout",
     "output_type": "stream",
     "text": [
      "Square: 100\n",
      "None\n",
      "Enter a number: 1\n",
      "Square: 1\n"
     ]
    }
   ],
   "source": [
    "def funct(x):\n",
    "    print(\"Square:\" , x*x)\n",
    "    \n",
    "r = funct(10)\n",
    "print(r)\n",
    "funct( int(input(\"Enter a number: \")))\n"
   ]
  },
  {
   "cell_type": "code",
   "execution_count": 19,
   "metadata": {},
   "outputs": [
    {
     "name": "stdout",
     "output_type": "stream",
     "text": [
      "116\n"
     ]
    }
   ],
   "source": [
    "def square(x):\n",
    "    return x*x\n",
    "\n",
    "r = square(10) + square(4)\n",
    "print(r)"
   ]
  },
  {
   "cell_type": "code",
   "execution_count": 21,
   "metadata": {},
   "outputs": [
    {
     "name": "stdout",
     "output_type": "stream",
     "text": [
      "120\n"
     ]
    }
   ],
   "source": [
    "# WAF fact(n) and returns factorial of n!\n",
    "# 5 = 5x4x3x2x1 = 120\n",
    "def fact(n):\n",
    "    p = 1\n",
    "    for i in range(1, n+1):\n",
    "        p*=i\n",
    "    \n",
    "    return p\n",
    "\n",
    "print(fact(5))\n",
    "#  1X2X3X4X5\n",
    "#  1x1\n",
    "#  1x2\n",
    "#  2x3\n",
    "#  6x4...."
   ]
  },
  {
   "cell_type": "code",
   "execution_count": null,
   "metadata": {},
   "outputs": [],
   "source": [
    "# WAF get_rand_list() which should return a list of 5 random numbers (100-200)\n",
    "\n",
    "a = get_rand_list()\n",
    "a [10,3,4,100,99]"
   ]
  },
  {
   "cell_type": "code",
   "execution_count": 35,
   "metadata": {},
   "outputs": [
    {
     "name": "stdout",
     "output_type": "stream",
     "text": [
      "[175, 116, 151, 173, 139]\n"
     ]
    }
   ],
   "source": [
    "import random\n",
    "def get_random_list():\n",
    "    cnt=5\n",
    "    a = []\n",
    "    for i in range(cnt):\n",
    "        a.append(random.randint(100,200))\n",
    "    return a\n",
    "\n",
    "r = get_random_list()\n",
    "print(r)"
   ]
  },
  {
   "cell_type": "code",
   "execution_count": 36,
   "metadata": {},
   "outputs": [
    {
     "name": "stdout",
     "output_type": "stream",
     "text": [
      "[10, 20, True]\n"
     ]
    }
   ],
   "source": [
    "import random as rn\n",
    "def get_rand_list():\n",
    "    a= list()\n",
    "    for i in range(5):\n",
    "        a.append(rn.randint(100,200))\n",
    "\n",
    "get_rand_list()\n",
    "print(a)"
   ]
  },
  {
   "cell_type": "code",
   "execution_count": 37,
   "metadata": {},
   "outputs": [
    {
     "name": "stdout",
     "output_type": "stream",
     "text": [
      "Main 10\n",
      "10\n"
     ]
    }
   ],
   "source": [
    "a = 10\n",
    "\n",
    "def funct():\n",
    "    print(a)\n",
    "    \n",
    "print('Main', a)\n",
    "funct()"
   ]
  },
  {
   "cell_type": "code",
   "execution_count": 40,
   "metadata": {},
   "outputs": [
    {
     "name": "stdout",
     "output_type": "stream",
     "text": [
      "21\n"
     ]
    }
   ],
   "source": [
    "def get_rand_list(n):\n",
    "    import random \n",
    "    x=random.randrange(1,100,5)\n",
    "    return x \n",
    "r=get_rand_list(10)\n",
    "print(r)"
   ]
  },
  {
   "cell_type": "code",
   "execution_count": 65,
   "metadata": {},
   "outputs": [
    {
     "ename": "TypeError",
     "evalue": "'int' object is not iterable",
     "output_type": "error",
     "traceback": [
      "\u001b[1;31m---------------------------------------------------------------------------\u001b[0m",
      "\u001b[1;31mTypeError\u001b[0m                                 Traceback (most recent call last)",
      "\u001b[1;32m<ipython-input-65-b79afd8d6551>\u001b[0m in \u001b[0;36m<module>\u001b[1;34m\u001b[0m\n\u001b[0;32m      7\u001b[0m     \u001b[1;32mreturn\u001b[0m \u001b[0mx\u001b[0m\u001b[1;33m\u001b[0m\u001b[1;33m\u001b[0m\u001b[0m\n\u001b[0;32m      8\u001b[0m \u001b[1;33m\u001b[0m\u001b[0m\n\u001b[1;32m----> 9\u001b[1;33m \u001b[0mr\u001b[0m \u001b[1;33m=\u001b[0m \u001b[0mget_rand_list\u001b[0m\u001b[1;33m(\u001b[0m\u001b[1;33m)\u001b[0m\u001b[1;33m\u001b[0m\u001b[1;33m\u001b[0m\u001b[0m\n\u001b[0m\u001b[0;32m     10\u001b[0m \u001b[0mprint\u001b[0m\u001b[1;33m(\u001b[0m\u001b[0mr\u001b[0m\u001b[1;33m)\u001b[0m\u001b[1;33m\u001b[0m\u001b[1;33m\u001b[0m\u001b[0m\n",
      "\u001b[1;32m<ipython-input-65-b79afd8d6551>\u001b[0m in \u001b[0;36mget_rand_list\u001b[1;34m()\u001b[0m\n\u001b[0;32m      4\u001b[0m     \u001b[0mx\u001b[0m\u001b[1;33m=\u001b[0m\u001b[0mlist\u001b[0m\u001b[1;33m(\u001b[0m\u001b[1;33m)\u001b[0m\u001b[1;33m\u001b[0m\u001b[1;33m\u001b[0m\u001b[0m\n\u001b[0;32m      5\u001b[0m     \u001b[1;32mfor\u001b[0m \u001b[0mi\u001b[0m \u001b[1;32min\u001b[0m \u001b[0mrange\u001b[0m\u001b[1;33m(\u001b[0m\u001b[1;36m0\u001b[0m\u001b[1;33m,\u001b[0m\u001b[1;36m5\u001b[0m\u001b[1;33m)\u001b[0m\u001b[1;33m:\u001b[0m\u001b[1;33m\u001b[0m\u001b[1;33m\u001b[0m\u001b[0m\n\u001b[1;32m----> 6\u001b[1;33m         \u001b[0mx\u001b[0m\u001b[1;33m.\u001b[0m\u001b[0mappend\u001b[0m\u001b[1;33m(\u001b[0m  \u001b[0mlist\u001b[0m\u001b[1;33m(\u001b[0m \u001b[0mrandom\u001b[0m\u001b[1;33m.\u001b[0m\u001b[0mrandint\u001b[0m\u001b[1;33m(\u001b[0m\u001b[1;36m100\u001b[0m\u001b[1;33m,\u001b[0m\u001b[1;36m200\u001b[0m\u001b[1;33m)\u001b[0m    \u001b[1;33m)\u001b[0m \u001b[1;33m)\u001b[0m\u001b[1;33m\u001b[0m\u001b[1;33m\u001b[0m\u001b[0m\n\u001b[0m\u001b[0;32m      7\u001b[0m     \u001b[1;32mreturn\u001b[0m \u001b[0mx\u001b[0m\u001b[1;33m\u001b[0m\u001b[1;33m\u001b[0m\u001b[0m\n\u001b[0;32m      8\u001b[0m \u001b[1;33m\u001b[0m\u001b[0m\n",
      "\u001b[1;31mTypeError\u001b[0m: 'int' object is not iterable"
     ]
    }
   ],
   "source": [
    "import random\n",
    "\n",
    "def get_rand_list():\n",
    "    x=list()\n",
    "    for i in range(0,5):\n",
    "        x.append(  list( random.randint(100,200)    ) )\n",
    "    return x\n",
    "\n",
    "r = get_rand_list()\n",
    "print(r)"
   ]
  },
  {
   "cell_type": "code",
   "execution_count": 63,
   "metadata": {},
   "outputs": [
    {
     "ename": "SyntaxError",
     "evalue": "EOL while scanning string literal (<ipython-input-63-fb6d75483f7f>, line 2)",
     "output_type": "error",
     "traceback": [
      "\u001b[1;36m  File \u001b[1;32m\"<ipython-input-63-fb6d75483f7f>\"\u001b[1;36m, line \u001b[1;32m2\u001b[0m\n\u001b[1;33m    \"fsdf\u001b[0m\n\u001b[1;37m         ^\u001b[0m\n\u001b[1;31mSyntaxError\u001b[0m\u001b[1;31m:\u001b[0m EOL while scanning string literal\n"
     ]
    }
   ],
   "source": [
    "r = print(100,100)\n",
    "\"fsdf\"\n",
    "print(r)"
   ]
  },
  {
   "cell_type": "code",
   "execution_count": null,
   "metadata": {},
   "outputs": [],
   "source": [
    "vector<tuple<int, tuple<int, string > >  >"
   ]
  },
  {
   "cell_type": "code",
   "execution_count": 66,
   "metadata": {},
   "outputs": [
    {
     "name": "stdout",
     "output_type": "stream",
     "text": [
      "4 17\n",
      "11 8\n",
      "19 4\n",
      "23 2\n",
      "25 1\n",
      "26 0\n",
      "26 0\n",
      "26 0\n",
      "26 0\n",
      "26 0\n",
      "26 0\n",
      "26 0\n",
      "26 0\n",
      "26 0\n",
      "26 0\n",
      "26 0\n",
      "26 0\n",
      "26 0\n",
      "26 0\n",
      "26 0\n",
      "26 0\n",
      "26 0\n",
      "26 0\n",
      "26 0\n",
      "26 0\n",
      "26 0\n",
      "26 0\n",
      "26 0\n",
      "26 0\n",
      "26 0\n",
      "26 0\n",
      "26 0\n",
      "26 0\n",
      "26 0\n"
     ]
    },
    {
     "data": {
      "text/plain": [
       "26"
      ]
     },
     "execution_count": 66,
     "metadata": {},
     "output_type": "execute_result"
    }
   ],
   "source": [
    "def sum_d(n):\n",
    "    p = 0\n",
    "    for i in range(1, n+1):\n",
    "        p += n %10\n",
    "        n = n//2\n",
    "        print(p , n)\n",
    "    return p\n",
    "\n",
    "sum_d(34)"
   ]
  },
  {
   "cell_type": "code",
   "execution_count": null,
   "metadata": {},
   "outputs": [],
   "source": []
  },
  {
   "cell_type": "code",
   "execution_count": null,
   "metadata": {},
   "outputs": [],
   "source": []
  },
  {
   "cell_type": "code",
   "execution_count": null,
   "metadata": {},
   "outputs": [],
   "source": []
  }
 ],
 "metadata": {
  "kernelspec": {
   "display_name": "Python 3",
   "language": "python",
   "name": "python3"
  },
  "language_info": {
   "codemirror_mode": {
    "name": "ipython",
    "version": 3
   },
   "file_extension": ".py",
   "mimetype": "text/x-python",
   "name": "python",
   "nbconvert_exporter": "python",
   "pygments_lexer": "ipython3",
   "version": "3.7.3"
  }
 },
 "nbformat": 4,
 "nbformat_minor": 2
}
