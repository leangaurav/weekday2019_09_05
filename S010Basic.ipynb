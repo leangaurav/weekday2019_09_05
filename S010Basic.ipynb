{
 "cells": [
  {
   "cell_type": "code",
   "execution_count": 6,
   "metadata": {},
   "outputs": [
    {
     "name": "stdout",
     "output_type": "stream",
     "text": [
      "Gaurav\n"
     ]
    }
   ],
   "source": [
    "print('Gaurav')"
   ]
  },
  {
   "cell_type": "code",
   "execution_count": 11,
   "metadata": {},
   "outputs": [
    {
     "name": "stdout",
     "output_type": "stream",
     "text": [
      "['False', 'None', 'True', 'and', 'as', 'assert', 'async', 'await', 'break', 'class', 'continue', 'def', 'del', 'elif', 'else', 'except', 'finally', 'for', 'from', 'global', 'if', 'import', 'in', 'is', 'lambda', 'nonlocal', 'not', 'or', 'pass', 'raise', 'return', 'try', 'while', 'with', 'yield']\n"
     ]
    }
   ],
   "source": [
    "import  keyword\n",
    "print(   keyword.kwlist   )    "
   ]
  },
  {
   "cell_type": "code",
   "execution_count": 5,
   "metadata": {},
   "outputs": [
    {
     "data": {
      "text/plain": [
       "7"
      ]
     },
     "execution_count": 5,
     "metadata": {},
     "output_type": "execute_result"
    }
   ],
   "source": [
    "1+1\n",
    "3+4"
   ]
  },
  {
   "cell_type": "code",
   "execution_count": 12,
   "metadata": {},
   "outputs": [
    {
     "name": "stdout",
     "output_type": "stream",
     "text": [
      "30\n"
     ]
    }
   ],
   "source": [
    "# simple program: comment\n",
    "x = 10\n",
    "y = 20 # abcd\n",
    "print(x + y)"
   ]
  },
  {
   "cell_type": "code",
   "execution_count": 22,
   "metadata": {},
   "outputs": [
    {
     "ename": "SyntaxError",
     "evalue": "invalid syntax (<ipython-input-22-40d4e8e59e50>, line 7)",
     "output_type": "error",
     "traceback": [
      "\u001b[1;36m  File \u001b[1;32m\"<ipython-input-22-40d4e8e59e50>\"\u001b[1;36m, line \u001b[1;32m7\u001b[0m\n\u001b[1;33m    if = 10\u001b[0m\n\u001b[1;37m       ^\u001b[0m\n\u001b[1;31mSyntaxError\u001b[0m\u001b[1;31m:\u001b[0m invalid syntax\n"
     ]
    }
   ],
   "source": [
    "x = 10\n",
    "x1 = 10\n",
    "_x = 10\n",
    "#1x = 20\n",
    "x_1 = 20\n",
    "#x.y = 10\n",
    "if = 10"
   ]
  },
  {
   "cell_type": "code",
   "execution_count": 21,
   "metadata": {},
   "outputs": [
    {
     "name": "stdout",
     "output_type": "stream",
     "text": [
      "10 20\n"
     ]
    }
   ],
   "source": [
    "x = 10\n",
    "X = 20\n",
    "print(x, X)\n",
    "# python is case sensitive language"
   ]
  },
  {
   "cell_type": "markdown",
   "metadata": {},
   "source": [
    "### Data Types"
   ]
  },
  {
   "cell_type": "code",
   "execution_count": null,
   "metadata": {},
   "outputs": [],
   "source": [
    "int x;\n",
    "x = 1;\n",
    "x = 1.1;"
   ]
  },
  {
   "cell_type": "code",
   "execution_count": 23,
   "metadata": {},
   "outputs": [
    {
     "name": "stdout",
     "output_type": "stream",
     "text": [
      "<class 'int'>\n",
      "<class 'bool'>\n"
     ]
    }
   ],
   "source": [
    "x = 10\n",
    "print( type(x) )\n",
    "x = True\n",
    "print( type(x) )"
   ]
  },
  {
   "cell_type": "code",
   "execution_count": 25,
   "metadata": {},
   "outputs": [
    {
     "name": "stdout",
     "output_type": "stream",
     "text": [
      "<built-in function print>\n",
      "<built-in function dir>\n",
      "<class 'type'>\n"
     ]
    }
   ],
   "source": [
    "print(print)\n",
    "print(dir)\n",
    "print(type)"
   ]
  },
  {
   "cell_type": "code",
   "execution_count": 28,
   "metadata": {},
   "outputs": [
    {
     "name": "stdout",
     "output_type": "stream",
     "text": [
      "30\n"
     ]
    }
   ],
   "source": [
    "x = (10 + 20)\n",
    "print(x)"
   ]
  },
  {
   "cell_type": "code",
   "execution_count": 31,
   "metadata": {},
   "outputs": [
    {
     "name": "stdout",
     "output_type": "stream",
     "text": [
      "abcd\n",
      "x\n",
      "1 2 ABCD True\n"
     ]
    }
   ],
   "source": [
    "x = 'abcd'\n",
    "print(x)\n",
    "print('x')\n",
    "print(1,2,'ABCD', True)"
   ]
  },
  {
   "cell_type": "code",
   "execution_count": 37,
   "metadata": {},
   "outputs": [
    {
     "name": "stdout",
     "output_type": "stream",
     "text": [
      "abc \n",
      "def\tgh\n"
     ]
    }
   ],
   "source": [
    "### Escape sequence\n",
    "s = 'abc \\ndef\\tgh'\n",
    "print(s)"
   ]
  },
  {
   "cell_type": "code",
   "execution_count": 42,
   "metadata": {},
   "outputs": [
    {
     "name": "stdout",
     "output_type": "stream",
     "text": [
      "gau'rav\n"
     ]
    }
   ],
   "source": [
    "s = 'gau\\'rav'\n",
    "print(s)\n"
   ]
  },
  {
   "cell_type": "code",
   "execution_count": 40,
   "metadata": {},
   "outputs": [
    {
     "name": "stdout",
     "output_type": "stream",
     "text": [
      "gaurav gaurav gaurav gaurav\n"
     ]
    }
   ],
   "source": [
    "s1 = 'gaurav'\n",
    "s2 = \"gaurav\"\n",
    "s3 = '''gaurav'''\n",
    "s4 = \"\"\"gaurav\"\"\"\n",
    "print(s1, s2, s3, s4)"
   ]
  },
  {
   "cell_type": "code",
   "execution_count": 46,
   "metadata": {},
   "outputs": [
    {
     "name": "stdout",
     "output_type": "stream",
     "text": [
      "gau\"rav gau'rav gau'r\"av ga'u\"rav\n"
     ]
    }
   ],
   "source": [
    "s1 = 'gau\"rav'\n",
    "s2 = \"gau'rav\"\n",
    "s3 = '''gau'r\"av'''\n",
    "s4 = \"\"\"ga'u\"rav\"\"\"\n",
    "print(s1, s2, s3, s4)"
   ]
  },
  {
   "cell_type": "code",
   "execution_count": 55,
   "metadata": {},
   "outputs": [
    {
     "name": "stdout",
     "output_type": "stream",
     "text": [
      "1/2\n",
      "1\\2\n"
     ]
    }
   ],
   "source": [
    "s = '1/2'\n",
    "print(s)\n",
    "s = '1\\\\2'\n",
    "print(s)"
   ]
  },
  {
   "cell_type": "code",
   "execution_count": 53,
   "metadata": {},
   "outputs": [
    {
     "name": "stdout",
     "output_type": "stream",
     "text": [
      "ab\n",
      "pq\txy\n",
      "ab\\npq\\txy\n",
      "m\\n\n"
     ]
    }
   ],
   "source": [
    "s = 'ab\\npq\\txy'\n",
    "print(s)\n",
    "\n",
    "# raw string\n",
    "s = r'ab\\npq\\txy'\n",
    "print(s)\n",
    "\n",
    "print(r'm\\n')"
   ]
  },
  {
   "cell_type": "code",
   "execution_count": 58,
   "metadata": {},
   "outputs": [
    {
     "name": "stdout",
     "output_type": "stream",
     "text": [
      "abc\n",
      "pqr\n",
      "   123 pqr\n"
     ]
    }
   ],
   "source": [
    "# Multiline string\n",
    "\n",
    "s = '''abc\n",
    "pqr\n",
    "   123 pqr'''\n",
    "\n",
    "print(s)"
   ]
  },
  {
   "cell_type": "code",
   "execution_count": 60,
   "metadata": {},
   "outputs": [
    {
     "name": "stdout",
     "output_type": "stream",
     "text": [
      "abc#123\n",
      "abc #123\n"
     ]
    }
   ],
   "source": [
    "s1 = 'abc'\n",
    "s2 = '#123'\n",
    "s3 = s1 + s2\n",
    "print(s3)\n",
    "print(s1, s2)"
   ]
  },
  {
   "cell_type": "code",
   "execution_count": 64,
   "metadata": {},
   "outputs": [
    {
     "name": "stdout",
     "output_type": "stream",
     "text": [
      "a very lonnnnnnnnnnnngggg line.............................................scrollssssssssssssssssss too end\n"
     ]
    }
   ],
   "source": [
    "s = 'a very lonnnnnnnnnnnngggg line...............' + \\\n",
    "'..............................scrollssssssssssssssssss too end'\n",
    "print(s)"
   ]
  },
  {
   "cell_type": "code",
   "execution_count": 69,
   "metadata": {},
   "outputs": [
    {
     "name": "stdout",
     "output_type": "stream",
     "text": [
      "590\n"
     ]
    }
   ],
   "source": [
    "x = 10 + 20\\\n",
    "* 30 \\\n",
    "-20\n",
    "print(x)"
   ]
  },
  {
   "cell_type": "code",
   "execution_count": null,
   "metadata": {},
   "outputs": [],
   "source": []
  },
  {
   "cell_type": "code",
   "execution_count": null,
   "metadata": {},
   "outputs": [],
   "source": []
  }
 ],
 "metadata": {
  "kernelspec": {
   "display_name": "Python 3",
   "language": "python",
   "name": "python3"
  },
  "language_info": {
   "codemirror_mode": {
    "name": "ipython",
    "version": 3
   },
   "file_extension": ".py",
   "mimetype": "text/x-python",
   "name": "python",
   "nbconvert_exporter": "python",
   "pygments_lexer": "ipython3",
   "version": "3.7.3"
  }
 },
 "nbformat": 4,
 "nbformat_minor": 2
}
