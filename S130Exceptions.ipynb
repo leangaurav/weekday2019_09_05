{
 "cells": [
  {
   "cell_type": "code",
   "execution_count": 2,
   "metadata": {},
   "outputs": [
    {
     "ename": "AttributeError",
     "evalue": "My error",
     "output_type": "error",
     "traceback": [
      "\u001b[0;31m---------------------------------------------------------------------------\u001b[0m",
      "\u001b[0;31mAttributeError\u001b[0m                            Traceback (most recent call last)",
      "\u001b[0;32m<ipython-input-2-5fb75c7e618a>\u001b[0m in \u001b[0;36m<module>\u001b[0;34m\u001b[0m\n\u001b[0;32m----> 1\u001b[0;31m \u001b[0;32mraise\u001b[0m \u001b[0mAttributeError\u001b[0m\u001b[0;34m(\u001b[0m\u001b[0;34m\"My error\"\u001b[0m\u001b[0;34m)\u001b[0m\u001b[0;34m\u001b[0m\u001b[0;34m\u001b[0m\u001b[0m\n\u001b[0m",
      "\u001b[0;31mAttributeError\u001b[0m: My error"
     ]
    }
   ],
   "source": [
    "raise AttributeError(\"My error\")"
   ]
  },
  {
   "cell_type": "code",
   "execution_count": null,
   "metadata": {},
   "outputs": [],
   "source": [
    "x = list()\n",
    "y = x\n",
    "\n"
   ]
  },
  {
   "cell_type": "code",
   "execution_count": 10,
   "metadata": {},
   "outputs": [
    {
     "name": "stdout",
     "output_type": "stream",
     "text": [
      "Lookup LookupError\n",
      "Index Error!!\n",
      "Lookup 'KeyError'\n",
      "AttributeError\n",
      "Parent of all Exceptions !!\n"
     ]
    }
   ],
   "source": [
    "a = [LookupError, IndexError,KeyError, AttributeError, SystemExit]\n",
    "\n",
    "\n",
    "for e in a:\n",
    "    try:\n",
    "        raise e(e.__name__)\n",
    "    except IndexError:\n",
    "        print(\"Index Error!!\")\n",
    "    except LookupError as e:\n",
    "        print(\"Lookup\", e)\n",
    "    except Exception as e:\n",
    "        print(e)\n",
    "    except : # except BaseException\n",
    "        print('Parent of all Exceptions !!')"
   ]
  },
  {
   "cell_type": "code",
   "execution_count": 11,
   "metadata": {},
   "outputs": [
    {
     "name": "stdout",
     "output_type": "stream",
     "text": [
      "Lookup LookupError\n",
      "Lookup IndexError\n",
      "Lookup 'KeyError'\n",
      "AttributeError\n",
      "Parent of all Exceptions !!\n"
     ]
    }
   ],
   "source": [
    "a = [LookupError, IndexError,KeyError, AttributeError, SystemExit]\n",
    "\n",
    "\n",
    "for e in a:\n",
    "    try:\n",
    "        raise e(e.__name__)\n",
    "    except LookupError as e:\n",
    "        print(\"Lookup\", e)\n",
    "    except IndexError:\n",
    "        print(\"Index Error!!\")\n",
    "    except Exception as e:\n",
    "        print(e)\n",
    "    except : # except BaseException\n",
    "        print('Parent of all Exceptions !!')"
   ]
  },
  {
   "cell_type": "code",
   "execution_count": 15,
   "metadata": {},
   "outputs": [
    {
     "name": "stdout",
     "output_type": "stream",
     "text": [
      "2\n",
      "LookupError\n",
      "Always !! Finally\n"
     ]
    }
   ],
   "source": [
    "try:\n",
    "    n = int(input())\n",
    "    10/n\n",
    "    [10,20][n]\n",
    "    {1:10}[n]\n",
    "except KeyError:\n",
    "    print('KeyErrr')\n",
    "except LookupError:\n",
    "    print('LookupError')\n",
    "else:\n",
    "    print('No Exception')\n",
    "finally:\n",
    "    print('Always !! Finally')"
   ]
  },
  {
   "cell_type": "code",
   "execution_count": null,
   "metadata": {},
   "outputs": [],
   "source": []
  }
 ],
 "metadata": {
  "kernelspec": {
   "display_name": "Python 3",
   "language": "python",
   "name": "python3"
  },
  "language_info": {
   "codemirror_mode": {
    "name": "ipython",
    "version": 3
   },
   "file_extension": ".py",
   "mimetype": "text/x-python",
   "name": "python",
   "nbconvert_exporter": "python",
   "pygments_lexer": "ipython3",
   "version": "3.7.3"
  }
 },
 "nbformat": 4,
 "nbformat_minor": 2
}
