{
 "cells": [
  {
   "cell_type": "code",
   "execution_count": 1,
   "metadata": {},
   "outputs": [
    {
     "name": "stdout",
     "output_type": "stream",
     "text": [
      "16\n"
     ]
    }
   ],
   "source": [
    "s = 'abcd 123 pqrABCD'\n",
    "print(len(s))"
   ]
  },
  {
   "cell_type": "code",
   "execution_count": 4,
   "metadata": {},
   "outputs": [
    {
     "name": "stdout",
     "output_type": "stream",
     "text": [
      "True\n",
      "False\n"
     ]
    }
   ],
   "source": [
    "s = 'abc #$d'\n",
    "print(s.islower())\n",
    "s = 'abcdA'\n",
    "print(s.islower())\n",
    "# 21867095"
   ]
  },
  {
   "cell_type": "code",
   "execution_count": 5,
   "metadata": {},
   "outputs": [
    {
     "name": "stdout",
     "output_type": "stream",
     "text": [
      "ABC123ABCD\n"
     ]
    }
   ],
   "source": [
    "s = 'abc123ABCD'\n",
    "print(s.upper())"
   ]
  },
  {
   "cell_type": "code",
   "execution_count": 13,
   "metadata": {},
   "outputs": [
    {
     "name": "stdout",
     "output_type": "stream",
     "text": [
      "4\n",
      "3\n",
      "0\n",
      "2\n",
      "2\n",
      "1\n",
      "\n",
      "1\n"
     ]
    }
   ],
   "source": [
    "s = 'abc ab abc a'\n",
    "#    0123456789\n",
    "\n",
    "print(s.count('a'))\n",
    "print(s.count('ab'))\n",
    "print(s.count('A'))\n",
    "print(s.count('ab', 3))\n",
    "print(s.count('ab', 4))\n",
    "print(s.count('ab', 5))\n",
    "\n",
    "print()\n",
    "print(s.count('ab', 4,8))"
   ]
  },
  {
   "cell_type": "code",
   "execution_count": 19,
   "metadata": {},
   "outputs": [
    {
     "name": "stdout",
     "output_type": "stream",
     "text": [
      "0\n",
      "0\n",
      "-1\n",
      "4\n",
      "4\n",
      "7\n",
      "\n",
      "-1\n"
     ]
    }
   ],
   "source": [
    "s = 'abc ab abc a'\n",
    "#    0123456789\n",
    "\n",
    "print(s.find('a'))\n",
    "print(s.find('ab'))\n",
    "print(s.find('A'))\n",
    "print(s.find('ab', 3))\n",
    "print(s.find('ab', 4))\n",
    "print(s.find('ab', 5))\n",
    "\n",
    "print()\n",
    "print(s.find('ab', 5,8))"
   ]
  },
  {
   "cell_type": "code",
   "execution_count": 18,
   "metadata": {},
   "outputs": [
    {
     "name": "stdout",
     "output_type": "stream",
     "text": [
      "True\n",
      "False\n",
      "True\n"
     ]
    }
   ],
   "source": [
    " # in keyword\n",
    "    \n",
    "print('s' in 'pqrs')\n",
    "print('S' in 'pqrs')\n",
    "print('qr' in 'pqrs')"
   ]
  },
  {
   "cell_type": "code",
   "execution_count": null,
   "metadata": {},
   "outputs": [],
   "source": [
    "# WAP to input a number and print sum of digits of the number\n",
    "\n",
    "# '123'   -> 6\n",
    "# '987'   -> 24"
   ]
  },
  {
   "cell_type": "code",
   "execution_count": 20,
   "metadata": {},
   "outputs": [
    {
     "name": "stdout",
     "output_type": "stream",
     "text": [
      "Enter a number:1234\n",
      "10\n"
     ]
    }
   ],
   "source": [
    "n = input('Enter a number:')\n",
    "\n",
    "s = 0\n",
    "i = 0\n",
    "while i < len(n):\n",
    "    s += int( n[i] )\n",
    "    i += 1\n",
    "\n",
    "print(s)"
   ]
  },
  {
   "cell_type": "code",
   "execution_count": 22,
   "metadata": {},
   "outputs": [
    {
     "name": "stdout",
     "output_type": "stream",
     "text": [
      "Enter a number:1234\n",
      "10\n"
     ]
    }
   ],
   "source": [
    "n = int(input('Enter a number:'))\n",
    "\n",
    "s = 0\n",
    "while n > 0:\n",
    "    s += (n%10)\n",
    "    n = n//10\n",
    "    \n",
    "print(s)\n",
    "\n",
    "# n 1234 123 12  1   0\n",
    "# s   0  4   7   9  10\n",
    "# "
   ]
  },
  {
   "cell_type": "code",
   "execution_count": null,
   "metadata": {},
   "outputs": [],
   "source": []
  },
  {
   "cell_type": "code",
   "execution_count": null,
   "metadata": {},
   "outputs": [],
   "source": []
  }
 ],
 "metadata": {
  "kernelspec": {
   "display_name": "Python 3",
   "language": "python",
   "name": "python3"
  },
  "language_info": {
   "codemirror_mode": {
    "name": "ipython",
    "version": 3
   },
   "file_extension": ".py",
   "mimetype": "text/x-python",
   "name": "python",
   "nbconvert_exporter": "python",
   "pygments_lexer": "ipython3",
   "version": "3.7.3"
  }
 },
 "nbformat": 4,
 "nbformat_minor": 2
}
