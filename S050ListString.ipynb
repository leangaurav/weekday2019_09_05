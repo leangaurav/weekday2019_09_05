{
 "cells": [
  {
   "cell_type": "code",
   "execution_count": 2,
   "metadata": {},
   "outputs": [
    {
     "name": "stdout",
     "output_type": "stream",
     "text": [
      "['abcd', 'ab', 'abcd']\n",
      "['', 'cd ', ' ', 'cd']\n"
     ]
    }
   ],
   "source": [
    "s = 'abcd ab abcd'\n",
    "\n",
    "a = s.split()\n",
    "print(a)\n",
    "\n",
    "a = s.split('ab')\n",
    "print(a)"
   ]
  },
  {
   "cell_type": "code",
   "execution_count": 5,
   "metadata": {},
   "outputs": [
    {
     "name": "stdout",
     "output_type": "stream",
     "text": [
      "Enter a string:this is a string\n",
      "['this', 'is', 'a', 'string']\n",
      "this 4\n",
      "is 2\n",
      "a 1\n",
      "string 6\n"
     ]
    }
   ],
   "source": [
    "# WAP to input a string and print length of each word\n",
    "\n",
    "s = input('Enter a string:')\n",
    "\n",
    "words = s.split()\n",
    "\n",
    "print(words)\n",
    "i = 0\n",
    "while i < len(words):\n",
    "    print(words[i] , len(words[i]))\n",
    "    i += 1"
   ]
  },
  {
   "cell_type": "code",
   "execution_count": 10,
   "metadata": {},
   "outputs": [
    {
     "name": "stdout",
     "output_type": "stream",
     "text": [
      "input numbers separated by , :11,22,33,4,5\n",
      "['11', '22', '33', '4', '5']\n",
      "[11, 22, 33, 4, 5]\n",
      "75\n",
      "4\n",
      "33\n"
     ]
    }
   ],
   "source": [
    "# WAP to input numbers separated by , and then convert it to list of ints\n",
    "\n",
    "s = input(\"input numbers separated by , :\")\n",
    "\n",
    "nums = s.split(',')\n",
    "\n",
    "print(nums)\n",
    "i = 0\n",
    "while i < len(nums):\n",
    "    nums[i] = int(nums[i])\n",
    "    i += 1\n",
    "    \n",
    "print(nums)\n",
    "print( sum(nums) )\n",
    "print( min(nums) )\n",
    "print( max(nums) )"
   ]
  },
  {
   "cell_type": "code",
   "execution_count": 16,
   "metadata": {},
   "outputs": [
    {
     "name": "stdout",
     "output_type": "stream",
     "text": [
      "this#AB#is#AB#a#AB#string\n"
     ]
    }
   ],
   "source": [
    "a = ['this', 'is', 'a', 'string']\n",
    "\n",
    "r = '#AB#'.join(a)\n",
    "print(r)"
   ]
  },
  {
   "cell_type": "code",
   "execution_count": 18,
   "metadata": {},
   "outputs": [
    {
     "name": "stdout",
     "output_type": "stream",
     "text": [
      "A# #B#C#D\n"
     ]
    }
   ],
   "source": [
    "r = '#'.join('A BCD') # ''  ' '\n",
    "print(r)"
   ]
  },
  {
   "cell_type": "code",
   "execution_count": 22,
   "metadata": {},
   "outputs": [
    {
     "name": "stdout",
     "output_type": "stream",
     "text": [
      "Abcd,123,ab,a\n",
      "Abcd 123 Ab A\n"
     ]
    }
   ],
   "source": [
    "print ( 'Abcd 123 ab a'.replace(' ', ',') )\n",
    "print ( 'abcd 123 ab a'.replace('a', 'A') )"
   ]
  },
  {
   "cell_type": "code",
   "execution_count": 24,
   "metadata": {},
   "outputs": [
    {
     "name": "stdout",
     "output_type": "stream",
     "text": [
      "Enter a string:ABaaaB\n",
      "4\n"
     ]
    }
   ],
   "source": [
    "# WAP to input a string and count number of alphabet 'a' in the string.\n",
    "s = input('Enter a string:')\n",
    "print(s.lower().count('a'))"
   ]
  },
  {
   "cell_type": "code",
   "execution_count": 25,
   "metadata": {},
   "outputs": [
    {
     "name": "stdout",
     "output_type": "stream",
     "text": [
      "Enter a string:this is a STRING\n",
      "4\n"
     ]
    }
   ],
   "source": [
    "# WAP to input a string and give total number of vowels.\n",
    "s = input('Enter a string:')\n",
    "s = s.lower()\n",
    "\n",
    "c = s.count('a') + s.count('e') + s.count('i') + s.count('o') + s.count('u')\n",
    "print(c)"
   ]
  },
  {
   "cell_type": "code",
   "execution_count": 28,
   "metadata": {},
   "outputs": [
    {
     "name": "stdout",
     "output_type": "stream",
     "text": [
      "Enter a word:madam\n",
      "pallindrome\n"
     ]
    }
   ],
   "source": [
    "a = ['not-pallindrome', 'pallindrome']\n",
    "\n",
    "s = input('Enter a word:')\n",
    "s1 = s[::-1]\n",
    "print( a[s == s1] )"
   ]
  },
  {
   "cell_type": "code",
   "execution_count": 30,
   "metadata": {},
   "outputs": [
    {
     "name": "stdout",
     "output_type": "stream",
     "text": [
      "Enter a number:11\n",
      "odd\n"
     ]
    }
   ],
   "source": [
    "a = ['Even', 'odd']\n",
    "\n",
    "s = int(input('Enter a number:'))\n",
    "\n",
    "print( a[ s%2 ] )"
   ]
  },
  {
   "cell_type": "code",
   "execution_count": 33,
   "metadata": {},
   "outputs": [
    {
     "name": "stdout",
     "output_type": "stream",
     "text": [
      "[<built-in function sum>, <built-in function min>, <built-in function max>, 9, 10]\n"
     ]
    }
   ],
   "source": [
    "a = [sum, min, max, abs(-9), 10]\n",
    "print(a)"
   ]
  },
  {
   "cell_type": "markdown",
   "metadata": {},
   "source": [
    "### List"
   ]
  },
  {
   "cell_type": "code",
   "execution_count": 36,
   "metadata": {},
   "outputs": [
    {
     "name": "stdout",
     "output_type": "stream",
     "text": [
      "[10, 20, 30]\n",
      "[10, 20, 30, [1, 2]]\n",
      "[10, 20, 30, [1, 2], 'Gaurav']\n"
     ]
    }
   ],
   "source": [
    "a = [10,20]\n",
    "a.append(30)\n",
    "print(a)\n",
    "a.append( [1,2] )\n",
    "print(a)\n",
    "a.append( 'Gaurav' )\n",
    "print(a)"
   ]
  },
  {
   "cell_type": "code",
   "execution_count": 37,
   "metadata": {},
   "outputs": [
    {
     "data": {
      "text/plain": [
       "3"
      ]
     },
     "execution_count": 37,
     "metadata": {},
     "output_type": "execute_result"
    }
   ],
   "source": [
    "[1,2,3,1,1].count(1)"
   ]
  },
  {
   "cell_type": "code",
   "execution_count": 39,
   "metadata": {},
   "outputs": [
    {
     "name": "stdout",
     "output_type": "stream",
     "text": [
      "[10, 20, 1, 2]\n",
      "[10, 20, 1, 2, 'G', 'a', 'u', 'r', 'a', 'v']\n"
     ]
    }
   ],
   "source": [
    "a = [10,20]\n",
    "a.extend( [1,2] )\n",
    "print(a)\n",
    "a.extend( 'Gaurav' )\n",
    "print(a)"
   ]
  },
  {
   "cell_type": "code",
   "execution_count": 43,
   "metadata": {},
   "outputs": [
    {
     "name": "stdout",
     "output_type": "stream",
     "text": [
      "[10, 100, 20, 30]\n",
      "[10, [100, 200], 100, 20, 30]\n"
     ]
    }
   ],
   "source": [
    "a = [10,20,30]\n",
    "a.insert(1,100)\n",
    "print(a)\n",
    "a.insert(1, [100, 200])\n",
    "print(a)"
   ]
  },
  {
   "cell_type": "code",
   "execution_count": 48,
   "metadata": {},
   "outputs": [
    {
     "name": "stdout",
     "output_type": "stream",
     "text": [
      "[10, 20, 30] 40\n",
      "[20, 30] 10\n"
     ]
    },
    {
     "ename": "IndexError",
     "evalue": "pop index out of range",
     "output_type": "error",
     "traceback": [
      "\u001b[1;31m---------------------------------------------------------------------------\u001b[0m",
      "\u001b[1;31mIndexError\u001b[0m                                Traceback (most recent call last)",
      "\u001b[1;32m<ipython-input-48-f0911261e708>\u001b[0m in \u001b[0;36m<module>\u001b[1;34m\u001b[0m\n\u001b[0;32m      4\u001b[0m \u001b[0mr\u001b[0m \u001b[1;33m=\u001b[0m \u001b[0ma\u001b[0m\u001b[1;33m.\u001b[0m\u001b[0mpop\u001b[0m\u001b[1;33m(\u001b[0m\u001b[1;36m0\u001b[0m\u001b[1;33m)\u001b[0m\u001b[1;33m\u001b[0m\u001b[1;33m\u001b[0m\u001b[0m\n\u001b[0;32m      5\u001b[0m \u001b[0mprint\u001b[0m\u001b[1;33m(\u001b[0m\u001b[0ma\u001b[0m\u001b[1;33m,\u001b[0m \u001b[0mr\u001b[0m\u001b[1;33m)\u001b[0m\u001b[1;33m\u001b[0m\u001b[1;33m\u001b[0m\u001b[0m\n\u001b[1;32m----> 6\u001b[1;33m \u001b[0ma\u001b[0m\u001b[1;33m.\u001b[0m\u001b[0mpop\u001b[0m\u001b[1;33m(\u001b[0m\u001b[1;36m10\u001b[0m\u001b[1;33m)\u001b[0m\u001b[1;33m\u001b[0m\u001b[1;33m\u001b[0m\u001b[0m\n\u001b[0m\u001b[0;32m      7\u001b[0m \u001b[0mprint\u001b[0m\u001b[1;33m(\u001b[0m\u001b[0ma\u001b[0m\u001b[1;33m)\u001b[0m\u001b[1;33m\u001b[0m\u001b[1;33m\u001b[0m\u001b[0m\n",
      "\u001b[1;31mIndexError\u001b[0m: pop index out of range"
     ]
    }
   ],
   "source": [
    "a = [10,20,30,40]\n",
    "r = a.pop()\n",
    "print(a, r)\n",
    "r = a.pop(0)\n",
    "print(a, r)\n",
    "a.pop(10)\n",
    "print(a)"
   ]
  },
  {
   "cell_type": "code",
   "execution_count": 52,
   "metadata": {},
   "outputs": [
    {
     "name": "stdout",
     "output_type": "stream",
     "text": [
      "[20, 30, 40, 10]\n",
      "True\n",
      "False\n"
     ]
    }
   ],
   "source": [
    "a = [10,20,30,40,10]\n",
    "a.remove(10)\n",
    "print(a)\n",
    "#a.remove(100)\n",
    "#print(a)\n",
    "\n",
    "print(10 in [10,20,30])\n",
    "print(100 in [10,20,30])"
   ]
  },
  {
   "cell_type": "code",
   "execution_count": 54,
   "metadata": {},
   "outputs": [
    {
     "name": "stdout",
     "output_type": "stream",
     "text": [
      "[11, 10, 12, 19, 20]\n"
     ]
    }
   ],
   "source": [
    "import random\n",
    "a = []\n",
    "\n",
    "for i in range(5):\n",
    "    a.append(random.randint(10,20))\n",
    "    \n",
    "print(a)"
   ]
  },
  {
   "cell_type": "code",
   "execution_count": 56,
   "metadata": {},
   "outputs": [
    {
     "name": "stdout",
     "output_type": "stream",
     "text": [
      "[20, 19, 12, 10, 11]\n"
     ]
    }
   ],
   "source": [
    "a = [11, 10, 12, 19, 20]\n",
    "\n",
    "a.reverse()\n",
    "\n",
    "print(a)"
   ]
  },
  {
   "cell_type": "code",
   "execution_count": 61,
   "metadata": {},
   "outputs": [
    {
     "name": "stdout",
     "output_type": "stream",
     "text": [
      "[10, 11, 12, 15.5, 19, 20]\n",
      "[20, 19, 15.5, 12, 11, 10]\n"
     ]
    }
   ],
   "source": [
    "a = [11, 10, 12, 19, 20, 15.5]\n",
    "\n",
    "a.sort()\n",
    "print(a)\n",
    "\n",
    "a.sort(reverse = True)\n",
    "print(a)"
   ]
  }
 ],
 "metadata": {
  "kernelspec": {
   "display_name": "Python 3",
   "language": "python",
   "name": "python3"
  },
  "language_info": {
   "codemirror_mode": {
    "name": "ipython",
    "version": 3
   },
   "file_extension": ".py",
   "mimetype": "text/x-python",
   "name": "python",
   "nbconvert_exporter": "python",
   "pygments_lexer": "ipython3",
   "version": "3.7.3"
  }
 },
 "nbformat": 4,
 "nbformat_minor": 2
}
