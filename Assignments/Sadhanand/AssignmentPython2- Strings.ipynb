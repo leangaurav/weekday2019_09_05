{
 "cells": [
  {
   "cell_type": "markdown",
   "metadata": {},
   "source": [
    "1. Guess output of each slice:\n",
    "s=‘Python is Object Oriented’\n",
    "1. s[-1] \n",
    "d\n",
    "2. s[::-1]\n",
    "detneirO tcejbO si nohtyP\n",
    "3. s[:-1]\n",
    "Python is Object Oriente\n",
    "4. s[1:1]\n",
    "''\n",
    "5. s[4:10]\n",
    "'on is '"
   ]
  },
  {
   "cell_type": "markdown",
   "metadata": {},
   "source": [
    "2.What error do you see for following statements:\n",
    "s= ‘’\n",
    "print(s[1])\n",
    "\n",
    "Index out of bounds"
   ]
  },
  {
   "cell_type": "markdown",
   "metadata": {},
   "source": [
    "3. Do you get any error for the following code, if not give the output:\n",
    "S=‘Gaurav’\n",
    "print(s[1])\n",
    "\n",
    "a"
   ]
  },
  {
   "cell_type": "markdown",
   "metadata": {},
   "source": [
    "4. a\n",
    "6\n",
    "abc\n",
    "3"
   ]
  },
  {
   "cell_type": "markdown",
   "metadata": {},
   "source": [
    "4. b\n",
    "a#b#c#d#"
   ]
  }
 ],
 "metadata": {
  "kernelspec": {
   "display_name": "Python 3",
   "language": "python",
   "name": "python3"
  },
  "language_info": {
   "codemirror_mode": {
    "name": "ipython",
    "version": 3
   },
   "file_extension": ".py",
   "mimetype": "text/x-python",
   "name": "python",
   "nbconvert_exporter": "python",
   "pygments_lexer": "ipython3",
   "version": "3.7.3"
  }
 },
 "nbformat": 4,
 "nbformat_minor": 2
}
