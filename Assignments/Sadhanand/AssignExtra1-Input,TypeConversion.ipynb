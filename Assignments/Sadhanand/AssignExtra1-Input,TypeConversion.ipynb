{
 "cells": [
  {
   "cell_type": "code",
   "execution_count": 2,
   "metadata": {},
   "outputs": [
    {
     "name": "stdout",
     "output_type": "stream",
     "text": [
      "Enter a temperature in Celsius: 32\n",
      "Temperature: 32 Celsius =  89.6  F\n"
     ]
    }
   ],
   "source": [
    "#1. Input temperature in Fahrenheit in print in Celsius.\n",
    "Celsius = int(input(\"Enter a temperature in Celsius: \"))\n",
    "\n",
    "Fahrenheit = 9.0/5.0 * Celsius + 32\n",
    "\n",
    "print(\"Temperature:\", Celsius, \"Celsius = \", Fahrenheit, \" F\")"
   ]
  },
  {
   "cell_type": "code",
   "execution_count": 4,
   "metadata": {},
   "outputs": [
    {
     "name": "stdout",
     "output_type": "stream",
     "text": [
      " Please Enter any numeric Value : 2\n",
      "The square of a Given Number 2.0  = 4.0\n",
      "The Cube of a Given Number 2.0  = 8.0\n"
     ]
    }
   ],
   "source": [
    "#2. Write a program to input a number and print its square and cube.\n",
    "number = float(input(\" Please Enter any numeric Value : \"))\n",
    "square = number * number\n",
    "print(\"The square of a Given Number {0}  = {1}\".format(number, square))\n",
    "\n",
    "cube = number * number * number\n",
    "print(\"The Cube of a Given Number {0}  = {1}\".format(number, cube))"
   ]
  },
  {
   "cell_type": "code",
   "execution_count": 5,
   "metadata": {},
   "outputs": [
    {
     "name": "stdout",
     "output_type": "stream",
     "text": [
      " Please Enter any numeric Value : 2\n",
      " Please Enter any numeric Value : 3\n",
      "13.0\n"
     ]
    }
   ],
   "source": [
    "#3. WAP to input a number n and a number m and print the result of following\n",
    "#n2 + m2\n",
    "n = float(input(\" Please Enter any numeric Value : \"))\n",
    "m = float(input(\" Please Enter any numeric Value : \"))\n",
    "print(n**2+m**2)"
   ]
  },
  {
   "cell_type": "code",
   "execution_count": 9,
   "metadata": {},
   "outputs": [
    {
     "name": "stdout",
     "output_type": "stream",
     "text": [
      " Please Enter any numeric Value : 2\n",
      " Please Enter any numeric Value : 3\n",
      "2  **  3  is  8\n",
      "2  pow  3  is  8\n"
     ]
    }
   ],
   "source": [
    "#4. WAP to input a numbers M and N and print result of M  power N. (use both ** and pow)\n",
    "\n",
    "M = int(input(\" Please Enter any numeric Value : \"))\n",
    "N = int(input(\" Please Enter any numeric Value : \"))\n",
    "i=1\n",
    "mpn=M\n",
    "while i<N:\n",
    "    mpn*=M\n",
    "    i+=1\n",
    "print(M,\" ** \",N,\" is \",mpn)\n",
    "print(M,\" pow \",N,\" is \",M**N)"
   ]
  },
  {
   "cell_type": "code",
   "execution_count": 10,
   "metadata": {},
   "outputs": [
    {
     "name": "stdout",
     "output_type": "stream",
     "text": [
      "Enter the principal amount: 100\n",
      "Enter the time in years: 1\n",
      "Enter the interest rate: 2.5\n",
      "Simple Interest =  2.5\n"
     ]
    }
   ],
   "source": [
    "#5. Write a simple interest calculator.\n",
    "p = float(input(\"Enter the principal amount: \"))\n",
    "t = float(input(\"Enter the time in years: \"))\n",
    "r = float(input(\"Enter the interest rate: \"))\n",
    " \n",
    "simple_interest = p * t * r / 100\n",
    " \n",
    "print(\"Simple Interest = \" ,simple_interest)"
   ]
  },
  {
   "cell_type": "code",
   "execution_count": 12,
   "metadata": {},
   "outputs": [
    {
     "name": "stdout",
     "output_type": "stream",
     "text": [
      "Enter the principal amount: 100\n",
      "Enter the interest rate: 2.5\n",
      "Enter the time in years: 1\n",
      "Amount is  100.0  Compound interest is  2.499999999999986\n"
     ]
    }
   ],
   "source": [
    "#6. Input Principal, Rate, Time and print Compound Interest and Amount.\n",
    "p = float(input(\"Enter the principal amount: \"))\n",
    "r = float(input(\"Enter the interest rate: \"))\n",
    "t = float(input(\"Enter the time in years: \"))\n",
    " \n",
    "interest = (p * (pow((1 + r / 100), t)))-p\n",
    "print(\"Amount is \",p,\" Compound interest is \" , interest)"
   ]
  },
  {
   "cell_type": "code",
   "execution_count": 14,
   "metadata": {},
   "outputs": [
    {
     "name": "stdout",
     "output_type": "stream",
     "text": [
      " Please Enter any numeric Value : 5\n",
      "sum of first  5  natural nos is  15.0\n"
     ]
    }
   ],
   "source": [
    "#7. WAP to print sum of first n natural numbers. (n needs to be taken as input).\n",
    "n = int(input(\" Please Enter any numeric Value : \"))\n",
    "print(\"sum of first \",n,\" natural nos is \",(n*(n+1)/2))"
   ]
  },
  {
   "cell_type": "code",
   "execution_count": 15,
   "metadata": {},
   "outputs": [
    {
     "name": "stdout",
     "output_type": "stream",
     "text": [
      " Please Enter any numeric Value : 2\n",
      " Please Enter any numeric Value : 3\n",
      "no1 before swapping  2  no2 before swapping  3\n",
      "no1 after swapping  3  no2 after swapping  2\n"
     ]
    }
   ],
   "source": [
    "#8. WAP to input 2 numbers and swap them. (write using both normal logic with temp variable and\n",
    "#also the pythonic way).\n",
    "#temp\n",
    "no1 = int(input(\" Please Enter any numeric Value : \"))\n",
    "no2 = int(input(\" Please Enter any numeric Value : \"))\n",
    "print(\"no1 before swapping \",no1,\" no2 before swapping \",no2)\n",
    "\n",
    "temp=no1\n",
    "no1=no2\n",
    "no2=temp\n",
    "print(\"no1 after swapping \",no1,\" no2 after swapping \",no2)"
   ]
  },
  {
   "cell_type": "code",
   "execution_count": 16,
   "metadata": {},
   "outputs": [
    {
     "name": "stdout",
     "output_type": "stream",
     "text": [
      " Please Enter any numeric Value : 2\n",
      " Please Enter any numeric Value : 3\n",
      "no1 before swapping  2  no2 before swapping  3\n",
      "no1 after swapping  3  no2 after swapping  2\n"
     ]
    }
   ],
   "source": [
    "#8. WAP to input 2 numbers and swap them. (write using both normal logic with temp variable and\n",
    "#also the pythonic way).\n",
    "#pythonic way\n",
    "no1 = int(input(\" Please Enter any numeric Value : \"))\n",
    "no2 = int(input(\" Please Enter any numeric Value : \"))\n",
    "print(\"no1 before swapping \",no1,\" no2 before swapping \",no2)\n",
    "\n",
    "no1,no2=no2,no1\n",
    "print(\"no1 after swapping \",no1,\" no2 after swapping \",no2)"
   ]
  },
  {
   "cell_type": "code",
   "execution_count": 20,
   "metadata": {},
   "outputs": [
    {
     "name": "stdout",
     "output_type": "stream",
     "text": [
      "ascii value for  ' '  is  32\n",
      "ascii value for  '\\t'  is  9\n",
      "ascii value for  '\\n'  is  10\n",
      "ascii value for  '\\x0b'  is  11\n",
      "ascii value for  '\\x0c'  is  12\n",
      "ascii value for  '\\r'  is  13\n"
     ]
    }
   ],
   "source": [
    "#9. WAP to print ascii value of all white-space characters present in python.\n",
    "ws=[' ','\\t','\\n','\\v','\\f','\\r']\n",
    "for i in ws:\n",
    "    print(\"ascii value for \",repr(i),\" is \",ord(i))"
   ]
  },
  {
   "cell_type": "code",
   "execution_count": 21,
   "metadata": {},
   "outputs": [
    {
     "name": "stdout",
     "output_type": "stream",
     "text": [
      "Enter a character: f\n",
      "ascii value for  f  is  102\n"
     ]
    }
   ],
   "source": [
    "#10. Input a single character and print its ascii values.\n",
    "c=input('Enter a character: ')\n",
    "print(\"ascii value for \",c,\" is \",ord(c))"
   ]
  },
  {
   "cell_type": "code",
   "execution_count": 26,
   "metadata": {},
   "outputs": [
    {
     "name": "stdout",
     "output_type": "stream",
     "text": [
      "Enter area of the circle: 314\n",
      "Circle with area  314.0  has Radius of  9.995453511926856  and circumference of  62.82856493211166\n"
     ]
    }
   ],
   "source": [
    "#11. WAP that takes area of a circle and gives back the radius and circumference.\n",
    "ar=float(input('Enter area of the circle: '))\n",
    "r=(ar*7/22)**0.5\n",
    "c=r*44/7\n",
    "print(\"Circle with area \",ar,\" has Radius of \",r,\" and circumference of \",c)"
   ]
  },
  {
   "cell_type": "code",
   "execution_count": 2,
   "metadata": {},
   "outputs": [
    {
     "name": "stdout",
     "output_type": "stream",
     "text": [
      "Enter marks for subject1 100\n",
      "Enter marks for subject2 50\n",
      "Enter marks for subject3 100\n",
      "Enter marks for subject4 50\n",
      "Enter marks for subject5 75\n",
      "percentage of marks is  75.0\n"
     ]
    }
   ],
   "source": [
    "#12. We need to input marks in 5 subjects out of 100 and print percentage.\n",
    "sm=0\n",
    "for i in range(1,6):\n",
    "    m=float(input(\"Enter marks for subject{} \".format(i)))\n",
    "    sm+=m\n",
    "    i+=1\n",
    "print(\"percentage of marks is \",sm/5)"
   ]
  }
 ],
 "metadata": {
  "kernelspec": {
   "display_name": "Python 3",
   "language": "python",
   "name": "python3"
  },
  "language_info": {
   "codemirror_mode": {
    "name": "ipython",
    "version": 3
   },
   "file_extension": ".py",
   "mimetype": "text/x-python",
   "name": "python",
   "nbconvert_exporter": "python",
   "pygments_lexer": "ipython3",
   "version": "3.7.3"
  }
 },
 "nbformat": 4,
 "nbformat_minor": 2
}
