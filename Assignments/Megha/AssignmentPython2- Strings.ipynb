{
 "cells": [
  {
   "cell_type": "code",
   "execution_count": 6,
   "metadata": {},
   "outputs": [
    {
     "name": "stdout",
     "output_type": "stream",
     "text": [
      "d\n",
      "detneirO tcejbO si nohtyP\n",
      "Python is Object Oriente\n",
      "\n",
      "on is \n"
     ]
    }
   ],
   "source": [
    "# 1. Guess output of each slice:   \n",
    "s='Python is Object Oriented'\n",
    "\n",
    "print(s[-1])\n",
    "print(s[::-1])\n",
    "print(s[:-1])\n",
    "print(s[1:1])\n",
    "print(s[4:10])"
   ]
  },
  {
   "cell_type": "code",
   "execution_count": 12,
   "metadata": {},
   "outputs": [
    {
     "name": "stdout",
     "output_type": "stream",
     "text": [
      "<class 'str'>\n"
     ]
    },
    {
     "ename": "IndexError",
     "evalue": "string index out of range",
     "output_type": "error",
     "traceback": [
      "\u001b[1;31m---------------------------------------------------------------------------\u001b[0m",
      "\u001b[1;31mIndexError\u001b[0m                                Traceback (most recent call last)",
      "\u001b[1;32m<ipython-input-12-1d0f24358fbb>\u001b[0m in \u001b[0;36m<module>\u001b[1;34m\u001b[0m\n\u001b[0;32m      3\u001b[0m \u001b[0ms\u001b[0m \u001b[1;33m=\u001b[0m \u001b[1;34m\" \"\u001b[0m\u001b[1;33m\u001b[0m\u001b[1;33m\u001b[0m\u001b[0m\n\u001b[0;32m      4\u001b[0m \u001b[0mprint\u001b[0m\u001b[1;33m(\u001b[0m\u001b[0mtype\u001b[0m\u001b[1;33m(\u001b[0m\u001b[0ms\u001b[0m\u001b[1;33m)\u001b[0m\u001b[1;33m)\u001b[0m\u001b[1;33m\u001b[0m\u001b[1;33m\u001b[0m\u001b[0m\n\u001b[1;32m----> 5\u001b[1;33m \u001b[0mprint\u001b[0m\u001b[1;33m(\u001b[0m\u001b[0ms\u001b[0m\u001b[1;33m[\u001b[0m\u001b[1;36m1\u001b[0m\u001b[1;33m]\u001b[0m\u001b[1;33m)\u001b[0m\u001b[1;33m\u001b[0m\u001b[1;33m\u001b[0m\u001b[0m\n\u001b[0m",
      "\u001b[1;31mIndexError\u001b[0m: string index out of range"
     ]
    }
   ],
   "source": [
    "# 2. What error do you see for following statements: \n",
    "\n",
    "s = \" \"\n",
    "print(type(s))\n",
    "print(s[1])"
   ]
  },
  {
   "cell_type": "code",
   "execution_count": 13,
   "metadata": {},
   "outputs": [
    {
     "name": "stdout",
     "output_type": "stream",
     "text": [
      "e\n"
     ]
    }
   ],
   "source": [
    "# 3. Do you get any error for the following code, if not give the output: \n",
    "\n",
    "s = \"Megha\"\n",
    "print(s[1])"
   ]
  },
  {
   "cell_type": "code",
   "execution_count": 15,
   "metadata": {},
   "outputs": [
    {
     "name": "stdout",
     "output_type": "stream",
     "text": [
      "4\n",
      "ac\n",
      "2\n"
     ]
    }
   ],
   "source": [
    "# 4. Find output of the following: \n",
    "s='abcd' \n",
    "print(len(s)) \n",
    "print(s[::2]) \n",
    "print(len(s[::2])) "
   ]
  },
  {
   "cell_type": "code",
   "execution_count": 16,
   "metadata": {},
   "outputs": [
    {
     "name": "stdout",
     "output_type": "stream",
     "text": [
      "['a#b#c#d#']\n",
      "['a', 'b', 'c', 'd', '']\n",
      "a$b$c$d$\n"
     ]
    }
   ],
   "source": [
    "s='a#b#c#d#'\n",
    "print(s.split()) \n",
    "print(s.split('#')) \n",
    "l=s.split('#') \n",
    "s = '$'.join(l)\n",
    "print(s) "
   ]
  },
  {
   "cell_type": "code",
   "execution_count": 19,
   "metadata": {},
   "outputs": [
    {
     "name": "stdout",
     "output_type": "stream",
     "text": [
      "Ma\n"
     ]
    }
   ],
   "source": [
    "S=\"Megha\"  \n",
    "S=S[::-2][::-2] \n",
    "print(S) "
   ]
  },
  {
   "cell_type": "code",
   "execution_count": 20,
   "metadata": {},
   "outputs": [
    {
     "name": "stdout",
     "output_type": "stream",
     "text": [
      "False\n"
     ]
    }
   ],
   "source": [
    "print(1>2)"
   ]
  },
  {
   "cell_type": "code",
   "execution_count": 21,
   "metadata": {},
   "outputs": [
    {
     "name": "stdout",
     "output_type": "stream",
     "text": [
      "0,1,2\n"
     ]
    }
   ],
   "source": [
    " print(4%2, 5%2, 2%5, sep=',') "
   ]
  },
  {
   "cell_type": "code",
   "execution_count": 29,
   "metadata": {},
   "outputs": [
    {
     "name": "stdout",
     "output_type": "stream",
     "text": [
      "ABCBA\n",
      "2,1,1,"
     ]
    }
   ],
   "source": [
    "s='abcba'\n",
    "s = s.upper() #ABCBA\n",
    "print(s) \n",
    "print(s.count('A'), end = ',') \n",
    "print(s.count('C', 2,4) , end = ',')  \n",
    "print(s.count('A', 2,5) , end = ',') "
   ]
  },
  {
   "cell_type": "code",
   "execution_count": 39,
   "metadata": {},
   "outputs": [
    {
     "name": "stdout",
     "output_type": "stream",
     "text": [
      "hello world welcome\n",
      "helloworldwelcome\n",
      "helloworldwelcome\n"
     ]
    }
   ],
   "source": [
    "# 5. WAP to input a string and remove all spaces from it. \n",
    "\n",
    "s = input()\n",
    "t = s.split(' ')\n",
    "print(''.join(t))\n",
    "#or\n",
    "print(s.replace(' ', \"\"))"
   ]
  },
  {
   "cell_type": "code",
   "execution_count": null,
   "metadata": {},
   "outputs": [],
   "source": [
    "# 6. What does this symbol denote: [] \n",
    "\n",
    "#A list"
   ]
  },
  {
   "cell_type": "code",
   "execution_count": 40,
   "metadata": {},
   "outputs": [
    {
     "name": "stdout",
     "output_type": "stream",
     "text": [
      "['__add__', '__class__', '__contains__', '__delattr__', '__dir__', '__doc__', '__eq__', '__format__', '__ge__', '__getattribute__', '__getitem__', '__getnewargs__', '__gt__', '__hash__', '__init__', '__init_subclass__', '__iter__', '__le__', '__len__', '__lt__', '__mod__', '__mul__', '__ne__', '__new__', '__reduce__', '__reduce_ex__', '__repr__', '__rmod__', '__rmul__', '__setattr__', '__sizeof__', '__str__', '__subclasshook__', 'capitalize', 'casefold', 'center', 'count', 'encode', 'endswith', 'expandtabs', 'find', 'format', 'format_map', 'index', 'isalnum', 'isalpha', 'isascii', 'isdecimal', 'isdigit', 'isidentifier', 'islower', 'isnumeric', 'isprintable', 'isspace', 'istitle', 'isupper', 'join', 'ljust', 'lower', 'lstrip', 'maketrans', 'partition', 'replace', 'rfind', 'rindex', 'rjust', 'rpartition', 'rsplit', 'rstrip', 'split', 'splitlines', 'startswith', 'strip', 'swapcase', 'title', 'translate', 'upper', 'zfill']\n"
     ]
    }
   ],
   "source": [
    "# 7.  WAP to print all methods(functions/operations) available in a string (Hint : dir()) \n",
    "\n",
    "print(dir(str))"
   ]
  },
  {
   "cell_type": "code",
   "execution_count": 54,
   "metadata": {},
   "outputs": [
    {
     "data": {
      "text/plain": [
       "True"
      ]
     },
     "execution_count": 54,
     "metadata": {},
     "output_type": "execute_result"
    }
   ],
   "source": [
    "# 8.  Write statement to check if rstrip method is available in the str class. (Hint : Use the find function or in) \n",
    "\n",
    "'rstrip' in dir(str)\n",
    "\n"
   ]
  },
  {
   "cell_type": "code",
   "execution_count": 60,
   "metadata": {},
   "outputs": [
    {
     "name": "stdout",
     "output_type": "stream",
     "text": [
      "\n",
      "                      ________\n",
      " *****    *     *     |      |\n",
      "   *      *     *     O      |\n",
      "   *      * * * *    /|\\     |\n",
      "   *      *  *  *   / | \\    |\n",
      "   *      *     *  /  |  \\   |\n",
      "                    _________|\n",
      "\n",
      "\n"
     ]
    }
   ],
   "source": [
    "# 9. WAP to store the following patterns in a string variable and then print them\n",
    "\n",
    "s = \"\"\"\n",
    "                      ________\n",
    " *****    *     *     |      |\n",
    "   *      *     *     O      |\n",
    "   *      * * * *    /|\\     |\n",
    "   *      *  *  *   / | \\    |\n",
    "   *      *     *  /  |  \\   |\n",
    "                    _________|\n",
    "\n",
    "\"\"\"\n",
    "print(s)"
   ]
  },
  {
   "cell_type": "code",
   "execution_count": 5,
   "metadata": {},
   "outputs": [
    {
     "name": "stdout",
     "output_type": "stream",
     "text": [
      "megha aggarwal\n",
      "megha\n",
      "aggarwal\n",
      "megha\n",
      "aggarwal\n"
     ]
    }
   ],
   "source": [
    "# 10.  WAP to input a string and replace all space with new lines (\\n) and print again\n",
    "\n",
    "s = input()\n",
    "s = s.replace(\" \", \"\\n\")\n",
    "print(s)\n",
    "\n",
    "#or\n",
    "t = s.split(\" \")\n",
    "print('\\n'.join(t))"
   ]
  },
  {
   "cell_type": "code",
   "execution_count": 3,
   "metadata": {},
   "outputs": [
    {
     "name": "stdout",
     "output_type": "stream",
     "text": [
      "Enter the fname and last name seperated by spacemegha aggarwal\n",
      "megha 5\n",
      "aggarwal 8\n"
     ]
    }
   ],
   "source": [
    "# 11. WAP to input complete name(first and last name separated by space) and \n",
    "# print first and last name separately along with their length in upper case\n",
    "\n",
    "fname, lname = input(\"Enter the fname and last name seperated by space\").split(' ')\n",
    "print(fname, len(fname))\n",
    "print(lname, len(lname))"
   ]
  },
  {
   "cell_type": "code",
   "execution_count": 38,
   "metadata": {},
   "outputs": [
    {
     "name": "stdout",
     "output_type": "stream",
     "text": [
      "Enter the string words\n",
      "wo\n",
      "ds\n"
     ]
    }
   ],
   "source": [
    "# 12.  WAP to input a string and split it into 2 halves. The string can be of any length \n",
    "\n",
    "s = input(\"Enter the string \")\n",
    "n = len(s) // 2\n",
    "fstring = s[:n]\n",
    "sstring = s[n if len(s) % 2 == 0 else (n+1):]\n",
    "print(fstring, sstring, sep = '\\n')"
   ]
  }
 ],
 "metadata": {
  "kernelspec": {
   "display_name": "Python 3",
   "language": "python",
   "name": "python3"
  },
  "language_info": {
   "codemirror_mode": {
    "name": "ipython",
    "version": 3
   },
   "file_extension": ".py",
   "mimetype": "text/x-python",
   "name": "python",
   "nbconvert_exporter": "python",
   "pygments_lexer": "ipython3",
   "version": "3.7.3"
  }
 },
 "nbformat": 4,
 "nbformat_minor": 2
}
