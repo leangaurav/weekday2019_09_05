{
 "cells": [
  {
   "cell_type": "code",
   "execution_count": 2,
   "metadata": {},
   "outputs": [
    {
     "name": "stdout",
     "output_type": "stream",
     "text": [
      "Enter the string:Megha\n",
      "M\n",
      "e\n",
      "g\n",
      "h\n",
      "a\n"
     ]
    }
   ],
   "source": [
    "# 1.  WAP to input a string and print individual characters in the string using for loop. \n",
    "\n",
    "s = input(\"Enter the string:\")\n",
    "\n",
    "for data in s:\n",
    "    print(data)"
   ]
  },
  {
   "cell_type": "code",
   "execution_count": 4,
   "metadata": {},
   "outputs": [
    {
     "name": "stdout",
     "output_type": "stream",
     "text": [
      "Enter the string: megha\n",
      "Ascii value of m is 109 \n",
      "Ascii value of e is 101 \n",
      "Ascii value of g is 103 \n",
      "Ascii value of h is 104 \n",
      "Ascii value of a is 97 \n"
     ]
    }
   ],
   "source": [
    "# 2. WAP to input a string and print the ASCII value of each character in the string. \n",
    "\n",
    "\n",
    "s = input(\"Enter the string: \")\n",
    "for data in s:\n",
    "    print(\"Ascii value of {} is {} \".format(data, ord(data)))"
   ]
  },
  {
   "cell_type": "code",
   "execution_count": 11,
   "metadata": {},
   "outputs": [
    {
     "name": "stdout",
     "output_type": "stream",
     "text": [
      "Enter the list of  nos: 1 2 3 4 5\n",
      "The sum of only odd nos is 9\n"
     ]
    }
   ],
   "source": [
    "# 3. Write a function that takes a list of numbers from user as argument and returns the sum of \n",
    "# only odd numbers (Use only for loop. No need to use if statement). \n",
    "\n",
    "def sum_odd(n):\n",
    "    return sum(list(filter(lambda x : x % 2 , n)))\n",
    "n = map(int , input(\"Enter the list of  nos: \").split())\n",
    "print(\"The sum of only odd nos is {}\" .format(sum_odd(n)))"
   ]
  },
  {
   "cell_type": "code",
   "execution_count": 15,
   "metadata": {},
   "outputs": [
    {
     "name": "stdout",
     "output_type": "stream",
     "text": [
      "Enter the list of no's with space1 2 3 4\n",
      "(1, 2, 3, 4)\n",
      "Enter another no: 3\n",
      "The index of the 3 in tuple is 2\n"
     ]
    }
   ],
   "source": [
    "# 4.  WAP to input a list of numbers and store in a tuple. \n",
    "# Now input another number and print the index of this number in the tuple. [Use index function] \n",
    "\n",
    "s = tuple(map( int, input(\"Enter the list of no's with space\").split()))\n",
    "print(s)\n",
    "t = int(input(\"Enter another no: \"))\n",
    "print(\"The index of the {} in tuple is {}\".format(t, s.index(t)))"
   ]
  },
  {
   "cell_type": "code",
   "execution_count": 38,
   "metadata": {},
   "outputs": [
    {
     "name": "stdout",
     "output_type": "stream",
     "text": [
      "The sum is 60 and the avg is 6.0\n",
      "The original list is [1, 4, 7, 2, 10, 11, 6, 12, 5, 2]\n",
      "The list with even indexes [1, 7, 10, 6, 5]\n"
     ]
    }
   ],
   "source": [
    "# 5.  Create a list of 10 random numbers and then print the list, \n",
    "# sum of all numbers and average. Use a for loop. Also print elements at only even indexes in the list. \n",
    "\n",
    "import random\n",
    "\n",
    "L = list()\n",
    "M = list()\n",
    "\n",
    "for i in range(10):\n",
    "    L.append(random.randint(0 , 20))\n",
    "print(\"The sum is {} and the avg is {}\".format(sum(L) , sum(L)/10))\n",
    "print(\"The original list is {}\".format(L))\n",
    "\n",
    "\n",
    "M = list(filter(lambda data: L.index(data) % 2 == 0 , L))\n",
    "    \n",
    "print(\"The list with even indexes {}\".format(M))"
   ]
  },
  {
   "cell_type": "code",
   "execution_count": 41,
   "metadata": {},
   "outputs": [
    {
     "name": "stdout",
     "output_type": "stream",
     "text": [
      "Enter 10 numbers\n",
      "1\n",
      "1\n",
      "2\n",
      "3\n",
      "4\n",
      "4\n",
      "4\n",
      "4\n",
      "4\n",
      "6\n",
      "The list of no's is [1, 1, 2, 3, 4, 4, 4, 4, 4, 6] with the sum of all the elements as 33\n"
     ]
    }
   ],
   "source": [
    "# 6. WAP to input 10 numbers repeatedly (using range based for loop) \n",
    "# and store them in a list. Print the list and sum of numbers in the list. \n",
    "\n",
    "print(\"Enter 10 numbers\")\n",
    "L = list()\n",
    "for i in range(10):\n",
    "    L.append(int(input()))\n",
    "print(\"The list of no's is {} with the sum of all the elements as {}\".format(L , sum(L)))"
   ]
  },
  {
   "cell_type": "code",
   "execution_count": 42,
   "metadata": {},
   "outputs": [
    {
     "name": "stdout",
     "output_type": "stream",
     "text": [
      "enter a number5\n",
      "5 * 1 = 5\n",
      "5 * 2 = 10\n",
      "5 * 3 = 15\n",
      "5 * 4 = 20\n",
      "5 * 5 = 25\n",
      "5 * 6 = 30\n",
      "5 * 7 = 35\n",
      "5 * 8 = 40\n",
      "5 * 9 = 45\n",
      "5 * 10 = 50\n"
     ]
    }
   ],
   "source": [
    "# 7. WAP to input a number and print its table\n",
    "\n",
    "n = int(input(\"enter a number\"))\n",
    "\n",
    "for i in range(1,11):\n",
    "    print(\"{} * {} = {}\".format(n , i , n * i) )"
   ]
  },
  {
   "cell_type": "code",
   "execution_count": 46,
   "metadata": {},
   "outputs": [
    {
     "name": "stdout",
     "output_type": "stream",
     "text": [
      "Enter the stringI'm Megha learning at  Learnbay\n",
      "Total no of spaces in the string: I'm Megha learning at  Learnbay is 5\n"
     ]
    }
   ],
   "source": [
    "# 8. WAP to print total number of spaces in a string (Use for loop to iterate over the string. Don’t use count function). \n",
    "\n",
    "s = input(\"Enter the string\")\n",
    "count = 0\n",
    "for data in s:\n",
    "    if ' ' in data:\n",
    "        count += 1\n",
    "print(\"Total no of spaces in the string: {} is {}\".format(s, count))"
   ]
  },
  {
   "cell_type": "code",
   "execution_count": 58,
   "metadata": {},
   "outputs": [
    {
     "name": "stdout",
     "output_type": "stream",
     "text": [
      "Enter the string: Python classes are interesting\n",
      "9\n"
     ]
    }
   ],
   "source": [
    "# 9. WAP to input a string and count number of vowels in the string\n",
    "\n",
    "s = input(\"Enter the string: \")\n",
    "s = s.lower()\n",
    "count = 0\n",
    "for data in s:\n",
    "    if data in 'aeiou':\n",
    "        count += 1\n",
    "        \n",
    "print(count)"
   ]
  },
  {
   "cell_type": "code",
   "execution_count": 15,
   "metadata": {},
   "outputs": [
    {
     "name": "stdout",
     "output_type": "stream",
     "text": [
      "PYTHON IS COOL\n",
      "14\n",
      "['P', 'Y', 'T', 'H', '_', 'N', ' ', '_', 'S', ' ', 'C', '_', '_', 'L']\n"
     ]
    }
   ],
   "source": [
    "# 10. WAP to input a string and replace all vowels with ‘_’. \n",
    "\n",
    "s = list(input())\n",
    "v = 'aeiouAEIOU'\n",
    "print(len(s))\n",
    "# for i in range(len(s) - 1):\n",
    "#     if s[i] in ('a','e','i','o','u'):\n",
    "#         s[i] = '_'\n",
    "\n",
    "# s[:]= ['_'  if data in v else data for data in s] changes the original s\n",
    "\n",
    "s[:] = map(lambda x : '_' if x in v else x , s )\n",
    "print(s)\n",
    "        \n",
    "        \n"
   ]
  },
  {
   "cell_type": "code",
   "execution_count": 117,
   "metadata": {},
   "outputs": [
    {
     "name": "stdout",
     "output_type": "stream",
     "text": [
      "num 0\n",
      "Loop ends\n"
     ]
    }
   ],
   "source": [
    "# 11. Predict Output\n",
    "\n",
    "for num in range(10):\n",
    "    print(\"num\"  , num)\n",
    "    if num % 4 == 0:\n",
    "        break\n",
    "print(\"Loop ends\")"
   ]
  },
  {
   "cell_type": "code",
   "execution_count": 118,
   "metadata": {},
   "outputs": [
    {
     "name": "stdout",
     "output_type": "stream",
     "text": [
      "Num :  0\n"
     ]
    },
    {
     "ename": "SystemExit",
     "evalue": "",
     "output_type": "error",
     "traceback": [
      "An exception has occurred, use %tb to see the full traceback.\n",
      "\u001b[1;31mSystemExit\u001b[0m\n"
     ]
    },
    {
     "name": "stderr",
     "output_type": "stream",
     "text": [
      "C:\\ProgramData\\Anaconda3\\lib\\site-packages\\IPython\\core\\interactiveshell.py:3304: UserWarning: To exit: use 'exit', 'quit', or Ctrl-D.\n",
      "  warn(\"To exit: use 'exit', 'quit', or Ctrl-D.\", stacklevel=1)\n"
     ]
    }
   ],
   "source": [
    "import sys\n",
    "for num2 in range(10):\n",
    "    print(\"Num : \",num2)\n",
    "    if num2%4==0:\n",
    "        sys.exit()\n",
    "print(\"Loop ends\")"
   ]
  },
  {
   "cell_type": "code",
   "execution_count": 119,
   "metadata": {},
   "outputs": [
    {
     "name": "stdout",
     "output_type": "stream",
     "text": [
      "* * * * * \n",
      "* * * * * \n",
      "* * * * * \n",
      "* * * * * \n",
      "* * * * * \n"
     ]
    }
   ],
   "source": [
    "# 12. Find Output\n",
    "\n",
    "for i1 in range(1 , 6):\n",
    "    for i2 in range(5):\n",
    "        print('*' , end = ' ')\n",
    "    print()"
   ]
  },
  {
   "cell_type": "code",
   "execution_count": 120,
   "metadata": {},
   "outputs": [
    {
     "name": "stdout",
     "output_type": "stream",
     "text": [
      "1 \n",
      "2 2 \n",
      "3 3 3 \n",
      "4 4 4 4 \n",
      "5 5 5 5 5 \n"
     ]
    }
   ],
   "source": [
    "for i1 in range(1, 6):\n",
    "    for i2 in range(i1):\n",
    "        print(i1 , end = ' ')\n",
    "    print()"
   ]
  },
  {
   "cell_type": "code",
   "execution_count": 123,
   "metadata": {},
   "outputs": [
    {
     "name": "stdout",
     "output_type": "stream",
     "text": [
      "1\n",
      "22\n",
      "333\n",
      "4444\n",
      "55555\n"
     ]
    }
   ],
   "source": [
    "for i1 in range(1 , 6):\n",
    "    print(str(i1) * i1)"
   ]
  },
  {
   "cell_type": "code",
   "execution_count": 125,
   "metadata": {},
   "outputs": [
    {
     "name": "stdout",
     "output_type": "stream",
     "text": [
      "* \n",
      "* * \n",
      "* * * \n",
      "* * * * \n",
      "* * * * * \n"
     ]
    }
   ],
   "source": [
    "for i1 in range(1, 6):\n",
    "    for i2 in range(1, i1 + 1):\n",
    "        print('*' , end =  ' ')\n",
    "    print()"
   ]
  }
 ],
 "metadata": {
  "kernelspec": {
   "display_name": "Python 3",
   "language": "python",
   "name": "python3"
  },
  "language_info": {
   "codemirror_mode": {
    "name": "ipython",
    "version": 3
   },
   "file_extension": ".py",
   "mimetype": "text/x-python",
   "name": "python",
   "nbconvert_exporter": "python",
   "pygments_lexer": "ipython3",
   "version": "3.7.3"
  }
 },
 "nbformat": 4,
 "nbformat_minor": 2
}
