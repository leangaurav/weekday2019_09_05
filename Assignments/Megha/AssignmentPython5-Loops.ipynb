{
 "cells": [
  {
   "cell_type": "code",
   "execution_count": 10,
   "metadata": {},
   "outputs": [
    {
     "name": "stdout",
     "output_type": "stream",
     "text": [
      "Enter n: 6\n",
      "First 6 natural no's are: \n",
      "1 2 3 4 5 6 "
     ]
    }
   ],
   "source": [
    "# 1.  WAP to print first n natural numbers (input n from user). \n",
    "\n",
    "def func(n):\n",
    "    for i in range(1, n+1):\n",
    "        print(i , end = ' ')\n",
    "n = int(input(\"Enter n: \"))\n",
    "print(\"First %d natural no's are: \" % n)\n",
    "func(n)"
   ]
  },
  {
   "cell_type": "code",
   "execution_count": 15,
   "metadata": {},
   "outputs": [
    {
     "name": "stdout",
     "output_type": "stream",
     "text": [
      "Enter n: 5\n",
      "Sum of first 5 natural no is 15 \n"
     ]
    }
   ],
   "source": [
    "# 2. WAP to find sum of first n natural numbers \n",
    "\n",
    "def f_sum(n):\n",
    "    t = 0\n",
    "    for i in range(1 , n +1):\n",
    "        t += i\n",
    "    return t\n",
    "n = int(input(\"Enter n: \"))\n",
    "print(\"Sum of first %d natural no is %d \" % (n, f_sum(n)))"
   ]
  },
  {
   "cell_type": "code",
   "execution_count": 17,
   "metadata": {},
   "outputs": [
    {
     "name": "stdout",
     "output_type": "stream",
     "text": [
      "Enter n: 4\n",
      "First 4 natural no's in reverse order are: \n",
      "4 3 2 1 "
     ]
    }
   ],
   "source": [
    "# 3.  WAP to print first n natural numbers in reverse order. \n",
    "\n",
    "def func(n):\n",
    "    for i in range(n , 0 , -1):\n",
    "        print(i, end = ' ')\n",
    "n = int(input(\"Enter n: \"))\n",
    "print(\"First %d natural no's in reverse order are: \" % n)\n",
    "func(n)"
   ]
  },
  {
   "cell_type": "code",
   "execution_count": 2,
   "metadata": {},
   "outputs": [
    {
     "name": "stdout",
     "output_type": "stream",
     "text": [
      "Enter a no: 3\n",
      "Factorial of 3 is 6\n"
     ]
    }
   ],
   "source": [
    "# 4. WAP to input a number and print its factorial. \n",
    "\n",
    "def fact(n):\n",
    "    fact = 1\n",
    "    for i in range(1, n+1):\n",
    "        fact*= i\n",
    "    return fact\n",
    "n = int(input(\"Enter a no: \"))\n",
    "print(\"Factorial of %d is %d\" %(n, fact(n)))"
   ]
  },
  {
   "cell_type": "code",
   "execution_count": 26,
   "metadata": {},
   "outputs": [
    {
     "name": "stdout",
     "output_type": "stream",
     "text": [
      "Enter n: 6\n",
      "Fibonaci series till 6 is: \n",
      "0 1 1 2 3 5 "
     ]
    }
   ],
   "source": [
    "# 5.  WAP to print Fibonacci sequence till n.\n",
    "\n",
    "def fib(n):\n",
    "    a = 0\n",
    "    b = 1\n",
    "    c = 0\n",
    "    while c <= n:\n",
    "        print(c , end = ' ')\n",
    "        a = b\n",
    "        b = c\n",
    "        c = a + b \n",
    "n  = int(input(\"Enter n: \"))       \n",
    "print(\"Fibonaci series till %d is: \" % n)\n",
    "fib(n)\n",
    "\n"
   ]
  },
  {
   "cell_type": "code",
   "execution_count": 36,
   "metadata": {},
   "outputs": [
    {
     "name": "stdout",
     "output_type": "stream",
     "text": [
      "1234\n",
      "4\n",
      "3\n",
      "2\n",
      "1\n"
     ]
    }
   ],
   "source": [
    "# 6.  WAP to print all digits of a number input from user. \n",
    "\n",
    "def func(n):\n",
    "    while n > 0:\n",
    "        t = n % 10\n",
    "        n = n // 10\n",
    "        print(t)\n",
    "    \n",
    "n = int(input())\n",
    "func(n)\n",
    "\n"
   ]
  },
  {
   "cell_type": "code",
   "execution_count": 38,
   "metadata": {},
   "outputs": [
    {
     "name": "stdout",
     "output_type": "stream",
     "text": [
      "1234\n",
      "Sum of all digits is 10 \n"
     ]
    }
   ],
   "source": [
    "# 7.  WAP to find sum of all digits of a number\n",
    "\n",
    "def func(n):\n",
    "    L = list()\n",
    "    while n > 0:\n",
    "        t = n % 10\n",
    "        n = n // 10\n",
    "        L.append(t)\n",
    "    print(\"Sum of all digits is %d \" % sum(L))\n",
    "    \n",
    "n = int(input())\n",
    "func(n)\n"
   ]
  },
  {
   "cell_type": "code",
   "execution_count": 7,
   "metadata": {},
   "outputs": [
    {
     "name": "stdout",
     "output_type": "stream",
     "text": [
      "Enter n: 6\n",
      "Sum of the series till  6 is 873\n"
     ]
    }
   ],
   "source": [
    "# 8. WAP to find sum of following series given n as input from user\n",
    "# 1 + 2! + 3! + 4! + 5! + ….n! Where n! denotes the factorial of number n.\n",
    "\n",
    "def fact_sum(n):\n",
    "    sum = 0\n",
    "    for i in range(1, n+1):\n",
    "        sum += fact(i)\n",
    "    return sum\n",
    "n = int(input(\"Enter n: \"))\n",
    "print(\"Sum of the series till % d is %d\" % (n , fact_sum(n)))"
   ]
  },
  {
   "cell_type": "code",
   "execution_count": 10,
   "metadata": {},
   "outputs": [
    {
     "name": "stdout",
     "output_type": "stream",
     "text": [
      "Enter base and exponent2 4\n",
      "2 to the power 4 is 16 \n"
     ]
    }
   ],
   "source": [
    "# 9. WAP to input base and exponent and print result without using inbuilt function pow(use for or while loop). \n",
    "\n",
    "def f_pow(b , e):\n",
    "    res = 1\n",
    "    for i in range(e):\n",
    "        res *= b\n",
    "    return res\n",
    "b , e = map(int, input(\"Enter base and exponent\").split(' '))\n",
    "print(\"%d to the power %d is %d \" %(b, e, f_pow(b,e)))"
   ]
  },
  {
   "cell_type": "code",
   "execution_count": 14,
   "metadata": {},
   "outputs": [
    {
     "name": "stdout",
     "output_type": "stream",
     "text": [
      " \n",
      "*  \n",
      "* *  \n",
      "* * *  \n",
      "* * * *  \n",
      "* * * * *  \n"
     ]
    }
   ],
   "source": [
    "# 10. Print the following patterns\n",
    "\n",
    "for i in range(6):\n",
    "    for j in range(i):\n",
    "        print('*' , end = ' ')\n",
    "    print(' ')\n",
    "    "
   ]
  },
  {
   "cell_type": "code",
   "execution_count": 56,
   "metadata": {},
   "outputs": [
    {
     "name": "stdout",
     "output_type": "stream",
     "text": [
      "* * * * *  \n",
      "* * * *  \n",
      "* * *  \n",
      "* *  \n",
      "*  \n",
      " \n"
     ]
    }
   ],
   "source": [
    "for i in range(6):\n",
    "    for j in range(5, i, -1):\n",
    "        print('*' , end = ' ')\n",
    "    print(' ')"
   ]
  }
 ],
 "metadata": {
  "kernelspec": {
   "display_name": "Python 3",
   "language": "python",
   "name": "python3"
  }
 },
 "nbformat": 4,
 "nbformat_minor": 2
}
