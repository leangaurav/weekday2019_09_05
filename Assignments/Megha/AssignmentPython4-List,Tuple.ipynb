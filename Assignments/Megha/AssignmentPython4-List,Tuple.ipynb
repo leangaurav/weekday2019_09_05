{
 "cells": [
  {
   "cell_type": "code",
   "execution_count": 1,
   "metadata": {},
   "outputs": [
    {
     "name": "stdout",
     "output_type": "stream",
     "text": [
      "[1, 2, 3, 4] <class 'list'>\n"
     ]
    }
   ],
   "source": [
    "# 1. Convert a Tuple t = (1,2,3,4,5) to a list  \n",
    "t = (1,2,3,4)\n",
    "l = list(t)\n",
    "print(l, type(l))"
   ]
  },
  {
   "cell_type": "code",
   "execution_count": 4,
   "metadata": {},
   "outputs": [
    {
     "name": "stdout",
     "output_type": "stream",
     "text": [
      "[1, 3, 5, 7, 8, 6, 4, 2]\n"
     ]
    }
   ],
   "source": [
    "# 2.WAP to join a list and a tuple:  L = [1,3,5,7]   T = (8,6,4,2) \n",
    "#  Store the result in a list LS \n",
    "\n",
    "L = [1,3,5,7]\n",
    "T = (8,6,4,2)\n",
    "T1 = list(T)\n",
    "LS = L + T1\n",
    "print(LS)\n"
   ]
  },
  {
   "cell_type": "code",
   "execution_count": null,
   "metadata": {},
   "outputs": [],
   "source": [
    "# 3. What is difference between list and tuple. \n",
    "\n",
    "#List is mutable , tuple is unmutable"
   ]
  },
  {
   "cell_type": "code",
   "execution_count": 5,
   "metadata": {},
   "outputs": [
    {
     "name": "stdout",
     "output_type": "stream",
     "text": [
      "['C', 'A', 'c', 'b', 'a']\n"
     ]
    }
   ],
   "source": [
    "# 4. Print the list in reverse order  l = [‘a’, ‘d’, ‘c’, ‘A’, ‘C’] \n",
    "\n",
    "L = ['a', 'b' , 'c' , 'A', 'C']\n",
    "print(L[::-1])"
   ]
  },
  {
   "cell_type": "code",
   "execution_count": 7,
   "metadata": {},
   "outputs": [
    {
     "name": "stdout",
     "output_type": "stream",
     "text": [
      "[11, 21, 31, 41]\n"
     ]
    }
   ],
   "source": [
    "# 5. Print Elements at Odd indexes from a list (Do not use loop)   \n",
    "\n",
    "l = [10,11,20, 21,30, 31, 40, 41]\n",
    "print(l[1::2])"
   ]
  },
  {
   "cell_type": "code",
   "execution_count": 11,
   "metadata": {},
   "outputs": [
    {
     "name": "stdout",
     "output_type": "stream",
     "text": [
      "[1, 2, 3]\n",
      "[1, 2, 3]\n",
      "[1, 2, 3]\n"
     ]
    }
   ],
   "source": [
    "# 6. How many ways you can copy a list. \n",
    "L = [1,2,3]\n",
    "L1 = L.copy()\n",
    "print(L1)\n",
    "A = L[::1]\n",
    "print(A)\n",
    "B = L\n",
    "print(B)\n",
    "\n",
    "#2 WAYS (Slicing & list.copy())"
   ]
  },
  {
   "cell_type": "code",
   "execution_count": null,
   "metadata": {},
   "outputs": [],
   "source": [
    "# 7. Predict output \n",
    " \n",
    "# a \n",
    "# 5\n"
   ]
  },
  {
   "cell_type": "code",
   "execution_count": 14,
   "metadata": {},
   "outputs": [
    {
     "name": "stdout",
     "output_type": "stream",
     "text": [
      "[1, 4, 6, 8]\n",
      "[1, 3, 5, 7]\n"
     ]
    }
   ],
   "source": [
    "# 8. Predict Output\n",
    "\n",
    "odd = [2,4,6,8]\n",
    "odd[0] = 1\n",
    "print(odd)\n",
    "odd[1:4] = [3,5,7]\n",
    "print(odd)\n",
    "# [1,4,6,8]\n",
    "# [1,3,5,7] gets replaced"
   ]
  },
  {
   "cell_type": "code",
   "execution_count": 16,
   "metadata": {},
   "outputs": [
    {
     "name": "stdout",
     "output_type": "stream",
     "text": [
      "[1, 3, 5, [5, 7]]\n",
      "[1, 3, 5, [5, 7], 11, 13]\n"
     ]
    }
   ],
   "source": [
    "# 9. Predict Output\n",
    "\n",
    "odd = [ 1, 3, 5]\n",
    "odd.append([5,7])\n",
    "print(odd)\n",
    "odd.extend([11,13])\n",
    "print(odd)"
   ]
  },
  {
   "cell_type": "code",
   "execution_count": 23,
   "metadata": {},
   "outputs": [
    {
     "name": "stdout",
     "output_type": "stream",
     "text": [
      "<class 'tuple'>\n",
      "<class 'int'>\n",
      "<class 'int'>\n",
      "<class 'tuple'>\n"
     ]
    }
   ],
   "source": [
    "# 10. Predict Output\n",
    "\n",
    "x = 1,2,3\n",
    "print(type(x))\n",
    "x= 1\n",
    "print(type(1))\n",
    "x = (1)\n",
    "print(type(x))\n",
    "x = 1,\n",
    "print(type(x))"
   ]
  },
  {
   "cell_type": "code",
   "execution_count": 37,
   "metadata": {},
   "outputs": [
    {
     "name": "stdout",
     "output_type": "stream",
     "text": [
      "1 2 3  \n",
      "4 5 6  \n",
      "7 8 9  \n"
     ]
    }
   ],
   "source": [
    "# 11. Try to represent a matrix with following data in python: \n",
    "\n",
    "a = [[1, 2, 3], [4, 5, 6], [7, 8, 9]]\n",
    "for row in a:\n",
    "    for elem in row:\n",
    "        print(elem , end = ' ')\n",
    "    print(' ')\n"
   ]
  },
  {
   "cell_type": "code",
   "execution_count": 48,
   "metadata": {},
   "outputs": [
    {
     "name": "stdout",
     "output_type": "stream",
     "text": [
      "('S', 't', 'r', 'i', 'n', 'g', '/')\n",
      "('/', 'g', 'n', 'i', 'r', 't', 'S')\n",
      "('/', 'r')\n"
     ]
    }
   ],
   "source": [
    "# 12. Predict Output\n",
    "\n",
    "t = tuple('String/')\n",
    "print(t)\n",
    "print(t[::-1])\n",
    "print(t[::2][::-2]) #srn/ /r"
   ]
  },
  {
   "cell_type": "code",
   "execution_count": 59,
   "metadata": {},
   "outputs": [
    {
     "name": "stdout",
     "output_type": "stream",
     "text": [
      "(10, 20, 30, 40, 50, 60)\n",
      "True\n",
      "False\n",
      "1\n",
      "2\n"
     ]
    }
   ],
   "source": [
    "# 13. Predict Output\n",
    "\n",
    "t = tuple([10,20,30,40,50,60])\n",
    "print(t)\n",
    "print(60 in t)\n",
    "print('60' in t)\n",
    "print(t.count(10))\n",
    "print(t.index(30))"
   ]
  },
  {
   "cell_type": "code",
   "execution_count": 76,
   "metadata": {},
   "outputs": [
    {
     "name": "stdout",
     "output_type": "stream",
     "text": [
      "Enter a string: hello\n"
     ]
    },
    {
     "data": {
      "text/plain": [
       "'Not a Palindrome'"
      ]
     },
     "execution_count": 76,
     "metadata": {},
     "output_type": "execute_result"
    }
   ],
   "source": [
    "# 14. Write a program to input a string and print if it is palindrome or not. \n",
    "\n",
    "s = input(\"Enter a string: \")\n",
    "my_dic = {True :'Palindrome',  False :'Not a Palindrome'}\n",
    "my_dic[s[::1] == s[::-1]]\n"
   ]
  },
  {
   "cell_type": "code",
   "execution_count": 78,
   "metadata": {},
   "outputs": [
    {
     "name": "stdout",
     "output_type": "stream",
     "text": [
      "(20, 15, 10, 5)\n"
     ]
    }
   ],
   "source": [
    "# 15. Use the range method and create a tuple containing the following values: (20, 15, 10, 5) \n",
    "\n",
    "L = list()\n",
    "for i in range(20, 0 , -5):\n",
    "    L.append(i)\n",
    "print(tuple(L))"
   ]
  },
  {
   "cell_type": "code",
   "execution_count": 83,
   "metadata": {},
   "outputs": [
    {
     "name": "stdout",
     "output_type": "stream",
     "text": [
      "Enter the string: meghaggarwal\n",
      "['m', 'e', 'g', 'h', 'a', 'g', 'g', 'a', 'r', 'w', 'a', 'l']\n"
     ]
    }
   ],
   "source": [
    "# 16. WAP to convert string to list of characters\n",
    "\n",
    "s = input(\"Enter the string: \")\n",
    "print(list(s))"
   ]
  },
  {
   "cell_type": "code",
   "execution_count": 90,
   "metadata": {},
   "outputs": [
    {
     "name": "stdout",
     "output_type": "stream",
     "text": [
      "<class 'list'>\n",
      "<class 'NoneType'>\n",
      "<class 'str'>\n",
      "<class 'bool'>\n"
     ]
    }
   ],
   "source": [
    "# 17.  What is the return type of\n",
    "\n",
    "print(type('1 2'.split(' ')))\n",
    "print(type( [1,3,2].sort()))\n",
    "print(type ('abc'.upper()))\n",
    "print(type( 1 in [1,2]))\n"
   ]
  }
 ],
 "metadata": {
  "kernelspec": {
   "display_name": "Python 3",
   "language": "python",
   "name": "python3"
  },
  "language_info": {
   "codemirror_mode": {
    "name": "ipython",
    "version": 3
   },
   "file_extension": ".py",
   "mimetype": "text/x-python",
   "name": "python",
   "nbconvert_exporter": "python",
   "pygments_lexer": "ipython3",
   "version": "3.7.3"
  }
 },
 "nbformat": 4,
 "nbformat_minor": 2
}
