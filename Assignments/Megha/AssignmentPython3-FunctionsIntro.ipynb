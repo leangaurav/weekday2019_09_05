{
 "cells": [
  {
   "cell_type": "code",
   "execution_count": 2,
   "metadata": {},
   "outputs": [
    {
     "name": "stdout",
     "output_type": "stream",
     "text": [
      "Enter two strings sara ali\n",
      "After swapping a: ali and b : sara \n"
     ]
    }
   ],
   "source": [
    "# 1. WAP to input 2 strings and swap the strings \n",
    "def swap(a, b):\n",
    "    temp = a\n",
    "    a = b\n",
    "    b = temp\n",
    "    print(\"After swapping a: %s and b : %s \" % (a ,b))\n",
    "    \n",
    "    \n",
    "a, b = input(\"Enter two strings \").split(' ')\n",
    "swap(a,b)"
   ]
  },
  {
   "cell_type": "code",
   "execution_count": 36,
   "metadata": {},
   "outputs": [
    {
     "name": "stdout",
     "output_type": "stream",
     "text": [
      "The average of the random no btw 0 and 26 is 7 \n"
     ]
    }
   ],
   "source": [
    "# 2. WAP to generate 4 random numbers in the range 0-26 and print their average \n",
    "import random as r\n",
    "def avg_rand():\n",
    "    sum = 0\n",
    "    for i in range(4):\n",
    "        sum += r.randrange(0,27)\n",
    "    return sum / 4\n",
    "        \n",
    "print(\"The average of the random no btw 0 and 26 is %d \" % ( avg_rand()))\n",
    "        \n",
    "    "
   ]
  },
  {
   "cell_type": "code",
   "execution_count": 96,
   "metadata": {},
   "outputs": [
    {
     "name": "stdout",
     "output_type": "stream",
     "text": [
      "l\n",
      "['Formatter', 'Template', '_ChainMap', '_TemplateMetaclass', '__all__', '__builtins__', '__cached__', '__doc__', '__file__', '__loader__', '__name__', '__package__', '__spec__', '_re', '_string', 'ascii_letters', 'ascii_lowercase', 'ascii_uppercase', 'capwords', 'digits', 'hexdigits', 'octdigits', 'printable', 'punctuation', 'whitespace']\n"
     ]
    }
   ],
   "source": [
    "# 3. WAP to generate and print a random uppercase or lowercase alphabet. \n",
    "# Try these: \n",
    "#     • Create a string containing all alphabets and then select a random alphabet. \n",
    "#     • Check the module string \n",
    "\n",
    "from string import ascii_letters as al\n",
    "from random import randrange as r\n",
    "import string\n",
    "def rand_letter():\n",
    "    return al[r(0, len(al) + 1)]\n",
    "\n",
    "print(rand_letter())\n",
    "print(dir(string))\n",
    "    "
   ]
  },
  {
   "cell_type": "code",
   "execution_count": 101,
   "metadata": {},
   "outputs": [
    {
     "name": "stdout",
     "output_type": "stream",
     "text": [
      "Enter p , r and t3 4 5\n",
      "Simple interest is 0.600000 \n"
     ]
    }
   ],
   "source": [
    "# 4. WAF get_si() that takes Principle, Rate and Time as arguments and returns the Simple Interest.\n",
    "\n",
    "def get_si(p,r,t):\n",
    "    return (p * r * t)/100\n",
    "p , r, t = map(int , input(\"Enter p , r and t\").split(' '))\n",
    "print(\"Simple interest is %1f \" % (get_si(p,r,t)))"
   ]
  },
  {
   "cell_type": "code",
   "execution_count": 111,
   "metadata": {},
   "outputs": [
    {
     "data": {
      "text/plain": [
       "120.0"
      ]
     },
     "execution_count": 111,
     "metadata": {},
     "output_type": "execute_result"
    }
   ],
   "source": [
    "# 5. WAF get_amount() that takes Principle, Rate and Time as arguments and returns the Total amount using the get_si() function \n",
    "# from above to calculate the SI. Also provide Rate = 10 and Time = 1 as default arguments. \n",
    "\n",
    "def get_amount(p , r= 20, t= 1):\n",
    "    return p + get_si(p ,r ,t )\n",
    "#p , r, t = map(int , input(\"Enter p , r and t \").split(' '))\n",
    "#print(\"Total amount is %1f \" % (get_amount(p,r,t)))\n",
    "get_amount(100)"
   ]
  },
  {
   "cell_type": "code",
   "execution_count": 119,
   "metadata": {},
   "outputs": [
    {
     "name": "stdout",
     "output_type": "stream",
     "text": [
      "Compound interest is 78909 \n"
     ]
    }
   ],
   "source": [
    "# 6. WAP get_ci() that takes Principle, Rate and Time as arguments and returns the Compound Interest\n",
    "from math import pow\n",
    "\n",
    "def get_ci(p , r, t , n):\n",
    "    compound_interest = p * ( pow ( (1 + (r / (100 * n))) ,  n * t) )\n",
    "    return compound_interest\n",
    "print(\"Compound interest is %d \" % (get_ci(70000,4,3,12)))\n",
    "    "
   ]
  },
  {
   "cell_type": "code",
   "execution_count": 141,
   "metadata": {},
   "outputs": [
    {
     "name": "stdout",
     "output_type": "stream",
     "text": [
      "Quotient and remainder is (5, 0)\n",
      "Quotient and remainder is 5 0\n"
     ]
    }
   ],
   "source": [
    "# 7.  WAP get_q_r() taking 2 numbers as parameters and returns the quotient and remainder in the form of a tuple. \n",
    "\n",
    "def get_q_r( a ,b):\n",
    "    return tuple( (a//b , a %b))\n",
    "print(\"Quotient and remainder is {}\".format(get_q_r(100,20)))\n",
    "\n",
    "# print(\"Quotient and remainder is %d %d\" % tuple(get_q_r(100,20)))"
   ]
  },
  {
   "cell_type": "code",
   "execution_count": 155,
   "metadata": {},
   "outputs": [
    {
     "name": "stdout",
     "output_type": "stream",
     "text": [
      "Enter height and base of a triangle 3 4\n",
      "Hypotenuse of the triangle is 5 \n"
     ]
    }
   ],
   "source": [
    "# 8.  WAP to find the length of hypotenuse of a right angled triangle, input the height and base from user. \n",
    "from math import sqrt\n",
    "def leng_hyp(h , b):\n",
    "    hyp = sqrt(sum([h**2 , b** 2]))\n",
    "    return hyp\n",
    "h , b = map(int, input(\"Enter height and base of a triangle \").split(' '))\n",
    "print(\"Hypotenuse of the triangle is %d \" % (leng_hyp(h , b)))"
   ]
  },
  {
   "cell_type": "code",
   "execution_count": 1,
   "metadata": {},
   "outputs": [
    {
     "name": "stdout",
     "output_type": "stream",
     "text": [
      "Enter seconds 10000\n",
      "(0, 2, 46, 40)\n"
     ]
    }
   ],
   "source": [
    "# 9. WAP to input number of seconds and print in days, hours, minutes and seconds ex: input = 10000 \n",
    "\n",
    "def func(s):\n",
    "    days = s // 86400\n",
    "    s = s % 86400\n",
    "    hours = s // 3600\n",
    "    s = s % 3600\n",
    "    minutes = s // 60\n",
    "    sec = s % 60\n",
    "    return (days, hours , minutes, sec)\n",
    "s = int(input(\"Enter seconds \"))\n",
    "print(func(s))\n",
    "    "
   ]
  },
  {
   "cell_type": "code",
   "execution_count": 2,
   "metadata": {},
   "outputs": [
    {
     "data": {
      "text/plain": [
       "'3.7.3 (default, Mar 27 2019, 17:13:21) [MSC v.1915 64 bit (AMD64)]'"
      ]
     },
     "execution_count": 2,
     "metadata": {},
     "output_type": "execute_result"
    }
   ],
   "source": [
    "# 10. Check your version of python interpreter without opening the interpreter \n",
    "# (Which command needs to be used on the command line). \n",
    "\n",
    "import sys\n",
    "sys.version"
   ]
  },
  {
   "cell_type": "code",
   "execution_count": 4,
   "metadata": {},
   "outputs": [
    {
     "name": "stdout",
     "output_type": "stream",
     "text": [
      "2 -2\n"
     ]
    }
   ],
   "source": [
    "# 11. Find output\n",
    "\n",
    "x = 2\n",
    "x *= 3\n",
    "x = x % 4\n",
    "y = - x\n",
    "print(x , y)"
   ]
  },
  {
   "cell_type": "code",
   "execution_count": 7,
   "metadata": {},
   "outputs": [
    {
     "name": "stdout",
     "output_type": "stream",
     "text": [
      "None\n"
     ]
    }
   ],
   "source": [
    "# 12. Find output\n",
    "\n",
    "def fun():\n",
    "    pass\n",
    "print(fun())"
   ]
  }
 ],
 "metadata": {
  "kernelspec": {
   "display_name": "Python 3",
   "language": "python",
   "name": "python3"
  },
  "language_info": {
   "codemirror_mode": {
    "name": "ipython",
    "version": 3
   },
   "file_extension": ".py",
   "mimetype": "text/x-python",
   "name": "python",
   "nbconvert_exporter": "python",
   "pygments_lexer": "ipython3",
   "version": "3.7.3"
  }
 },
 "nbformat": 4,
 "nbformat_minor": 2
}
