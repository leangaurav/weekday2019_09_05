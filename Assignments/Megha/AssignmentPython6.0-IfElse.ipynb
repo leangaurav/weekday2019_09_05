{
 "cells": [
  {
   "cell_type": "code",
   "execution_count": 10,
   "metadata": {},
   "outputs": [
    {
     "name": "stdout",
     "output_type": "stream",
     "text": [
      "2 6\n",
      "True\n"
     ]
    }
   ],
   "source": [
    "# 1.  WAP to input 2 numbers and check whether the first\n",
    "# is divisible by the second and print true or false depending on the divisibility\n",
    "\n",
    "a , b = map(int , input().split())\n",
    "flag = False\n",
    "if (b % a == 0):\n",
    "    flag = True\n",
    "print(flag)\n",
    "    \n",
    "    "
   ]
  },
  {
   "cell_type": "code",
   "execution_count": 23,
   "metadata": {},
   "outputs": [
    {
     "name": "stdout",
     "output_type": "stream",
     "text": [
      "enter the string: malayalam\n",
      "Palindrome\n"
     ]
    }
   ],
   "source": [
    "# 2. In the palindrome example, make the code case insensitive. \n",
    "import string\n",
    "\n",
    "s =input(\"enter the string: \")\n",
    "s = s.upper()\n",
    "\n",
    "d = { True : \"Palindrome\" , False : \"Not a Palindrome\"}\n",
    "print(d[ s[::1] == s[::-1]])"
   ]
  },
  {
   "cell_type": "code",
   "execution_count": 31,
   "metadata": {},
   "outputs": [
    {
     "name": "stdout",
     "output_type": "stream",
     "text": [
      "Enter all the sides of a triangle: 1 5 1\n",
      "isoceles triangle\n"
     ]
    }
   ],
   "source": [
    "# 3. WAP to input the sides of a triangle and print whether equilateral(all sides equal), \n",
    "# isosceles (2 sides equal), or scalene (no sides equal). \n",
    "\n",
    "a, b, c= map( int, input(\"Enter all the sides of a triangle: \").split())\n",
    "if (a == b == c):\n",
    "    print(\"Equilateral triangle\")\n",
    "elif( a == b or b == c or a== c):\n",
    "    print(\"isoceles triangle\")\n",
    "else:\n",
    "    print(\"scalene triangle\")"
   ]
  },
  {
   "cell_type": "code",
   "execution_count": 38,
   "metadata": {},
   "outputs": [
    {
     "name": "stdout",
     "output_type": "stream",
     "text": [
      "Enter the no: -5\n",
      "Odd\n"
     ]
    }
   ],
   "source": [
    "# 4.  WAP to input a number and print if it is even or odd. \n",
    "\n",
    "n = int(input(\"Enter the no: \"))\n",
    "if(n%2):\n",
    "    print(\"Odd\")\n",
    "else:\n",
    "    print(\"even\")"
   ]
  },
  {
   "cell_type": "code",
   "execution_count": 41,
   "metadata": {},
   "outputs": [
    {
     "name": "stdout",
     "output_type": "stream",
     "text": [
      "Enter the age50\n",
      "Adult\n"
     ]
    }
   ],
   "source": [
    "# 5. WAP to input age and print the respective text  depending on the age ranges as present in the table. \n",
    "\n",
    "age = int(input(\"Enter the age\"))\n",
    "\n",
    "if age in range(13):\n",
    "    print(\"Child\")\n",
    "elif age in range(13, 18):\n",
    "    print(\"Teen\")\n",
    "elif age in range(18, 51):\n",
    "    print(\"Adult\")\n",
    "elif age in range(51 , 101):\n",
    "    print(\"Senior Citizen\")\n",
    "else:\n",
    "    print(\"Contratulations\")\n",
    " "
   ]
  },
  {
   "cell_type": "code",
   "execution_count": 68,
   "metadata": {},
   "outputs": [
    {
     "name": "stdout",
     "output_type": "stream",
     "text": [
      "enter the year: 12\n",
      "Enter Valid year\n"
     ]
    }
   ],
   "source": [
    "# 6. WAP to input year \n",
    "\n",
    "def leap_year(y):\n",
    "    if len(y) == 4 and int(y) > 0:\n",
    "        y = int(y)\n",
    "        return ((y % 4 == 0 and y % 100 != 0 ) or y % 400 == 0   ) \n",
    "    \n",
    "    \n",
    "y = input(\"enter the year: \")\n",
    "d = { True : \"Leap year\" , False: 'Not a leap year' , None : \"Enter Valid year\"}\n",
    "print(d[leap_year(y)])"
   ]
  },
  {
   "cell_type": "code",
   "execution_count": 74,
   "metadata": {},
   "outputs": [
    {
     "name": "stdout",
     "output_type": "stream",
     "text": [
      "Enter the string: aszxc\n",
      "ASZXC\n"
     ]
    }
   ],
   "source": [
    "# # 7. WAP to input a string and convert it to Upper Case if number of characters is odd \n",
    "# and convert to lower case otherwise. \n",
    "\n",
    "s = input(\"Enter the string: \")\n",
    "if (len(s)%2):\n",
    "    s = s.upper()\n",
    "else:\n",
    "    s = s.lower()\n",
    "print(s)"
   ]
  },
  {
   "cell_type": "code",
   "execution_count": 95,
   "metadata": {},
   "outputs": [
    {
     "name": "stdout",
     "output_type": "stream",
     "text": [
      "this s egg\n",
      "Non-Veg\n"
     ]
    }
   ],
   "source": [
    "# 8. WAP to input a string and print Veg if the string doesn’t contain the word egg. \n",
    "# Otherwise print Non-Veg. As usual eggs can be both big and small\n",
    "\n",
    "s = input()\n",
    "s = s.lower()\n",
    "if 'egg' in s:\n",
    "    print(\"Non-Veg\")\n",
    "else:\n",
    "    print(\"Veg\")"
   ]
  },
  {
   "cell_type": "code",
   "execution_count": 78,
   "metadata": {},
   "outputs": [
    {
     "name": "stdout",
     "output_type": "stream",
     "text": [
      "true\n"
     ]
    }
   ],
   "source": [
    "# 9. Give O/P\n",
    "\n",
    "if not 1:\n",
    "    print(\"False\")\n",
    "else:\n",
    "    print(\"true\")"
   ]
  },
  {
   "cell_type": "code",
   "execution_count": 79,
   "metadata": {},
   "outputs": [
    {
     "name": "stdout",
     "output_type": "stream",
     "text": [
      "True\n"
     ]
    }
   ],
   "source": [
    "if 1:\n",
    "    print(\"True\")\n",
    "else:\n",
    "    print(\"False\")"
   ]
  },
  {
   "cell_type": "code",
   "execution_count": 82,
   "metadata": {},
   "outputs": [
    {
     "name": "stdout",
     "output_type": "stream",
     "text": [
      "Weird\n"
     ]
    }
   ],
   "source": [
    "if 'a' > 'A':\n",
    "    print(\"Weird\")\n",
    "else:\n",
    "    print(\"Makes sense\")"
   ]
  },
  {
   "cell_type": "code",
   "execution_count": 91,
   "metadata": {},
   "outputs": [
    {
     "name": "stdout",
     "output_type": "stream",
     "text": [
      "[4, 3, 2, 1]\n"
     ]
    }
   ],
   "source": [
    "a = [1,2,3,4]\n",
    "if 1 > 1:\n",
    "    a = a[:: -1]\n",
    "\n",
    "else:\n",
    "    a = a[ -1 : : -1]\n",
    "print(a)"
   ]
  },
  {
   "cell_type": "code",
   "execution_count": 96,
   "metadata": {},
   "outputs": [
    {
     "name": "stdout",
     "output_type": "stream",
     "text": [
      "Enter marks of 5 subjects: 20 45 88 77 90\n",
      "Grade C\n"
     ]
    }
   ],
   "source": [
    "# 10. WAP to input marks in 5 subjects and print the grade as per following logic: \n",
    "\n",
    "marks = list(map(int, input(\"Enter marks of 5 subjects: \").split()))\n",
    "p = sum(marks) * 0.2\n",
    "if p in range(90, 101):\n",
    "    print(\"Grade A\")\n",
    "elif p in range(80 , 90):\n",
    "    print(\"Grade B\")\n",
    "elif p in range(60, 80):\n",
    "    print(\"Grade C\")\n",
    "else:\n",
    "    print(\"Grade F\")"
   ]
  },
  {
   "cell_type": "code",
   "execution_count": 111,
   "metadata": {},
   "outputs": [
    {
     "name": "stdout",
     "output_type": "stream",
     "text": [
      "10\n",
      "10\n",
      "10\n",
      "OMG\n"
     ]
    }
   ],
   "source": [
    "# 12. Predict Output\n",
    "\n",
    "print(20 if not 1 ==1 else 10)\n",
    "print(30 if not 1 == 1 else 20 if 'a'<'A' else 10)\n",
    "print(40 if not 1 == 1 else 30 if 'a'<'A' else 20 if '' else 10)\n",
    "print('No' if not 1 == 1 else ('No' if 'a' <'A' else ('OMG' if 'oh!!' else 'No')))"
   ]
  },
  {
   "cell_type": "code",
   "execution_count": 8,
   "metadata": {},
   "outputs": [
    {
     "name": "stdout",
     "output_type": "stream",
     "text": [
      "Enter weight (Kg) and height (cm) : 48 159\n",
      "Normal\n",
      "18.986590720303784\n"
     ]
    }
   ],
   "source": [
    "# 13. WAF: bmi() that takes the weight in kg and height in cm of a person, calculates and returns the BMI\n",
    "\n",
    "def bmi(w , h):\n",
    "    bmi = (w / h**2)\n",
    "    if bmi <= 18.5:\n",
    "        print(\"Underweight\")\n",
    "    elif 18.5 < bmi < 23:\n",
    "        print(\"Normal\")\n",
    "    elif 23 < bmi < 25:\n",
    "        print(\"Overweight\")\n",
    "    else:\n",
    "        print(\"Obese\")\n",
    "    return bmi\n",
    "\n",
    "w,  h = map(int , input(\"Enter weight (Kg) and height (cm) : \").split())\n",
    "h = h / 100\n",
    "print(bmi(w, h))\n",
    "    \n",
    "    "
   ]
  },
  {
   "cell_type": "code",
   "execution_count": 16,
   "metadata": {},
   "outputs": [
    {
     "name": "stdout",
     "output_type": "stream",
     "text": [
      "Enter age: 56 78 12\n",
      "The youngest age is 12 , The oldest age is 78\n"
     ]
    }
   ],
   "source": [
    "# 14.  Take input of age of 3 people by user and determine oldest and youngest among them. \n",
    "\n",
    "a = list(map(int, input(\"Enter age: \").split()))\n",
    "max = a[0]\n",
    "min = a[0]\n",
    "for data in a:\n",
    "    if data > max:\n",
    "        max = data\n",
    "    if data < min:\n",
    "        min = data\n",
    "print(\"The youngest age is {} , The oldest age is {}\".format(min , max) )\n",
    "    \n",
    "\n"
   ]
  },
  {
   "cell_type": "code",
   "execution_count": 25,
   "metadata": {},
   "outputs": [
    {
     "name": "stdout",
     "output_type": "stream",
     "text": [
      "Enter a number: 35\n",
      "35 is divisible by both 5 and 7\n"
     ]
    }
   ],
   "source": [
    "# 15. WAP to input a number and check if number is divisible by both 5 and 7. \n",
    "\n",
    "n = int(input(\"Enter a number: \"))\n",
    "\n",
    "if n % 5 == 0 and n % 7 == 0:\n",
    "    print(\"{} is divisible by both 5 and 7\".format(n))\n",
    "else:\n",
    "    print(\"{} is not divisible by both 5 and 7\".format(n))"
   ]
  }
 ],
 "metadata": {
  "kernelspec": {
   "display_name": "Python 3",
   "language": "python",
   "name": "python3"
  },
  "language_info": {
   "codemirror_mode": {
    "name": "ipython",
    "version": 3
   },
   "file_extension": ".py",
   "mimetype": "text/x-python",
   "name": "python",
   "nbconvert_exporter": "python",
   "pygments_lexer": "ipython3",
   "version": "3.7.3"
  }
 },
 "nbformat": 4,
 "nbformat_minor": 2
}
