{
 "cells": [
  {
   "cell_type": "code",
   "execution_count": 1,
   "metadata": {},
   "outputs": [
    {
     "name": "stdout",
     "output_type": "stream",
     "text": [
      "6 19\n"
     ]
    }
   ],
   "source": [
    "# 1. Predict Output\n",
    "\n",
    "s1 = 'Gaurav'\n",
    "s2 = 'tuteur.py@gmail.com'\n",
    "print(len(s1), len(s2))"
   ]
  },
  {
   "cell_type": "code",
   "execution_count": 2,
   "metadata": {},
   "outputs": [
    {
     "name": "stdout",
     "output_type": "stream",
     "text": [
      "Megha\n",
      "5\n"
     ]
    }
   ],
   "source": [
    "# 2. WAP to input a string and print its length. \n",
    "\n",
    "s = input()\n",
    "print(len(s))"
   ]
  },
  {
   "cell_type": "code",
   "execution_count": 5,
   "metadata": {},
   "outputs": [
    {
     "name": "stdout",
     "output_type": "stream",
     "text": [
      "Enter two no's 2 3\n",
      "sum is 5\n",
      "difference is -1\n"
     ]
    }
   ],
   "source": [
    "# 3. WAP to input 2 numbers and print their sum and difference\n",
    "\n",
    "a, b = map(int, input(\"Enter two no's \").split(\" \"))\n",
    "print(\"sum is %d\" % (a + b))\n",
    "print(\"difference is %d\" % (a - b))"
   ]
  },
  {
   "cell_type": "code",
   "execution_count": 6,
   "metadata": {},
   "outputs": [
    {
     "name": "stdout",
     "output_type": "stream",
     "text": [
      "abcd\n"
     ]
    }
   ],
   "source": [
    "# 4. Predict Output\n",
    "\n",
    "s1 = 'ab'\n",
    "s2 = 'cd'\n",
    "s3 = s1 + s2\n",
    "print(s3)"
   ]
  },
  {
   "cell_type": "code",
   "execution_count": 8,
   "metadata": {},
   "outputs": [
    {
     "name": "stdout",
     "output_type": "stream",
     "text": [
      "abababab\n"
     ]
    }
   ],
   "source": [
    "# 5. Predict Output\n",
    "\n",
    "s1 = 'ab' * 4\n",
    "print(s1)"
   ]
  },
  {
   "cell_type": "code",
   "execution_count": 19,
   "metadata": {},
   "outputs": [
    {
     "name": "stdout",
     "output_type": "stream",
     "text": [
      "ab\n",
      "ab\n",
      "ab\n",
      "ab\n",
      "\n"
     ]
    }
   ],
   "source": [
    "# 6. Predict Output\n",
    "\n",
    "s1 = 'ab\\n' * 4\n",
    "print(s1)"
   ]
  },
  {
   "cell_type": "code",
   "execution_count": 3,
   "metadata": {},
   "outputs": [
    {
     "name": "stdout",
     "output_type": "stream",
     "text": [
      "Enter a stringsetture\n",
      "Enter a no4\n",
      "setture\n",
      "setture\n",
      "setture\n",
      "setture\n",
      "\n"
     ]
    }
   ],
   "source": [
    "# 7. WAP to input a string s and a number n. Print the string n times on the screen, each should appear in a separate line \n",
    "# (do not use any kind of loops, use the multiplication operator). \n",
    "\n",
    "s =input(\"Enter a string\")\n",
    "n = int(input(\"Enter a no\"))\n",
    "print((s+'\\n') * n)\n",
    "\n"
   ]
  },
  {
   "cell_type": "code",
   "execution_count": 2,
   "metadata": {},
   "outputs": [
    {
     "name": "stdout",
     "output_type": "stream",
     "text": [
      "Gaurav\n",
      "None\n"
     ]
    }
   ],
   "source": [
    "# 8. Predict Output\n",
    "\n",
    "res = print('Gaurav')\n",
    "print(res)"
   ]
  },
  {
   "cell_type": "code",
   "execution_count": 4,
   "metadata": {},
   "outputs": [
    {
     "name": "stdout",
     "output_type": "stream",
     "text": [
      "<class 'int'>\n"
     ]
    }
   ],
   "source": [
    "# 9. Predict Output\n",
    "\n",
    "res = len('@meghaggarwal')\n",
    "print(type(res))"
   ]
  },
  {
   "cell_type": "code",
   "execution_count": 5,
   "metadata": {},
   "outputs": [
    {
     "name": "stdout",
     "output_type": "stream",
     "text": [
      "<class 'str'>\n",
      "19\n"
     ]
    }
   ],
   "source": [
    "# 10. Predict Output\n",
    "\n",
    "s1 = 'megha'\n",
    "s2 = '@meghaggarwal'\n",
    "s3 = s1 + '\\n' + s2\n",
    "print(type(s3))\n",
    "print(len(s3)) #1 added for \\n"
   ]
  },
  {
   "cell_type": "code",
   "execution_count": 11,
   "metadata": {},
   "outputs": [
    {
     "name": "stdout",
     "output_type": "stream",
     "text": [
      "['__doc__', '__loader__', '__name__', '__package__', '__spec__', 'acos', 'acosh', 'asin', 'asinh', 'atan', 'atan2', 'atanh', 'ceil', 'copysign', 'cos', 'cosh', 'degrees', 'e', 'erf', 'erfc', 'exp', 'expm1', 'fabs', 'factorial', 'floor', 'fmod', 'frexp', 'fsum', 'gamma', 'gcd', 'hypot', 'inf', 'isclose', 'isfinite', 'isinf', 'isnan', 'ldexp', 'lgamma', 'log', 'log10', 'log1p', 'log2', 'modf', 'nan', 'pi', 'pow', 'radians', 'remainder', 'sin', 'sinh', 'sqrt', 'tan', 'tanh', 'tau', 'trunc']\n",
      "2.0\n"
     ]
    }
   ],
   "source": [
    "# 11.  Find the name of function to find the square root. (see all the options available in dir() of math) \n",
    "import math as m\n",
    "print(dir(math))\n",
    "\n",
    "print(m.sqrt(4))\n",
    "\n"
   ]
  },
  {
   "cell_type": "code",
   "execution_count": 13,
   "metadata": {},
   "outputs": [
    {
     "name": "stdout",
     "output_type": "stream",
     "text": [
      "Enter the no4\n",
      "sqrt of no is 2\n"
     ]
    }
   ],
   "source": [
    "# 12.  WAP to input a number and print its square root (). \n",
    "\n",
    "no = int(input(\"Enter the no\"))\n",
    "print(\"sqrt of no is %d\" % (m.sqrt(no)))"
   ]
  },
  {
   "cell_type": "code",
   "execution_count": 15,
   "metadata": {},
   "outputs": [
    {
     "name": "stdout",
     "output_type": "stream",
     "text": [
      "Enter 4 no's 1 2 3 4\n",
      "average is 7\n"
     ]
    }
   ],
   "source": [
    "# 13.  WAP to input 4 numbers from user and print their average \n",
    "\n",
    "a, b, c, d = map(int , input(\"Enter 4 no's \").split(\" \"))\n",
    "print(\"average is %d\" %((a+b+c+d/4) ))"
   ]
  },
  {
   "cell_type": "code",
   "execution_count": 20,
   "metadata": {},
   "outputs": [
    {
     "name": "stdout",
     "output_type": "stream",
     "text": [
      "Help on built-in function abs in module builtins:\n",
      "\n",
      "abs(x, /)\n",
      "    Return the absolute value of the argument.\n",
      "\n"
     ]
    },
    {
     "data": {
      "text/plain": [
       "34.003609"
      ]
     },
     "execution_count": 20,
     "metadata": {},
     "output_type": "execute_result"
    }
   ],
   "source": [
    "# 14.  Use the help function to check what the abs function in python does. \n",
    "\n",
    "help(abs)\n",
    "abs(-34.003609)"
   ]
  },
  {
   "cell_type": "code",
   "execution_count": 21,
   "metadata": {},
   "outputs": [
    {
     "data": {
      "text/plain": [
       "'__main__'"
      ]
     },
     "execution_count": 21,
     "metadata": {},
     "output_type": "execute_result"
    }
   ],
   "source": [
    "# 15. What is the output of this code when run from python interpreter\n",
    "\n",
    "__name__"
   ]
  },
  {
   "cell_type": "code",
   "execution_count": null,
   "metadata": {},
   "outputs": [],
   "source": [
    "# 16. What is the output of this code when run from a python script. \n",
    "\n",
    "__main__"
   ]
  },
  {
   "cell_type": "code",
   "execution_count": 29,
   "metadata": {},
   "outputs": [
    {
     "name": "stdout",
     "output_type": "stream",
     "text": [
      "['__abs__', '__add__', '__and__', '__bool__', '__ceil__', '__class__', '__delattr__', '__dir__', '__divmod__', '__doc__', '__eq__', '__float__', '__floor__', '__floordiv__', '__format__', '__ge__', '__getattribute__', '__getnewargs__', '__gt__', '__hash__', '__index__', '__init__', '__init_subclass__', '__int__', '__invert__', '__le__', '__lshift__', '__lt__', '__mod__', '__mul__', '__ne__', '__neg__', '__new__', '__or__', '__pos__', '__pow__', '__radd__', '__rand__', '__rdivmod__', '__reduce__', '__reduce_ex__', '__repr__', '__rfloordiv__', '__rlshift__', '__rmod__', '__rmul__', '__ror__', '__round__', '__rpow__', '__rrshift__', '__rshift__', '__rsub__', '__rtruediv__', '__rxor__', '__setattr__', '__sizeof__', '__str__', '__sub__', '__subclasshook__', '__truediv__', '__trunc__', '__xor__', 'bit_length', 'conjugate', 'denominator', 'from_bytes', 'imag', 'numerator', 'real', 'to_bytes']\n"
     ]
    }
   ],
   "source": [
    "# 17.  Does the dir of int class contain an attribute __name__ (Y/N). \n",
    "\n",
    "print(dir(int))\n",
    "#NO, present inside builtins"
   ]
  },
  {
   "cell_type": "code",
   "execution_count": 28,
   "metadata": {},
   "outputs": [
    {
     "name": "stdout",
     "output_type": "stream",
     "text": [
      "__main__\n",
      "builtins\n",
      "int\n"
     ]
    }
   ],
   "source": [
    "# 18. Predict Output\n",
    "\n",
    "print(__name__)\n",
    "print(__builtins__.__name__)\n",
    "print(int.__name__)"
   ]
  },
  {
   "cell_type": "code",
   "execution_count": 32,
   "metadata": {},
   "outputs": [
    {
     "name": "stdout",
     "output_type": "stream",
     "text": [
      "Help on module __main__:\n",
      "\n",
      "NAME\n",
      "    __main__ - Automatically created module for IPython interactive environment\n",
      "\n",
      "DATA\n",
      "    In = ['', \"# 8. Predict Output\\n\\nres = print('Gaurav')\\nprinta(res)\",...\n",
      "    Out = {7: ['__doc__', '__loader__', '__name__', '__package__', '__spec...\n",
      "    __ = ['__abs__', '__add__', '__and__', '__bool__', '__ceil__', '__clas...\n",
      "    ___ = '__main__'\n",
      "    a = 1\n",
      "    b = 2\n",
      "    c = 3\n",
      "    d = 4\n",
      "    exit = <IPython.core.autocall.ZMQExitAutocall object>\n",
      "    n = 4\n",
      "    no = 4\n",
      "    quit = <IPython.core.autocall.ZMQExitAutocall object>\n",
      "    res = 13\n",
      "    s = 'setture'\n",
      "    s1 = 'megha'\n",
      "    s2 = '@meghaggarwal'\n",
      "    s3 = 'megha\\n@meghaggarwal'\n",
      "\n",
      "FILE\n",
      "    (built-in)\n",
      "\n",
      "\n"
     ]
    }
   ],
   "source": [
    "help(__name__)"
   ]
  }
 ],
 "metadata": {
  "kernelspec": {
   "display_name": "Python 3",
   "language": "python",
   "name": "python3"
  }
 },
 "nbformat": 4,
 "nbformat_minor": 2
}
