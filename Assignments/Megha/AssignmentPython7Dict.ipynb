{
 "cells": [
  {
   "cell_type": "code",
   "execution_count": 3,
   "metadata": {},
   "outputs": [
    {
     "name": "stdout",
     "output_type": "stream",
     "text": [
      "{1: -1, 2: -2, 3: -3, 4: -4, 5: -5}\n",
      "{1: -1, 2: -2, 3: -3, 4: -4, 5: -5}\n"
     ]
    }
   ],
   "source": [
    "# 1. WAP to create a dictionary of numbers mapped to their negative value for numbers from 1-5. \n",
    "# The dictionary should contain something like this: \n",
    "\n",
    "d = {}\n",
    "for i in range(1,6):\n",
    "    d[i] = -i\n",
    "print(d)\n",
    "\n",
    "d1 = {1 : -1 , 2: -2 , 3: -3 , 4: -4 , 5 :-5}\n",
    "print(d1)\n",
    "    "
   ]
  },
  {
   "cell_type": "code",
   "execution_count": 4,
   "metadata": {},
   "outputs": [
    {
     "ename": "SyntaxError",
     "evalue": "invalid syntax (<ipython-input-4-d5fbf7c7ea66>, line 3)",
     "output_type": "error",
     "traceback": [
      "\u001b[1;36m  File \u001b[1;32m\"<ipython-input-4-d5fbf7c7ea66>\"\u001b[1;36m, line \u001b[1;32m3\u001b[0m\n\u001b[1;33m    d = {1 =2 , 2 = 3}\u001b[0m\n\u001b[1;37m           ^\u001b[0m\n\u001b[1;31mSyntaxError\u001b[0m\u001b[1;31m:\u001b[0m invalid syntax\n"
     ]
    }
   ],
   "source": [
    "# 2.  Check which of the following declarations will work \n",
    "\n",
    "d = {1 =2 , 2 = 3}\n"
   ]
  },
  {
   "cell_type": "code",
   "execution_count": 5,
   "metadata": {},
   "outputs": [],
   "source": [
    "d = {1:2 , 2:3}"
   ]
  },
  {
   "cell_type": "code",
   "execution_count": 6,
   "metadata": {},
   "outputs": [
    {
     "ename": "SyntaxError",
     "evalue": "invalid syntax (<ipython-input-6-a8833e529f34>, line 1)",
     "output_type": "error",
     "traceback": [
      "\u001b[1;36m  File \u001b[1;32m\"<ipython-input-6-a8833e529f34>\"\u001b[1;36m, line \u001b[1;32m1\u001b[0m\n\u001b[1;33m    d = {1,2 ; 2,3}\u001b[0m\n\u001b[1;37m             ^\u001b[0m\n\u001b[1;31mSyntaxError\u001b[0m\u001b[1;31m:\u001b[0m invalid syntax\n"
     ]
    }
   ],
   "source": [
    "d = {1,2 ; 2,3}"
   ]
  },
  {
   "cell_type": "code",
   "execution_count": 22,
   "metadata": {},
   "outputs": [],
   "source": [
    "d = { (1,2) , (2,3)}"
   ]
  },
  {
   "cell_type": "code",
   "execution_count": 24,
   "metadata": {},
   "outputs": [
    {
     "ename": "NameError",
     "evalue": "name 'c' is not defined",
     "output_type": "error",
     "traceback": [
      "\u001b[1;31m---------------------------------------------------------------------------\u001b[0m",
      "\u001b[1;31mNameError\u001b[0m                                 Traceback (most recent call last)",
      "\u001b[1;32m<ipython-input-24-3dddfddb0382>\u001b[0m in \u001b[0;36m<module>\u001b[1;34m\u001b[0m\n\u001b[1;32m----> 1\u001b[1;33m \u001b[0md\u001b[0m \u001b[1;33m=\u001b[0m \u001b[1;33m{\u001b[0m \u001b[1;34m'a'\u001b[0m\u001b[1;33m:\u001b[0m \u001b[1;34m'A'\u001b[0m \u001b[1;33m,\u001b[0m \u001b[1;34m'b'\u001b[0m \u001b[1;33m:\u001b[0m \u001b[1;36m1\u001b[0m\u001b[1;33m,\u001b[0m \u001b[0mc\u001b[0m\u001b[1;33m:\u001b[0m \u001b[1;33m[\u001b[0m\u001b[1;36m1\u001b[0m\u001b[1;33m,\u001b[0m\u001b[1;36m2\u001b[0m\u001b[1;33m,\u001b[0m\u001b[1;36m3\u001b[0m\u001b[1;33m,\u001b[0m\u001b[1;36m4\u001b[0m\u001b[1;33m]\u001b[0m\u001b[1;33m}\u001b[0m\u001b[1;33m\u001b[0m\u001b[1;33m\u001b[0m\u001b[0m\n\u001b[0m",
      "\u001b[1;31mNameError\u001b[0m: name 'c' is not defined"
     ]
    }
   ],
   "source": [
    "d = { 'a': 'A' , 'b' : 1, c: [1,2,3,4]}"
   ]
  },
  {
   "cell_type": "code",
   "execution_count": 28,
   "metadata": {},
   "outputs": [],
   "source": [
    "d = { 'a': 'a' , 'b' : 1 , 'c' : [1234]}"
   ]
  },
  {
   "cell_type": "code",
   "execution_count": 29,
   "metadata": {},
   "outputs": [],
   "source": [
    "d = dict([(1,2) , (2,3)])"
   ]
  },
  {
   "cell_type": "code",
   "execution_count": 32,
   "metadata": {},
   "outputs": [
    {
     "name": "stdout",
     "output_type": "stream",
     "text": [
      "{1: 2, 2: 3}\n"
     ]
    }
   ],
   "source": [
    "d = dict(((1,2) , (2,3)))\n",
    "print(d)"
   ]
  },
  {
   "cell_type": "code",
   "execution_count": 35,
   "metadata": {},
   "outputs": [
    {
     "ename": "SyntaxError",
     "evalue": "invalid syntax (<ipython-input-35-027d9f316e78>, line 1)",
     "output_type": "error",
     "traceback": [
      "\u001b[1;36m  File \u001b[1;32m\"<ipython-input-35-027d9f316e78>\"\u001b[1;36m, line \u001b[1;32m1\u001b[0m\n\u001b[1;33m    d = dict((1,2) , (2,3)])\u001b[0m\n\u001b[1;37m                          ^\u001b[0m\n\u001b[1;31mSyntaxError\u001b[0m\u001b[1;31m:\u001b[0m invalid syntax\n"
     ]
    }
   ],
   "source": [
    "d = dict((1,2) , (2,3)])"
   ]
  },
  {
   "cell_type": "code",
   "execution_count": 36,
   "metadata": {},
   "outputs": [],
   "source": [
    "d = dict( x =1 , y =10)"
   ]
  },
  {
   "cell_type": "code",
   "execution_count": 46,
   "metadata": {},
   "outputs": [
    {
     "ename": "SyntaxError",
     "evalue": "can't assign to literal (<ipython-input-46-e45728f0766a>, line 1)",
     "output_type": "error",
     "traceback": [
      "\u001b[1;36m  File \u001b[1;32m\"<ipython-input-46-e45728f0766a>\"\u001b[1;36m, line \u001b[1;32m1\u001b[0m\n\u001b[1;33m    11 = dict('x' = 2 , y = 3)\u001b[0m\n\u001b[1;37m                              ^\u001b[0m\n\u001b[1;31mSyntaxError\u001b[0m\u001b[1;31m:\u001b[0m can't assign to literal\n"
     ]
    }
   ],
   "source": [
    "11 = dict('x' = 2 , y = 3)"
   ]
  },
  {
   "cell_type": "code",
   "execution_count": 45,
   "metadata": {},
   "outputs": [
    {
     "ename": "SyntaxError",
     "evalue": "can't assign to literal (<ipython-input-45-9f3df561de74>, line 1)",
     "output_type": "error",
     "traceback": [
      "\u001b[1;36m  File \u001b[1;32m\"<ipython-input-45-9f3df561de74>\"\u001b[1;36m, line \u001b[1;32m1\u001b[0m\n\u001b[1;33m    12 = dict(1 = 2 , 2=3)\u001b[0m\n\u001b[1;37m                          ^\u001b[0m\n\u001b[1;31mSyntaxError\u001b[0m\u001b[1;31m:\u001b[0m can't assign to literal\n"
     ]
    }
   ],
   "source": [
    "12 = dict(1 = 2 , 2=3)"
   ]
  },
  {
   "cell_type": "code",
   "execution_count": 129,
   "metadata": {},
   "outputs": [
    {
     "data": {
      "text/plain": [
       "{1: 10, 2: 20, 3: 30, 4: 40}"
      ]
     },
     "execution_count": 129,
     "metadata": {},
     "output_type": "execute_result"
    }
   ],
   "source": [
    "3. # Read help for zip and write a program that has \n",
    "# two lists l1 = [1,2,3,4] l2 = [10,20,30,40] And converts them to a dictionary d containing { 1:10,2:20 …….} \n",
    "\n",
    "L1 =[1,2,3,4]\n",
    "L2 = [10,20,30,40]\n",
    "L3 = [8, 9,0 ]\n",
    "\n",
    "dict(zip(L1 , L2))\n",
    "\n",
    "{idx : values for idx,values in zip(L1,L2) }\n",
    "# tuple((idx , values , ty) for idx,values, ty in zip(L1,L2, L3) )"
   ]
  },
  {
   "cell_type": "code",
   "execution_count": 98,
   "metadata": {},
   "outputs": [
    {
     "name": "stdout",
     "output_type": "stream",
     "text": [
      "{'A': 65, 'B': 66, 'C': 67, 'D': 68, 'E': 69, 'F': 70, 'G': 71, 'H': 72, 'I': 73, 'J': 74, 'K': 75, 'L': 76, 'M': 77, 'N': 78, 'O': 79, 'P': 80, 'Q': 81, 'R': 82, 'S': 83, 'T': 84, 'U': 85, 'V': 86, 'W': 87, 'X': 88, 'Y': 89, 'Z': 90}\n"
     ]
    }
   ],
   "source": [
    "# 4. Use range based for loop to store all upper case alphabets \n",
    "# and their corresponding ASCII values in the dictionary d. The result should be  d = {‘A’: 65, ‘B’:66,…..}\n",
    "\n",
    "import string\n",
    "\n",
    "a = string.ascii_uppercase\n",
    "d = {i : ord(i) for i in a}\n",
    "print(d)\n",
    "    "
   ]
  },
  {
   "cell_type": "code",
   "execution_count": 3,
   "metadata": {},
   "outputs": [
    {
     "name": "stdout",
     "output_type": "stream",
     "text": [
      "Enter a single digit no: 3\n",
      "three\n",
      "dict_keys([0, 1, 2, 3, 4, 5, 6, 7, 8, 9])\n",
      "\n",
      "dict_values(['zero', 'one', 'two', 'three', 'four', 'five', 'six', 'seven', 'eight', 'nine'])\n",
      "\n",
      "{0: 'zero', 1: 'one', 2: 'two', 3: 'three', 4: 'four', 5: 'five', 6: 'six', 7: 'seven', 8: 'eight', 9: 'nine'}\n"
     ]
    }
   ],
   "source": [
    "###### 5.  Create a mapping of number to word from 0-9. (0:’zero’……)\n",
    "#     • Ask user for a single digit number and print the corresponding word format. \n",
    "#     • Print all keys of above dictionary • Print all Values of a dictionary \n",
    "#     • Print all Key and Value pairs of above dictionary \n",
    " \n",
    "    \n",
    "L = [ 'zero' , 'one' , 'two', 'three', 'four' , 'five' , 'six', 'seven', 'eight' , 'nine']\n",
    "n = int(input(\"Enter a single digit no: \"))\n",
    "p = lambda x : L[x] \n",
    "print(p(n))\n",
    "\n",
    "d = { i : p(i) for i in range(0,10)}\n",
    "print(d.keys() , d.values() , d,  sep = '\\n' * 2)\n"
   ]
  },
  {
   "cell_type": "code",
   "execution_count": 55,
   "metadata": {},
   "outputs": [
    {
     "name": "stdout",
     "output_type": "stream",
     "text": [
      "{'A': 'Apple', 'B': 'Ball', 'C': 'Cat', 'D': 'Dog'}\n",
      "{'A': 'Apple', 'C': 'Cat'}\n"
     ]
    }
   ],
   "source": [
    "5. \n",
    "l1 = ['A','B','C','D']\n",
    "l2= ['Apple','Ball','Cat','Dog']\n",
    "\n",
    "d1 = dict(zip(l1,l2))\n",
    "print(d1)\n",
    "d2 = dict(list(d1.items())[::2])\n",
    "print(d2)\n"
   ]
  },
  {
   "cell_type": "code",
   "execution_count": 4,
   "metadata": {},
   "outputs": [
    {
     "name": "stdout",
     "output_type": "stream",
     "text": [
      "Enter the string: Morning routine\n",
      "{'o': 2, 'i': 2, 'u': 1, 'e': 1}\n"
     ]
    }
   ],
   "source": [
    "# 7.  WAP to input a string and count occurrence of each vowel in a string. \n",
    "\n",
    "s = input(\"Enter the string: \")\n",
    "a = 'aeiouAEIOU'\n",
    "\n",
    "d = {}\n",
    "\n",
    "for data in s:\n",
    "    if data in a:\n",
    "        d[data] = d.get(data , 0 ) + 1\n",
    "print(d)"
   ]
  },
  {
   "cell_type": "code",
   "execution_count": 3,
   "metadata": {},
   "outputs": [
    {
     "name": "stdout",
     "output_type": "stream",
     "text": [
      "Enter the string: Python and Pandas \n",
      "{'P': 2, 'y': 1, 't': 1, 'h': 1, 'o': 1, 'n': 3, ' ': 3, 'a': 3, 'd': 2, 's': 1}\n"
     ]
    }
   ],
   "source": [
    "# 8. Update above program to print frequency of each alphabet present in string\n",
    "\n",
    "s = input(\"Enter the string: \")\n",
    "\n",
    "\n",
    "d = {}\n",
    "\n",
    "for data in s:\n",
    "    d[data] = d.get(data , 0 ) + 1\n",
    "print(d)\n"
   ]
  },
  {
   "cell_type": "code",
   "execution_count": 6,
   "metadata": {},
   "outputs": [
    {
     "name": "stdout",
     "output_type": "stream",
     "text": [
      "Enter the string: Pandas are cute. Love Pandas\n",
      "{'Pandas': 2, 'are': 1, 'cute.': 1, 'Love': 1}\n"
     ]
    }
   ],
   "source": [
    "# 9. WAP that takes a string as input and prints frequency of each word. \n",
    "\n",
    "s = input(\"Enter the string: \").split(' ')\n",
    "\n",
    "d = {}\n",
    "\n",
    "for data in s:\n",
    "    d[data] = d.get(data , 0 ) + 1\n",
    "print(d)\n",
    "    \n"
   ]
  }
 ],
 "metadata": {
  "kernelspec": {
   "display_name": "Python 3",
   "language": "python",
   "name": "python3"
  },
  "language_info": {
   "codemirror_mode": {
    "name": "ipython",
    "version": 3
   },
   "file_extension": ".py",
   "mimetype": "text/x-python",
   "name": "python",
   "nbconvert_exporter": "python",
   "pygments_lexer": "ipython3",
   "version": "3.7.3"
  }
 },
 "nbformat": 4,
 "nbformat_minor": 2
}
