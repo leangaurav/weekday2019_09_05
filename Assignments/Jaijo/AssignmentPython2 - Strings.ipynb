{
 "cells": [
  {
   "cell_type": "markdown",
   "metadata": {},
   "source": [
    "# 1. Guess output of each slice:\n",
    "\n",
    "s=‘Python is Object Oriented’\n",
    "\n",
    "   1. s[-1] 2. s[::-1] 3. s[:-1] 4. s[1:1] 5. s[4:10]"
   ]
  },
  {
   "cell_type": "code",
   "execution_count": 1,
   "metadata": {},
   "outputs": [
    {
     "name": "stdout",
     "output_type": "stream",
     "text": [
      "d\n",
      "detneirO tcejbO si nohtyP\n",
      "Python is Object Oriente\n",
      "\n",
      "on is \n"
     ]
    }
   ],
   "source": [
    "s=(\"Python is Object Oriented\")\n",
    "print(s[-1] )# d\n",
    "print(s[::-1] )#‘reverse’\n",
    "print(s[:-1] )#‘Python is Object Oriente’\n",
    "print(s[1:1] )#\n",
    "print(s[4:10] )#on is"
   ]
  },
  {
   "cell_type": "markdown",
   "metadata": {},
   "source": [
    "# 2. What error do you see for following statements:\n",
    "    \n",
    "s= ‘’\n",
    "\n",
    "print(s[1])"
   ]
  },
  {
   "cell_type": "code",
   "execution_count": 2,
   "metadata": {},
   "outputs": [
    {
     "name": "stdout",
     "output_type": "stream",
     "text": [
      "\n"
     ]
    }
   ],
   "source": [
    "s= \"\"\n",
    "\n",
    "print(s)"
   ]
  },
  {
   "cell_type": "markdown",
   "metadata": {},
   "source": [
    "# 3. Do you get any error for the following code, if not give the output:\n",
    "\n",
    "#S=‘Gaurav’\n",
    "#print(s[1])"
   ]
  },
  {
   "cell_type": "code",
   "execution_count": 3,
   "metadata": {},
   "outputs": [
    {
     "name": "stdout",
     "output_type": "stream",
     "text": [
      "a\n"
     ]
    }
   ],
   "source": [
    "S =\"Gaurav\"\n",
    "print(S[1])"
   ]
  },
  {
   "cell_type": "markdown",
   "metadata": {},
   "source": [
    "# 4. Find output of the following:"
   ]
  },
  {
   "cell_type": "markdown",
   "metadata": {},
   "source": [
    "a) s=‘a b cd’\n",
    "print(len(s))#6\n",
    "print(s[::2])#abc\n",
    "print(len(s[::2]))#3"
   ]
  },
  {
   "cell_type": "code",
   "execution_count": 4,
   "metadata": {},
   "outputs": [
    {
     "name": "stdout",
     "output_type": "stream",
     "text": [
      "6\n",
      "abc\n",
      "3\n"
     ]
    }
   ],
   "source": [
    "s=\"a b cd\"\n",
    "print(len(s))\n",
    "print(s[::2])\n",
    "print(len(s[::2]))"
   ]
  },
  {
   "cell_type": "code",
   "execution_count": 5,
   "metadata": {},
   "outputs": [],
   "source": [
    "#b) s=‘a#b#c#d#’\n",
    "#print(s.split())\n",
    "#print(s.split(‘#’))\n",
    "#l=s.split(‘#’)\n",
    "#s=‘$’.join(l)\n",
    "#print(s)"
   ]
  },
  {
   "cell_type": "code",
   "execution_count": 6,
   "metadata": {},
   "outputs": [
    {
     "name": "stdout",
     "output_type": "stream",
     "text": [
      "['a#b#c#d#']\n",
      "['a', 'b', 'c', 'd', '']\n",
      "['a', 'b', 'c', 'd', '']\n",
      "a$b$c$d$\n"
     ]
    }
   ],
   "source": [
    "s=\"a#b#c#d#\"\n",
    "print(s.split())\n",
    "print(s.split(\"#\"))\n",
    "\n",
    "x=s.split(\"#\")\n",
    "print(x)\n",
    "y=\"$\".join(x)\n",
    "print(y)"
   ]
  },
  {
   "cell_type": "markdown",
   "metadata": {},
   "source": [
    "#c) S=‘Gaurav’\n",
    "#S=S[::-2][::-2]\n",
    "#print(S)"
   ]
  },
  {
   "cell_type": "code",
   "execution_count": 7,
   "metadata": {},
   "outputs": [
    {
     "name": "stdout",
     "output_type": "stream",
     "text": [
      "av\n",
      "\n",
      "#####################\n",
      "Practice\n",
      "\n",
      "varuaG\n",
      "\n",
      "vra\n",
      "\n",
      "vu\n",
      "\n"
     ]
    }
   ],
   "source": [
    "\n",
    "S=\"Gaurav\"\n",
    "S=S[::-2][::-2]\n",
    "print(S)\n",
    "print()\n",
    "print(\"#####################\")\n",
    "\n",
    "\n",
    "#practice\n",
    "print(\"Practice\")\n",
    "print()\n",
    "S=\"Gaurav\"\n",
    "S=S[::-1]\n",
    "print(S)\n",
    "print()\n",
    "S=\"Gaurav\"\n",
    "S=S[::-2]\n",
    "print(S)\n",
    "print()\n",
    "S=\"Gaurav\"\n",
    "S=S[::-3]\n",
    "print(S)\n",
    "print()"
   ]
  },
  {
   "cell_type": "code",
   "execution_count": 8,
   "metadata": {},
   "outputs": [
    {
     "name": "stdout",
     "output_type": "stream",
     "text": [
      "False\n"
     ]
    }
   ],
   "source": [
    "#d) print(1>2)\n",
    "print(1>2)"
   ]
  },
  {
   "cell_type": "code",
   "execution_count": 9,
   "metadata": {},
   "outputs": [
    {
     "name": "stdout",
     "output_type": "stream",
     "text": [
      "0,1,2\n"
     ]
    }
   ],
   "source": [
    "#e) print(4%2, 5%2, 2%5, sep=‘, ’)\n",
    "print(4%2, 5%2, 2%5, sep=\",\")"
   ]
  },
  {
   "cell_type": "code",
   "execution_count": 10,
   "metadata": {},
   "outputs": [],
   "source": [
    "#f) s=‘abcba’\n",
    "#s.upper()\n",
    "#print(s)\n",
    "#print(s.count(‘A’), end = ‘ ,’)\n",
    "#print(s.count(‘A’, 2,4) , end = ‘ ,’)\n",
    "#print(s.count(‘a’, 2,4) , end = ‘ ,’)"
   ]
  },
  {
   "cell_type": "code",
   "execution_count": 11,
   "metadata": {},
   "outputs": [
    {
     "name": "stdout",
     "output_type": "stream",
     "text": [
      "abcba\n",
      "0,0,0,"
     ]
    }
   ],
   "source": [
    "s='abcba'\n",
    "s.upper()\n",
    "print(s)\n",
    "print(s.count(\"A\"), end = \",\")\n",
    "print(s.count(\"A\", 2,4) , end = \",\")\n",
    "print(s.count(\"a\", 2,4) , end = \",\")"
   ]
  },
  {
   "cell_type": "code",
   "execution_count": 12,
   "metadata": {},
   "outputs": [],
   "source": [
    "#practise"
   ]
  },
  {
   "cell_type": "code",
   "execution_count": 13,
   "metadata": {},
   "outputs": [
    {
     "name": "stdout",
     "output_type": "stream",
     "text": [
      "ABCBA\n",
      "2,0,0,"
     ]
    }
   ],
   "source": [
    "s='abcba'\n",
    "s =s.upper()\n",
    "print(s)\n",
    "print(s.count(\"A\"), end = \",\")\n",
    "print(s.count(\"A\", 2,4) , end = \",\")\n",
    "print(s.count(\"a\", 2,4) , end = \",\")"
   ]
  },
  {
   "cell_type": "code",
   "execution_count": 14,
   "metadata": {},
   "outputs": [
    {
     "name": "stdout",
     "output_type": "stream",
     "text": [
      "ABCBA\n",
      "2,1,0,"
     ]
    }
   ],
   "source": [
    "s='abcba'\n",
    "s =s.upper()\n",
    "print(s)\n",
    "print(s.count(\"A\"), end = \",\")\n",
    "print(s.count(\"A\", 2,5) , end = \",\")\n",
    "print(s.count(\"a\", 2,4) , end = \",\")"
   ]
  },
  {
   "cell_type": "code",
   "execution_count": 15,
   "metadata": {},
   "outputs": [
    {
     "name": "stdout",
     "output_type": "stream",
     "text": [
      "ABCBA\n",
      "2,1,2,"
     ]
    }
   ],
   "source": [
    "s='abcba'\n",
    "s =s.upper()\n",
    "print(s)\n",
    "print(s.count(\"A\"), end = \",\")\n",
    "print(s.count(\"A\", 2,5) , end = \",\")\n",
    "s =s.lower()\n",
    "print(s.count(\"a\", 0,5) , end = \",\")"
   ]
  },
  {
   "cell_type": "markdown",
   "metadata": {},
   "source": [
    "# 5. WAP to input a string and remove all spaces from it."
   ]
  },
  {
   "cell_type": "code",
   "execution_count": 16,
   "metadata": {},
   "outputs": [
    {
     "name": "stdout",
     "output_type": "stream",
     "text": [
      "enter a string :Jaijo Johnson\n",
      "['Jaijo', 'Johnson']\n",
      "JaijoJohnson\n"
     ]
    }
   ],
   "source": [
    "x = input(\"enter a string :\")\n",
    "y = x.split(\" \")\n",
    "z = \"\".join(y)\n",
    "print(y)\n",
    "print(z)"
   ]
  },
  {
   "cell_type": "markdown",
   "metadata": {},
   "source": [
    "# 6. What does this symbol denote:\n",
    "\n",
    "#[] {empty list}"
   ]
  },
  {
   "cell_type": "code",
   "execution_count": 17,
   "metadata": {},
   "outputs": [
    {
     "data": {
      "text/plain": [
       "list"
      ]
     },
     "execution_count": 17,
     "metadata": {},
     "output_type": "execute_result"
    }
   ],
   "source": [
    "type([])"
   ]
  },
  {
   "cell_type": "markdown",
   "metadata": {},
   "source": [
    "# 7. WAP to print all methods(functions/operations) available in a string (Hint : dir())"
   ]
  },
  {
   "cell_type": "code",
   "execution_count": 18,
   "metadata": {},
   "outputs": [
    {
     "name": "stdout",
     "output_type": "stream",
     "text": [
      "['__add__', '__class__', '__contains__', '__delattr__', '__dir__', '__doc__', '__eq__', '__format__', '__ge__', '__getattribute__', '__getitem__', '__getnewargs__', '__gt__', '__hash__', '__init__', '__init_subclass__', '__iter__', '__le__', '__len__', '__lt__', '__mod__', '__mul__', '__ne__', '__new__', '__reduce__', '__reduce_ex__', '__repr__', '__rmod__', '__rmul__', '__setattr__', '__sizeof__', '__str__', '__subclasshook__', 'capitalize', 'casefold', 'center', 'count', 'encode', 'endswith', 'expandtabs', 'find', 'format', 'format_map', 'index', 'isalnum', 'isalpha', 'isascii', 'isdecimal', 'isdigit', 'isidentifier', 'islower', 'isnumeric', 'isprintable', 'isspace', 'istitle', 'isupper', 'join', 'ljust', 'lower', 'lstrip', 'maketrans', 'partition', 'replace', 'rfind', 'rindex', 'rjust', 'rpartition', 'rsplit', 'rstrip', 'split', 'splitlines', 'startswith', 'strip', 'swapcase', 'title', 'translate', 'upper', 'zfill']\n"
     ]
    }
   ],
   "source": [
    "print(dir(str))"
   ]
  },
  {
   "cell_type": "markdown",
   "metadata": {},
   "source": [
    "# 8. Write statement to check if rstrip method is available in the str class.\n",
    "(Hint : Use the find function or in)"
   ]
  },
  {
   "cell_type": "code",
   "execution_count": 19,
   "metadata": {},
   "outputs": [
    {
     "name": "stdout",
     "output_type": "stream",
     "text": [
      "True\n"
     ]
    }
   ],
   "source": [
    "x = dir(str)\n",
    "if 'rstrip' in x:\n",
    "    print (\"True\")\n",
    "else:\n",
    "    print('False')"
   ]
  },
  {
   "attachments": {
    "image.png": {
     "image/png": "[encoded data removed]"
    }
   },
   "cell_type": "markdown",
   "metadata": {},
   "source": [
    "# 9. WAP to store the following patterns in a string variable and then print them:\n",
    "![image.png](attachment:image.png)"
   ]
  },
  {
   "cell_type": "code",
   "execution_count": 20,
   "metadata": {},
   "outputs": [
    {
     "name": "stdout",
     "output_type": "stream",
     "text": [
      "\n",
      "                             ________  \n",
      "       *****    *       *    |        |  \n",
      "         *      *  * *  *    O        | \n",
      "         *      *   *   *   /|\\       |\n",
      "         *      *       *   / \\       |\n",
      "         *                            |\n",
      "                           ___________|\n",
      "                                      \n",
      "\n"
     ]
    }
   ],
   "source": [
    "x = \"\"\"\n",
    "                             ________  \n",
    "       *****    *       *    |        |  \n",
    "         *      *  * *  *    O        | \n",
    "         *      *   *   *   /|\\       |\n",
    "         *      *       *   / \\       |\n",
    "         *                            |\n",
    "                           ___________|\n",
    "                                      \n",
    "\"\"\"   \n",
    "print(x)"
   ]
  },
  {
   "cell_type": "code",
   "execution_count": 21,
   "metadata": {},
   "outputs": [
    {
     "data": {
      "text/plain": [
       "'\\n                             ________  \\n       *****    *       *    |        |  \\n         *      *  * *  *    O        | \\n         *      *   *   *   /|\\\\       |\\n         *      *       *   / \\\\       |\\n         *                            |\\n                           ___________|\\n                                      \\n'"
      ]
     },
     "execution_count": 21,
     "metadata": {},
     "output_type": "execute_result"
    }
   ],
   "source": [
    "x  # so use print(x) instead"
   ]
  },
  {
   "cell_type": "markdown",
   "metadata": {},
   "source": [
    "# 10. WAP to input a string and replace all space with new lines (\\n) and print again.\n",
    "\n"
   ]
  },
  {
   "cell_type": "code",
   "execution_count": 22,
   "metadata": {},
   "outputs": [
    {
     "name": "stdout",
     "output_type": "stream",
     "text": [
      "enter a string:Life is Beautiful\n",
      "Life\n",
      "is\n",
      "Beautiful\n",
      "\n",
      "\n",
      "\n",
      "Life\n",
      "is\n",
      "Beautiful\n"
     ]
    }
   ],
   "source": [
    "s = input(\"enter a string:\")\n",
    "x = s.replace(' ',\"\\n\")\n",
    "print(x)\n",
    "\n",
    "print()\n",
    "print()\n",
    "print()\n",
    "\n",
    "#or\n",
    "\n",
    "y = s.split(\" \")\n",
    "z = \"\\n\".join(y)\n",
    "print(z)"
   ]
  },
  {
   "cell_type": "markdown",
   "metadata": {},
   "source": [
    "# 11. WAP to input complete name (first and last name separated by space) and print first and last name \n",
    "separately along with their length in upper case."
   ]
  },
  {
   "cell_type": "code",
   "execution_count": 1,
   "metadata": {},
   "outputs": [
    {
     "name": "stdout",
     "output_type": "stream",
     "text": [
      "Enter First and Last name separated by space:jaijo mannpuram\n",
      "JAIJO 5\n",
      "MANNPURAM 9\n",
      "\n",
      "\n",
      "Enter First and Last name separated by spacejaijo mannpuram\n",
      "JAIJO 5\n",
      "MANNPURAM 9\n"
     ]
    }
   ],
   "source": [
    "s = input('Enter First and Last name separated by space:')\n",
    "x = s.upper()\n",
    "y =(x.split(\" \"))\n",
    "print(y[0],len(y[0]))\n",
    "print(y[1],len(y[1]))\n",
    "\n",
    "print()\n",
    "print()\n",
    "# or\n",
    "fname,lname = input('Enter First and Last name separated by space').split(' ')\n",
    "print(fname.upper(),len(fname))\n",
    "print(lname.upper(),len(lname))\n"
   ]
  },
  {
   "cell_type": "markdown",
   "metadata": {},
   "source": [
    "# 12. WAP to input a string and split it into 2 halves. The string can be of any length"
   ]
  },
  {
   "cell_type": "code",
   "execution_count": 2,
   "metadata": {},
   "outputs": [
    {
     "name": "stdout",
     "output_type": "stream",
     "text": [
      "Enter string:sdfghjk\n",
      "sdf hjk\n"
     ]
    }
   ],
   "source": [
    "s = input('Enter string:')\n",
    "first_half  = s[0:len(s)//2]\n",
    "second_half = s[len(s)//2 if len(s)%2 == 0 else ((len(s)//2)+1):]\n",
    "print (first_half,second_half )"
   ]
  },
  {
   "cell_type": "code",
   "execution_count": 3,
   "metadata": {},
   "outputs": [
    {
     "name": "stdout",
     "output_type": "stream",
     "text": [
      "Enter string:qwer\n",
      "qw er\n"
     ]
    }
   ],
   "source": [
    "s = input('Enter string:')\n",
    "first_half  = s[0:len(s)//2]\n",
    "second_half = s[len(s)//2 if len(s)%2 == 0 else ((len(s)//2)+1):]\n",
    "print (first_half,second_half )"
   ]
  },
  {
   "cell_type": "code",
   "execution_count": null,
   "metadata": {},
   "outputs": [],
   "source": []
  }
 ],
 "metadata": {
  "kernelspec": {
   "display_name": "Python 3",
   "language": "python",
   "name": "python3"
  },
  "language_info": {
   "codemirror_mode": {
    "name": "ipython",
    "version": 3
   },
   "file_extension": ".py",
   "mimetype": "text/x-python",
   "name": "python",
   "nbconvert_exporter": "python",
   "pygments_lexer": "ipython3",
   "version": "3.7.3"
  }
 },
 "nbformat": 4,
 "nbformat_minor": 2
}
