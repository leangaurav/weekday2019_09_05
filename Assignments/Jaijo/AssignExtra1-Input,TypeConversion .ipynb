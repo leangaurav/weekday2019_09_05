{
 "cells": [
  {
   "cell_type": "markdown",
   "metadata": {},
   "source": [
    "1. Input temperature in Fahrenheit in print in Celsius.\n",
    "2. Write a program to input a number and print its square and cube.\n",
    "3. WAP to input a number n and a number m and print the result of following\n",
    "n2 + m2\n",
    "4. WAP to input a numbers M and N and print result of MN. (use both ** and pow)\n",
    "5. Write a simple interest calculator.\n",
    "6. Input Principal, Rate, Time and print Compound Interest and Amount.\n",
    "7. WAP to print sum of first n natural numbers. (n needs to be taken as input).\n",
    "8. WAP to input 2 numbers and swap them. (write using both normal logic with temp variable and\n",
    "also the pythonic way).\n",
    "9. WAP to print ascii value of all white-space characters present in python.\n",
    "10. Input a single character and print its ascii values.\n",
    "11. WAP that takes area of a circle and gives back the radius and circumference.\n",
    "12. We need to input marks in 5 subjects out of 100 and print percentage."
   ]
  },
  {
   "cell_type": "markdown",
   "metadata": {},
   "source": [
    "# 1 Input temperature in Fahrenheit in print in Celsius.F= (9/5 × °C) + 32."
   ]
  },
  {
   "cell_type": "code",
   "execution_count": 2,
   "metadata": {},
   "outputs": [
    {
     "name": "stdout",
     "output_type": "stream",
     "text": [
      "Entered Temperature in Fahrenheit:100\n",
      "37.78  Degree Celsius\n"
     ]
    }
   ],
   "source": [
    "F = float(input(\"Entered Temperature in Fahrenheit:\"))\n",
    "Temp = (F-32)*(5/9)\n",
    "C = round(Temp,2)\n",
    "print(C, \"\", \"Degree Celsius\")"
   ]
  },
  {
   "cell_type": "markdown",
   "metadata": {},
   "source": [
    "# 2 Write a program to input a number and print its square and cube."
   ]
  },
  {
   "cell_type": "code",
   "execution_count": 4,
   "metadata": {},
   "outputs": [
    {
     "name": "stdout",
     "output_type": "stream",
     "text": [
      "Entered Number:2\n",
      "square of Entered value is:    4\n",
      "cube of Entered value is:    8\n"
     ]
    }
   ],
   "source": [
    "x = int(input('Entered Number:' ))\n",
    "y = x**2\n",
    "y1 = x**3\n",
    "print(\"square of Entered value is: \", \" \", y)\n",
    "print(\"cube of Entered value is: \", \" \", y1)"
   ]
  },
  {
   "cell_type": "markdown",
   "metadata": {},
   "source": [
    "# 3 WAP to input a number n and a number m and print the result of following n^2 + m^2"
   ]
  },
  {
   "cell_type": "code",
   "execution_count": 6,
   "metadata": {},
   "outputs": [
    {
     "name": "stdout",
     "output_type": "stream",
     "text": [
      "Entered Number n:50\n",
      "Entered Number m:100\n",
      "12500\n"
     ]
    }
   ],
   "source": [
    "n = int(input('Entered Number n:' ))\n",
    "m = int(input('Entered Number m:' ))\n",
    "x = (n**2 ) + (m**2)\n",
    "print(x)"
   ]
  },
  {
   "cell_type": "markdown",
   "metadata": {},
   "source": [
    "# 4 WAP to input a numbers M and N and print result of M^N. (use both ** and pow)"
   ]
  },
  {
   "cell_type": "code",
   "execution_count": 8,
   "metadata": {},
   "outputs": [
    {
     "name": "stdout",
     "output_type": "stream",
     "text": [
      "Entered Number n:2\n",
      "Entered Number m:3\n",
      "9\n"
     ]
    }
   ],
   "source": [
    "n = int(input('Entered Number n:' ))\n",
    "m = int(input('Entered Number m:' ))\n",
    "x = m**n\n",
    "print(x)"
   ]
  },
  {
   "cell_type": "code",
   "execution_count": 9,
   "metadata": {},
   "outputs": [
    {
     "name": "stdout",
     "output_type": "stream",
     "text": [
      "Entered Number n:3\n",
      "Entered Number m:5\n",
      "125\n"
     ]
    }
   ],
   "source": [
    "n = int(input('Entered Number n:' ))\n",
    "m = int(input('Entered Number m:' ))\n",
    "x = pow(m,n)\n",
    "print(x)"
   ]
  },
  {
   "cell_type": "markdown",
   "metadata": {},
   "source": [
    "# 5 Write a simple interest calculator."
   ]
  },
  {
   "cell_type": "code",
   "execution_count": 11,
   "metadata": {},
   "outputs": [
    {
     "name": "stdout",
     "output_type": "stream",
     "text": [
      "initial principal balance P:8\n",
      "Interest rate r:9\n",
      "number of time periods elapsed t:6\n",
      "4.32\n"
     ]
    }
   ],
   "source": [
    "P = float(input('initial principal balance P:' ))\n",
    "r = float(input('Interest rate r:' ))\n",
    "t = int(input(\"number of time periods elapsed t:\"))\n",
    "SI = (P*r*t)/100\n",
    "print(SI)"
   ]
  },
  {
   "cell_type": "markdown",
   "metadata": {},
   "source": [
    "# 6 Input Principal, Rate, Time and print Compound Interest and Amount."
   ]
  },
  {
   "cell_type": "code",
   "execution_count": 13,
   "metadata": {},
   "outputs": [
    {
     "name": "stdout",
     "output_type": "stream",
     "text": [
      "initial principal balance P:8\n",
      "Interest rate r:9\n",
      "number of times interest applied per time period n:10\n",
      "number of time periods elapsed t:9\n",
      "9.792962077714695e+25\n"
     ]
    }
   ],
   "source": [
    "P = int(input('initial principal balance P:' ))\n",
    "r = int(input('Interest rate r:' ))\n",
    "n = int(input(\"number of times interest applied per time period n:\"))\n",
    "t = int(input(\"number of time periods elapsed t:\"))\n",
    "A = P*(1+(r/n))**(n*t)\n",
    "print(A)"
   ]
  },
  {
   "cell_type": "markdown",
   "metadata": {},
   "source": []
  },
  {
   "cell_type": "markdown",
   "metadata": {},
   "source": [
    "# 7 WAP to print sum of first n natural numbers. (n needs to be taken as input)."
   ]
  },
  {
   "cell_type": "code",
   "execution_count": 15,
   "metadata": {},
   "outputs": [
    {
     "name": "stdout",
     "output_type": "stream",
     "text": [
      "Entered Natural number:4\n",
      "Sum of first  4 Nature numbers  is: 10\n"
     ]
    }
   ],
   "source": [
    "n  =int(input(\"Entered Natural number:\"))\n",
    "i=0\n",
    "for x in range(0,n+1):\n",
    "        i+=x\n",
    "print(\"Sum of first \",n,\"Nature numbers  is:\",i)"
   ]
  },
  {
   "cell_type": "markdown",
   "metadata": {},
   "source": [
    "# 8 WAP to input 2 numbers and swap them. (write using both normal logic with temp variable and also the pythonic way)."
   ]
  },
  {
   "cell_type": "code",
   "execution_count": 17,
   "metadata": {},
   "outputs": [
    {
     "name": "stdout",
     "output_type": "stream",
     "text": [
      "Entered number n:8\n",
      "Entered number m:9\n",
      "n: 9 \n",
      " m 8\n"
     ]
    }
   ],
   "source": [
    "#with temp\n",
    "n = int(input('Entered number n:')) \n",
    "m = int(input('Entered number m:')) \n",
    "temp = m\n",
    "m =n\n",
    "n = temp\n",
    "print(\"n:\",n,\"\\n\",\"m\",m)"
   ]
  },
  {
   "cell_type": "code",
   "execution_count": 18,
   "metadata": {},
   "outputs": [
    {
     "name": "stdout",
     "output_type": "stream",
     "text": [
      "Entered number n:90\n",
      "Entered number m:09\n",
      "n: 9 \n",
      " m 90\n"
     ]
    }
   ],
   "source": [
    "#without temp\n",
    "n  =int(input(\"Entered number n:\"))\n",
    "m  =int(input(\"Entered number m:\"))\n",
    "\n",
    "(m,n)=(n,m)\n",
    "\n",
    "print(\"n:\",n,\"\\n\",\"m\",m)"
   ]
  },
  {
   "cell_type": "markdown",
   "metadata": {},
   "source": [
    "# 9 WAP to print ascii value of all white-space characters present in python"
   ]
  },
  {
   "cell_type": "code",
   "execution_count": 20,
   "metadata": {},
   "outputs": [
    {
     "name": "stdout",
     "output_type": "stream",
     "text": [
      "0123456789abcdefghijklmnopqrstuvwxyzABCDEFGHIJKLMNOPQRSTUVWXYZ!\"#$%&'()*+,-./:;<=>?@[\\]^_`{|}~ \t\n",
      "\r",
      "\u000b",
      "\f",
      "\n",
      "S - 83\n",
      "< - 60\n",
      "  - 32\n",
      "W - 87\n",
      "p - 112\n",
      "< - 60\n",
      "d - 100\n",
      "\\ - 92\n",
      ", - 44\n",
      "r - 114\n",
      "q - 113\n",
      "` - 96\n",
      "K - 75\n",
      "a - 97\n",
      "` - 96\n",
      "s - 115\n",
      "s - 115\n",
      "m - 109\n",
      "l - 108\n",
      "` - 96\n",
      "I - 73\n",
      "\u000b",
      " - 11\n",
      "w - 119\n",
      "Q - 81\n",
      "e - 101\n",
      ") - 41\n",
      "5 - 53\n",
      "l - 108\n",
      "@ - 64\n",
      "X - 88\n",
      "{ - 123\n",
      "w - 119\n",
      "  - 32\n",
      "w - 119\n",
      "C - 67\n",
      "t - 116\n",
      "\n",
      " - 10\n",
      "m - 109\n",
      "( - 40\n",
      "\t - 9\n",
      "q - 113\n",
      "v - 118\n",
      "4 - 52\n",
      "E - 69\n",
      "N - 78\n",
      "a - 97\n",
      "\" - 34\n",
      "k - 107\n",
      "n - 110\n",
      "[ - 91\n",
      "q - 113\n",
      "h - 104\n",
      "W - 87\n",
      "[ - 91\n",
      "E - 69\n",
      "h - 104\n",
      "@ - 64\n",
      "M - 77\n",
      "' - 39\n",
      "Y - 89\n",
      "i - 105\n",
      "% - 37\n",
      "1 - 49\n",
      "$ - 36\n",
      "U - 85\n",
      "< - 60\n",
      "- - 45\n",
      "d - 100\n",
      "` - 96\n",
      "` - 96\n",
      "4 - 52\n",
      "2 - 50\n",
      "A - 65\n",
      "R - 82\n",
      "J - 74\n",
      "B - 66\n",
      "6 - 54\n",
      "H - 72\n",
      "} - 125\n",
      "` - 96\n",
      "y - 121\n",
      "X - 88\n",
      "@ - 64\n",
      "J - 74\n",
      "+ - 43\n",
      "V - 86\n",
      "$ - 36\n",
      "2 - 50\n",
      "R - 82\n",
      "S - 83\n",
      "y - 121\n",
      "\u000b",
      " - 11\n",
      "' - 39\n",
      "b - 98\n",
      "u - 117\n",
      "E - 69\n",
      "Z - 90\n",
      "A - 65\n",
      "< - 60\n",
      "k - 107\n",
      "all ascii values\n"
     ]
    }
   ],
   "source": [
    "#all ascii values\n",
    "import string \n",
    "result= string.printable\n",
    "print(result)\n",
    "\n",
    "import random \n",
    "characters=(string.printable)\n",
    "count=0\n",
    "for i in characters:\n",
    "    character = random.choice(characters)\n",
    "    print(character,\" - \",ord(character),sep=\"\")\n",
    "    count+=1\n",
    "print (\"all ascii values\" )\n"
   ]
  },
  {
   "cell_type": "code",
   "execution_count": 21,
   "metadata": {},
   "outputs": [
    {
     "name": "stdout",
     "output_type": "stream",
     "text": [
      " \t\n",
      "\r",
      "\u000b",
      "\f",
      "\n",
      "[   ] [ 32 ]\n",
      "[ \u000b",
      " ] [ 11 ]\n",
      "[ \n",
      " ] [ 10 ]\n",
      "[   ] [ 32 ]\n",
      "[ \u000b",
      " ] [ 11 ]\n",
      "[ \f",
      " ] [ 12 ]\n",
      "all ascii string whitespace\n"
     ]
    }
   ],
   "source": [
    "# ascii value of all white-space characters present in python\n",
    "import string \n",
    "result= string.whitespace\n",
    "print(result)\n",
    "\n",
    "import random \n",
    "characters=(string.whitespace)\n",
    "count=0\n",
    "for i in characters:\n",
    "    character = random.choice(characters)\n",
    "    print(\"[\",character,\"]\",'[',ord(character),']')\n",
    "    count+=1\n",
    "print (\"all ascii string whitespace\" )"
   ]
  },
  {
   "cell_type": "markdown",
   "metadata": {},
   "source": [
    "# 10 Input a single character and print its ascii values."
   ]
  },
  {
   "cell_type": "code",
   "execution_count": 23,
   "metadata": {},
   "outputs": [
    {
     "name": "stdout",
     "output_type": "stream",
     "text": [
      "enter an Alphabet: a\n",
      "97\n"
     ]
    }
   ],
   "source": [
    "alphabet = input(\"enter an Alphabet: \")\n",
    "import string \n",
    "print(ord(alphabet))"
   ]
  },
  {
   "cell_type": "markdown",
   "metadata": {},
   "source": [
    "# 11 WAP that takes area of a circle and gives back the radius and circumference"
   ]
  },
  {
   "cell_type": "code",
   "execution_count": 25,
   "metadata": {},
   "outputs": [
    {
     "name": "stdout",
     "output_type": "stream",
     "text": [
      "enter area circle: 50\n",
      "Radius of circle : 3.99\n",
      "Circumference of circle: 12.53\n",
      "enter area circle was:  50.0\n"
     ]
    }
   ],
   "source": [
    "import math\n",
    "A = float(input(\"enter area circle: \"))\n",
    "r_square = round(A/3.14,2)\n",
    "r = round((math.sqrt(r_square)),2)\n",
    "print(\"Radius of circle :\", r)\n",
    "print(\"Circumference of circle:\",round((3.14*r),2))\n",
    "print (\"enter area circle was: \",round(((r**2)*3.14),1))"
   ]
  },
  {
   "cell_type": "markdown",
   "metadata": {},
   "source": [
    "# 12 We need to input marks in 5 subjects out of 100 and print percentage."
   ]
  },
  {
   "cell_type": "code",
   "execution_count": 27,
   "metadata": {},
   "outputs": [
    {
     "name": "stdout",
     "output_type": "stream",
     "text": [
      "Entered marks in maths:90\n",
      "Entered marks in phy:85\n",
      "Entered marks in English:78\n",
      "Entered marks in Chem:80\n",
      "Entered marks in bio:80\n",
      "413\n",
      "Percentage obtained: 82.6\n"
     ]
    }
   ],
   "source": [
    "Math = int(input('Entered marks in maths:' ))\n",
    "phy = int(input('Entered marks in phy:' ))\n",
    "English = int(input(\"Entered marks in English:\"))\n",
    "Chemistry = int(input(\"Entered marks in Chem:\"))\n",
    "Bio =int(input(\"Entered marks in bio:\"))\n",
    "Total = (Math +  phy + English + Chemistry + Bio)\n",
    "print(Total)\n",
    "print('Percentage obtained:', Total *100/500)"
   ]
  },
  {
   "cell_type": "code",
   "execution_count": null,
   "metadata": {},
   "outputs": [],
   "source": []
  }
 ],
 "metadata": {
  "kernelspec": {
   "display_name": "Python 3",
   "language": "python",
   "name": "python3"
  },
  "language_info": {
   "codemirror_mode": {
    "name": "ipython",
    "version": 3
   },
   "file_extension": ".py",
   "mimetype": "text/x-python",
   "name": "python",
   "nbconvert_exporter": "python",
   "pygments_lexer": "ipython3",
   "version": "3.7.3"
  }
 },
 "nbformat": 4,
 "nbformat_minor": 2
}
