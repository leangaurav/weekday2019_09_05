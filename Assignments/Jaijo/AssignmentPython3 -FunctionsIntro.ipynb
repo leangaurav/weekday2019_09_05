{
 "cells": [
  {
   "cell_type": "markdown",
   "metadata": {},
   "source": [
    "# 1. WAP to input 2 strings and swap the strings"
   ]
  },
  {
   "cell_type": "code",
   "execution_count": 1,
   "metadata": {},
   "outputs": [
    {
     "name": "stdout",
     "output_type": "stream",
     "text": [
      "Enter a string s1:Jaijo\n",
      "Enter a string s2M\n",
      "s1: M s2: Jaijo\n"
     ]
    }
   ],
   "source": [
    "s1 = input('Enter a string s1:')\n",
    "s2 = input(\"Enter a string s2\")\n",
    "(s1,s2)=(s2,s1)\n",
    "print(\"s1:\",s1,\"s2:\",s2)"
   ]
  },
  {
   "cell_type": "code",
   "execution_count": 2,
   "metadata": {},
   "outputs": [
    {
     "name": "stdout",
     "output_type": "stream",
     "text": [
      "Enter a string s1: Jaijo\n",
      "Enter a string s2 : M\n",
      "s1: M s2: Jaijo\n"
     ]
    }
   ],
   "source": [
    "s1 = input('Enter a string s1: ')\n",
    "s2 = input(\"Enter a string s2 : \")\n",
    "temp = s1\n",
    "s1 = s2 \n",
    "s2 =temp\n",
    "print(\"s1:\",s1,\"s2:\",s2)"
   ]
  },
  {
   "cell_type": "markdown",
   "metadata": {},
   "source": [
    "# 2 .WAP to generate 4 random numbers in the range 0-26 and print their average"
   ]
  },
  {
   "cell_type": "code",
   "execution_count": 3,
   "metadata": {},
   "outputs": [
    {
     "name": "stdout",
     "output_type": "stream",
     "text": [
      "[ 6 19 25 17]\n",
      "average:  16.75\n"
     ]
    }
   ],
   "source": [
    "import numpy as np\n",
    "\n",
    "i=0\n",
    "n = np.random.randint(0,27,4)\n",
    "print(n)\n",
    "for var in n:\n",
    "    i = i + var\n",
    "print(\"average: \" ,i/4)"
   ]
  },
  {
   "cell_type": "markdown",
   "metadata": {},
   "source": [
    "# 3. WAP to generate and print a random uppercase or lowercase alphabet. Try these:\n",
    "\n",
    "• Create a string containing all alphabets and then select a random alphabet.\n",
    "\n",
    "• Check the module string"
   ]
  },
  {
   "cell_type": "code",
   "execution_count": 4,
   "metadata": {},
   "outputs": [
    {
     "name": "stdout",
     "output_type": "stream",
     "text": [
      "['Formatter', 'Template', '_ChainMap', '_TemplateMetaclass', '__all__', '__builtins__', '__cached__', '__doc__', '__file__', '__loader__', '__name__', '__package__', '__spec__', '_re', '_string', 'ascii_letters', 'ascii_lowercase', 'ascii_uppercase', 'capwords', 'digits', 'hexdigits', 'octdigits', 'printable', 'punctuation', 'whitespace']\n",
      "\n",
      "\n",
      "['ascii_letters', 'ascii_lowercase', 'ascii_uppercase', 'capwords', 'digits', 'hexdigits', 'octdigits', 'printable', 'punctuation', 'whitespace', 'Formatter', 'Template']\n",
      "\n",
      "\n",
      "abcdefghijklmnopqrstuvwxyz\n",
      "\n",
      "\n",
      "ABCDEFGHIJKLMNOPQRSTUVWXYZ\n",
      "\n",
      "\n",
      "abcdefghijklmnopqrstuvwxyzABCDEFGHIJKLMNOPQRSTUVWXYZ\n",
      "d\n",
      "T\n"
     ]
    }
   ],
   "source": [
    "import string \n",
    "import random\n",
    "print(dir(string))\n",
    "print()\n",
    "print()\n",
    "s = (string.__all__)\n",
    "print(s)\n",
    "\n",
    "print()\n",
    "print()\n",
    "s1 = string.ascii_lowercase\n",
    "print(s1)\n",
    "\n",
    "\n",
    "print()\n",
    "print()\n",
    "s2 = string.ascii_uppercase\n",
    "print(s2)\n",
    "\n",
    "\n",
    "print()\n",
    "print()\n",
    "s3 = string.ascii_letters\n",
    "print(s3)\n",
    "\n",
    "s4 = random.choice(s1)\n",
    "s5 = random.choice(s2)\n",
    "print(s4)\n",
    "print(s5)\n"
   ]
  },
  {
   "cell_type": "markdown",
   "metadata": {},
   "source": [
    "# 4. WAF get_si() that takes Principle, Rate and Time as arguments and returns the Simple Interest."
   ]
  },
  {
   "cell_type": "code",
   "execution_count": 5,
   "metadata": {},
   "outputs": [
    {
     "name": "stdout",
     "output_type": "stream",
     "text": [
      "initial principal balance P:10000\n",
      "Interest rate r:0.05\n",
      "number of time periods elapsed t:1\n",
      "5.0\n"
     ]
    }
   ],
   "source": [
    "def get_si():\n",
    "    P= int(input('initial principal balance P:' ))\n",
    "    r = float(input('Interest rate r:' ))\n",
    "    t = int(input(\"number of time periods elapsed t:\"))\n",
    "    SI = (P*r*t)/100\n",
    "    print(SI)\n",
    "get_si()"
   ]
  },
  {
   "cell_type": "code",
   "execution_count": 6,
   "metadata": {},
   "outputs": [
    {
     "data": {
      "text/plain": [
       "5.0"
      ]
     },
     "execution_count": 6,
     "metadata": {},
     "output_type": "execute_result"
    }
   ],
   "source": [
    "def get_si(P,r,t):\n",
    "    SI = (P*r*t)/100\n",
    "    return(SI)\n",
    "get_si(10000,0.05,1)"
   ]
  },
  {
   "cell_type": "markdown",
   "metadata": {},
   "source": [
    "# 5. WAF get_amount() that takes Principle, Rate and Time as arguments and returns the Total amount using the get_si() function from above to calculate the SI.\n",
    "Also provide Rate = 10 and Time = 1 as default arguments."
   ]
  },
  {
   "cell_type": "code",
   "execution_count": 7,
   "metadata": {},
   "outputs": [
    {
     "name": "stdout",
     "output_type": "stream",
     "text": [
      "initial principal Amount P:10000\n",
      "simple interest % :  10.0\n",
      "to pay  in interest for every year the loan is outstanding: 1000.0\n"
     ]
    },
    {
     "data": {
      "text/plain": [
       "11000.0"
      ]
     },
     "execution_count": 7,
     "metadata": {},
     "output_type": "execute_result"
    }
   ],
   "source": [
    "def get_si(P,r,t):\n",
    "    SI = (P*r*t)/100\n",
    "    return(SI)\n",
    "\n",
    "def get_amount(SI_1,r,t):\n",
    "        x= (SI_1)*(P/100)\n",
    "        print(\"simple interest % : \",SI_1 )\n",
    "        print(\"to pay  in interest for every year the loan is outstanding:\", x)\n",
    "        Total = (P + (t*x))\n",
    "        \n",
    "        return Total\n",
    "P= int(input('initial principal Amount P:' ))\n",
    "SI_1 =get_si(P,0.10,1)\n",
    "SI_1\n",
    "\n",
    "get_amount(SI_1,0.10,1)"
   ]
  },
  {
   "cell_type": "markdown",
   "metadata": {},
   "source": [
    "# 6. WAP get_ci() that takes Principle, Rate and Time as arguments and returns the Compound Interest."
   ]
  },
  {
   "cell_type": "code",
   "execution_count": 8,
   "metadata": {},
   "outputs": [
    {
     "name": "stdout",
     "output_type": "stream",
     "text": [
      "amount is :  12100.0\n"
     ]
    },
    {
     "data": {
      "text/plain": [
       "2100"
      ]
     },
     "execution_count": 8,
     "metadata": {},
     "output_type": "execute_result"
    }
   ],
   "source": [
    "def get_ci(P,r,t):\n",
    "    x = (1+(r/100)) \n",
    "    y= round((x**t),2)\n",
    "    CI = P*(y-1)\n",
    "    print (\"amount is : \",P*y )\n",
    "    return round(CI)\n",
    "\n",
    "get_ci(10000,10,2)"
   ]
  },
  {
   "cell_type": "markdown",
   "metadata": {},
   "source": [
    "# 7.  WAP get_q_r() taking 2 numbers as parameters and returns the quotient and remainder in the form of a tuple."
   ]
  },
  {
   "cell_type": "code",
   "execution_count": 9,
   "metadata": {},
   "outputs": [
    {
     "name": "stdout",
     "output_type": "stream",
     "text": [
      "<class 'tuple'>\n"
     ]
    },
    {
     "data": {
      "text/plain": [
       "(0, 4.0)"
      ]
     },
     "execution_count": 9,
     "metadata": {},
     "output_type": "execute_result"
    }
   ],
   "source": [
    "def get_q_r(dividen,divisor):\n",
    "    (remainder,quotient) = (dividen%divisor,dividen/divisor)\n",
    "    x= (remainder,quotient)\n",
    "    print(type(x))\n",
    "    return(x)\n",
    "get_q_r(12,3)"
   ]
  },
  {
   "cell_type": "markdown",
   "metadata": {},
   "source": [
    "# 8. WAP to find the length of hypotenuse of a right angled triangle, input the height and base from user."
   ]
  },
  {
   "cell_type": "code",
   "execution_count": 10,
   "metadata": {},
   "outputs": [
    {
     "name": "stdout",
     "output_type": "stream",
     "text": [
      "Enter Height of RAT: 25\n",
      "Enter Base of RAT: 30\n",
      "39.05124837953327\n"
     ]
    }
   ],
   "source": [
    "import math\n",
    "H = float(input(\"Enter Height of RAT: \"))\n",
    "B = float(input(\"Enter Base of RAT: \"))\n",
    "HYP= math.sqrt((H**2)+(B**2))\n",
    "print(HYP)"
   ]
  },
  {
   "cell_type": "markdown",
   "metadata": {},
   "source": [
    "# 9. WAP to input number of seconds and print in days, hours, minutes and seconds ex: input = 10000\n",
    "Output = 0 day 2 hour 46 minute 40 second"
   ]
  },
  {
   "cell_type": "code",
   "execution_count": 11,
   "metadata": {},
   "outputs": [
    {
     "name": "stdout",
     "output_type": "stream",
     "text": [
      "enter in seconds: 10000\n",
      "0 days  2 hours   46 minutes  40 seconds\n"
     ]
    }
   ],
   "source": [
    "sec = int(input(\"enter in seconds: \"))\n",
    "days =  (sec//(3600*24))\n",
    "hours = ((sec%(3600*24))//3600)\n",
    "minutes = (((sec%(3600*24))%3600)//60)\n",
    "seconds = (((sec%(3600*24))%3600)%60)\n",
    "print(days,\"days \",hours,\"hours  \",minutes,\"minutes \",seconds,\"seconds\")"
   ]
  },
  {
   "cell_type": "markdown",
   "metadata": {},
   "source": [
    "# 10. Check your version of python interpreter without opening the interpreter (Which command needs to be used on the command line)."
   ]
  },
  {
   "cell_type": "code",
   "execution_count": 12,
   "metadata": {},
   "outputs": [
    {
     "data": {
      "text/plain": [
       "'3.7.3 (default, Apr 24 2019, 15:29:51) [MSC v.1915 64 bit (AMD64)]'"
      ]
     },
     "execution_count": 12,
     "metadata": {},
     "output_type": "execute_result"
    }
   ],
   "source": [
    "import sys\n",
    "sys.version"
   ]
  },
  {
   "attachments": {
    "image.png": {
     "image/png": "[encoded data removed]"
    }
   },
   "cell_type": "markdown",
   "metadata": {},
   "source": [
    "\n",
    "# 11. Find output:\n",
    "    \n",
    " ![image.png](attachment:image.png)"
   ]
  },
  {
   "cell_type": "code",
   "execution_count": 13,
   "metadata": {},
   "outputs": [
    {
     "name": "stdout",
     "output_type": "stream",
     "text": [
      "2 -2\n"
     ]
    }
   ],
   "source": [
    "x = 2\n",
    "x*=3\n",
    "x= x%4\n",
    "y = -x\n",
    "print(x,y)"
   ]
  },
  {
   "attachments": {
    "image.png": {
     "image/png": "[encoded data removed]"
    }
   },
   "cell_type": "markdown",
   "metadata": {},
   "source": [
    "# 12. Find output:\n",
    "![image.png](attachment:image.png)"
   ]
  },
  {
   "cell_type": "code",
   "execution_count": 14,
   "metadata": {},
   "outputs": [
    {
     "name": "stdout",
     "output_type": "stream",
     "text": [
      "None\n"
     ]
    }
   ],
   "source": [
    "def funct():\n",
    "    pass\n",
    "\n",
    "print(funct())"
   ]
  },
  {
   "cell_type": "markdown",
   "metadata": {},
   "source": [
    "# 13. Read and complete till Part-3: (Part-4 After OOPs)\n",
    "https://medium.com/the-python-diary/getting-around-complex-numbers-77308982178d"
   ]
  },
  {
   "cell_type": "code",
   "execution_count": null,
   "metadata": {},
   "outputs": [],
   "source": []
  }
 ],
 "metadata": {
  "kernelspec": {
   "display_name": "Python 3",
   "language": "python",
   "name": "python3"
  },
  "language_info": {
   "codemirror_mode": {
    "name": "ipython",
    "version": 3
   },
   "file_extension": ".py",
   "mimetype": "text/x-python",
   "name": "python",
   "nbconvert_exporter": "python",
   "pygments_lexer": "ipython3",
   "version": "3.7.3"
  }
 },
 "nbformat": 4,
 "nbformat_minor": 2
}
