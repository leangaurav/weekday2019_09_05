{
 "cells": [
  {
   "cell_type": "markdown",
   "metadata": {},
   "source": [
    "# AssignmentPython7Dict- If-else, loops "
   ]
  },
  {
   "cell_type": "markdown",
   "metadata": {},
   "source": [
    "# WAP to create a dictionary of numbers mapped to their negative value for numbers from 1-5.\n",
    "- The dictionary should contain something like this:\n",
    "- Do with both with and without range based for loop.\n",
    "- {1:-1,2:-2,3:-3….}"
   ]
  },
  {
   "cell_type": "code",
   "execution_count": 8,
   "metadata": {},
   "outputs": [
    {
     "name": "stdout",
     "output_type": "stream",
     "text": [
      "Without for loop: {1: -1, 2: -2, 3: -3, 4: -4, 5: -5}\n",
      "Usingfor loop   : {1: -1, 2: -2, 3: -3, 4: -4, 5: -5}\n"
     ]
    }
   ],
   "source": [
    "without = {1:-1,2:-2,3:-3,4:-4,5:-5}\n",
    "print(\"Without for loop:\",without)\n",
    "\n",
    "withfor = {}\n",
    "for i in range(1,6):\n",
    "    withfor[i]=withfor.get(i,-i)\n",
    "print(\"Usingfor loop   :\",withfor)"
   ]
  },
  {
   "cell_type": "markdown",
   "metadata": {},
   "source": [
    "# Check which of the following declarations will work"
   ]
  },
  {
   "cell_type": "code",
   "execution_count": 11,
   "metadata": {},
   "outputs": [],
   "source": [
    "#d = {1=2,2=3}\n",
    "#d = {1:2,2:3}\n",
    "#d = {1,2;2,3}\n",
    "#d = {(1,2),(2,3)}\n",
    "#d = {'a':'A', 'b':1,c:[1234]}\n",
    "#d = {'a':'A', 'b':1,'c':[1234]}\n",
    "#d= dict([(1,2),(2,3)])\n",
    "#d= dict(((1,2),(2,3)))\n",
    "#d= dict(((1,2),(2,3)])\n",
    "#d= dict(x=2,y=3)\n",
    "#d= dict('x'=2,'y'=3)\n",
    "#d= dict(1=2,2=3)    "
   ]
  },
  {
   "cell_type": "markdown",
   "metadata": {},
   "source": [
    "# Read help for zip and write a program that has two lists\n",
    "- l1 = [1,2,3,4]\n",
    "- l2 = [10,20,30,40]\n",
    "- And converts them to a dictionary d containing { 1:10,2:20 …….}"
   ]
  },
  {
   "cell_type": "code",
   "execution_count": 19,
   "metadata": {},
   "outputs": [
    {
     "name": "stdout",
     "output_type": "stream",
     "text": [
      "{1: 10, 2: 20, 3: 30, 4: 40}\n"
     ]
    }
   ],
   "source": [
    "#help(zip)\n",
    "l1 = [1,2,3,4]\n",
    "l2 = [10,20,30,40]\n",
    "d = dict(zip(l1,l2))\n",
    "print(d)"
   ]
  },
  {
   "cell_type": "markdown",
   "metadata": {},
   "source": [
    "# Use range based for loop to store all upper case alphabets and their corresponding ASCII values in the dictionary d. The result should be d = {‘A’: 65, ‘B’:66,…..}"
   ]
  },
  {
   "cell_type": "code",
   "execution_count": 33,
   "metadata": {},
   "outputs": [
    {
     "name": "stdout",
     "output_type": "stream",
     "text": [
      "{'A': 65, 'B': 66, 'C': 67, 'D': 68, 'E': 69, 'F': 70, 'G': 71, 'H': 72, 'I': 73, 'J': 74, 'K': 75, 'L': 76, 'M': 77, 'N': 78, 'O': 79, 'P': 80, 'Q': 81, 'R': 82, 'S': 83, 'T': 84, 'U': 85, 'V': 86, 'W': 87, 'X': 88, 'Y': 89, 'Z': 90}\n"
     ]
    }
   ],
   "source": [
    "atoz = 'ABCDEFGHIJKLMNOPQRSTUVWXYZ'\n",
    "d ={}\n",
    "for i in atoz:\n",
    "    d[i] = d.get(i,ord(i))\n",
    "print(d)    "
   ]
  },
  {
   "cell_type": "markdown",
   "metadata": {},
   "source": [
    "## Other Solution using Range"
   ]
  },
  {
   "cell_type": "code",
   "execution_count": 38,
   "metadata": {},
   "outputs": [
    {
     "name": "stdout",
     "output_type": "stream",
     "text": [
      "{'A': 65, 'B': 66, 'C': 67, 'D': 68, 'E': 69, 'F': 70, 'G': 71, 'H': 72, 'I': 73, 'J': 74, 'K': 75, 'L': 76, 'M': 77, 'N': 78, 'O': 79, 'P': 80, 'Q': 81, 'R': 82, 'S': 83, 'T': 84, 'U': 85, 'V': 86, 'W': 87, 'X': 88, 'Y': 89, 'Z': 90}\n"
     ]
    }
   ],
   "source": [
    "d ={}\n",
    "for i in range(65,91):\n",
    "    d[str(chr(i))] = d.get(i,i)\n",
    "print(d)    "
   ]
  },
  {
   "cell_type": "markdown",
   "metadata": {},
   "source": [
    "# Create a mapping of number to word from 0-9. (0:’zero’……)\n",
    "- Ask user for a single digit number and print the corresponding word format.\n",
    "- Print all keys of above dictionary\n",
    "- Print all Values of a dictionary\n",
    "- Print all Key and Value pairs of above dictionary"
   ]
  },
  {
   "cell_type": "code",
   "execution_count": 56,
   "metadata": {},
   "outputs": [
    {
     "name": "stdout",
     "output_type": "stream",
     "text": [
      "Enter the digit : 4\n",
      "4   four\n",
      "\n",
      "Keys are:  dict_keys([0, 1, 2, 3, 4, 5, 6, 7, 8, 9])\n",
      "\n",
      "Values are:  dict_values(['zero', 'one', 'two', 'three', 'four', 'five', 'six', 'seven', 'eight', 'nine'])\n",
      "\n",
      "All Key and Value pairs of above dictionary\n",
      " {0: 'zero', 1: 'one', 2: 'two', 3: 'three', 4: 'four', 5: 'five', 6: 'six', 7: 'seven', 8: 'eight', 9: 'nine'}\n"
     ]
    }
   ],
   "source": [
    "words =['zero','one','two','three','four','five','six','seven','eight','nine' ]\n",
    "mapp = {}\n",
    "for i in range(0,10):\n",
    "    mapp[i]=mapp.get(i,words[i])\n",
    "\n",
    "digit = int(input(\"Enter the digit : \"))\n",
    "print(digit,\" \",mapp[digit])\n",
    "print(\"\\nKeys are: \",mapp.keys())\n",
    "print(\"\\nValues are: \" ,mapp.values())\n",
    "print(\"\\nAll Key and Value pairs of above dictionary\\n\",mapp)"
   ]
  },
  {
   "cell_type": "markdown",
   "metadata": {},
   "source": [
    "# Predict Output of:"
   ]
  },
  {
   "cell_type": "code",
   "execution_count": 66,
   "metadata": {},
   "outputs": [
    {
     "name": "stdout",
     "output_type": "stream",
     "text": [
      "{'A': 'Apple', 'B': 'Ball', 'C': 'Cat', 'D': 'Dog'}\n",
      "{'A': 'Apple', 'C': 'Cat'}\n"
     ]
    }
   ],
   "source": [
    "l1 = ['A','B','C','D']\n",
    "l2= ['Apple','Ball','Cat','Dog']\n",
    "d1 = dict(zip(l1,l2))\n",
    "print(d1)\n",
    "d2 = dict(list(d1.items())[::2])\n",
    "print(d2)"
   ]
  },
  {
   "cell_type": "markdown",
   "metadata": {},
   "source": [
    "# WAP to input a string and count occurrence of each vowel in a string.Ex: if user enters:\n",
    "- “Beautiful Day”\n",
    "# Output should Be:\n",
    "- a:2\n",
    "- e:1\n",
    "- I :1\n",
    "- o:0\n",
    "- u:2"
   ]
  },
  {
   "cell_type": "code",
   "execution_count": 20,
   "metadata": {},
   "outputs": [
    {
     "name": "stdout",
     "output_type": "stream",
     "text": [
      "Enter the string :Beautiful day\n",
      "e : 1\n",
      "a : 2\n",
      "u : 2\n",
      "i : 1\n"
     ]
    }
   ],
   "source": [
    "string1 = input(\"Enter the string :\")\n",
    "string1 = string1.lower()\n",
    "vowel ='aeiou'\n",
    "d = {}\n",
    "for i in string1:\n",
    "    if i in vowel:\n",
    "        d[i]=d.get(i,0)+1\n",
    "        \n",
    "for i in d:\n",
    "    print(i,\":\",d[i])"
   ]
  },
  {
   "cell_type": "markdown",
   "metadata": {},
   "source": [
    "# Update above program to print frequency of each alphabet present in string.\n"
   ]
  },
  {
   "cell_type": "code",
   "execution_count": 32,
   "metadata": {},
   "outputs": [
    {
     "name": "stdout",
     "output_type": "stream",
     "text": [
      "Enter the string :HelloWorld\n",
      "h : 1\n",
      "e : 1\n",
      "l : 3\n",
      "o : 2\n",
      "w : 1\n",
      "r : 1\n",
      "d : 1\n"
     ]
    }
   ],
   "source": [
    "string1 = input(\"Enter the string :\")\n",
    "string1 = string1.lower()\n",
    "d = {}\n",
    "for i in string1:\n",
    "    d[i]=d.get(i,0)+1\n",
    "        \n",
    "for i in d:\n",
    "    print(i,\":\",d[i])"
   ]
  },
  {
   "cell_type": "markdown",
   "metadata": {},
   "source": [
    "# WAP that takes a string as input and prints frequency of each word.Ex: if input is “count the words in the sentence in”\n",
    "# Output:\n",
    "- count: 1\n",
    "- the: 2\n",
    "- words: 1\n",
    "- in: 2\n",
    "- sentence: 1"
   ]
  },
  {
   "cell_type": "code",
   "execution_count": 9,
   "metadata": {},
   "outputs": [
    {
     "name": "stdout",
     "output_type": "stream",
     "text": [
      "Enter the string :count the words in the sentence in\n",
      "count : 1\n",
      "the : 2\n",
      "words : 1\n",
      "in : 2\n",
      "sentence : 1\n"
     ]
    }
   ],
   "source": [
    "string2 = input(\"Enter the string :\").split()\n",
    "d1 = {}\n",
    "for j in string2:\n",
    "    d1[j]=d1.get(j,0)+1\n",
    "        \n",
    "for k in d1:\n",
    "    print(k,\":\",d1[k])"
   ]
  },
  {
   "cell_type": "code",
   "execution_count": null,
   "metadata": {},
   "outputs": [],
   "source": []
  },
  {
   "cell_type": "code",
   "execution_count": null,
   "metadata": {},
   "outputs": [],
   "source": []
  },
  {
   "cell_type": "code",
   "execution_count": null,
   "metadata": {},
   "outputs": [],
   "source": []
  },
  {
   "cell_type": "code",
   "execution_count": null,
   "metadata": {},
   "outputs": [],
   "source": []
  },
  {
   "cell_type": "code",
   "execution_count": null,
   "metadata": {},
   "outputs": [],
   "source": []
  },
  {
   "cell_type": "code",
   "execution_count": null,
   "metadata": {},
   "outputs": [],
   "source": []
  }
 ],
 "metadata": {
  "kernelspec": {
   "display_name": "Python 3",
   "language": "python",
   "name": "python3"
  },
  "language_info": {
   "codemirror_mode": {
    "name": "ipython",
    "version": 3
   },
   "file_extension": ".py",
   "mimetype": "text/x-python",
   "name": "python",
   "nbconvert_exporter": "python",
   "pygments_lexer": "ipython3",
   "version": "3.7.3"
  }
 },
 "nbformat": 4,
 "nbformat_minor": 2
}
