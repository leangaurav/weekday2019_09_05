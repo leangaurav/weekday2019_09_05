{
 "cells": [
  {
   "cell_type": "markdown",
   "metadata": {},
   "source": [
    "### From Assignment 6 start"
   ]
  },
  {
   "cell_type": "markdown",
   "metadata": {},
   "source": [
    "# WAP to input 2 numbers and check whether the first is divisible by the second and print true or false depending on the divisibility."
   ]
  },
  {
   "cell_type": "code",
   "execution_count": 5,
   "metadata": {},
   "outputs": [
    {
     "name": "stdout",
     "output_type": "stream",
     "text": [
      "Enter the numbers :4\n",
      "Enter the numbers :2\n",
      "True\n"
     ]
    }
   ],
   "source": [
    "# WAP to input 2 numbers and check whether the first is divisible by the second and print true or false depending on \n",
    "# the divisibility.\n",
    "x = int(input(\"Enter the numbers :\"))\n",
    "y = int(input(\"Enter the numbers :\"))\n",
    "if x%y==0:\n",
    "    print('True')\n",
    "else:\n",
    "    print('False')"
   ]
  },
  {
   "cell_type": "markdown",
   "metadata": {},
   "source": [
    "# In the palindrome example, make the code case insensitive. i.e. Naman should also be treated as a palindrome (HINT: first convert to either upper or lower case)."
   ]
  },
  {
   "cell_type": "code",
   "execution_count": 8,
   "metadata": {},
   "outputs": [
    {
     "name": "stdout",
     "output_type": "stream",
     "text": [
      "Enter the String to check Palindrome :naman\n",
      "Palindrome\n"
     ]
    }
   ],
   "source": [
    "s = input(\"Enter the String to check Palindrome :\")\n",
    "s = s.lower()\n",
    "if s==s[::-1]:\n",
    "    print(\"Palindrome\")\n",
    "else:\n",
    "    print(\"Not Palindrome\")"
   ]
  },
  {
   "cell_type": "markdown",
   "metadata": {},
   "source": [
    "# WAP to input the sides of a triangle and print whether equilateral(all sides equal), isosceles (2 sides equal), or scalene (no sides equal)."
   ]
  },
  {
   "cell_type": "code",
   "execution_count": 14,
   "metadata": {},
   "outputs": [
    {
     "name": "stdout",
     "output_type": "stream",
     "text": [
      "Enter the P :2\n",
      "Enter the Q :3\n",
      "Enter the R :3\n",
      "isosceles\n"
     ]
    }
   ],
   "source": [
    "p = int(input(\"Enter the P :\"))\n",
    "q = int(input(\"Enter the Q :\"))\n",
    "r = int(input(\"Enter the R :\"))\n",
    "if (p == r) and (p == q) and (q == r):\n",
    "    print(\"equilateral\")\n",
    "elif (p == r) or (p == q) or (q == r):\n",
    "    print(\"isosceles\")\n",
    "else:\n",
    "    print(\"scalene\")    "
   ]
  },
  {
   "cell_type": "markdown",
   "metadata": {},
   "source": [
    "# WAP to input a number and print if it is even or odd."
   ]
  },
  {
   "cell_type": "code",
   "execution_count": 23,
   "metadata": {},
   "outputs": [
    {
     "name": "stdout",
     "output_type": "stream",
     "text": [
      "Enter the number :444\n",
      "Even\n"
     ]
    }
   ],
   "source": [
    "n = int(input(\"Enter the number :\"))\n",
    "if n%2:\n",
    "    print(\"Odd\")\n",
    "else:\n",
    "    print(\"Even\")"
   ]
  },
  {
   "cell_type": "markdown",
   "metadata": {},
   "source": [
    "# WAP to input age and print the respective text depending on the age ranges as present in the table.\n",
    "Age Text to be displayed\n",
    "- 0-12 Child\n",
    "- 13-17 Teen\n",
    "- 18-50 Adult\n",
    "- 51-100 Senior Citizen\n",
    "- age > 100 Contratulations'''\n"
   ]
  },
  {
   "cell_type": "code",
   "execution_count": 25,
   "metadata": {},
   "outputs": [
    {
     "name": "stdout",
     "output_type": "stream",
     "text": [
      "Enter the age :18\n",
      "Adult\n"
     ]
    }
   ],
   "source": [
    "age = int(input(\"Enter the age :\"))\n",
    "if age>0 and age<=12:\n",
    "    print(\"Child\")\n",
    "elif age>12 and age<=17:\n",
    "    print(\"Teen\")\n",
    "elif age>17 and age<=50:\n",
    "    print(\"Adult\")\n",
    "elif age>50 and age<=100:\n",
    "    print(\"Senior\")\n",
    "else:\n",
    "    print(\"Contratulations\")"
   ]
  },
  {
   "cell_type": "markdown",
   "metadata": {},
   "source": [
    "### WAP to input year (check if user enters valid year. Should be 4-digit number and should not be negative) and print whether leap year or not. (If really interested in why you also have to check the divisibility by 400 just google the exact time it takes for the earth to revolve around the sub)"
   ]
  },
  {
   "cell_type": "code",
   "execution_count": 48,
   "metadata": {},
   "outputs": [
    {
     "name": "stdout",
     "output_type": "stream",
     "text": [
      "Enter the year :2333\n",
      "W\n",
      "Not a leap year\n"
     ]
    }
   ],
   "source": [
    "year = input(\"Enter the year :\")\n",
    "if ((year.isdigit()==True) and (len(year)==4) and (int(year)>0)):\n",
    "    year = int(year)\n",
    "    if(year%4 == 0):\n",
    "        if( year%100 == 0):\n",
    "            if ( year%400 == 0):\n",
    "                print(\"Leap year\")\n",
    "            else:\n",
    "                print(\"Not a leap year\")\n",
    "        else:\n",
    "            print(\"leap year\");\n",
    "    else:\n",
    "        print(\"Not a leap year\")\n",
    "else:\n",
    "    print(\"Enter Valid Year Please\")\n",
    "        "
   ]
  },
  {
   "cell_type": "markdown",
   "metadata": {},
   "source": [
    "### WAP to input a string and convert it to Upper Case if number of characters is odd and convert to lower case otherwise"
   ]
  },
  {
   "cell_type": "code",
   "execution_count": 52,
   "metadata": {},
   "outputs": [
    {
     "name": "stdout",
     "output_type": "stream",
     "text": [
      "Enter the string :Samarpit \n",
      "SAMARPIT \n"
     ]
    }
   ],
   "source": [
    "stringg = input(\"Enter the string :\")\n",
    "if len(stringg)%2:\n",
    "    print(stringg.upper())\n",
    "else:\n",
    "    print(stringg.lower())"
   ]
  },
  {
   "cell_type": "markdown",
   "metadata": {},
   "source": [
    "### WAP to input a string and print Veg if the string doesn’t contain the word egg. Otherwise print Non-Veg. As usual eggs can be both big and small."
   ]
  },
  {
   "cell_type": "code",
   "execution_count": 73,
   "metadata": {},
   "outputs": [
    {
     "name": "stdout",
     "output_type": "stream",
     "text": [
      "Enter the string :no\n",
      "Veg\n"
     ]
    }
   ],
   "source": [
    "n_egg = input(\"Enter the string :\")\n",
    "n_egg = n_egg.lower()\n",
    "if 'egg' in n_egg:\n",
    "    print(\"Non Veg\")\n",
    "else:\n",
    "    print(\"Veg\")"
   ]
  },
  {
   "cell_type": "markdown",
   "metadata": {},
   "source": [
    "###  Give output of:"
   ]
  },
  {
   "cell_type": "code",
   "execution_count": 77,
   "metadata": {},
   "outputs": [
    {
     "name": "stdout",
     "output_type": "stream",
     "text": [
      "True\n"
     ]
    }
   ],
   "source": [
    "if not 1:\n",
    "    print(\"False\")\n",
    "else:\n",
    "    print(\"True\")    "
   ]
  },
  {
   "cell_type": "code",
   "execution_count": 76,
   "metadata": {},
   "outputs": [
    {
     "name": "stdout",
     "output_type": "stream",
     "text": [
      "False\n"
     ]
    }
   ],
   "source": [
    "if not 1:\n",
    "    print(\"True\")\n",
    "else:\n",
    "    print(\"False\")    "
   ]
  },
  {
   "cell_type": "code",
   "execution_count": 78,
   "metadata": {},
   "outputs": [
    {
     "name": "stdout",
     "output_type": "stream",
     "text": [
      "Weird\n"
     ]
    }
   ],
   "source": [
    "if 'a'>'A':\n",
    "    print(\"Weird\")\n",
    "else:\n",
    "    print(\"Makes Senese\")"
   ]
  },
  {
   "cell_type": "code",
   "execution_count": 85,
   "metadata": {},
   "outputs": [
    {
     "name": "stdout",
     "output_type": "stream",
     "text": [
      "[4, 3, 2, 1]\n"
     ]
    }
   ],
   "source": [
    "a = [1,2,3,4]\n",
    "if 1>1:\n",
    "    a=a[::-1]\n",
    "else:\n",
    "    a=a[-1::-1]\n",
    "print(a)"
   ]
  },
  {
   "cell_type": "markdown",
   "metadata": {},
   "source": [
    "### WAP to input marks in 5 subjects and print the grade as per following logic:\n",
    "- % between 90-100 Grade-A\n",
    "- % between 80 - 89 Grade-B\n",
    "- % between 60 - 79 Grade-C\n",
    "- % < 60 Grade-F"
   ]
  },
  {
   "cell_type": "code",
   "execution_count": 87,
   "metadata": {},
   "outputs": [
    {
     "name": "stdout",
     "output_type": "stream",
     "text": [
      "Enter the s1 :32\n",
      "Enter the s2 :44\n",
      "Enter the s3 :67\n",
      "Enter the s4 :99\n",
      "Enter the s5 :98\n",
      "Grade C\n"
     ]
    }
   ],
   "source": [
    "s1 = int(input(\"Enter the s1 :\"))\n",
    "s2 = int(input(\"Enter the s2 :\"))\n",
    "s3 = int(input(\"Enter the s3 :\"))\n",
    "s4 = int(input(\"Enter the s4 :\"))\n",
    "s5 = int(input(\"Enter the s5 :\"))\n",
    "total_marks = 500\n",
    "total_marks_obtained = s1+s2+s3+s4+s5\n",
    "perc = ((total_marks_obtained)/(total_marks))*100\n",
    "if ((perc>=90) and (perc<=1000)):\n",
    "    print(\"Grade A\")\n",
    "elif ((perc>=80) and (perc<=89)):\n",
    "    print(\"Grade B\")\n",
    "elif ((perc>=60) and (perc<=79)):\n",
    "    print(\"Grade C\")\n",
    "else:\n",
    "    print(\"Grade F\")    "
   ]
  },
  {
   "cell_type": "markdown",
   "metadata": {},
   "source": [
    "### WAP to input age and salary and calculate Tax as per tax rates if following table:\n",
    "-  Salary Range                  Age < 60        Age >= 60\n",
    "-  0 - 2,50,000                     0             0\n",
    "-  2,50,001 - 5,00,000              5%            3%\n",
    "-  5,00,001 -  10,00,000            10%           8%\n",
    "-  Salary >   10,00,001             15%           12%"
   ]
  },
  {
   "cell_type": "code",
   "execution_count": 98,
   "metadata": {},
   "outputs": [
    {
     "name": "stdout",
     "output_type": "stream",
     "text": [
      "Enter the salary :5000000\n",
      "Enter the age :45\n",
      "Tax : 15%\n"
     ]
    }
   ],
   "source": [
    "sal = int(input(\"Enter the salary :\"))\n",
    "ag = int(input(\"Enter the age :\"))\n",
    "if ((sal>0) and (sal <250000)) and ((ag>60) or (ag<60)):\n",
    "    print(\"Tax : 0%\")\n",
    "elif ((sal<500000) and (sal>250000)) and ((ag>=60)):\n",
    "    print(\"Tax : 3%\")\n",
    "elif ((sal<500000) and (sal >250000)) and ((ag<60)):\n",
    "    print(\"Tax : 5%\")\n",
    "elif ((sal<1000000) and (sal>500001)) and ((ag>=60)):\n",
    "    print(\"Tax : 8%\")\n",
    "elif ((sal<1000000) and (sal >500001)) and ((ag<60)):\n",
    "    print(\"Tax : 10%\")\n",
    "elif ((sal>1000000) and (ag<60)):\n",
    "    print(\"Tax : 15%\")\n",
    "else:\n",
    "    print(\"Tax : 12%\")"
   ]
  },
  {
   "cell_type": "markdown",
   "metadata": {},
   "source": [
    "# Try each of the below statements separately (remember difference between statement and expression) on the python interpreter and guess the output before trying:"
   ]
  },
  {
   "cell_type": "code",
   "execution_count": 102,
   "metadata": {},
   "outputs": [
    {
     "name": "stdout",
     "output_type": "stream",
     "text": [
      "10\n",
      "20\n",
      "30\n",
      "OMG\n"
     ]
    }
   ],
   "source": [
    "print(20 if not 1==1 else 10)\n",
    "print(30 if not 1==1 else 20 if 'a'>'A' else 10)\n",
    "print(40 if not 1==1 else 30 if 'a'>'A' else 20 if '' else 10)\n",
    "print('No' if not 1==1 else ('No' if 'a'<'A' else ('OMG' if 'oh!!' else 'No')))"
   ]
  },
  {
   "cell_type": "markdown",
   "metadata": {},
   "source": [
    "### WAF: bmi() that takes the weight in kg and height in cm of a person, calculates and returns the BMI. Write code that calls this function after taking height and weight as inputs and then prints underweight, normal, overweight or obese depending on the value of BMI"
   ]
  },
  {
   "cell_type": "code",
   "execution_count": 7,
   "metadata": {},
   "outputs": [
    {
     "name": "stdout",
     "output_type": "stream",
     "text": [
      "Input your height in meters: 1.85\n",
      "Input your weight in kilogram: 100\n",
      "Your body mass index is:  29.22\n",
      "Overweight\n"
     ]
    }
   ],
   "source": [
    "height = float(input(\"Input your height in meters: \"))\n",
    "weight = float(input(\"Input your weight in kilogram: \"))\n",
    "bmi = round(((weight)/(height**2)),2)\n",
    "print(\"Your body mass index is: \", bmi)\n",
    "if ( bmi < 16):\n",
    "    print(\"Severely Underweight\")\n",
    "elif ( bmi >= 16 and bmi < 18.5):\n",
    "    print(\"Underweight\")\n",
    "elif ( bmi >= 18.5 and bmi < 25):\n",
    "    print(\"Healthy\")\n",
    "elif ( bmi >= 25 and bmi < 30):\n",
    "    print(\"Overweight\")\n",
    "elif ( bmi >=30):\n",
    "    print(\"Severely overweight\")"
   ]
  },
  {
   "cell_type": "markdown",
   "metadata": {},
   "source": [
    "### Take input of age of 3 people by user and determine oldest and youngest among them."
   ]
  },
  {
   "cell_type": "code",
   "execution_count": 13,
   "metadata": {},
   "outputs": [
    {
     "name": "stdout",
     "output_type": "stream",
     "text": [
      "Enter the age 1 :1\n",
      "Enter the age 2 :3\n",
      "Enter the age 3 :2\n",
      "Age 2 is highest\n"
     ]
    }
   ],
   "source": [
    "age1 = int(input(\"Enter the age 1 :\"))\n",
    "age2 = int(input(\"Enter the age 2 :\"))\n",
    "age3 = int(input(\"Enter the age 3 :\"))\n",
    "if age1>age2:\n",
    "    if age1>age3:\n",
    "        print(\"Age 1 is highest\")\n",
    "    else:\n",
    "        print(\"Age 3 is highest\")\n",
    "else:\n",
    "    if age2>age3:\n",
    "        print(\"Age 2 is highest\")\n",
    "    else:\n",
    "        print(\"Age 3 is highest\")"
   ]
  },
  {
   "cell_type": "code",
   "execution_count": null,
   "metadata": {},
   "outputs": [],
   "source": []
  },
  {
   "cell_type": "code",
   "execution_count": null,
   "metadata": {},
   "outputs": [],
   "source": []
  },
  {
   "cell_type": "code",
   "execution_count": null,
   "metadata": {},
   "outputs": [],
   "source": []
  },
  {
   "cell_type": "code",
   "execution_count": null,
   "metadata": {},
   "outputs": [],
   "source": []
  },
  {
   "cell_type": "code",
   "execution_count": null,
   "metadata": {},
   "outputs": [],
   "source": []
  }
 ],
 "metadata": {
  "kernelspec": {
   "display_name": "Python 3",
   "language": "python",
   "name": "python3"
  },
  "language_info": {
   "codemirror_mode": {
    "name": "ipython",
    "version": 3
   },
   "file_extension": ".py",
   "mimetype": "text/x-python",
   "name": "python",
   "nbconvert_exporter": "python",
   "pygments_lexer": "ipython3",
   "version": "3.7.1"
  }
 },
 "nbformat": 4,
 "nbformat_minor": 2
}
