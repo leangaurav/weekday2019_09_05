{
 "cells": [
  {
   "cell_type": "markdown",
   "metadata": {},
   "source": [
    "|Variable|Definition|Key|\n",
    "|---|---|---|\n",
    "|survival|Survival|0 = No, 1 = Yes|\n",
    "|pclass|Ticket class|1 = 1st, 2 = 2nd, 3 = 3rd|\n",
    "|gender|gender ||\n",
    "|Age |Age in years| |\n",
    "|sibsp |number of siblings / spouses aboard|\t|\n",
    "|parch |number of parents / children aboard| |\n",
    "|ticket|Ticket number ||\n",
    "|fare | fare| \t|\n",
    "|cabin |Cabin number|\t|\n",
    "|embarked|Port of Embarkation|C = Cherbourg, Q = Queenstown, S = Southampton|\n",
    "|boat | Lifeboat||\n",
    "|body | Body Identification Number||\n",
    "|home.dest| Home/destination||"
   ]
  },
  {
   "cell_type": "markdown",
   "metadata": {},
   "source": []
  },
  {
   "cell_type": "markdown",
   "metadata": {},
   "source": [
    "- Read data and describe it\n",
    "- Find columns with missingdata\n",
    "- Print shape of dataset\n",
    "- drop columns with more than 25% missing data\n",
    "- drop columns having independent values(which do not affect the survival rate).\n",
    "\n",
    "\n",
    "- check data types of all columns\n",
    "- convert price to numeric\n",
    "- find columns still having missing/na values and also count of missing data\n",
    "- fill na with mean for fare and age column column.\n",
    "- drop na values for embarked column.\n",
    "- dump the dataframe to a csv file 'titanic_filtered.csv'.\n",
    "\n",
    "\n",
    "- for surviced column replace 0 with D and 1 with A\n",
    "- find the frequency of different values in survived column\n",
    "- group by gender and survived and see the counts in each category\n",
    "- find different pclass and no of people in each class\n",
    "\n",
    "- find top 5 people with highest values of age. Count no of male and females in the top 5\n",
    "- find max age male and female who survived\n",
    "- get average age by gender\n",
    "- get average age by people survived vs not-survived"
   ]
  },
  {
   "cell_type": "code",
   "execution_count": 1,
   "metadata": {},
   "outputs": [],
   "source": [
    "import pandas as pd"
   ]
  },
  {
   "cell_type": "code",
   "execution_count": 2,
   "metadata": {},
   "outputs": [],
   "source": [
    "df = pd.read_csv(r'C:\\Users\\titanic_dataset.csv')"
   ]
  },
  {
   "cell_type": "code",
   "execution_count": 3,
   "metadata": {},
   "outputs": [
    {
     "name": "stdout",
     "output_type": "stream",
     "text": [
      "   Unnamed: 0  pclass  survived  \\\n",
      "0           0       1         1   \n",
      "1           1       1         1   \n",
      "2           2       1         0   \n",
      "3           3       1         0   \n",
      "4           4       1         0   \n",
      "\n",
      "                                              name  gender      age  sibsp  \\\n",
      "0                    Allen, Miss. Elisabeth Walton  female  29.0000      0   \n",
      "1                   Allison, Master. Hudson Trevor    male   0.9167      1   \n",
      "2                     Allison, Miss. Helen Loraine  female   2.0000      1   \n",
      "3             Allison, Mr. Hudson Joshua Creighton    male  30.0000      1   \n",
      "4  Allison, Mrs. Hudson J C (Bessie Waldo Daniels)  female  25.0000      1   \n",
      "\n",
      "   parch  ticket      fare    cabin embarked boat   body  \\\n",
      "0      0   24160  $211.34        B5        S    2    NaN   \n",
      "1      2  113781  $151.55   C22 C26        S   11    NaN   \n",
      "2      2  113781  $151.55   C22 C26        S  NaN    NaN   \n",
      "3      2  113781  $151.55   C22 C26        S  NaN  135.0   \n",
      "4      2  113781  $151.55   C22 C26        S  NaN    NaN   \n",
      "\n",
      "                         home.dest  \n",
      "0                     St Louis, MO  \n",
      "1  Montreal, PQ / Chesterville, ON  \n",
      "2  Montreal, PQ / Chesterville, ON  \n",
      "3  Montreal, PQ / Chesterville, ON  \n",
      "4  Montreal, PQ / Chesterville, ON  \n"
     ]
    }
   ],
   "source": [
    "print(df.head())"
   ]
  },
  {
   "cell_type": "code",
   "execution_count": 4,
   "metadata": {},
   "outputs": [
    {
     "name": "stdout",
     "output_type": "stream",
     "text": [
      "(1309, 15)\n",
      "         Unnamed: 0       pclass     survived                  name gender  \\\n",
      "count   1309.000000  1309.000000  1309.000000                  1309   1309   \n",
      "unique          NaN          NaN          NaN                  1307      2   \n",
      "top             NaN          NaN          NaN  Connolly, Miss. Kate   male   \n",
      "freq            NaN          NaN          NaN                     2    843   \n",
      "mean     654.000000     2.294882     0.381971                   NaN    NaN   \n",
      "std      378.020061     0.837836     0.486055                   NaN    NaN   \n",
      "min        0.000000     1.000000     0.000000                   NaN    NaN   \n",
      "25%      327.000000     2.000000     0.000000                   NaN    NaN   \n",
      "50%      654.000000     3.000000     0.000000                   NaN    NaN   \n",
      "75%      981.000000     3.000000     1.000000                   NaN    NaN   \n",
      "max     1308.000000     3.000000     1.000000                   NaN    NaN   \n",
      "\n",
      "                age        sibsp        parch    ticket    fare        cabin  \\\n",
      "count   1046.000000  1309.000000  1309.000000      1309    1308          295   \n",
      "unique          NaN          NaN          NaN       929     263          186   \n",
      "top             NaN          NaN          NaN  CA. 2343  $8.05   C23 C25 C27   \n",
      "freq            NaN          NaN          NaN        11      60            6   \n",
      "mean      29.881135     0.498854     0.385027       NaN     NaN          NaN   \n",
      "std       14.413500     1.041658     0.865560       NaN     NaN          NaN   \n",
      "min        0.166700     0.000000     0.000000       NaN     NaN          NaN   \n",
      "25%       21.000000     0.000000     0.000000       NaN     NaN          NaN   \n",
      "50%       28.000000     0.000000     0.000000       NaN     NaN          NaN   \n",
      "75%       39.000000     1.000000     0.000000       NaN     NaN          NaN   \n",
      "max       80.000000     8.000000     9.000000       NaN     NaN          NaN   \n",
      "\n",
      "       embarked boat        body     home.dest  \n",
      "count      1307  486  121.000000           745  \n",
      "unique        3   27         NaN           369  \n",
      "top           S   13         NaN  New York, NY  \n",
      "freq        914   39         NaN            64  \n",
      "mean        NaN  NaN  160.809917           NaN  \n",
      "std         NaN  NaN   97.696922           NaN  \n",
      "min         NaN  NaN    1.000000           NaN  \n",
      "25%         NaN  NaN   72.000000           NaN  \n",
      "50%         NaN  NaN  155.000000           NaN  \n",
      "75%         NaN  NaN  256.000000           NaN  \n",
      "max         NaN  NaN  328.000000           NaN  \n"
     ]
    }
   ],
   "source": [
    "\n",
    "print(df.shape)\n",
    "print(df.describe(include = 'all'))"
   ]
  },
  {
   "cell_type": "code",
   "execution_count": 5,
   "metadata": {},
   "outputs": [
    {
     "name": "stdout",
     "output_type": "stream",
     "text": [
      "['T', '_AXIS_ALIASES', '_AXIS_IALIASES', '_AXIS_LEN', '_AXIS_NAMES', '_AXIS_NUMBERS', '_AXIS_ORDERS', '_AXIS_REVERSED', '_AXIS_SLICEMAP', '__abs__', '__add__', '__and__', '__array__', '__array_priority__', '__array_wrap__', '__bool__', '__bytes__', '__class__', '__contains__', '__copy__', '__deepcopy__', '__delattr__', '__delitem__', '__dict__', '__dir__', '__div__', '__doc__', '__eq__', '__finalize__', '__floordiv__', '__format__', '__ge__', '__getattr__', '__getattribute__', '__getitem__', '__getstate__', '__gt__', '__hash__', '__iadd__', '__iand__', '__ifloordiv__', '__imod__', '__imul__', '__init__', '__init_subclass__', '__invert__', '__ior__', '__ipow__', '__isub__', '__iter__', '__itruediv__', '__ixor__', '__le__', '__len__', '__lt__', '__matmul__', '__mod__', '__module__', '__mul__', '__ne__', '__neg__', '__new__', '__nonzero__', '__or__', '__pos__', '__pow__', '__radd__', '__rand__', '__rdiv__', '__reduce__', '__reduce_ex__', '__repr__', '__rfloordiv__', '__rmatmul__', '__rmod__', '__rmul__', '__ror__', '__round__', '__rpow__', '__rsub__', '__rtruediv__', '__rxor__', '__setattr__', '__setitem__', '__setstate__', '__sizeof__', '__str__', '__sub__', '__subclasshook__', '__truediv__', '__unicode__', '__weakref__', '__xor__', '_accessors', '_add_numeric_operations', '_add_series_only_operations', '_add_series_or_dataframe_operations', '_agg_by_level', '_agg_examples_doc', '_agg_summary_and_see_also_doc', '_aggregate', '_aggregate_multiple_funcs', '_align_frame', '_align_series', '_box_col_values', '_box_item_values', '_builtin_table', '_check_inplace_setting', '_check_is_chained_assignment_possible', '_check_label_or_level_ambiguity', '_check_percentile', '_check_setitem_copy', '_clear_item_cache', '_clip_with_one_bound', '_clip_with_scalar', '_combine_const', '_combine_frame', '_combine_match_columns', '_combine_match_index', '_consolidate', '_consolidate_inplace', '_construct_axes_dict', '_construct_axes_dict_for_slice', '_construct_axes_dict_from', '_construct_axes_from_arguments', '_constructor', '_constructor_expanddim', '_constructor_sliced', '_convert', '_count_level', '_create_indexer', '_cython_table', '_deprecations', '_dir_additions', '_dir_deletions', '_drop_axis', '_drop_labels_or_levels', '_ensure_valid_index', '_expand_axes', '_find_valid_index', '_from_arrays', '_from_axes', '_get_agg_axis', '_get_axis', '_get_axis_name', '_get_axis_number', '_get_axis_resolvers', '_get_block_manager_axis', '_get_bool_data', '_get_cacher', '_get_index_resolvers', '_get_item_cache', '_get_label_or_level_values', '_get_numeric_data', '_get_value', '_get_values', '_getitem_bool_array', '_getitem_frame', '_getitem_multilevel', '_gotitem', '_iget_item_cache', '_indexed_same', '_info_axis', '_info_axis_name', '_info_axis_number', '_info_repr', '_init_mgr', '_internal_names', '_internal_names_set', '_is_builtin_func', '_is_cached', '_is_copy', '_is_cython_func', '_is_datelike_mixed_type', '_is_homogeneous_type', '_is_label_or_level_reference', '_is_label_reference', '_is_level_reference', '_is_mixed_type', '_is_numeric_mixed_type', '_is_view', '_ix', '_ixs', '_join_compat', '_maybe_cache_changed', '_maybe_update_cacher', '_metadata', '_needs_reindex_multi', '_obj_with_exclusions', '_protect_consolidate', '_reduce', '_reindex_axes', '_reindex_columns', '_reindex_index', '_reindex_multi', '_reindex_with_indexers', '_repr_data_resource_', '_repr_fits_horizontal_', '_repr_fits_vertical_', '_repr_html_', '_repr_latex_', '_reset_cache', '_reset_cacher', '_sanitize_column', '_selected_obj', '_selection', '_selection_list', '_selection_name', '_series', '_set_as_cached', '_set_axis', '_set_axis_name', '_set_is_copy', '_set_item', '_set_value', '_setitem_array', '_setitem_frame', '_setitem_slice', '_setup_axes', '_shallow_copy', '_slice', '_stat_axis', '_stat_axis_name', '_stat_axis_number', '_take', '_to_dict_of_blocks', '_try_aggregate_string_function', '_typ', '_unpickle_frame_compat', '_unpickle_matrix_compat', '_update_inplace', '_validate_dtype', '_values', '_where', '_xs', 'abs', 'add', 'add_prefix', 'add_suffix', 'age', 'agg', 'aggregate', 'align', 'all', 'any', 'append', 'apply', 'applymap', 'as_matrix', 'asfreq', 'asof', 'assign', 'astype', 'at', 'at_time', 'axes', 'between_time', 'bfill', 'boat', 'body', 'bool', 'boxplot', 'cabin', 'clip', 'clip_lower', 'clip_upper', 'columns', 'combine', 'combine_first', 'compound', 'copy', 'corr', 'corrwith', 'count', 'cov', 'cummax', 'cummin', 'cumprod', 'cumsum', 'describe', 'diff', 'div', 'divide', 'dot', 'drop', 'drop_duplicates', 'droplevel', 'dropna', 'dtypes', 'duplicated', 'embarked', 'empty', 'eq', 'equals', 'eval', 'ewm', 'expanding', 'fare', 'ffill', 'fillna', 'filter', 'first', 'first_valid_index', 'floordiv', 'from_dict', 'from_records', 'ftypes', 'ge', 'gender', 'get', 'get_dtype_counts', 'get_ftype_counts', 'get_values', 'groupby', 'gt', 'head', 'hist', 'iat', 'idxmax', 'idxmin', 'iloc', 'index', 'infer_objects', 'info', 'insert', 'interpolate', 'isin', 'isna', 'isnull', 'items', 'iteritems', 'iterrows', 'itertuples', 'ix', 'join', 'keys', 'kurt', 'kurtosis', 'last', 'last_valid_index', 'le', 'loc', 'lookup', 'lt', 'mad', 'mask', 'max', 'mean', 'median', 'melt', 'memory_usage', 'merge', 'min', 'mod', 'mode', 'mul', 'multiply', 'name', 'ndim', 'ne', 'nlargest', 'notna', 'notnull', 'nsmallest', 'nunique', 'parch', 'pclass', 'pct_change', 'pipe', 'pivot', 'pivot_table', 'plot', 'pop', 'pow', 'prod', 'product', 'quantile', 'query', 'radd', 'rank', 'rdiv', 'reindex', 'reindex_axis', 'reindex_like', 'rename', 'rename_axis', 'reorder_levels', 'replace', 'resample', 'reset_index', 'rfloordiv', 'rmod', 'rmul', 'rolling', 'round', 'rpow', 'rsub', 'rtruediv', 'sample', 'select', 'select_dtypes', 'sem', 'set_axis', 'set_index', 'shape', 'shift', 'sibsp', 'size', 'skew', 'slice_shift', 'sort_index', 'sort_values', 'squeeze', 'stack', 'std', 'style', 'sub', 'subtract', 'sum', 'survived', 'swapaxes', 'swaplevel', 'tail', 'take', 'ticket', 'timetuple', 'to_clipboard', 'to_csv', 'to_dense', 'to_dict', 'to_excel', 'to_feather', 'to_gbq', 'to_hdf', 'to_html', 'to_json', 'to_latex', 'to_msgpack', 'to_numpy', 'to_panel', 'to_parquet', 'to_period', 'to_pickle', 'to_records', 'to_sparse', 'to_sql', 'to_stata', 'to_string', 'to_timestamp', 'to_xarray', 'transform', 'transpose', 'truediv', 'truncate', 'tshift', 'tz_convert', 'tz_localize', 'unstack', 'update', 'values', 'var', 'where', 'xs']\n"
     ]
    }
   ],
   "source": [
    "print(dir(df))"
   ]
  },
  {
   "cell_type": "code",
   "execution_count": 6,
   "metadata": {},
   "outputs": [
    {
     "name": "stdout",
     "output_type": "stream",
     "text": [
      "Unnamed: 0    1309\n",
      "pclass        1309\n",
      "survived      1309\n",
      "name          1309\n",
      "gender        1309\n",
      "age           1046\n",
      "sibsp         1309\n",
      "parch         1309\n",
      "ticket        1309\n",
      "fare          1308\n",
      "cabin          295\n",
      "embarked      1307\n",
      "boat           486\n",
      "body           121\n",
      "home.dest      745\n",
      "dtype: int64\n"
     ]
    }
   ],
   "source": [
    "print(df.count())"
   ]
  },
  {
   "cell_type": "code",
   "execution_count": 7,
   "metadata": {},
   "outputs": [
    {
     "name": "stdout",
     "output_type": "stream",
     "text": [
      "Index(['Unnamed: 0', 'pclass', 'survived', 'name', 'gender', 'age', 'sibsp',\n",
      "       'parch', 'ticket', 'fare', 'cabin', 'embarked', 'boat', 'body',\n",
      "       'home.dest'],\n",
      "      dtype='object')\n"
     ]
    }
   ],
   "source": [
    "print(df.columns)\n",
    "df1 = df.dropna(axis = 1, thresh=(1309*0.75), inplace = True )\n",
    "#print(df1.columns)"
   ]
  },
  {
   "cell_type": "code",
   "execution_count": 8,
   "metadata": {},
   "outputs": [
    {
     "name": "stdout",
     "output_type": "stream",
     "text": [
      "Index(['Unnamed: 0', 'pclass', 'survived', 'name', 'gender', 'age', 'sibsp',\n",
      "       'parch', 'ticket', 'fare', 'embarked'],\n",
      "      dtype='object')\n",
      "pclass      1309\n",
      "survived    1309\n",
      "gender      1309\n",
      "age         1046\n",
      "sibsp       1309\n",
      "parch       1309\n",
      "fare        1308\n",
      "embarked    1307\n",
      "dtype: int64\n",
      "   pclass  survived  gender      age  sibsp  parch      fare embarked\n",
      "0       1         1  female  29.0000      0      0  $211.34         S\n",
      "1       1         1    male   0.9167      1      2  $151.55         S\n",
      "2       1         0  female   2.0000      1      2  $151.55         S\n",
      "3       1         0    male  30.0000      1      2  $151.55         S\n",
      "4       1         0  female  25.0000      1      2  $151.55         S\n"
     ]
    }
   ],
   "source": [
    "print(df.columns)\n",
    "df.drop(columns = ['Unnamed: 0', 'name', 'ticket'], inplace = True)\n",
    "print(df.count())\n",
    "print(df.head())"
   ]
  },
  {
   "cell_type": "code",
   "execution_count": 9,
   "metadata": {},
   "outputs": [
    {
     "name": "stdout",
     "output_type": "stream",
     "text": [
      "pclass        int64\n",
      "survived      int64\n",
      "gender       object\n",
      "age         float64\n",
      "sibsp         int64\n",
      "parch         int64\n",
      "fare         object\n",
      "embarked     object\n",
      "dtype: object\n"
     ]
    }
   ],
   "source": [
    "print(df.dtypes)"
   ]
  },
  {
   "cell_type": "code",
   "execution_count": 10,
   "metadata": {},
   "outputs": [
    {
     "name": "stdout",
     "output_type": "stream",
     "text": [
      "['__class__', '__delattr__', '__dict__', '__dir__', '__doc__', '__eq__', '__format__', '__frozen', '__ge__', '__getattribute__', '__getitem__', '__gt__', '__hash__', '__init__', '__init_subclass__', '__iter__', '__le__', '__lt__', '__module__', '__ne__', '__new__', '__reduce__', '__reduce_ex__', '__repr__', '__setattr__', '__sizeof__', '__str__', '__subclasshook__', '__weakref__', '_freeze', '_get_series_list', '_is_categorical', '_make_accessor', '_orig', '_parent', '_validate', '_wrap_result', 'capitalize', 'cat', 'center', 'contains', 'count', 'decode', 'encode', 'endswith', 'extract', 'extractall', 'find', 'findall', 'get', 'get_dummies', 'index', 'isalnum', 'isalpha', 'isdecimal', 'isdigit', 'islower', 'isnumeric', 'isspace', 'istitle', 'isupper', 'join', 'len', 'ljust', 'lower', 'lstrip', 'match', 'normalize', 'pad', 'partition', 'repeat', 'replace', 'rfind', 'rindex', 'rjust', 'rpartition', 'rsplit', 'rstrip', 'slice', 'slice_replace', 'split', 'startswith', 'strip', 'swapcase', 'title', 'translate', 'upper', 'wrap', 'zfill']\n"
     ]
    }
   ],
   "source": [
    "print(dir(df.fare.str))\n",
    "df.fare.replace(r'\\$','', regex = True, inplace = True)"
   ]
  },
  {
   "cell_type": "code",
   "execution_count": 11,
   "metadata": {},
   "outputs": [
    {
     "name": "stdout",
     "output_type": "stream",
     "text": [
      "pclass        int64\n",
      "survived      int64\n",
      "gender       object\n",
      "age         float64\n",
      "sibsp         int64\n",
      "parch         int64\n",
      "fare         object\n",
      "embarked     object\n",
      "dtype: object\n",
      "0    211.34 \n",
      "1    151.55 \n",
      "2    151.55 \n",
      "3    151.55 \n",
      "4    151.55 \n",
      "Name: fare, dtype: object\n"
     ]
    }
   ],
   "source": [
    "print(df.dtypes)\n",
    "print(df.fare.head())\n",
    "df.fare = df.fare.astype('float64')\n",
    "\n",
    "df['fare'] = [ str(data).replace('$' , '') for data in df['fare'] ]\n"
   ]
  },
  {
   "cell_type": "code",
   "execution_count": 12,
   "metadata": {},
   "outputs": [
    {
     "name": "stdout",
     "output_type": "stream",
     "text": [
      "pclass        int64\n",
      "survived      int64\n",
      "gender       object\n",
      "age         float64\n",
      "sibsp         int64\n",
      "parch         int64\n",
      "fare         object\n",
      "embarked     object\n",
      "dtype: object\n",
      "   pclass  survived  gender      age  sibsp  parch    fare embarked\n",
      "0       1         1  female  29.0000      0      0  211.34        S\n",
      "1       1         1    male   0.9167      1      2  151.55        S\n",
      "2       1         0  female   2.0000      1      2  151.55        S\n",
      "3       1         0    male  30.0000      1      2  151.55        S\n",
      "4       1         0  female  25.0000      1      2  151.55        S\n"
     ]
    }
   ],
   "source": [
    "print(df.dtypes)\n",
    "print(df.head())"
   ]
  },
  {
   "cell_type": "code",
   "execution_count": 13,
   "metadata": {},
   "outputs": [
    {
     "data": {
      "text/plain": [
       "pclass      False\n",
       "survived    False\n",
       "gender      False\n",
       "age          True\n",
       "sibsp       False\n",
       "parch       False\n",
       "fare        False\n",
       "embarked     True\n",
       "dtype: bool"
      ]
     },
     "execution_count": 13,
     "metadata": {},
     "output_type": "execute_result"
    }
   ],
   "source": [
    "df.isna().any()"
   ]
  },
  {
   "cell_type": "code",
   "execution_count": 14,
   "metadata": {},
   "outputs": [
    {
     "ename": "TypeError",
     "evalue": "Could not convert 211.34151.55151.55151.55151.5526.5577.960.051.4849.5227.53227.5369.378.8530.025.93247.52247.5276.2975.2452.5552.5530.0227.53221.7826.091.0891.08135.6326.5535.531.0164.8726.5526.55262.3855.026.5530.550.539.627.7251.4876.29134.526.5531.026.2927.45512.33512.335.047.147.1120.0120.0120.0120.026.027.7278.8578.8561.1861.1853.153.1262.3886.529.755.00.0136.78136.78151.5552.025.5983.1683.1683.1625.726.5571.071.026.5571.2871.2826.5530.5151.5552.052.057.057.081.8681.8681.86106.43247.52106.4339.656.9329.783.16227.5378.2731.68221.7831.68110.8826.3927.75263.0263.0263.0263.0263.0263.056.9326.55133.6527.72133.6549.579.279.20.053.153.138.5211.559.459.479.289.189.134.6528.530.0153.46153.4663.3663.3679.255.4455.4476.7376.7342.483.4883.480.076.7330.083.1693.593.542.551.8650.057.9857.9877.9652.052.026.5590.030.790.080.028.710.026.026.0211.529.751.8651.8652.5552.5526.55211.3425.93106.43512.3327.7226.5527.7239.439.430.077.9645.5146.52211.3426.086.529.753.153.149.575.2451.8626.2982.1782.1726.5590.090.090.057.7530.542.429.7113.28113.28113.2826.2826.0108.925.7461.9861.9827.720.028.593.566.666.6108.9108.993.530.552.083.160.039.6135.63227.53211.3450.526.5550.027.7279.240.1386.559.459.426.55262.38262.38262.38262.38262.3830.569.326.057.7531.026.55153.4626.2955.955.935.535.526.5530.760.026.060.082.2782.27134.5134.5134.5146.52146.5230.526.5555.4455.4478.2727.7280.0221.78221.7832.3225.9379.6579.6579.6552.052.0110.88110.88110.8879.228.5427.7233.534.02512.3375.2575.2526.5577.2977.29135.63164.87164.87164.87211.5211.5211.526.5561.3861.3835.0134.535.526.55135.6324.024.013.011.510.526.026.013.011.510.513.010.512.5326.026.026.039.039.039.039.013.013.013.013.013.013.013.039.039.039.026.026.013.013.013.013.029.029.029.021.00.013.026.026.013.526.026.030.030.026.026.010.513.010.526.2526.2526.2510.513.021.011.50.036.7573.536.7513.013.073.527.7227.7231.573.523.023.026.032.532.532.513.8613.8613.013.013.026.026.010.513.00.013.026.021.021.013.026.010.510.511.511.513.513.013.013.013.013.014.514.513.033.033.010.510.526.2526.2526.2565.065.065.065.016.073.573.573.513.023.011.513.023.013.026.026.073.513.026.026.012.2810.527.027.015.031.531.510.513.7926.026.021.012.3512.3513.512.350.010.526.026.010.7141.5841.5841.5841.5812.033.010.512.8810.512.3526.026.010.515.0537.037.037.015.5813.016.013.513.026.019.519.510.513.013.010.513.014.026.010.59.6930.0730.0726.026.026.013.036.7513.513.8610.513.010.513.8610.513.8610.50.026.010.515.0513.021.026.021.013.013.012.7415.0326.026.026.010.521.021.013.015.0518.7518.7518.7510.510.510.513.013.026.026.013.036.7513.013.512.3510.513.013.015.0510.513.065.010.513.012.6510.521.021.013.021.021.010.521.00.015.7515.7513.026.026.023.023.023.027.7527.7527.7527.7510.512.8813.013.013.513.07.5520.2520.2520.257.657.657.937.237.258.059.489.359.3518.797.897.937.057.058.058.322.537.8531.2831.2831.287.937.7831.2831.2831.287.87.7831.287.857.917.817.87.787.0531.3931.3931.3931.3931.3931.397.831.397.237.237.0514.467.237.857.237.2315.8515.8519.2619.2619.2619.268.057.237.97.2314.4514.457.888.058.057.789.357.234.0156.57.787.757.915.2515.257.2315.257.7515.515.516.17.737.857.057.257.88.057.287.826.757.888.668.668.668.668.668.667.757.758.0514.4614.467.87.857.757.757.258.057.7356.58.0514.4514.457.058.057.257.57.57.737.757.757.637.758.057.97.97.98.0515.915.915.97.258.1616.116.18.667.238.0510.5210.176.957.7514.414.414.47.97.924.158.0524.158.0516.116.117.417.49.59.520.5820.5820.5820.587.97.97.97.257.257.887.98.667.97.237.758.0512.487.758.057.97.757.5513.913.97.787.786.987.237.237.237.237.2512.487.2315.17.757.057.87.757.756.957.887.7556.534.3834.388.0534.3834.3834.387.757.257.7414.57.98.057.737.7520.5320.537.8520.537.0546.946.946.946.946.946.946.946.98.058.368.059.857.937.937.788.857.7319.9719.9715.8515.859.57.2314.117.857.8514.117.557.256.8618.797.756.9856.56.757.937.938.967.97.787.7512.2912.296.4522.537.937.758.057.657.897.237.97.937.937.97.97.87.057.857.857.057.758.116.57.787.88.657.787.8511.1311.130.07.780.011.1323.4523.4523.4523.457.97.857.859.839.837.937.138.437.97.87.857.5213.4213.427.237.237.757.257.757.757.838.057.7514.4514.457.757.757.748.668.6622.0322.0322.0312.187.8512.187.97.237.239.597.956.556.57.257.7556.59.487.787.787.2325.4725.4725.4725.4725.477.936.4415.515.50.024.159.57.787.7515.5515.557.937.8856.57.5516.116.17.887.258.667.057.857.587.97.557.757.147.137.887.758.057.937.237.757.747.237.97.97.237.97.757.7523.2523.2523.257.7915.57.888.037.757.7516.116.17.758.058.058.057.757.788.057.97.97.97.97.887.6512.4812.488.0524.1524.158.468.057.757.7815.2515.2515.257.238.057.737.758.0515.515.515.57.757.97.2315.7415.7415.748.057.97.237.757.911.2411.247.938.057.787.857.857.137.937.87.237.756.2415.57.8315.57.737.757.759.237.757.757.887.787.757.833.1722.538.47.317.857.857.789.238.668.668.669.228.687.6321.0821.0821.0821.0821.0839.6939.6939.6939.6939.6939.698.6614.58.717.913.7813.7813.787.07.788.057.937.937.257.7822.3622.3622.368.148.057.97.97.97.787.788.057.98.668.667.98.117.237.257.98.0529.1329.1329.1329.1329.1329.1339.697.137.7214.514.514.514.58.057.7820.2120.2120.218.058.058.057.7524.157.237.237.237.737.587.2569.5569.5569.5569.5569.5569.5569.5569.5569.5569.5569.559.337.657.9321.6821.6821.6816.716.716.79.58.058.057.737.97.759.515.17.788.058.057.238.057.97.937.527.927.927.927.927.927.97.98.058.667.757.737.658.058.058.057.98.667.558.05nan7.99.847.938.6610.4610.468.057.937.057.789.237.87.88.058.526.446.447.238.528.0516.116.17.937.757.98.058.057.230.07.2315.2515.2515.257.99.849.5914.514.514.524.1524.1524.159.59.59.59.59.018.018.018.018.07.237.857.857.99.08.057.558.059.57.237.756.56.57.08.717.558.0516.17.258.667.259.514.4514.457.237.2314.4614.4514.457.237.237.88 to numeric",
     "output_type": "error",
     "traceback": [
      "\u001b[1;31m---------------------------------------------------------------------------\u001b[0m",
      "\u001b[1;31mValueError\u001b[0m                                Traceback (most recent call last)",
      "\u001b[1;32m~\\Anaconda3\\lib\\site-packages\\pandas\\core\\nanops.py\u001b[0m in \u001b[0;36m_ensure_numeric\u001b[1;34m(x)\u001b[0m\n\u001b[0;32m   1163\u001b[0m         \u001b[1;32mtry\u001b[0m\u001b[1;33m:\u001b[0m\u001b[1;33m\u001b[0m\u001b[1;33m\u001b[0m\u001b[0m\n\u001b[1;32m-> 1164\u001b[1;33m             \u001b[0mx\u001b[0m \u001b[1;33m=\u001b[0m \u001b[0mfloat\u001b[0m\u001b[1;33m(\u001b[0m\u001b[0mx\u001b[0m\u001b[1;33m)\u001b[0m\u001b[1;33m\u001b[0m\u001b[1;33m\u001b[0m\u001b[0m\n\u001b[0m\u001b[0;32m   1165\u001b[0m         \u001b[1;32mexcept\u001b[0m \u001b[0mException\u001b[0m\u001b[1;33m:\u001b[0m\u001b[1;33m\u001b[0m\u001b[1;33m\u001b[0m\u001b[0m\n",
      "\u001b[1;31mValueError\u001b[0m: could not convert string to float: '211.34151.55151.55151.55151.5526.5577.960.051.4849.5227.53227.5369.378.8530.025.93247.52247.5276.2975.2452.5552.5530.0227.53221.7826.091.0891.08135.6326.5535.531.0164.8726.5526.55262.3855.026.5530.550.539.627.7251.4876.29134.526.5531.026.2927.45512.33512.335.047.147.1120.0120.0120.0120.026.027.7278.8578.8561.1861.1853.153.1262.3886.529.755.00.0136.78136.78151.5552.025.5983.1683.1683.1625.726.5571.071.026.5571.2871.2826.5530.5151.5552.052.057.057.081.8681.8681.86106.43247.52106.4339.656.9329.783.16227.5378.2731.68221.7831.68110.8826.3927.75263.0263.0263.0263.0263.0263.056.9326.55133.6527.72133.6549.579.279.20.053.153.138.5211.559.459.479.289.189.134.6528.530.0153.46153.4663.3663.3679.255.4455.4476.7376.7342.483.4883.480.076.7330.083.1693.593.542.551.8650.057.9857.9877.9652.052.026.5590.030.790.080.028.710.026.026.0211.529.751.8651.8652.5552.5526.55211.3425.93106.43512.3327.7226.5527.7239.439.430.077.9645.5146.52211.3426.086.529.753.153.149.575.2451.8626.2982.1782.1726.5590.090.090.057.7530.542.429.7113.28113.28113.2826.2826.0108.925.7461.9861.9827.720.028.593.566.666.6108.9108.993.530.552.083.160.039.6135.63227.53211.3450.526.5550.027.7279.240.1386.559.459.426.55262.38262.38262.38262.38262.3830.569.326.057.7531.026.55153.4626.2955.955.935.535.526.5530.760.026.060.082.2782.27134.5134.5134.5146.52146.5230.526.5555.4455.4478.2727.7280.0221.78221.7832.3225.9379.6579.6579.6552.052.0110.88110.88110.8879.228.5427.7233.534.02512.3375.2575.2526.5577.2977.29135.63164.87164.87164.87211.5211.5211.526.5561.3861.3835.0134.535.526.55135.6324.024.013.011.510.526.026.013.011.510.513.010.512.5326.026.026.039.039.039.039.013.013.013.013.013.013.013.039.039.039.026.026.013.013.013.013.029.029.029.021.00.013.026.026.013.526.026.030.030.026.026.010.513.010.526.2526.2526.2510.513.021.011.50.036.7573.536.7513.013.073.527.7227.7231.573.523.023.026.032.532.532.513.8613.8613.013.013.026.026.010.513.00.013.026.021.021.013.026.010.510.511.511.513.513.013.013.013.013.014.514.513.033.033.010.510.526.2526.2526.2565.065.065.065.016.073.573.573.513.023.011.513.023.013.026.026.073.513.026.026.012.2810.527.027.015.031.531.510.513.7926.026.021.012.3512.3513.512.350.010.526.026.010.7141.5841.5841.5841.5812.033.010.512.8810.512.3526.026.010.515.0537.037.037.015.5813.016.013.513.026.019.519.510.513.013.010.513.014.026.010.59.6930.0730.0726.026.026.013.036.7513.513.8610.513.010.513.8610.513.8610.50.026.010.515.0513.021.026.021.013.013.012.7415.0326.026.026.010.521.021.013.015.0518.7518.7518.7510.510.510.513.013.026.026.013.036.7513.013.512.3510.513.013.015.0510.513.065.010.513.012.6510.521.021.013.021.021.010.521.00.015.7515.7513.026.026.023.023.023.027.7527.7527.7527.7510.512.8813.013.013.513.07.5520.2520.2520.257.657.657.937.237.258.059.489.359.3518.797.897.937.057.058.058.322.537.8531.2831.2831.287.937.7831.2831.2831.287.87.7831.287.857.917.817.87.787.0531.3931.3931.3931.3931.3931.397.831.397.237.237.0514.467.237.857.237.2315.8515.8519.2619.2619.2619.268.057.237.97.2314.4514.457.888.058.057.789.357.234.0156.57.787.757.915.2515.257.2315.257.7515.515.516.17.737.857.057.257.88.057.287.826.757.888.668.668.668.668.668.667.757.758.0514.4614.467.87.857.757.757.258.057.7356.58.0514.4514.457.058.057.257.57.57.737.757.757.637.758.057.97.97.98.0515.915.915.97.258.1616.116.18.667.238.0510.5210.176.957.7514.414.414.47.97.924.158.0524.158.0516.116.117.417.49.59.520.5820.5820.5820.587.97.97.97.257.257.887.98.667.97.237.758.0512.487.758.057.97.757.5513.913.97.787.786.987.237.237.237.237.2512.487.2315.17.757.057.87.757.756.957.887.7556.534.3834.388.0534.3834.3834.387.757.257.7414.57.98.057.737.7520.5320.537.8520.537.0546.946.946.946.946.946.946.946.98.058.368.059.857.937.937.788.857.7319.9719.9715.8515.859.57.2314.117.857.8514.117.557.256.8618.797.756.9856.56.757.937.938.967.97.787.7512.2912.296.4522.537.937.758.057.657.897.237.97.937.937.97.97.87.057.857.857.057.758.116.57.787.88.657.787.8511.1311.130.07.780.011.1323.4523.4523.4523.457.97.857.859.839.837.937.138.437.97.87.857.5213.4213.427.237.237.757.257.757.757.838.057.7514.4514.457.757.757.748.668.6622.0322.0322.0312.187.8512.187.97.237.239.597.956.556.57.257.7556.59.487.787.787.2325.4725.4725.4725.4725.477.936.4415.515.50.024.159.57.787.7515.5515.557.937.8856.57.5516.116.17.887.258.667.057.857.587.97.557.757.147.137.887.758.057.937.237.757.747.237.97.97.237.97.757.7523.2523.2523.257.7915.57.888.037.757.7516.116.17.758.058.058.057.757.788.057.97.97.97.97.887.6512.4812.488.0524.1524.158.468.057.757.7815.2515.2515.257.238.057.737.758.0515.515.515.57.757.97.2315.7415.7415.748.057.97.237.757.911.2411.247.938.057.787.857.857.137.937.87.237.756.2415.57.8315.57.737.757.759.237.757.757.887.787.757.833.1722.538.47.317.857.857.789.238.668.668.669.228.687.6321.0821.0821.0821.0821.0839.6939.6939.6939.6939.6939.698.6614.58.717.913.7813.7813.787.07.788.057.937.937.257.7822.3622.3622.368.148.057.97.97.97.787.788.057.98.668.667.98.117.237.257.98.0529.1329.1329.1329.1329.1329.1339.697.137.7214.514.514.514.58.057.7820.2120.2120.218.058.058.057.7524.157.237.237.237.737.587.2569.5569.5569.5569.5569.5569.5569.5569.5569.5569.5569.559.337.657.9321.6821.6821.6816.716.716.79.58.058.057.737.97.759.515.17.788.058.057.238.057.97.937.527.927.927.927.927.927.97.98.058.667.757.737.658.058.058.057.98.667.558.05nan7.99.847.938.6610.4610.468.057.937.057.789.237.87.88.058.526.446.447.238.528.0516.116.17.937.757.98.058.057.230.07.2315.2515.2515.257.99.849.5914.514.514.524.1524.1524.159.59.59.59.59.018.018.018.018.07.237.857.857.99.08.057.558.059.57.237.756.56.57.08.717.558.0516.17.258.667.259.514.4514.457.237.2314.4614.4514.457.237.237.88'",
      "\nDuring handling of the above exception, another exception occurred:\n",
      "\u001b[1;31mValueError\u001b[0m                                Traceback (most recent call last)",
      "\u001b[1;32m~\\Anaconda3\\lib\\site-packages\\pandas\\core\\nanops.py\u001b[0m in \u001b[0;36m_ensure_numeric\u001b[1;34m(x)\u001b[0m\n\u001b[0;32m   1166\u001b[0m             \u001b[1;32mtry\u001b[0m\u001b[1;33m:\u001b[0m\u001b[1;33m\u001b[0m\u001b[1;33m\u001b[0m\u001b[0m\n\u001b[1;32m-> 1167\u001b[1;33m                 \u001b[0mx\u001b[0m \u001b[1;33m=\u001b[0m \u001b[0mcomplex\u001b[0m\u001b[1;33m(\u001b[0m\u001b[0mx\u001b[0m\u001b[1;33m)\u001b[0m\u001b[1;33m\u001b[0m\u001b[1;33m\u001b[0m\u001b[0m\n\u001b[0m\u001b[0;32m   1168\u001b[0m             \u001b[1;32mexcept\u001b[0m \u001b[0mException\u001b[0m\u001b[1;33m:\u001b[0m\u001b[1;33m\u001b[0m\u001b[1;33m\u001b[0m\u001b[0m\n",
      "\u001b[1;31mValueError\u001b[0m: complex() arg is a malformed string",
      "\nDuring handling of the above exception, another exception occurred:\n",
      "\u001b[1;31mTypeError\u001b[0m                                 Traceback (most recent call last)",
      "\u001b[1;32m~\\Anaconda3\\lib\\site-packages\\pandas\\core\\nanops.py\u001b[0m in \u001b[0;36mf\u001b[1;34m(values, axis, skipna, **kwds)\u001b[0m\n\u001b[0;32m    126\u001b[0m                 \u001b[1;32melse\u001b[0m\u001b[1;33m:\u001b[0m\u001b[1;33m\u001b[0m\u001b[1;33m\u001b[0m\u001b[0m\n\u001b[1;32m--> 127\u001b[1;33m                     \u001b[0mresult\u001b[0m \u001b[1;33m=\u001b[0m \u001b[0malt\u001b[0m\u001b[1;33m(\u001b[0m\u001b[0mvalues\u001b[0m\u001b[1;33m,\u001b[0m \u001b[0maxis\u001b[0m\u001b[1;33m=\u001b[0m\u001b[0maxis\u001b[0m\u001b[1;33m,\u001b[0m \u001b[0mskipna\u001b[0m\u001b[1;33m=\u001b[0m\u001b[0mskipna\u001b[0m\u001b[1;33m,\u001b[0m \u001b[1;33m**\u001b[0m\u001b[0mkwds\u001b[0m\u001b[1;33m)\u001b[0m\u001b[1;33m\u001b[0m\u001b[1;33m\u001b[0m\u001b[0m\n\u001b[0m\u001b[0;32m    128\u001b[0m             \u001b[1;32mexcept\u001b[0m \u001b[0mException\u001b[0m\u001b[1;33m:\u001b[0m\u001b[1;33m\u001b[0m\u001b[1;33m\u001b[0m\u001b[0m\n",
      "\u001b[1;32m~\\Anaconda3\\lib\\site-packages\\pandas\\core\\nanops.py\u001b[0m in \u001b[0;36mnanmean\u001b[1;34m(values, axis, skipna, mask)\u001b[0m\n\u001b[0;32m    478\u001b[0m     \u001b[0mcount\u001b[0m \u001b[1;33m=\u001b[0m \u001b[0m_get_counts\u001b[0m\u001b[1;33m(\u001b[0m\u001b[0mmask\u001b[0m\u001b[1;33m,\u001b[0m \u001b[0maxis\u001b[0m\u001b[1;33m,\u001b[0m \u001b[0mdtype\u001b[0m\u001b[1;33m=\u001b[0m\u001b[0mdtype_count\u001b[0m\u001b[1;33m)\u001b[0m\u001b[1;33m\u001b[0m\u001b[1;33m\u001b[0m\u001b[0m\n\u001b[1;32m--> 479\u001b[1;33m     \u001b[0mthe_sum\u001b[0m \u001b[1;33m=\u001b[0m \u001b[0m_ensure_numeric\u001b[0m\u001b[1;33m(\u001b[0m\u001b[0mvalues\u001b[0m\u001b[1;33m.\u001b[0m\u001b[0msum\u001b[0m\u001b[1;33m(\u001b[0m\u001b[0maxis\u001b[0m\u001b[1;33m,\u001b[0m \u001b[0mdtype\u001b[0m\u001b[1;33m=\u001b[0m\u001b[0mdtype_sum\u001b[0m\u001b[1;33m)\u001b[0m\u001b[1;33m)\u001b[0m\u001b[1;33m\u001b[0m\u001b[1;33m\u001b[0m\u001b[0m\n\u001b[0m\u001b[0;32m    480\u001b[0m \u001b[1;33m\u001b[0m\u001b[0m\n",
      "\u001b[1;32m~\\Anaconda3\\lib\\site-packages\\pandas\\core\\nanops.py\u001b[0m in \u001b[0;36m_ensure_numeric\u001b[1;34m(x)\u001b[0m\n\u001b[0;32m   1169\u001b[0m                 raise TypeError('Could not convert {value!s} to numeric'\n\u001b[1;32m-> 1170\u001b[1;33m                                 .format(value=x))\n\u001b[0m\u001b[0;32m   1171\u001b[0m     \u001b[1;32mreturn\u001b[0m \u001b[0mx\u001b[0m\u001b[1;33m\u001b[0m\u001b[1;33m\u001b[0m\u001b[0m\n",
      "\u001b[1;31mTypeError\u001b[0m: Could not convert 211.34151.55151.55151.55151.5526.5577.960.051.4849.5227.53227.5369.378.8530.025.93247.52247.5276.2975.2452.5552.5530.0227.53221.7826.091.0891.08135.6326.5535.531.0164.8726.5526.55262.3855.026.5530.550.539.627.7251.4876.29134.526.5531.026.2927.45512.33512.335.047.147.1120.0120.0120.0120.026.027.7278.8578.8561.1861.1853.153.1262.3886.529.755.00.0136.78136.78151.5552.025.5983.1683.1683.1625.726.5571.071.026.5571.2871.2826.5530.5151.5552.052.057.057.081.8681.8681.86106.43247.52106.4339.656.9329.783.16227.5378.2731.68221.7831.68110.8826.3927.75263.0263.0263.0263.0263.0263.056.9326.55133.6527.72133.6549.579.279.20.053.153.138.5211.559.459.479.289.189.134.6528.530.0153.46153.4663.3663.3679.255.4455.4476.7376.7342.483.4883.480.076.7330.083.1693.593.542.551.8650.057.9857.9877.9652.052.026.5590.030.790.080.028.710.026.026.0211.529.751.8651.8652.5552.5526.55211.3425.93106.43512.3327.7226.5527.7239.439.430.077.9645.5146.52211.3426.086.529.753.153.149.575.2451.8626.2982.1782.1726.5590.090.090.057.7530.542.429.7113.28113.28113.2826.2826.0108.925.7461.9861.9827.720.028.593.566.666.6108.9108.993.530.552.083.160.039.6135.63227.53211.3450.526.5550.027.7279.240.1386.559.459.426.55262.38262.38262.38262.38262.3830.569.326.057.7531.026.55153.4626.2955.955.935.535.526.5530.760.026.060.082.2782.27134.5134.5134.5146.52146.5230.526.5555.4455.4478.2727.7280.0221.78221.7832.3225.9379.6579.6579.6552.052.0110.88110.88110.8879.228.5427.7233.534.02512.3375.2575.2526.5577.2977.29135.63164.87164.87164.87211.5211.5211.526.5561.3861.3835.0134.535.526.55135.6324.024.013.011.510.526.026.013.011.510.513.010.512.5326.026.026.039.039.039.039.013.013.013.013.013.013.013.039.039.039.026.026.013.013.013.013.029.029.029.021.00.013.026.026.013.526.026.030.030.026.026.010.513.010.526.2526.2526.2510.513.021.011.50.036.7573.536.7513.013.073.527.7227.7231.573.523.023.026.032.532.532.513.8613.8613.013.013.026.026.010.513.00.013.026.021.021.013.026.010.510.511.511.513.513.013.013.013.013.014.514.513.033.033.010.510.526.2526.2526.2565.065.065.065.016.073.573.573.513.023.011.513.023.013.026.026.073.513.026.026.012.2810.527.027.015.031.531.510.513.7926.026.021.012.3512.3513.512.350.010.526.026.010.7141.5841.5841.5841.5812.033.010.512.8810.512.3526.026.010.515.0537.037.037.015.5813.016.013.513.026.019.519.510.513.013.010.513.014.026.010.59.6930.0730.0726.026.026.013.036.7513.513.8610.513.010.513.8610.513.8610.50.026.010.515.0513.021.026.021.013.013.012.7415.0326.026.026.010.521.021.013.015.0518.7518.7518.7510.510.510.513.013.026.026.013.036.7513.013.512.3510.513.013.015.0510.513.065.010.513.012.6510.521.021.013.021.021.010.521.00.015.7515.7513.026.026.023.023.023.027.7527.7527.7527.7510.512.8813.013.013.513.07.5520.2520.2520.257.657.657.937.237.258.059.489.359.3518.797.897.937.057.058.058.322.537.8531.2831.2831.287.937.7831.2831.2831.287.87.7831.287.857.917.817.87.787.0531.3931.3931.3931.3931.3931.397.831.397.237.237.0514.467.237.857.237.2315.8515.8519.2619.2619.2619.268.057.237.97.2314.4514.457.888.058.057.789.357.234.0156.57.787.757.915.2515.257.2315.257.7515.515.516.17.737.857.057.257.88.057.287.826.757.888.668.668.668.668.668.667.757.758.0514.4614.467.87.857.757.757.258.057.7356.58.0514.4514.457.058.057.257.57.57.737.757.757.637.758.057.97.97.98.0515.915.915.97.258.1616.116.18.667.238.0510.5210.176.957.7514.414.414.47.97.924.158.0524.158.0516.116.117.417.49.59.520.5820.5820.5820.587.97.97.97.257.257.887.98.667.97.237.758.0512.487.758.057.97.757.5513.913.97.787.786.987.237.237.237.237.2512.487.2315.17.757.057.87.757.756.957.887.7556.534.3834.388.0534.3834.3834.387.757.257.7414.57.98.057.737.7520.5320.537.8520.537.0546.946.946.946.946.946.946.946.98.058.368.059.857.937.937.788.857.7319.9719.9715.8515.859.57.2314.117.857.8514.117.557.256.8618.797.756.9856.56.757.937.938.967.97.787.7512.2912.296.4522.537.937.758.057.657.897.237.97.937.937.97.97.87.057.857.857.057.758.116.57.787.88.657.787.8511.1311.130.07.780.011.1323.4523.4523.4523.457.97.857.859.839.837.937.138.437.97.87.857.5213.4213.427.237.237.757.257.757.757.838.057.7514.4514.457.757.757.748.668.6622.0322.0322.0312.187.8512.187.97.237.239.597.956.556.57.257.7556.59.487.787.787.2325.4725.4725.4725.4725.477.936.4415.515.50.024.159.57.787.7515.5515.557.937.8856.57.5516.116.17.887.258.667.057.857.587.97.557.757.147.137.887.758.057.937.237.757.747.237.97.97.237.97.757.7523.2523.2523.257.7915.57.888.037.757.7516.116.17.758.058.058.057.757.788.057.97.97.97.97.887.6512.4812.488.0524.1524.158.468.057.757.7815.2515.2515.257.238.057.737.758.0515.515.515.57.757.97.2315.7415.7415.748.057.97.237.757.911.2411.247.938.057.787.857.857.137.937.87.237.756.2415.57.8315.57.737.757.759.237.757.757.887.787.757.833.1722.538.47.317.857.857.789.238.668.668.669.228.687.6321.0821.0821.0821.0821.0839.6939.6939.6939.6939.6939.698.6614.58.717.913.7813.7813.787.07.788.057.937.937.257.7822.3622.3622.368.148.057.97.97.97.787.788.057.98.668.667.98.117.237.257.98.0529.1329.1329.1329.1329.1329.1339.697.137.7214.514.514.514.58.057.7820.2120.2120.218.058.058.057.7524.157.237.237.237.737.587.2569.5569.5569.5569.5569.5569.5569.5569.5569.5569.5569.559.337.657.9321.6821.6821.6816.716.716.79.58.058.057.737.97.759.515.17.788.058.057.238.057.97.937.527.927.927.927.927.927.97.98.058.667.757.737.658.058.058.057.98.667.558.05nan7.99.847.938.6610.4610.468.057.937.057.789.237.87.88.058.526.446.447.238.528.0516.116.17.937.757.98.058.057.230.07.2315.2515.2515.257.99.849.5914.514.514.524.1524.1524.159.59.59.59.59.018.018.018.018.07.237.857.857.99.08.057.558.059.57.237.756.56.57.08.717.558.0516.17.258.667.259.514.4514.457.237.2314.4614.4514.457.237.237.88 to numeric",
      "\nDuring handling of the above exception, another exception occurred:\n",
      "\u001b[1;31mValueError\u001b[0m                                Traceback (most recent call last)",
      "\u001b[1;32m~\\Anaconda3\\lib\\site-packages\\pandas\\core\\nanops.py\u001b[0m in \u001b[0;36m_ensure_numeric\u001b[1;34m(x)\u001b[0m\n\u001b[0;32m   1163\u001b[0m         \u001b[1;32mtry\u001b[0m\u001b[1;33m:\u001b[0m\u001b[1;33m\u001b[0m\u001b[1;33m\u001b[0m\u001b[0m\n\u001b[1;32m-> 1164\u001b[1;33m             \u001b[0mx\u001b[0m \u001b[1;33m=\u001b[0m \u001b[0mfloat\u001b[0m\u001b[1;33m(\u001b[0m\u001b[0mx\u001b[0m\u001b[1;33m)\u001b[0m\u001b[1;33m\u001b[0m\u001b[1;33m\u001b[0m\u001b[0m\n\u001b[0m\u001b[0;32m   1165\u001b[0m         \u001b[1;32mexcept\u001b[0m \u001b[0mException\u001b[0m\u001b[1;33m:\u001b[0m\u001b[1;33m\u001b[0m\u001b[1;33m\u001b[0m\u001b[0m\n",
      "\u001b[1;31mValueError\u001b[0m: could not convert string to float: '211.34151.55151.55151.55151.5526.5577.960.051.4849.5227.53227.5369.378.8530.025.93247.52247.5276.2975.2452.5552.5530.0227.53221.7826.091.0891.08135.6326.5535.531.0164.8726.5526.55262.3855.026.5530.550.539.627.7251.4876.29134.526.5531.026.2927.45512.33512.335.047.147.1120.0120.0120.0120.026.027.7278.8578.8561.1861.1853.153.1262.3886.529.755.00.0136.78136.78151.5552.025.5983.1683.1683.1625.726.5571.071.026.5571.2871.2826.5530.5151.5552.052.057.057.081.8681.8681.86106.43247.52106.4339.656.9329.783.16227.5378.2731.68221.7831.68110.8826.3927.75263.0263.0263.0263.0263.0263.056.9326.55133.6527.72133.6549.579.279.20.053.153.138.5211.559.459.479.289.189.134.6528.530.0153.46153.4663.3663.3679.255.4455.4476.7376.7342.483.4883.480.076.7330.083.1693.593.542.551.8650.057.9857.9877.9652.052.026.5590.030.790.080.028.710.026.026.0211.529.751.8651.8652.5552.5526.55211.3425.93106.43512.3327.7226.5527.7239.439.430.077.9645.5146.52211.3426.086.529.753.153.149.575.2451.8626.2982.1782.1726.5590.090.090.057.7530.542.429.7113.28113.28113.2826.2826.0108.925.7461.9861.9827.720.028.593.566.666.6108.9108.993.530.552.083.160.039.6135.63227.53211.3450.526.5550.027.7279.240.1386.559.459.426.55262.38262.38262.38262.38262.3830.569.326.057.7531.026.55153.4626.2955.955.935.535.526.5530.760.026.060.082.2782.27134.5134.5134.5146.52146.5230.526.5555.4455.4478.2727.7280.0221.78221.7832.3225.9379.6579.6579.6552.052.0110.88110.88110.8879.228.5427.7233.534.02512.3375.2575.2526.5577.2977.29135.63164.87164.87164.87211.5211.5211.526.5561.3861.3835.0134.535.526.55135.6324.024.013.011.510.526.026.013.011.510.513.010.512.5326.026.026.039.039.039.039.013.013.013.013.013.013.013.039.039.039.026.026.013.013.013.013.029.029.029.021.00.013.026.026.013.526.026.030.030.026.026.010.513.010.526.2526.2526.2510.513.021.011.50.036.7573.536.7513.013.073.527.7227.7231.573.523.023.026.032.532.532.513.8613.8613.013.013.026.026.010.513.00.013.026.021.021.013.026.010.510.511.511.513.513.013.013.013.013.014.514.513.033.033.010.510.526.2526.2526.2565.065.065.065.016.073.573.573.513.023.011.513.023.013.026.026.073.513.026.026.012.2810.527.027.015.031.531.510.513.7926.026.021.012.3512.3513.512.350.010.526.026.010.7141.5841.5841.5841.5812.033.010.512.8810.512.3526.026.010.515.0537.037.037.015.5813.016.013.513.026.019.519.510.513.013.010.513.014.026.010.59.6930.0730.0726.026.026.013.036.7513.513.8610.513.010.513.8610.513.8610.50.026.010.515.0513.021.026.021.013.013.012.7415.0326.026.026.010.521.021.013.015.0518.7518.7518.7510.510.510.513.013.026.026.013.036.7513.013.512.3510.513.013.015.0510.513.065.010.513.012.6510.521.021.013.021.021.010.521.00.015.7515.7513.026.026.023.023.023.027.7527.7527.7527.7510.512.8813.013.013.513.07.5520.2520.2520.257.657.657.937.237.258.059.489.359.3518.797.897.937.057.058.058.322.537.8531.2831.2831.287.937.7831.2831.2831.287.87.7831.287.857.917.817.87.787.0531.3931.3931.3931.3931.3931.397.831.397.237.237.0514.467.237.857.237.2315.8515.8519.2619.2619.2619.268.057.237.97.2314.4514.457.888.058.057.789.357.234.0156.57.787.757.915.2515.257.2315.257.7515.515.516.17.737.857.057.257.88.057.287.826.757.888.668.668.668.668.668.667.757.758.0514.4614.467.87.857.757.757.258.057.7356.58.0514.4514.457.058.057.257.57.57.737.757.757.637.758.057.97.97.98.0515.915.915.97.258.1616.116.18.667.238.0510.5210.176.957.7514.414.414.47.97.924.158.0524.158.0516.116.117.417.49.59.520.5820.5820.5820.587.97.97.97.257.257.887.98.667.97.237.758.0512.487.758.057.97.757.5513.913.97.787.786.987.237.237.237.237.2512.487.2315.17.757.057.87.757.756.957.887.7556.534.3834.388.0534.3834.3834.387.757.257.7414.57.98.057.737.7520.5320.537.8520.537.0546.946.946.946.946.946.946.946.98.058.368.059.857.937.937.788.857.7319.9719.9715.8515.859.57.2314.117.857.8514.117.557.256.8618.797.756.9856.56.757.937.938.967.97.787.7512.2912.296.4522.537.937.758.057.657.897.237.97.937.937.97.97.87.057.857.857.057.758.116.57.787.88.657.787.8511.1311.130.07.780.011.1323.4523.4523.4523.457.97.857.859.839.837.937.138.437.97.87.857.5213.4213.427.237.237.757.257.757.757.838.057.7514.4514.457.757.757.748.668.6622.0322.0322.0312.187.8512.187.97.237.239.597.956.556.57.257.7556.59.487.787.787.2325.4725.4725.4725.4725.477.936.4415.515.50.024.159.57.787.7515.5515.557.937.8856.57.5516.116.17.887.258.667.057.857.587.97.557.757.147.137.887.758.057.937.237.757.747.237.97.97.237.97.757.7523.2523.2523.257.7915.57.888.037.757.7516.116.17.758.058.058.057.757.788.057.97.97.97.97.887.6512.4812.488.0524.1524.158.468.057.757.7815.2515.2515.257.238.057.737.758.0515.515.515.57.757.97.2315.7415.7415.748.057.97.237.757.911.2411.247.938.057.787.857.857.137.937.87.237.756.2415.57.8315.57.737.757.759.237.757.757.887.787.757.833.1722.538.47.317.857.857.789.238.668.668.669.228.687.6321.0821.0821.0821.0821.0839.6939.6939.6939.6939.6939.698.6614.58.717.913.7813.7813.787.07.788.057.937.937.257.7822.3622.3622.368.148.057.97.97.97.787.788.057.98.668.667.98.117.237.257.98.0529.1329.1329.1329.1329.1329.1339.697.137.7214.514.514.514.58.057.7820.2120.2120.218.058.058.057.7524.157.237.237.237.737.587.2569.5569.5569.5569.5569.5569.5569.5569.5569.5569.5569.559.337.657.9321.6821.6821.6816.716.716.79.58.058.057.737.97.759.515.17.788.058.057.238.057.97.937.527.927.927.927.927.927.97.98.058.667.757.737.658.058.058.057.98.667.558.05nan7.99.847.938.6610.4610.468.057.937.057.789.237.87.88.058.526.446.447.238.528.0516.116.17.937.757.98.058.057.230.07.2315.2515.2515.257.99.849.5914.514.514.524.1524.1524.159.59.59.59.59.018.018.018.018.07.237.857.857.99.08.057.558.059.57.237.756.56.57.08.717.558.0516.17.258.667.259.514.4514.457.237.2314.4614.4514.457.237.237.88'",
      "\nDuring handling of the above exception, another exception occurred:\n",
      "\u001b[1;31mValueError\u001b[0m                                Traceback (most recent call last)",
      "\u001b[1;32m~\\Anaconda3\\lib\\site-packages\\pandas\\core\\nanops.py\u001b[0m in \u001b[0;36m_ensure_numeric\u001b[1;34m(x)\u001b[0m\n\u001b[0;32m   1166\u001b[0m             \u001b[1;32mtry\u001b[0m\u001b[1;33m:\u001b[0m\u001b[1;33m\u001b[0m\u001b[1;33m\u001b[0m\u001b[0m\n\u001b[1;32m-> 1167\u001b[1;33m                 \u001b[0mx\u001b[0m \u001b[1;33m=\u001b[0m \u001b[0mcomplex\u001b[0m\u001b[1;33m(\u001b[0m\u001b[0mx\u001b[0m\u001b[1;33m)\u001b[0m\u001b[1;33m\u001b[0m\u001b[1;33m\u001b[0m\u001b[0m\n\u001b[0m\u001b[0;32m   1168\u001b[0m             \u001b[1;32mexcept\u001b[0m \u001b[0mException\u001b[0m\u001b[1;33m:\u001b[0m\u001b[1;33m\u001b[0m\u001b[1;33m\u001b[0m\u001b[0m\n",
      "\u001b[1;31mValueError\u001b[0m: complex() arg is a malformed string",
      "\nDuring handling of the above exception, another exception occurred:\n",
      "\u001b[1;31mTypeError\u001b[0m                                 Traceback (most recent call last)",
      "\u001b[1;32m<ipython-input-14-dd5003d6df8e>\u001b[0m in \u001b[0;36m<module>\u001b[1;34m\u001b[0m\n\u001b[0;32m      1\u001b[0m \u001b[0mdf\u001b[0m\u001b[1;33m.\u001b[0m\u001b[0mage\u001b[0m\u001b[1;33m.\u001b[0m\u001b[0mfillna\u001b[0m\u001b[1;33m(\u001b[0m\u001b[0mdf\u001b[0m\u001b[1;33m.\u001b[0m\u001b[0mage\u001b[0m\u001b[1;33m.\u001b[0m\u001b[0mmean\u001b[0m\u001b[1;33m(\u001b[0m\u001b[1;33m)\u001b[0m\u001b[1;33m,\u001b[0m \u001b[0minplace\u001b[0m \u001b[1;33m=\u001b[0m \u001b[1;32mTrue\u001b[0m\u001b[1;33m)\u001b[0m\u001b[1;33m\u001b[0m\u001b[1;33m\u001b[0m\u001b[0m\n\u001b[1;32m----> 2\u001b[1;33m \u001b[0mdf\u001b[0m\u001b[1;33m.\u001b[0m\u001b[0mfare\u001b[0m\u001b[1;33m.\u001b[0m\u001b[0mfillna\u001b[0m\u001b[1;33m(\u001b[0m\u001b[0mdf\u001b[0m\u001b[1;33m.\u001b[0m\u001b[0mfare\u001b[0m\u001b[1;33m.\u001b[0m\u001b[0mmean\u001b[0m\u001b[1;33m(\u001b[0m\u001b[1;33m)\u001b[0m\u001b[1;33m,\u001b[0m \u001b[0minplace\u001b[0m \u001b[1;33m=\u001b[0m \u001b[1;32mTrue\u001b[0m\u001b[1;33m)\u001b[0m\u001b[1;33m\u001b[0m\u001b[1;33m\u001b[0m\u001b[0m\n\u001b[0m\u001b[0;32m      3\u001b[0m \u001b[0mprint\u001b[0m\u001b[1;33m(\u001b[0m\u001b[0mdf\u001b[0m\u001b[1;33m.\u001b[0m\u001b[0misna\u001b[0m\u001b[1;33m(\u001b[0m\u001b[1;33m)\u001b[0m\u001b[1;33m.\u001b[0m\u001b[0many\u001b[0m\u001b[1;33m(\u001b[0m\u001b[1;33m)\u001b[0m\u001b[1;33m)\u001b[0m\u001b[1;33m\u001b[0m\u001b[1;33m\u001b[0m\u001b[0m\n\u001b[0;32m      4\u001b[0m \u001b[0mprint\u001b[0m\u001b[1;33m(\u001b[0m\u001b[0mdf\u001b[0m\u001b[1;33m.\u001b[0m\u001b[0mshape\u001b[0m\u001b[1;33m)\u001b[0m\u001b[1;33m\u001b[0m\u001b[1;33m\u001b[0m\u001b[0m\n\u001b[0;32m      5\u001b[0m \u001b[0mdf\u001b[0m\u001b[1;33m.\u001b[0m\u001b[0mdropna\u001b[0m\u001b[1;33m(\u001b[0m\u001b[0minplace\u001b[0m \u001b[1;33m=\u001b[0m \u001b[1;32mTrue\u001b[0m\u001b[1;33m)\u001b[0m\u001b[1;33m\u001b[0m\u001b[1;33m\u001b[0m\u001b[0m\n",
      "\u001b[1;32m~\\Anaconda3\\lib\\site-packages\\pandas\\core\\generic.py\u001b[0m in \u001b[0;36mstat_func\u001b[1;34m(self, axis, skipna, level, numeric_only, **kwargs)\u001b[0m\n\u001b[0;32m  10954\u001b[0m                                       skipna=skipna)\n\u001b[0;32m  10955\u001b[0m         return self._reduce(f, name, axis=axis, skipna=skipna,\n\u001b[1;32m> 10956\u001b[1;33m                             numeric_only=numeric_only)\n\u001b[0m\u001b[0;32m  10957\u001b[0m \u001b[1;33m\u001b[0m\u001b[0m\n\u001b[0;32m  10958\u001b[0m     \u001b[1;32mreturn\u001b[0m \u001b[0mset_function_name\u001b[0m\u001b[1;33m(\u001b[0m\u001b[0mstat_func\u001b[0m\u001b[1;33m,\u001b[0m \u001b[0mname\u001b[0m\u001b[1;33m,\u001b[0m \u001b[0mcls\u001b[0m\u001b[1;33m)\u001b[0m\u001b[1;33m\u001b[0m\u001b[1;33m\u001b[0m\u001b[0m\n",
      "\u001b[1;32m~\\Anaconda3\\lib\\site-packages\\pandas\\core\\series.py\u001b[0m in \u001b[0;36m_reduce\u001b[1;34m(self, op, name, axis, skipna, numeric_only, filter_type, **kwds)\u001b[0m\n\u001b[0;32m   3628\u001b[0m                                           'numeric_only.'.format(name))\n\u001b[0;32m   3629\u001b[0m             \u001b[1;32mwith\u001b[0m \u001b[0mnp\u001b[0m\u001b[1;33m.\u001b[0m\u001b[0merrstate\u001b[0m\u001b[1;33m(\u001b[0m\u001b[0mall\u001b[0m\u001b[1;33m=\u001b[0m\u001b[1;34m'ignore'\u001b[0m\u001b[1;33m)\u001b[0m\u001b[1;33m:\u001b[0m\u001b[1;33m\u001b[0m\u001b[1;33m\u001b[0m\u001b[0m\n\u001b[1;32m-> 3630\u001b[1;33m                 \u001b[1;32mreturn\u001b[0m \u001b[0mop\u001b[0m\u001b[1;33m(\u001b[0m\u001b[0mdelegate\u001b[0m\u001b[1;33m,\u001b[0m \u001b[0mskipna\u001b[0m\u001b[1;33m=\u001b[0m\u001b[0mskipna\u001b[0m\u001b[1;33m,\u001b[0m \u001b[1;33m**\u001b[0m\u001b[0mkwds\u001b[0m\u001b[1;33m)\u001b[0m\u001b[1;33m\u001b[0m\u001b[1;33m\u001b[0m\u001b[0m\n\u001b[0m\u001b[0;32m   3631\u001b[0m \u001b[1;33m\u001b[0m\u001b[0m\n\u001b[0;32m   3632\u001b[0m         \u001b[1;31m# TODO(EA) dispatch to Index\u001b[0m\u001b[1;33m\u001b[0m\u001b[1;33m\u001b[0m\u001b[1;33m\u001b[0m\u001b[0m\n",
      "\u001b[1;32m~\\Anaconda3\\lib\\site-packages\\pandas\\core\\nanops.py\u001b[0m in \u001b[0;36m_f\u001b[1;34m(*args, **kwargs)\u001b[0m\n\u001b[0;32m     74\u001b[0m             \u001b[1;32mtry\u001b[0m\u001b[1;33m:\u001b[0m\u001b[1;33m\u001b[0m\u001b[1;33m\u001b[0m\u001b[0m\n\u001b[0;32m     75\u001b[0m                 \u001b[1;32mwith\u001b[0m \u001b[0mnp\u001b[0m\u001b[1;33m.\u001b[0m\u001b[0merrstate\u001b[0m\u001b[1;33m(\u001b[0m\u001b[0minvalid\u001b[0m\u001b[1;33m=\u001b[0m\u001b[1;34m'ignore'\u001b[0m\u001b[1;33m)\u001b[0m\u001b[1;33m:\u001b[0m\u001b[1;33m\u001b[0m\u001b[1;33m\u001b[0m\u001b[0m\n\u001b[1;32m---> 76\u001b[1;33m                     \u001b[1;32mreturn\u001b[0m \u001b[0mf\u001b[0m\u001b[1;33m(\u001b[0m\u001b[1;33m*\u001b[0m\u001b[0margs\u001b[0m\u001b[1;33m,\u001b[0m \u001b[1;33m**\u001b[0m\u001b[0mkwargs\u001b[0m\u001b[1;33m)\u001b[0m\u001b[1;33m\u001b[0m\u001b[1;33m\u001b[0m\u001b[0m\n\u001b[0m\u001b[0;32m     77\u001b[0m             \u001b[1;32mexcept\u001b[0m \u001b[0mValueError\u001b[0m \u001b[1;32mas\u001b[0m \u001b[0me\u001b[0m\u001b[1;33m:\u001b[0m\u001b[1;33m\u001b[0m\u001b[1;33m\u001b[0m\u001b[0m\n\u001b[0;32m     78\u001b[0m                 \u001b[1;31m# we want to transform an object array\u001b[0m\u001b[1;33m\u001b[0m\u001b[1;33m\u001b[0m\u001b[1;33m\u001b[0m\u001b[0m\n",
      "\u001b[1;32m~\\Anaconda3\\lib\\site-packages\\pandas\\core\\nanops.py\u001b[0m in \u001b[0;36mf\u001b[1;34m(values, axis, skipna, **kwds)\u001b[0m\n\u001b[0;32m    128\u001b[0m             \u001b[1;32mexcept\u001b[0m \u001b[0mException\u001b[0m\u001b[1;33m:\u001b[0m\u001b[1;33m\u001b[0m\u001b[1;33m\u001b[0m\u001b[0m\n\u001b[0;32m    129\u001b[0m                 \u001b[1;32mtry\u001b[0m\u001b[1;33m:\u001b[0m\u001b[1;33m\u001b[0m\u001b[1;33m\u001b[0m\u001b[0m\n\u001b[1;32m--> 130\u001b[1;33m                     \u001b[0mresult\u001b[0m \u001b[1;33m=\u001b[0m \u001b[0malt\u001b[0m\u001b[1;33m(\u001b[0m\u001b[0mvalues\u001b[0m\u001b[1;33m,\u001b[0m \u001b[0maxis\u001b[0m\u001b[1;33m=\u001b[0m\u001b[0maxis\u001b[0m\u001b[1;33m,\u001b[0m \u001b[0mskipna\u001b[0m\u001b[1;33m=\u001b[0m\u001b[0mskipna\u001b[0m\u001b[1;33m,\u001b[0m \u001b[1;33m**\u001b[0m\u001b[0mkwds\u001b[0m\u001b[1;33m)\u001b[0m\u001b[1;33m\u001b[0m\u001b[1;33m\u001b[0m\u001b[0m\n\u001b[0m\u001b[0;32m    131\u001b[0m                 \u001b[1;32mexcept\u001b[0m \u001b[0mValueError\u001b[0m \u001b[1;32mas\u001b[0m \u001b[0me\u001b[0m\u001b[1;33m:\u001b[0m\u001b[1;33m\u001b[0m\u001b[1;33m\u001b[0m\u001b[0m\n\u001b[0;32m    132\u001b[0m                     \u001b[1;31m# we want to transform an object array\u001b[0m\u001b[1;33m\u001b[0m\u001b[1;33m\u001b[0m\u001b[1;33m\u001b[0m\u001b[0m\n",
      "\u001b[1;32m~\\Anaconda3\\lib\\site-packages\\pandas\\core\\nanops.py\u001b[0m in \u001b[0;36mnanmean\u001b[1;34m(values, axis, skipna, mask)\u001b[0m\n\u001b[0;32m    477\u001b[0m         \u001b[0mdtype_count\u001b[0m \u001b[1;33m=\u001b[0m \u001b[0mdtype\u001b[0m\u001b[1;33m\u001b[0m\u001b[1;33m\u001b[0m\u001b[0m\n\u001b[0;32m    478\u001b[0m     \u001b[0mcount\u001b[0m \u001b[1;33m=\u001b[0m \u001b[0m_get_counts\u001b[0m\u001b[1;33m(\u001b[0m\u001b[0mmask\u001b[0m\u001b[1;33m,\u001b[0m \u001b[0maxis\u001b[0m\u001b[1;33m,\u001b[0m \u001b[0mdtype\u001b[0m\u001b[1;33m=\u001b[0m\u001b[0mdtype_count\u001b[0m\u001b[1;33m)\u001b[0m\u001b[1;33m\u001b[0m\u001b[1;33m\u001b[0m\u001b[0m\n\u001b[1;32m--> 479\u001b[1;33m     \u001b[0mthe_sum\u001b[0m \u001b[1;33m=\u001b[0m \u001b[0m_ensure_numeric\u001b[0m\u001b[1;33m(\u001b[0m\u001b[0mvalues\u001b[0m\u001b[1;33m.\u001b[0m\u001b[0msum\u001b[0m\u001b[1;33m(\u001b[0m\u001b[0maxis\u001b[0m\u001b[1;33m,\u001b[0m \u001b[0mdtype\u001b[0m\u001b[1;33m=\u001b[0m\u001b[0mdtype_sum\u001b[0m\u001b[1;33m)\u001b[0m\u001b[1;33m)\u001b[0m\u001b[1;33m\u001b[0m\u001b[1;33m\u001b[0m\u001b[0m\n\u001b[0m\u001b[0;32m    480\u001b[0m \u001b[1;33m\u001b[0m\u001b[0m\n\u001b[0;32m    481\u001b[0m     \u001b[1;32mif\u001b[0m \u001b[0maxis\u001b[0m \u001b[1;32mis\u001b[0m \u001b[1;32mnot\u001b[0m \u001b[1;32mNone\u001b[0m \u001b[1;32mand\u001b[0m \u001b[0mgetattr\u001b[0m\u001b[1;33m(\u001b[0m\u001b[0mthe_sum\u001b[0m\u001b[1;33m,\u001b[0m \u001b[1;34m'ndim'\u001b[0m\u001b[1;33m,\u001b[0m \u001b[1;32mFalse\u001b[0m\u001b[1;33m)\u001b[0m\u001b[1;33m:\u001b[0m\u001b[1;33m\u001b[0m\u001b[1;33m\u001b[0m\u001b[0m\n",
      "\u001b[1;32m~\\Anaconda3\\lib\\site-packages\\pandas\\core\\nanops.py\u001b[0m in \u001b[0;36m_ensure_numeric\u001b[1;34m(x)\u001b[0m\n\u001b[0;32m   1168\u001b[0m             \u001b[1;32mexcept\u001b[0m \u001b[0mException\u001b[0m\u001b[1;33m:\u001b[0m\u001b[1;33m\u001b[0m\u001b[1;33m\u001b[0m\u001b[0m\n\u001b[0;32m   1169\u001b[0m                 raise TypeError('Could not convert {value!s} to numeric'\n\u001b[1;32m-> 1170\u001b[1;33m                                 .format(value=x))\n\u001b[0m\u001b[0;32m   1171\u001b[0m     \u001b[1;32mreturn\u001b[0m \u001b[0mx\u001b[0m\u001b[1;33m\u001b[0m\u001b[1;33m\u001b[0m\u001b[0m\n\u001b[0;32m   1172\u001b[0m \u001b[1;33m\u001b[0m\u001b[0m\n",
      "\u001b[1;31mTypeError\u001b[0m: Could not convert 211.34151.55151.55151.55151.5526.5577.960.051.4849.5227.53227.5369.378.8530.025.93247.52247.5276.2975.2452.5552.5530.0227.53221.7826.091.0891.08135.6326.5535.531.0164.8726.5526.55262.3855.026.5530.550.539.627.7251.4876.29134.526.5531.026.2927.45512.33512.335.047.147.1120.0120.0120.0120.026.027.7278.8578.8561.1861.1853.153.1262.3886.529.755.00.0136.78136.78151.5552.025.5983.1683.1683.1625.726.5571.071.026.5571.2871.2826.5530.5151.5552.052.057.057.081.8681.8681.86106.43247.52106.4339.656.9329.783.16227.5378.2731.68221.7831.68110.8826.3927.75263.0263.0263.0263.0263.0263.056.9326.55133.6527.72133.6549.579.279.20.053.153.138.5211.559.459.479.289.189.134.6528.530.0153.46153.4663.3663.3679.255.4455.4476.7376.7342.483.4883.480.076.7330.083.1693.593.542.551.8650.057.9857.9877.9652.052.026.5590.030.790.080.028.710.026.026.0211.529.751.8651.8652.5552.5526.55211.3425.93106.43512.3327.7226.5527.7239.439.430.077.9645.5146.52211.3426.086.529.753.153.149.575.2451.8626.2982.1782.1726.5590.090.090.057.7530.542.429.7113.28113.28113.2826.2826.0108.925.7461.9861.9827.720.028.593.566.666.6108.9108.993.530.552.083.160.039.6135.63227.53211.3450.526.5550.027.7279.240.1386.559.459.426.55262.38262.38262.38262.38262.3830.569.326.057.7531.026.55153.4626.2955.955.935.535.526.5530.760.026.060.082.2782.27134.5134.5134.5146.52146.5230.526.5555.4455.4478.2727.7280.0221.78221.7832.3225.9379.6579.6579.6552.052.0110.88110.88110.8879.228.5427.7233.534.02512.3375.2575.2526.5577.2977.29135.63164.87164.87164.87211.5211.5211.526.5561.3861.3835.0134.535.526.55135.6324.024.013.011.510.526.026.013.011.510.513.010.512.5326.026.026.039.039.039.039.013.013.013.013.013.013.013.039.039.039.026.026.013.013.013.013.029.029.029.021.00.013.026.026.013.526.026.030.030.026.026.010.513.010.526.2526.2526.2510.513.021.011.50.036.7573.536.7513.013.073.527.7227.7231.573.523.023.026.032.532.532.513.8613.8613.013.013.026.026.010.513.00.013.026.021.021.013.026.010.510.511.511.513.513.013.013.013.013.014.514.513.033.033.010.510.526.2526.2526.2565.065.065.065.016.073.573.573.513.023.011.513.023.013.026.026.073.513.026.026.012.2810.527.027.015.031.531.510.513.7926.026.021.012.3512.3513.512.350.010.526.026.010.7141.5841.5841.5841.5812.033.010.512.8810.512.3526.026.010.515.0537.037.037.015.5813.016.013.513.026.019.519.510.513.013.010.513.014.026.010.59.6930.0730.0726.026.026.013.036.7513.513.8610.513.010.513.8610.513.8610.50.026.010.515.0513.021.026.021.013.013.012.7415.0326.026.026.010.521.021.013.015.0518.7518.7518.7510.510.510.513.013.026.026.013.036.7513.013.512.3510.513.013.015.0510.513.065.010.513.012.6510.521.021.013.021.021.010.521.00.015.7515.7513.026.026.023.023.023.027.7527.7527.7527.7510.512.8813.013.013.513.07.5520.2520.2520.257.657.657.937.237.258.059.489.359.3518.797.897.937.057.058.058.322.537.8531.2831.2831.287.937.7831.2831.2831.287.87.7831.287.857.917.817.87.787.0531.3931.3931.3931.3931.3931.397.831.397.237.237.0514.467.237.857.237.2315.8515.8519.2619.2619.2619.268.057.237.97.2314.4514.457.888.058.057.789.357.234.0156.57.787.757.915.2515.257.2315.257.7515.515.516.17.737.857.057.257.88.057.287.826.757.888.668.668.668.668.668.667.757.758.0514.4614.467.87.857.757.757.258.057.7356.58.0514.4514.457.058.057.257.57.57.737.757.757.637.758.057.97.97.98.0515.915.915.97.258.1616.116.18.667.238.0510.5210.176.957.7514.414.414.47.97.924.158.0524.158.0516.116.117.417.49.59.520.5820.5820.5820.587.97.97.97.257.257.887.98.667.97.237.758.0512.487.758.057.97.757.5513.913.97.787.786.987.237.237.237.237.2512.487.2315.17.757.057.87.757.756.957.887.7556.534.3834.388.0534.3834.3834.387.757.257.7414.57.98.057.737.7520.5320.537.8520.537.0546.946.946.946.946.946.946.946.98.058.368.059.857.937.937.788.857.7319.9719.9715.8515.859.57.2314.117.857.8514.117.557.256.8618.797.756.9856.56.757.937.938.967.97.787.7512.2912.296.4522.537.937.758.057.657.897.237.97.937.937.97.97.87.057.857.857.057.758.116.57.787.88.657.787.8511.1311.130.07.780.011.1323.4523.4523.4523.457.97.857.859.839.837.937.138.437.97.87.857.5213.4213.427.237.237.757.257.757.757.838.057.7514.4514.457.757.757.748.668.6622.0322.0322.0312.187.8512.187.97.237.239.597.956.556.57.257.7556.59.487.787.787.2325.4725.4725.4725.4725.477.936.4415.515.50.024.159.57.787.7515.5515.557.937.8856.57.5516.116.17.887.258.667.057.857.587.97.557.757.147.137.887.758.057.937.237.757.747.237.97.97.237.97.757.7523.2523.2523.257.7915.57.888.037.757.7516.116.17.758.058.058.057.757.788.057.97.97.97.97.887.6512.4812.488.0524.1524.158.468.057.757.7815.2515.2515.257.238.057.737.758.0515.515.515.57.757.97.2315.7415.7415.748.057.97.237.757.911.2411.247.938.057.787.857.857.137.937.87.237.756.2415.57.8315.57.737.757.759.237.757.757.887.787.757.833.1722.538.47.317.857.857.789.238.668.668.669.228.687.6321.0821.0821.0821.0821.0839.6939.6939.6939.6939.6939.698.6614.58.717.913.7813.7813.787.07.788.057.937.937.257.7822.3622.3622.368.148.057.97.97.97.787.788.057.98.668.667.98.117.237.257.98.0529.1329.1329.1329.1329.1329.1339.697.137.7214.514.514.514.58.057.7820.2120.2120.218.058.058.057.7524.157.237.237.237.737.587.2569.5569.5569.5569.5569.5569.5569.5569.5569.5569.5569.559.337.657.9321.6821.6821.6816.716.716.79.58.058.057.737.97.759.515.17.788.058.057.238.057.97.937.527.927.927.927.927.927.97.98.058.667.757.737.658.058.058.057.98.667.558.05nan7.99.847.938.6610.4610.468.057.937.057.789.237.87.88.058.526.446.447.238.528.0516.116.17.937.757.98.058.057.230.07.2315.2515.2515.257.99.849.5914.514.514.524.1524.1524.159.59.59.59.59.018.018.018.018.07.237.857.857.99.08.057.558.059.57.237.756.56.57.08.717.558.0516.17.258.667.259.514.4514.457.237.2314.4614.4514.457.237.237.88 to numeric"
     ]
    }
   ],
   "source": [
    "df.age.fillna(df.age.mean(), inplace = True)\n",
    "df.fare.fillna(df.fare.mean(), inplace = True)\n",
    "print(df.isna().any())\n",
    "print(df.shape)\n",
    "df.dropna(inplace = True)\n",
    "print(df.shape)"
   ]
  },
  {
   "cell_type": "code",
   "execution_count": null,
   "metadata": {},
   "outputs": [],
   "source": [
    "print(df.isna().any())"
   ]
  },
  {
   "cell_type": "code",
   "execution_count": null,
   "metadata": {},
   "outputs": [],
   "source": [
    "%%time\n",
    "df.to_csv('titanic_result.csv')"
   ]
  },
  {
   "cell_type": "code",
   "execution_count": null,
   "metadata": {},
   "outputs": [],
   "source": [
    "%%time\n",
    "df.survived.replace( {0:'D', 1:'A'} , inplace = True)"
   ]
  },
  {
   "cell_type": "code",
   "execution_count": null,
   "metadata": {},
   "outputs": [],
   "source": [
    "%%time\n",
    "df.head()"
   ]
  },
  {
   "cell_type": "code",
   "execution_count": null,
   "metadata": {},
   "outputs": [],
   "source": [
    "group by gender and survived and see the counts in each category\n",
    "find different pclass and no of people in each class\n",
    "\n",
    "find top 5 people with highest values of age. Count no of male and females in the top 5\n",
    "\n",
    "find max age male and female who survived\n",
    "get average age by gender\n",
    "get average age by people survived vs not-survived"
   ]
  },
  {
   "cell_type": "code",
   "execution_count": null,
   "metadata": {},
   "outputs": [],
   "source": [
    "r = df.survived.value_counts()\n",
    "print(r)\n",
    "print(type(r))\n",
    "\n",
    "print(r.index)\n",
    "print(r.values)"
   ]
  },
  {
   "cell_type": "code",
   "execution_count": null,
   "metadata": {},
   "outputs": [],
   "source": [
    "r = df.groupby(['survived', 'gender'])\n",
    "print(r)\n",
    "print(r.groups)\n",
    "print(r.size())"
   ]
  },
  {
   "cell_type": "code",
   "execution_count": null,
   "metadata": {},
   "outputs": [],
   "source": [
    "r = df.groupby(['survived', 'gender'])\n",
    "print(r.age.min())\n",
    "print(r.age.mean())"
   ]
  },
  {
   "cell_type": "code",
   "execution_count": null,
   "metadata": {},
   "outputs": [],
   "source": [
    "df.age.sort_values()"
   ]
  },
  {
   "cell_type": "code",
   "execution_count": null,
   "metadata": {},
   "outputs": [],
   "source": [
    "r = df.sort_values(by = ['age'], ascending = False).head()\n",
    "print(r)\n",
    "print(r.gender.value_counts())"
   ]
  },
  {
   "cell_type": "code",
   "execution_count": null,
   "metadata": {},
   "outputs": [],
   "source": [
    "idx = df.survived == 'A'\n",
    "p =df[idx]\n",
    "r = p.groupby(['gender'])\n",
    "print(r.age.max())\n",
    "\n",
    "print(dir(r.groups))\n",
    "print(r.groups.keys())\n",
    "print(type(r))\n",
    "print(type(r.count()))"
   ]
  },
  {
   "cell_type": "code",
   "execution_count": null,
   "metadata": {},
   "outputs": [],
   "source": [
    "a = [10,20,30]\n",
    "a.sort()\n",
    "a.find(10)"
   ]
  }
 ],
 "metadata": {
  "kernelspec": {
   "display_name": "Python 3",
   "language": "python",
   "name": "python3"
  },
  "language_info": {
   "codemirror_mode": {
    "name": "ipython",
    "version": 3
   },
   "file_extension": ".py",
   "mimetype": "text/x-python",
   "name": "python",
   "nbconvert_exporter": "python",
   "pygments_lexer": "ipython3",
   "version": "3.7.3"
  }
 },
 "nbformat": 4,
 "nbformat_minor": 2
}
