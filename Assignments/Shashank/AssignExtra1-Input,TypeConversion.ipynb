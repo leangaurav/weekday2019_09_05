{
 "cells": [
  {
   "cell_type": "markdown",
   "metadata": {},
   "source": [
    "### 1. Input temperature in Fahrenheit in print in Celcius"
   ]
  },
  {
   "cell_type": "code",
   "execution_count": 4,
   "metadata": {},
   "outputs": [
    {
     "name": "stdout",
     "output_type": "stream",
     "text": [
      "Enter Temperature in Fahrenheit:76\n",
      "Tempearture in Celcius: 24\n"
     ]
    }
   ],
   "source": [
    "inp_fah = float(input(\"Enter Temperature in Fahrenheit:\"))\n",
    "cel = (inp_fah - 32) / 1.8\n",
    "print(\"Tempearture in Celcius:\",int(cel))"
   ]
  },
  {
   "cell_type": "markdown",
   "metadata": {},
   "source": [
    "### 2. WAP to input a number and print its square and cube"
   ]
  },
  {
   "cell_type": "code",
   "execution_count": 5,
   "metadata": {},
   "outputs": [
    {
     "name": "stdout",
     "output_type": "stream",
     "text": [
      "Enter a number:4\n",
      "Square: 16\n",
      "Cube: 64\n"
     ]
    }
   ],
   "source": [
    "inp = int(input(\"Enter a number:\"))\n",
    "print(\"Square:\",inp**2)\n",
    "print(\"Cube:\",inp**3)"
   ]
  },
  {
   "cell_type": "markdown",
   "metadata": {},
   "source": [
    "### 3. WAP to input a number n and a number m and print the result of following:\n",
    "###                    n2 + m2"
   ]
  },
  {
   "cell_type": "code",
   "execution_count": 6,
   "metadata": {},
   "outputs": [
    {
     "name": "stdout",
     "output_type": "stream",
     "text": [
      "Enter number N:3\n",
      "Enter number M:4\n",
      "Square: 25\n"
     ]
    }
   ],
   "source": [
    "inp_n = int(input(\"Enter number N:\"))\n",
    "inp_m = int(input(\"Enter number M:\"))\n",
    "\n",
    "print(\"Square:\",(inp_n**2) + (inp_m**2))"
   ]
  },
  {
   "cell_type": "markdown",
   "metadata": {},
   "source": [
    "### 4. WAP to input a numbers M and N and print result of MN. (use both ** and pow)"
   ]
  },
  {
   "cell_type": "code",
   "execution_count": 7,
   "metadata": {},
   "outputs": [
    {
     "name": "stdout",
     "output_type": "stream",
     "text": [
      "Enter number M:3\n",
      "Enter number N:4\n",
      "Power of entered number using ** operator : 64\n",
      "Power of entered number using pow function: 64\n"
     ]
    }
   ],
   "source": [
    "inp_m = int(input(\"Enter number M:\"))\n",
    "inp_m = int(input(\"Enter number N:\"))\n",
    "\n",
    "print(\"Power of entered number using ** operator :\",inp_m**inp_n)\n",
    "print(\"Power of entered number using pow function:\",pow(inp_m,inp_n))"
   ]
  },
  {
   "cell_type": "markdown",
   "metadata": {},
   "source": [
    "### 5. Write a simple interest calculator."
   ]
  },
  {
   "cell_type": "code",
   "execution_count": 13,
   "metadata": {},
   "outputs": [
    {
     "name": "stdout",
     "output_type": "stream",
     "text": [
      "Enter Principle Amount:1000\n",
      "Enter Interest Rate:2\n",
      "Enter Time Period:4.8\n",
      "Simple Interest: 96.0\n",
      "Total Amount 1096.0\n"
     ]
    }
   ],
   "source": [
    "inp_p = float(input(\"Enter Principle Amount:\"))\n",
    "inp_r = float(input(\"Enter Interest Rate:\"))\n",
    "inp_t = float(input(\"Enter Time Period:\"))\n",
    "\n",
    "si = (inp_p*inp_r*inp_t)/100\n",
    "print(\"Simple Interest:\",si)\n",
    "print(\"Total Amount\", inp_p + si)"
   ]
  },
  {
   "cell_type": "markdown",
   "metadata": {},
   "source": [
    "### 6. Input Principal, Rate, Time and print Compound Interest and Amount."
   ]
  },
  {
   "cell_type": "code",
   "execution_count": 14,
   "metadata": {},
   "outputs": [
    {
     "name": "stdout",
     "output_type": "stream",
     "text": [
      "Enter Principle Amount:1000\n",
      "Enter Interest Rate:2\n",
      "Enter Time Period:4.8\n",
      "Compound Interest: 99.71671082386183\n",
      "Total Amount: 1099.7167108238618\n"
     ]
    }
   ],
   "source": [
    "inp_p = float(input(\"Enter Principle Amount:\"))\n",
    "inp_r = float(input(\"Enter Interest Rate:\"))\n",
    "inp_t = float(input(\"Enter Time Period:\"))\n",
    "\n",
    "ci = inp_p * pow( (1 + inp_r / 100), inp_t )\n",
    "print(\"Compound Interest:\",ci - inp_p)\n",
    "print(\"Total Amount:\",ci)"
   ]
  },
  {
   "cell_type": "markdown",
   "metadata": {},
   "source": [
    "### 7. WAP to print sum of first n natural numbers. (n needs to be taken as input)."
   ]
  },
  {
   "cell_type": "code",
   "execution_count": 9,
   "metadata": {},
   "outputs": [
    {
     "name": "stdout",
     "output_type": "stream",
     "text": [
      "Enter number:123497490\n",
      "39\n"
     ]
    }
   ],
   "source": [
    "inp = input(\"Enter number:\")\n",
    "sm = 0\n",
    "for x in range(len(inp)):\n",
    "    sm+=int(inp[x])\n",
    "print(sm)"
   ]
  },
  {
   "cell_type": "markdown",
   "metadata": {},
   "source": [
    "#### 8. WAP to input 2 numbers and swap them. (write using both normal logic with temp variable and\n",
    "also the pythonic way)."
   ]
  },
  {
   "cell_type": "code",
   "execution_count": 12,
   "metadata": {},
   "outputs": [
    {
     "name": "stdout",
     "output_type": "stream",
     "text": [
      "Enter Number X:-10\n",
      "Enter Number Y:70\n",
      "Number X: 70\n",
      "Number Y: -10\n"
     ]
    }
   ],
   "source": [
    "inp_x = int(input(\"Enter Number X:\"))\n",
    "inp_y = int(input(\"Enter Number Y:\"))\n",
    "\n",
    "inp_x = inp_x + inp_y\n",
    "inp_y = inp_x - inp_y\n",
    "inp_x = inp_x - inp_y\n",
    "\n",
    "print(\"Number X:\",inp_x)\n",
    "print(\"Number Y:\",inp_y)"
   ]
  },
  {
   "cell_type": "markdown",
   "metadata": {},
   "source": [
    "#### 9. WAP to print ascii value of all white-space characters present in python."
   ]
  },
  {
   "cell_type": "code",
   "execution_count": 15,
   "metadata": {},
   "outputs": [
    {
     "name": "stdout",
     "output_type": "stream",
     "text": [
      "32\n",
      "9\n",
      "10\n"
     ]
    }
   ],
   "source": [
    "print(ord(\" \"))\n",
    "print(ord(\"\\t\"))\n",
    "print(ord(\"\\n\"))"
   ]
  },
  {
   "cell_type": "markdown",
   "metadata": {},
   "source": [
    "### 10. Input a single character and print its ascii values."
   ]
  },
  {
   "cell_type": "code",
   "execution_count": 17,
   "metadata": {},
   "outputs": [
    {
     "name": "stdout",
     "output_type": "stream",
     "text": [
      "Enter a single character:A\n",
      "65\n"
     ]
    }
   ],
   "source": [
    "inp = input(\"Enter a single character:\")\n",
    "print(ord(inp))"
   ]
  },
  {
   "cell_type": "markdown",
   "metadata": {},
   "source": [
    "### 11. WAP that takes area of a circle and gives back the radius and circumference."
   ]
  },
  {
   "cell_type": "code",
   "execution_count": 18,
   "metadata": {},
   "outputs": [
    {
     "name": "stdout",
     "output_type": "stream",
     "text": [
      "Enter Radius:5\n",
      "Area of Circle: 78.5\n",
      "Circumference of Circle: 31.400000000000002\n"
     ]
    }
   ],
   "source": [
    "radius = float(input(\"Enter Radius:\"))\n",
    "area = 3.14 * radius * radius\n",
    "cf = 2 * 3.14 * radius\n",
    "\n",
    "print(\"Area of Circle:\",area)\n",
    "print(\"Circumference of Circle:\",cf)"
   ]
  },
  {
   "cell_type": "markdown",
   "metadata": {},
   "source": [
    "### 12. We need to input marks in 5 subjects out of 100 and print percentage."
   ]
  },
  {
   "cell_type": "code",
   "execution_count": 3,
   "metadata": {},
   "outputs": [
    {
     "name": "stdout",
     "output_type": "stream",
     "text": [
      "Enter Math marks:76\n",
      "Enter Science marks:45\n",
      "Enter Geogrpahy marks:78\n",
      "Enter History marks:98\n",
      "Enter English marks:67\n",
      "Percentage: 72.8 %\n"
     ]
    }
   ],
   "source": [
    "mat = int(input(\"Enter Math marks:\"))\n",
    "sci = int(input(\"Enter Science marks:\"))\n",
    "geo = int(input(\"Enter Geogrpahy marks:\"))\n",
    "his = int(input(\"Enter History marks:\"))\n",
    "eng = int(input(\"Enter English marks:\"))\n",
    "\n",
    "avg = (mat + sci + geo + his + eng)/5\n",
    "print(\"Percentage:\",avg,\"%\")"
   ]
  }
 ],
 "metadata": {
  "kernelspec": {
   "display_name": "Python 3",
   "language": "python",
   "name": "python3"
  },
  "language_info": {
   "codemirror_mode": {
    "name": "ipython",
    "version": 3
   },
   "file_extension": ".py",
   "mimetype": "text/x-python",
   "name": "python",
   "nbconvert_exporter": "python",
   "pygments_lexer": "ipython3",
   "version": "3.7.3"
  }
 },
 "nbformat": 4,
 "nbformat_minor": 2
}
