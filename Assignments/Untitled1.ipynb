{
 "cells": [
  {
   "cell_type": "code",
   "execution_count": 1,
   "metadata": {},
   "outputs": [
    {
     "name": "stdout",
     "output_type": "stream",
     "text": [
      "Collecting package metadata (current_repodata.json): ...working... done\n",
      "Solving environment: ...working... done\n",
      "\n",
      "## Package Plan ##\n",
      "\n",
      "  environment location: C:\\ProgramData\\Anaconda3\n",
      "\n",
      "  added / updated specs:\n",
      "    - pip\n",
      "\n",
      "\n",
      "The following packages will be downloaded:\n",
      "\n",
      "    package                    |            build\n",
      "    ---------------------------|-----------------\n",
      "    conda-4.7.12               |           py37_0         3.0 MB\n",
      "    ------------------------------------------------------------\n",
      "                                           Total:         3.0 MB\n",
      "\n",
      "The following packages will be UPDATED:\n",
      "\n",
      "  conda                                       4.7.10-py37_0 --> 4.7.12-py37_0\n",
      "\n",
      "\n",
      "\n",
      "Downloading and Extracting Packages\n",
      "\n",
      "conda-4.7.12         | 3.0 MB    |            |   0% \n",
      "conda-4.7.12         | 3.0 MB    |            |   1% \n",
      "conda-4.7.12         | 3.0 MB    | 1          |   2% \n",
      "conda-4.7.12         | 3.0 MB    | 2          |   3% \n",
      "conda-4.7.12         | 3.0 MB    | 4          |   5% \n",
      "conda-4.7.12         | 3.0 MB    | 6          |   6% \n",
      "conda-4.7.12         | 3.0 MB    | 7          |   7% \n",
      "conda-4.7.12         | 3.0 MB    | 9          |   9% \n",
      "conda-4.7.12         | 3.0 MB    | #          |  11% \n",
      "conda-4.7.12         | 3.0 MB    | #2         |  13% \n",
      "conda-4.7.12         | 3.0 MB    | #4         |  14% \n",
      "conda-4.7.12         | 3.0 MB    | #6         |  16% \n",
      "conda-4.7.12         | 3.0 MB    | #8         |  19% \n",
      "conda-4.7.12         | 3.0 MB    | ##1        |  21% \n",
      "conda-4.7.12         | 3.0 MB    | ##3        |  23% \n",
      "conda-4.7.12         | 3.0 MB    | ##5        |  25% \n",
      "conda-4.7.12         | 3.0 MB    | ##7        |  27% \n",
      "conda-4.7.12         | 3.0 MB    | ###        |  31% \n",
      "conda-4.7.12         | 3.0 MB    | ###3       |  33% \n",
      "conda-4.7.12         | 3.0 MB    | ###5       |  36% \n",
      "conda-4.7.12         | 3.0 MB    | ###7       |  37% \n",
      "conda-4.7.12         | 3.0 MB    | ###8       |  39% \n",
      "conda-4.7.12         | 3.0 MB    | ####       |  40% \n",
      "conda-4.7.12         | 3.0 MB    | ####2      |  42% \n",
      "conda-4.7.12         | 3.0 MB    | ####3      |  44% \n",
      "conda-4.7.12         | 3.0 MB    | ####5      |  46% \n",
      "conda-4.7.12         | 3.0 MB    | ####8      |  48% \n",
      "conda-4.7.12         | 3.0 MB    | #####      |  51% \n",
      "conda-4.7.12         | 3.0 MB    | #####3     |  53% \n",
      "conda-4.7.12         | 3.0 MB    | #####4     |  55% \n",
      "conda-4.7.12         | 3.0 MB    | #####6     |  56% \n",
      "conda-4.7.12         | 3.0 MB    | #####7     |  58% \n",
      "conda-4.7.12         | 3.0 MB    | #####9     |  59% \n",
      "conda-4.7.12         | 3.0 MB    | ######1    |  61% \n",
      "conda-4.7.12         | 3.0 MB    | ######2    |  63% \n",
      "conda-4.7.12         | 3.0 MB    | ######4    |  64% \n",
      "conda-4.7.12         | 3.0 MB    | ######6    |  66% \n",
      "conda-4.7.12         | 3.0 MB    | ######8    |  68% \n",
      "conda-4.7.12         | 3.0 MB    | #######    |  71% \n",
      "conda-4.7.12         | 3.0 MB    | #######2   |  72% \n",
      "conda-4.7.12         | 3.0 MB    | #######4   |  74% \n",
      "conda-4.7.12         | 3.0 MB    | #######5   |  76% \n",
      "conda-4.7.12         | 3.0 MB    | #######7   |  77% \n",
      "conda-4.7.12         | 3.0 MB    | #######8   |  79% \n",
      "conda-4.7.12         | 3.0 MB    | ########   |  81% \n",
      "conda-4.7.12         | 3.0 MB    | ########2  |  82% \n",
      "conda-4.7.12         | 3.0 MB    | ########3  |  84% \n",
      "conda-4.7.12         | 3.0 MB    | ########5  |  85% \n",
      "conda-4.7.12         | 3.0 MB    | ########6  |  87% \n",
      "conda-4.7.12         | 3.0 MB    | ########8  |  89% \n",
      "conda-4.7.12         | 3.0 MB    | #########  |  90% \n",
      "conda-4.7.12         | 3.0 MB    | #########1 |  91% \n",
      "conda-4.7.12         | 3.0 MB    | #########2 |  92% \n",
      "conda-4.7.12         | 3.0 MB    | #########3 |  93% \n",
      "conda-4.7.12         | 3.0 MB    | #########4 |  94% \n",
      "conda-4.7.12         | 3.0 MB    | #########5 |  95% \n",
      "conda-4.7.12         | 3.0 MB    | #########6 |  97% \n",
      "conda-4.7.12         | 3.0 MB    | #########8 |  98% \n",
      "conda-4.7.12         | 3.0 MB    | ########## | 100% \n",
      "Preparing transaction: ...working... done\n",
      "Verifying transaction: ...working... failed\n",
      "\n",
      "Note: you may need to restart the kernel to use updated packages.\n"
     ]
    },
    {
     "name": "stderr",
     "output_type": "stream",
     "text": [
      "\n",
      "EnvironmentNotWritableError: The current user does not have write permissions to the target environment.\n",
      "  environment location: C:\\ProgramData\\Anaconda3\n",
      "\n",
      "\n"
     ]
    }
   ],
   "source": [
    "conda install pip"
   ]
  },
  {
   "cell_type": "code",
   "execution_count": null,
   "metadata": {},
   "outputs": [],
   "source": []
  }
 ],
 "metadata": {
  "kernelspec": {
   "display_name": "Python 3",
   "language": "python",
   "name": "python3"
  },
  "language_info": {
   "codemirror_mode": {
    "name": "ipython",
    "version": 3
   },
   "file_extension": ".py",
   "mimetype": "text/x-python",
   "name": "python",
   "nbconvert_exporter": "python",
   "pygments_lexer": "ipython3",
   "version": "3.7.3"
  }
 },
 "nbformat": 4,
 "nbformat_minor": 2
}
