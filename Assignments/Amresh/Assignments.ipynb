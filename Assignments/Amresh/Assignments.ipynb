{
 "cells": [
  {
   "cell_type": "markdown",
   "metadata": {},
   "source": [
    "# Assignments"
   ]
  },
  {
   "cell_type": "markdown",
   "metadata": {},
   "source": [
    "# (1)AssignExtra1-Input,TypeConversion"
   ]
  },
  {
   "cell_type": "code",
   "execution_count": null,
   "metadata": {},
   "outputs": [],
   "source": [
    "#1. Input temperature in Fahrenheit in print in Celsius.\n",
    "tep = int(input(\"Enter A tempurtre in Fahrenheit:\"))\n",
    "cel = (5/9.0)*(tep -32)\n",
    "print(cel)"
   ]
  },
  {
   "cell_type": "code",
   "execution_count": null,
   "metadata": {},
   "outputs": [],
   "source": [
    "#2Write a program to input a number and print its square and cube.\n",
    "a = int(input('Enter a Number:-'))\n",
    "s = a*a\n",
    "d = a*a*a\n",
    "print(\"Square of given number is:-\", s)\n",
    "print(\"cube of given number is:-\", d)\n",
    "\n"
   ]
  },
  {
   "cell_type": "code",
   "execution_count": null,
   "metadata": {},
   "outputs": [],
   "source": [
    "#3WAP to input a number n and a number m and print the result of following\n",
    "n = int(input('Enter a Number:-'))\n",
    "m = int(input('Enter a Number:-'))\n",
    "n1 = n*n\n",
    "print(n1)\n",
    "m2 = m*m\n",
    "print(m2)\n",
    "m3 = n1+m2\n",
    "print(m3)"
   ]
  },
  {
   "cell_type": "code",
   "execution_count": null,
   "metadata": {},
   "outputs": [],
   "source": [
    "#4WAP to input a numbers M and N and print result of MN. (use both ** and pow)\n",
    "m = int(input('input a numbers M and print result of MN:-'))\n",
    "n = int(input('input a numbers N and print result of MN:-'))\n",
    "mm = m**m\n",
    "nn = n**n\n",
    "mn2 = pow(m,n)\n",
    "        \n",
    "print(mm)\n",
    "print(nn)\n",
    "print(mn2)\n"
   ]
  },
  {
   "cell_type": "code",
   "execution_count": null,
   "metadata": {},
   "outputs": [],
   "source": [
    "dir(pow)"
   ]
  },
  {
   "cell_type": "code",
   "execution_count": null,
   "metadata": {},
   "outputs": [],
   "source": [
    "#5Write a simple interest calculator.\n",
    "p = int(input('Enter Principle Amount:-'))\n",
    "t = int(input('Enter Time:-'))\n",
    "r = int(input('Enter Rate of Interest:-'))\n",
    "s = (p * t * r)//100\n",
    "print(\"Simple Interest is:-\", s)\n"
   ]
  },
  {
   "cell_type": "code",
   "execution_count": null,
   "metadata": {},
   "outputs": [],
   "source": [
    "#6Input Principal, Rate, Time and print Compound Interest and Amount.\n",
    "p = int(input('Enter Principle Amount:-'))\n",
    "t = int(input('Enter Time:-'))\n",
    "r = float(input('Enter Rate of Interest:-'))\n",
    "ci = p * (pow((1 + r / 100), t)) \n",
    "print(\"Compound Interest is:-\", ci)"
   ]
  },
  {
   "cell_type": "code",
   "execution_count": null,
   "metadata": {},
   "outputs": [],
   "source": [
    "#7WAP to print sum of first n natural numbers. (n needs to be taken as input).\n",
    "n = int(input('Enter n Number:-'))\n",
    "sn = n*(n+1) / 2\n",
    "print('Sum of n number:-', sn)\n"
   ]
  },
  {
   "cell_type": "code",
   "execution_count": null,
   "metadata": {},
   "outputs": [],
   "source": [
    "#8WAP to input 2 numbers and swap them. (write using both normal logic with temp variable and also the pythonic way).\n",
    "n1 = int(input('Enter First Number:-'))\n",
    "n2 = int(input('Enter Second number:-'))\n",
    "print()\n",
    "tep = 0\n",
    "tep = n2\n",
    "n2 = n1\n",
    "n1 = tep\n",
    "print('After swap:-' ,n1,n2)\n",
    "\n"
   ]
  },
  {
   "cell_type": "code",
   "execution_count": null,
   "metadata": {},
   "outputs": [],
   "source": [
    "#9WAP to print ascii value of all white-space characters present in python.\n",
    "n = input('Enter A white-space characters:-')\n",
    "ac = ord(n)\n",
    "print(ac)\n",
    "\n"
   ]
  },
  {
   "cell_type": "code",
   "execution_count": null,
   "metadata": {},
   "outputs": [],
   "source": [
    "#10WAP that takes area of a circle and gives back the radius and circumference\n",
    "import math \n",
    "math.pi\n",
    "area = float(input('Enter area :')) \n",
    "print(\"Radius :\",((area)/math.pi)**0.5)\n",
    "print(\"Circum :\",(2*math.pi)*(((area)/math.pi)**0.5))\n",
    "\n"
   ]
  },
  {
   "cell_type": "code",
   "execution_count": null,
   "metadata": {},
   "outputs": [],
   "source": [
    "#11We need to input marks in 5 subjects out of 100 and print percentage\n",
    "s1 = int(input(\"Enter1st marks:-\"))\n",
    "s2= int(input(\"Enter 2stmarks:-\"))\n",
    "s3= int(input(\"Enter 3rd marks:-\"))\n",
    "s4 =int(input(\"Enter 4st marks:-\"))\n",
    "s5= int(input(\"Enter 5th marks:-\"))\n",
    "print(((s1+s2+s3+s4+s5)/(5*100))*100)\n"
   ]
  },
  {
   "cell_type": "markdown",
   "metadata": {},
   "source": [
    "# (2) AssignmentPython1-Intro"
   ]
  },
  {
   "cell_type": "code",
   "execution_count": null,
   "metadata": {},
   "outputs": [],
   "source": [
    "#1. Predict Output:\n",
    "s1 = 'Gaurav'\n",
    "s2 = 'tuteur.py@gmail.com'\n",
    "print( len(s1), len(s2))\n"
   ]
  },
  {
   "cell_type": "code",
   "execution_count": null,
   "metadata": {},
   "outputs": [],
   "source": [
    "#2. WAP to input a string and print its length.\n",
    "s = input('Enter a String:-')\n",
    "print(len(s))"
   ]
  },
  {
   "cell_type": "code",
   "execution_count": null,
   "metadata": {},
   "outputs": [],
   "source": [
    "#3. WAP to input 2 numbers and print their sum and difference.\n",
    "n1 = int(input('Enter first number:-'))\n",
    "n2 = int(input('Enter Second number:-'))\n",
    "sm = n1+n2\n",
    "d = n1-n2\n",
    "print('Sum of two no:-', sm)\n",
    "print('Difference of two no:-', d)"
   ]
  },
  {
   "cell_type": "code",
   "execution_count": null,
   "metadata": {},
   "outputs": [],
   "source": [
    "#4. Predict output:\n",
    "s1 = 'ab'\n",
    "s2 = 'de'\n",
    "s3 = s1 + s2\n",
    "print(s3)"
   ]
  },
  {
   "cell_type": "code",
   "execution_count": null,
   "metadata": {},
   "outputs": [],
   "source": [
    "#6. Predict output:\n",
    "s1 ='ab' * 4\n",
    "print(s1)"
   ]
  },
  {
   "cell_type": "code",
   "execution_count": null,
   "metadata": {},
   "outputs": [],
   "source": [
    "#7. Predict output:\n",
    "s1 = 'ab'\\n' * 4"
   ]
  },
  {
   "cell_type": "code",
   "execution_count": null,
   "metadata": {},
   "outputs": [],
   "source": [
    "#8. WAP to input a string s and a number n. Print the string n times on the screen, each should\n",
    "#appear in a separate line (do not use any kind of loops, use the multiplication operator).\n",
    "s = input('Enter a String:-')\n",
    "n = int(input('How many time you want to print:-'))\n",
    "c = s +'\\n'\n",
    "s1 = (c*n)\n",
    "print(s1)"
   ]
  },
  {
   "cell_type": "code",
   "execution_count": null,
   "metadata": {},
   "outputs": [],
   "source": [
    "#9. Predict Output:\n",
    "res = print('Amresh')\n",
    "print(res)"
   ]
  },
  {
   "cell_type": "code",
   "execution_count": null,
   "metadata": {},
   "outputs": [],
   "source": [
    "#10. Predict Output:\n",
    "res = len('tuteur.py@gmail.com')\n",
    "print(type(res))"
   ]
  },
  {
   "cell_type": "code",
   "execution_count": null,
   "metadata": {},
   "outputs": [],
   "source": []
  }
 ],
 "metadata": {
  "kernelspec": {
   "display_name": "Python 3",
   "language": "python",
   "name": "python3"
  },
  "language_info": {
   "codemirror_mode": {
    "name": "ipython",
    "version": 3
   },
   "file_extension": ".py",
   "mimetype": "text/x-python",
   "name": "python",
   "nbconvert_exporter": "python",
   "pygments_lexer": "ipython3",
   "version": "3.7.3"
  }
 },
 "nbformat": 4,
 "nbformat_minor": 2
}
