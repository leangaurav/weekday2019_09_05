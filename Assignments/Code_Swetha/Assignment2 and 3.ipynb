{
 "cells": [
  {
   "cell_type": "code",
   "execution_count": null,
   "metadata": {},
   "outputs": [],
   "source": [
    "#find the output the following:"
   ]
  },
  {
   "cell_type": "code",
   "execution_count": 5,
   "metadata": {},
   "outputs": [
    {
     "name": "stdout",
     "output_type": "stream",
     "text": [
      "6\n",
      "a \n",
      "3\n"
     ]
    }
   ],
   "source": [
    "s='a b cd'\n",
    "print(len(s))\n",
    "print(s[::3])\n",
    "print(len(s[::2]))"
   ]
  },
  {
   "cell_type": "code",
   "execution_count": 10,
   "metadata": {},
   "outputs": [
    {
     "name": "stdout",
     "output_type": "stream",
     "text": [
      "['a#b#c#d#']\n",
      "['a', 'b', 'c', 'd', '']\n",
      "['a', 'b', 'c', 'd', '']\n",
      "a$b$c$d$\n"
     ]
    }
   ],
   "source": [
    "s='a#b#c#d#'\n",
    "print(s.split())\n",
    "print(s.split('#'))\n",
    "l=s.split('#')\n",
    "print(l)\n",
    "s='$'.join(l)\n",
    "print(s)"
   ]
  },
  {
   "cell_type": "code",
   "execution_count": 14,
   "metadata": {},
   "outputs": [
    {
     "name": "stdout",
     "output_type": "stream",
     "text": [
      "av\n"
     ]
    }
   ],
   "source": [
    "s='Gaurav'\n",
    "s=s[::-2][::-2]\n",
    "print(s)"
   ]
  },
  {
   "cell_type": "code",
   "execution_count": 12,
   "metadata": {},
   "outputs": [
    {
     "name": "stdout",
     "output_type": "stream",
     "text": [
      "False\n"
     ]
    }
   ],
   "source": [
    "print(1>2)"
   ]
  },
  {
   "cell_type": "code",
   "execution_count": 15,
   "metadata": {},
   "outputs": [
    {
     "name": "stdout",
     "output_type": "stream",
     "text": [
      "0,1,2\n"
     ]
    }
   ],
   "source": [
    "print(4%2,5%2,2%5,sep=',')"
   ]
  },
  {
   "cell_type": "code",
   "execution_count": 23,
   "metadata": {},
   "outputs": [
    {
     "name": "stdout",
     "output_type": "stream",
     "text": [
      "abcba\n"
     ]
    }
   ],
   "source": [
    "s='abcba'\n",
    "s.lower()\n",
    "print(s)\n",
    "#print(s.count('A'),end=',')\n",
    "#print(s.count('A',2,4),end=',')\n",
    "#print(s.count('a',2,4)),end=',')"
   ]
  },
  {
   "cell_type": "code",
   "execution_count": null,
   "metadata": {},
   "outputs": [],
   "source": [
    "#WAP to input a string and remove all space fromit.\n"
   ]
  },
  {
   "cell_type": "code",
   "execution_count": 25,
   "metadata": {},
   "outputs": [
    {
     "name": "stdout",
     "output_type": "stream",
     "text": [
      "enter the sting valueswetha\n"
     ]
    },
    {
     "data": {
      "text/plain": [
       "'swetha'"
      ]
     },
     "execution_count": 25,
     "metadata": {},
     "output_type": "execute_result"
    }
   ],
   "source": [
    "w=input('enter the sting value')\n",
    "w.strip()"
   ]
  },
  {
   "cell_type": "code",
   "execution_count": null,
   "metadata": {},
   "outputs": [],
   "source": [
    "#WAP toinput complete name and print fisrt and last name separately along with their length inupper case."
   ]
  },
  {
   "cell_type": "code",
   "execution_count": 42,
   "metadata": {},
   "outputs": [
    {
     "name": "stdout",
     "output_type": "stream",
     "text": [
      "enter the first and last nameswetha r\n",
      "SWETHA\n",
      "R\n",
      "8\n"
     ]
    }
   ],
   "source": [
    "t=input('enter the first and last name')\n",
    "z=t.replace(' ','\\n')\n",
    "t=z.upper()\n",
    "print(t)\n",
    "u=len(t)\n",
    "print(u)\n"
   ]
  },
  {
   "cell_type": "code",
   "execution_count": null,
   "metadata": {},
   "outputs": [],
   "source": [
    "#WAP ti input a string and replace all space with new line(\\n)and print again"
   ]
  },
  {
   "cell_type": "code",
   "execution_count": 43,
   "metadata": {},
   "outputs": [
    {
     "name": "stdout",
     "output_type": "stream",
     "text": [
      "enter the string valueswetha r\n",
      "swetha\n",
      "r\n"
     ]
    }
   ],
   "source": [
    "i=input('enter the string value')\n",
    "p=i.replace(' ','\\n')\n",
    "print(p)"
   ]
  },
  {
   "cell_type": "code",
   "execution_count": null,
   "metadata": {},
   "outputs": [],
   "source": [
    "#WAP toinput a string and split int into 2halves."
   ]
  },
  {
   "cell_type": "code",
   "execution_count": 45,
   "metadata": {},
   "outputs": [
    {
     "name": "stdout",
     "output_type": "stream",
     "text": [
      "enter the value of a stingswetharajagopal\n",
      "the original string is:swetharajagopal\n",
      "the first part of string:swethar\n",
      "the second part of string:ajagopal\n"
     ]
    }
   ],
   "source": [
    "h=input('enter the value of a sting')\n",
    "print(\"the original string is:\"+ h)\n",
    "s1,s2=h[:len(h)//2],h[len(h)//2:]\n",
    "print(\"the first part of string:\"+s1)\n",
    "print(\"the second part of string:\"+s2)"
   ]
  },
  {
   "cell_type": "code",
   "execution_count": null,
   "metadata": {},
   "outputs": [],
   "source": [
    "#WAP to print first n natural numbers.(input n from user)"
   ]
  },
  {
   "cell_type": "code",
   "execution_count": 2,
   "metadata": {},
   "outputs": [
    {
     "name": "stdout",
     "output_type": "stream",
     "text": [
      "enter the value of n6\n",
      "1 2 3 4 5 6 "
     ]
    }
   ],
   "source": [
    "k=int(input('enter the value of n'))\n",
    "for i in range(1,k+1):\n",
    "     print(i,end=' ')"
   ]
  },
  {
   "cell_type": "code",
   "execution_count": null,
   "metadata": {},
   "outputs": [],
   "source": [
    "#WAP a program to input a number and print its square and cube."
   ]
  },
  {
   "cell_type": "code",
   "execution_count": 5,
   "metadata": {},
   "outputs": [
    {
     "name": "stdout",
     "output_type": "stream",
     "text": [
      "enter the value of n9\n",
      "81\n",
      "729\n"
     ]
    }
   ],
   "source": [
    "b=int(input('enter the value of n'))\n",
    "z=b*b\n",
    "m=b*b*b\n",
    "print(z)\n",
    "print(m)"
   ]
  },
  {
   "cell_type": "code",
   "execution_count": null,
   "metadata": {},
   "outputs": [],
   "source": [
    "#WAP to input a numbers M and N and print result of Mpower n"
   ]
  },
  {
   "cell_type": "code",
   "execution_count": 9,
   "metadata": {},
   "outputs": [
    {
     "name": "stdout",
     "output_type": "stream",
     "text": [
      "enter the value of m9\n",
      "enter the value of n3\n",
      "729\n",
      "729\n"
     ]
    }
   ],
   "source": [
    "k=int(input('enter the value of m'))\n",
    "g=int(input('enter the value of n'))\n",
    "a=k**g\n",
    "print(a)\n",
    "print(pow(k,g))"
   ]
  },
  {
   "cell_type": "code",
   "execution_count": null,
   "metadata": {},
   "outputs": [],
   "source": [
    "#WAP to input a number n and a number m and print the result"
   ]
  },
  {
   "cell_type": "code",
   "execution_count": 10,
   "metadata": {},
   "outputs": [
    {
     "name": "stdout",
     "output_type": "stream",
     "text": [
      "enter the value of n2\n",
      "enter the value of m3\n",
      "13\n"
     ]
    }
   ],
   "source": [
    "n=int(input('enter the value of n'))\n",
    "m=int(input('enter the value of m'))\n",
    "h=n**2+m**2\n",
    "print(h)"
   ]
  },
  {
   "cell_type": "code",
   "execution_count": null,
   "metadata": {},
   "outputs": [],
   "source": [
    "#Write a simple calculator"
   ]
  },
  {
   "cell_type": "code",
   "execution_count": 1,
   "metadata": {},
   "outputs": [
    {
     "name": "stdout",
     "output_type": "stream",
     "text": [
      "enter the value of a3\n",
      "enter the vallue of b5\n",
      "8\n",
      "-2\n",
      "15\n",
      "0.6\n",
      "0\n"
     ]
    }
   ],
   "source": [
    "a=int(input('enter the value of a'))\n",
    "b=int(input('enter the vallue of b'))\n",
    "print(a+b)\n",
    "print(a-b)\n",
    "print(a*b)\n",
    "print(a/b)\n",
    "print(a//b)"
   ]
  },
  {
   "cell_type": "code",
   "execution_count": null,
   "metadata": {},
   "outputs": [],
   "source": [
    "#WAP to print sum of first n natural numbers."
   ]
  },
  {
   "cell_type": "code",
   "execution_count": 14,
   "metadata": {},
   "outputs": [
    {
     "name": "stdout",
     "output_type": "stream",
     "text": [
      "enter the value of n5\n",
      "the sum is: 15\n"
     ]
    }
   ],
   "source": [
    "d=int(input('enter the value of n'))\n",
    "n=0\n",
    "for i in range(1,d+1):\n",
    "    n=n+i\n",
    "  \n",
    "print(\"the sum is:\",n)\n",
    "    \n",
    "    \n",
    "     "
   ]
  },
  {
   "cell_type": "code",
   "execution_count": null,
   "metadata": {},
   "outputs": [],
   "source": [
    "#WAP to input 2 numbers and swap them."
   ]
  },
  {
   "cell_type": "code",
   "execution_count": 1,
   "metadata": {},
   "outputs": [
    {
     "name": "stdout",
     "output_type": "stream",
     "text": [
      "enter the value of s123\n",
      "enter the value of x1234\n",
      "value of s before swapping: 123\n",
      "value of x1 before swapping: 234\n",
      "value of s after swapping: 234\n",
      "value of x1 after swapping: 123\n"
     ]
    }
   ],
   "source": [
    "s=int(input('enter the value of s'))\n",
    "x1=int(input('enter the value of x1'))\n",
    "print('value of s before swapping:',s)\n",
    "print('value of x1 before swapping:',x1)\n",
    "s,x1=x1,s\n",
    "print('value of s after swapping:',s)\n",
    "print('value of x1 after swapping:',x1)"
   ]
  },
  {
   "cell_type": "code",
   "execution_count": 2,
   "metadata": {},
   "outputs": [
    {
     "name": "stdout",
     "output_type": "stream",
     "text": [
      "enter the value of s123\n",
      "enter the value of x1234\n",
      "value of s before swapping: 123\n",
      "value of x1 before swapping: 234\n",
      "value of s after swapping: 234\n",
      "value of x1 after swapping: 123\n"
     ]
    }
   ],
   "source": [
    "s=int(input('enter the value of s'))\n",
    "x1=int(input('enter the value of x1'))\n",
    "print('value of s before swapping:',s)\n",
    "print('value of x1 before swapping:',x1)\n",
    "\n",
    "temp=s\n",
    "s=x1\n",
    "x1=temp\n",
    "print('value of s after swapping:',s)\n",
    "print('value of x1 after swapping:',x1)"
   ]
  },
  {
   "cell_type": "code",
   "execution_count": null,
   "metadata": {},
   "outputs": [],
   "source": [
    "#WAP input a single character and print its ascii values"
   ]
  },
  {
   "cell_type": "code",
   "execution_count": 5,
   "metadata": {},
   "outputs": [
    {
     "name": "stdout",
     "output_type": "stream",
     "text": [
      "enter the value of stringa\n",
      "the ascii value of white spaces: 97\n"
     ]
    }
   ],
   "source": [
    "t=input('enter the value of string')\n",
    "\n",
    "g=ord(t)\n",
    "print(\"the ascii value of white spaces:\",g)"
   ]
  },
  {
   "cell_type": "code",
   "execution_count": null,
   "metadata": {},
   "outputs": [],
   "source": [
    "#WAP that takes area of a circle and give back the radius and cicumference."
   ]
  },
  {
   "cell_type": "code",
   "execution_count": 12,
   "metadata": {},
   "outputs": [
    {
     "name": "stdout",
     "output_type": "stream",
     "text": [
      "enter the area of circle5.67\n",
      "the radius of circle: 0.9028662420382165\n",
      "the circumference of circle: 11.34\n"
     ]
    }
   ],
   "source": [
    "area=float(input('enter the area of circle'))\n",
    "rad=area/3.14\n",
    "radius=rad/2\n",
    "print('the radius of circle:',radius)\n",
    "circum=2*3.14*rad\n",
    "print('the circumference of circle:',circum)"
   ]
  },
  {
   "cell_type": "code",
   "execution_count": 11,
   "metadata": {},
   "outputs": [],
   "source": [
    "#We need to input marks in 5 subjects out of 100 and print percentage."
   ]
  },
  {
   "cell_type": "code",
   "execution_count": 7,
   "metadata": {},
   "outputs": [
    {
     "name": "stdout",
     "output_type": "stream",
     "text": [
      "enter the marks math78\n",
      "enter the marks of eng78\n",
      "enter the marks of hindi89\n",
      "enter the marks of kannada78\n",
      "enter the marks og bio56\n",
      "30115.600000000002\n"
     ]
    }
   ],
   "source": [
    "f=int(input('enter the marks math'))\n",
    "g=int(input('enter the marks of eng'))\n",
    "l=int(input('enter the marks of hindi'))\n",
    "k=int(input('enter the marks of kannada'))\n",
    "f=int(input('enter the marks og bio'))\n",
    "c=((f+g+l+k+g/500)*100)\n",
    "print(c)"
   ]
  },
  {
   "cell_type": "code",
   "execution_count": null,
   "metadata": {},
   "outputs": [],
   "source": [
    "#input temperature in Faherenheit in print in Celsius."
   ]
  },
  {
   "cell_type": "code",
   "execution_count": 9,
   "metadata": {},
   "outputs": [
    {
     "name": "stdout",
     "output_type": "stream",
     "text": [
      "enter temperature in Fahrenheit:56\n",
      "tempertaure in celsius= 13.333333333333332\n"
     ]
    }
   ],
   "source": [
    "fah=input('enter temperature in Fahrenheit:')\n",
    "fahrenheit=float(fah)\n",
    "celsius=(fahrenheit-32)/1.8\n",
    "print(\"tempertaure in celsius=\",celsius)"
   ]
  },
  {
   "cell_type": "code",
   "execution_count": null,
   "metadata": {},
   "outputs": [],
   "source": []
  }
 ],
 "metadata": {
  "kernelspec": {
   "display_name": "Python 3",
   "language": "python",
   "name": "python3"
  },
  "language_info": {
   "codemirror_mode": {
    "name": "ipython",
    "version": 3
   },
   "file_extension": ".py",
   "mimetype": "text/x-python",
   "name": "python",
   "nbconvert_exporter": "python",
   "pygments_lexer": "ipython3",
   "version": "3.7.3"
  }
 },
 "nbformat": 4,
 "nbformat_minor": 2
}
