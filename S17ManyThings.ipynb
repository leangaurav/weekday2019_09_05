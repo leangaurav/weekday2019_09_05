{
 "cells": [
  {
   "cell_type": "code",
   "execution_count": 4,
   "metadata": {},
   "outputs": [],
   "source": [
    "import pandas as pd\n",
    "import numpy as np"
   ]
  },
  {
   "cell_type": "code",
   "execution_count": 10,
   "metadata": {
    "scrolled": true
   },
   "outputs": [
    {
     "name": "stdout",
     "output_type": "stream",
     "text": [
      "   10.5  0.0 \n",
      "0     1     1\n",
      "1     2     2\n"
     ]
    },
    {
     "data": {
      "text/plain": [
       "array([1, 1], dtype=int64)"
      ]
     },
     "execution_count": 10,
     "metadata": {},
     "output_type": "execute_result"
    }
   ],
   "source": [
    "df = pd.DataFrame()\n",
    "df[10.5] = pd.Series([1,2])\n",
    "df[np.float()]  = pd.Series([1,2])\n",
    "print(df)\n",
    "df.loc[0].values"
   ]
  },
  {
   "cell_type": "code",
   "execution_count": null,
   "metadata": {},
   "outputs": [],
   "source": []
  },
  {
   "cell_type": "code",
   "execution_count": 11,
   "metadata": {},
   "outputs": [
    {
     "name": "stdout",
     "output_type": "stream",
     "text": [
      "()\n",
      "(1,)\n",
      "(1, 2)\n"
     ]
    }
   ],
   "source": [
    "# variable lenght arguments\n",
    "\n",
    "\n",
    "def funct(*args):\n",
    "    print(args)\n",
    "    \n",
    "funct()\n",
    "funct(1)\n",
    "funct(1,2)"
   ]
  },
  {
   "cell_type": "code",
   "execution_count": 14,
   "metadata": {},
   "outputs": [
    {
     "name": "stdout",
     "output_type": "stream",
     "text": [
      "(1,)\n"
     ]
    }
   ],
   "source": [
    "x = 1,\n",
    "print(x)"
   ]
  },
  {
   "cell_type": "code",
   "execution_count": 16,
   "metadata": {},
   "outputs": [
    {
     "name": "stdout",
     "output_type": "stream",
     "text": [
      "10 20\n",
      "10 20\n",
      "20 10\n"
     ]
    }
   ],
   "source": [
    "def funct(x,y):\n",
    "    print(x,y)\n",
    "    \n",
    "funct(10,20) # positional arguments\n",
    "funct(x =10,y = 20)\n",
    "funct(y =10,x = 20) # keyword argument"
   ]
  },
  {
   "cell_type": "code",
   "execution_count": 17,
   "metadata": {},
   "outputs": [
    {
     "name": "stdout",
     "output_type": "stream",
     "text": [
      "{'x': 10, 'abc': []}\n"
     ]
    }
   ],
   "source": [
    "def funct(** kwargs):\n",
    "    print(kwargs)\n",
    "    \n",
    "funct(x = 10, abc =[])"
   ]
  },
  {
   "cell_type": "code",
   "execution_count": 20,
   "metadata": {},
   "outputs": [
    {
     "name": "stdout",
     "output_type": "stream",
     "text": [
      "10 20 ()\n",
      "10 20 (100, True)\n"
     ]
    }
   ],
   "source": [
    "def funct(x, y, *args):\n",
    "    print(x,y , args)\n",
    "\n",
    "#funct(10)\n",
    "funct(10,20)\n",
    "funct(10,20, 100, True)"
   ]
  },
  {
   "cell_type": "code",
   "execution_count": 22,
   "metadata": {},
   "outputs": [
    {
     "name": "stdout",
     "output_type": "stream",
     "text": [
      "10 20 {}\n",
      "10 20 {'p': 100, 'abc': True}\n"
     ]
    }
   ],
   "source": [
    "def funct(x, y, **kwargs):\n",
    "    print(x,y , kwargs)\n",
    "\n",
    "#funct(10)\n",
    "funct(10,20)\n",
    "funct(10,20, p = 100, abc = True)"
   ]
  },
  {
   "cell_type": "code",
   "execution_count": 28,
   "metadata": {},
   "outputs": [
    {
     "name": "stdout",
     "output_type": "stream",
     "text": [
      "10 20 () {} 100\n",
      "10 20 () {'p': 100, 'abc': True} 100\n",
      "10 20 (True,) {} 100\n",
      "10 20 (30, 'abcd') {'p': 100, 'abc': True} 100\n",
      "10 20 (30, 'abcd') {'p': 100, 'abc': True} 9000\n"
     ]
    }
   ],
   "source": [
    "def funct(x, y, *args,pqr = 100,  **kwargs ):\n",
    "    print(x,y ,args, kwargs, pqr)\n",
    "\n",
    "#funct(10)\n",
    "funct(10,20)\n",
    "funct(10,20, p = 100, abc = True)\n",
    "funct(10,20, True)\n",
    "funct(10,20, 30, 'abcd', p = 100, abc = True)\n",
    "funct(10,20, 30, 'abcd', p = 100, abc = True, pqr = 9000)"
   ]
  },
  {
   "cell_type": "code",
   "execution_count": 29,
   "metadata": {},
   "outputs": [
    {
     "name": "stdout",
     "output_type": "stream",
     "text": [
      "[1, 2, 3, 4, 5, 6, 7, 8, 9]\n"
     ]
    }
   ],
   "source": [
    "a = []\n",
    "\n",
    "for i in range(1,10):\n",
    "    a.append(i)\n",
    "print(a)"
   ]
  },
  {
   "cell_type": "code",
   "execution_count": 31,
   "metadata": {},
   "outputs": [
    {
     "name": "stdout",
     "output_type": "stream",
     "text": [
      "[1, 4, 9, 16, 25, 36, 49, 64, 81]\n"
     ]
    }
   ],
   "source": [
    "# list comprehension\n",
    "a = [ i*i  for i in range(1,10)]\n",
    "print(a)"
   ]
  },
  {
   "cell_type": "code",
   "execution_count": 32,
   "metadata": {},
   "outputs": [
    {
     "name": "stdout",
     "output_type": "stream",
     "text": [
      "Enter a string: thisis a string\n",
      "[116, 104, 105, 115, 105, 115, 32, 97, 32, 115, 116, 114, 105, 110, 103]\n"
     ]
    }
   ],
   "source": [
    "s = input('Enter a string: ')\n",
    "\n",
    "a = [ ord(c) for c in s]\n",
    "print( a )"
   ]
  },
  {
   "cell_type": "code",
   "execution_count": 33,
   "metadata": {},
   "outputs": [
    {
     "name": "stdout",
     "output_type": "stream",
     "text": [
      "['a', 'b', 'c', 'd'] ['a', 'b', 'c', 'd']\n"
     ]
    }
   ],
   "source": [
    "s = 'abcd'\n",
    "\n",
    "a1 = [c for c in s]\n",
    "a2 = list(s)\n",
    "\n",
    "print(a1, a2)"
   ]
  },
  {
   "cell_type": "code",
   "execution_count": 34,
   "metadata": {},
   "outputs": [
    {
     "name": "stdout",
     "output_type": "stream",
     "text": [
      "Enter list of numbers : 10 20 30\n",
      "[10, 20, 30]\n"
     ]
    }
   ],
   "source": [
    "s = input('Enter list of numbers : ')\n",
    "\n",
    "a = [int(x) for x in s.split()]\n",
    "\n",
    "print(a)"
   ]
  },
  {
   "cell_type": "code",
   "execution_count": 35,
   "metadata": {},
   "outputs": [],
   "source": [
    "import numpy as np"
   ]
  },
  {
   "cell_type": "code",
   "execution_count": 37,
   "metadata": {},
   "outputs": [
    {
     "name": "stdout",
     "output_type": "stream",
     "text": [
      "[29 43 40 69 86 28 11 59 18 61]\n"
     ]
    }
   ],
   "source": [
    "r = np.random.randint(10,100,10)\n",
    "print(r)"
   ]
  },
  {
   "cell_type": "code",
   "execution_count": 40,
   "metadata": {},
   "outputs": [
    {
     "name": "stdout",
     "output_type": "stream",
     "text": [
      "[80, 172, 56, 36]\n"
     ]
    }
   ],
   "source": [
    "def iseven(num):\n",
    "    return num%2 == 0\n",
    "\n",
    "res = [   x*2 for x in r      if iseven(x)]\n",
    "\n",
    "filter()\n",
    "print(res)"
   ]
  },
  {
   "cell_type": "code",
   "execution_count": null,
   "metadata": {},
   "outputs": [],
   "source": [
    "<exp1> if <condition> else <exp2>"
   ]
  },
  {
   "cell_type": "code",
   "execution_count": 42,
   "metadata": {},
   "outputs": [
    {
     "name": "stdout",
     "output_type": "stream",
     "text": [
      "NUmber : 11\n",
      " Odd\n"
     ]
    }
   ],
   "source": [
    "x = int(input(\"NUmber : \"))\n",
    "\n",
    "r = \"Even\" if x % 2 == 0 else \" Odd\"\n",
    "\n",
    "print(r)"
   ]
  },
  {
   "cell_type": "code",
   "execution_count": 45,
   "metadata": {},
   "outputs": [
    {
     "name": "stdout",
     "output_type": "stream",
     "text": [
      "[1, 1, 20, 1, 43, 14, 1, 1, 9, 1]\n"
     ]
    }
   ],
   "source": [
    "r = [int(x) for x in \"29 43 40 69 86 28 11 59 18 61\".split()]\n",
    "\n",
    "a = [ x%2 if x%2 else x//2   for x in r]\n",
    "print(a)"
   ]
  },
  {
   "cell_type": "code",
   "execution_count": 46,
   "metadata": {},
   "outputs": [
    {
     "name": "stdout",
     "output_type": "stream",
     "text": [
      "10\n",
      "10\n"
     ]
    }
   ],
   "source": [
    "def funct(x):\n",
    "    return x\n",
    "    return x + 1\n",
    "\n",
    "print(funct(10))\n",
    "print(funct(10))"
   ]
  },
  {
   "cell_type": "code",
   "execution_count": 47,
   "metadata": {},
   "outputs": [
    {
     "name": "stdout",
     "output_type": "stream",
     "text": [
      "<generator object funct at 0x000001EB7942E048>\n",
      "<generator object funct at 0x000001EB7942E048>\n"
     ]
    }
   ],
   "source": [
    "def funct(x):\n",
    "    yield x\n",
    "    yield x + 1\n",
    "\n",
    "print(funct(10))\n",
    "print(funct(10))"
   ]
  },
  {
   "cell_type": "code",
   "execution_count": 51,
   "metadata": {},
   "outputs": [
    {
     "name": "stdout",
     "output_type": "stream",
     "text": [
      "['__class__', '__del__', '__delattr__', '__dir__', '__doc__', '__eq__', '__format__', '__ge__', '__getattribute__', '__gt__', '__hash__', '__init__', '__init_subclass__', '__iter__', '__le__', '__lt__', '__name__', '__ne__', '__new__', '__next__', '__qualname__', '__reduce__', '__reduce_ex__', '__repr__', '__setattr__', '__sizeof__', '__str__', '__subclasshook__', 'close', 'gi_code', 'gi_frame', 'gi_running', 'gi_yieldfrom', 'send', 'throw']\n",
      "10\n",
      "11\n"
     ]
    },
    {
     "ename": "StopIteration",
     "evalue": "",
     "output_type": "error",
     "traceback": [
      "\u001b[1;31m---------------------------------------------------------------------------\u001b[0m",
      "\u001b[1;31mStopIteration\u001b[0m                             Traceback (most recent call last)",
      "\u001b[1;32m<ipython-input-51-410349a23805>\u001b[0m in \u001b[0;36m<module>\u001b[1;34m\u001b[0m\n\u001b[0;32m      8\u001b[0m \u001b[0mprint\u001b[0m\u001b[1;33m(\u001b[0m\u001b[0mnext\u001b[0m\u001b[1;33m(\u001b[0m\u001b[0mgen\u001b[0m\u001b[1;33m)\u001b[0m\u001b[1;33m)\u001b[0m\u001b[1;33m\u001b[0m\u001b[1;33m\u001b[0m\u001b[0m\n\u001b[0;32m      9\u001b[0m \u001b[0mprint\u001b[0m\u001b[1;33m(\u001b[0m\u001b[0mnext\u001b[0m\u001b[1;33m(\u001b[0m\u001b[0mgen\u001b[0m\u001b[1;33m)\u001b[0m\u001b[1;33m)\u001b[0m\u001b[1;33m\u001b[0m\u001b[1;33m\u001b[0m\u001b[0m\n\u001b[1;32m---> 10\u001b[1;33m \u001b[0mprint\u001b[0m\u001b[1;33m(\u001b[0m\u001b[0mnext\u001b[0m\u001b[1;33m(\u001b[0m\u001b[0mgen\u001b[0m\u001b[1;33m)\u001b[0m\u001b[1;33m)\u001b[0m\u001b[1;33m\u001b[0m\u001b[1;33m\u001b[0m\u001b[0m\n\u001b[0m",
      "\u001b[1;31mStopIteration\u001b[0m: "
     ]
    }
   ],
   "source": [
    "def funct(x):\n",
    "    yield x\n",
    "    yield x + 1\n",
    "\n",
    "gen = funct(10)\n",
    "print(dir(gen))\n",
    "\n",
    "print(next(gen))\n",
    "print(next(gen))\n",
    "print(next(gen))"
   ]
  },
  {
   "cell_type": "code",
   "execution_count": 58,
   "metadata": {},
   "outputs": [
    {
     "name": "stdout",
     "output_type": "stream",
     "text": [
      "1\n",
      "2\n",
      "\n",
      "10\n",
      "11\n",
      "12\n",
      "13\n",
      "14\n",
      "15\n",
      "16\n",
      "17\n",
      "18\n",
      "19\n"
     ]
    }
   ],
   "source": [
    "def abc(a,b):\n",
    "    a = a\n",
    "    while a < b:\n",
    "       # print('yeild', a)\n",
    "        yield a\n",
    "        a += 1\n",
    "x = abc(1,4)\n",
    "print(next(x))\n",
    "print(next(x))\n",
    "\n",
    "print()\n",
    "for i in abc(10,20):\n",
    "    print(i)"
   ]
  },
  {
   "cell_type": "code",
   "execution_count": 56,
   "metadata": {},
   "outputs": [
    {
     "name": "stdout",
     "output_type": "stream",
     "text": [
      "range(10, 20)\n",
      "10\n",
      "11\n",
      "12\n",
      "13\n",
      "14\n",
      "15\n",
      "16\n",
      "17\n",
      "18\n",
      "19\n"
     ]
    }
   ],
   "source": [
    "r = range(10,20)\n",
    "print(r)\n",
    "\n",
    "for i in range(10,20):\n",
    "    print(i)"
   ]
  },
  {
   "cell_type": "code",
   "execution_count": 63,
   "metadata": {},
   "outputs": [
    {
     "name": "stdout",
     "output_type": "stream",
     "text": [
      "1 Add\t 2.sub \t 3. Mul \t 4. Div \n",
      ":Enter option(1-4): \n",
      "2\n",
      "Enter n1: 10\n",
      "Enter n2: 20\n",
      "-10\n"
     ]
    }
   ],
   "source": [
    "a = [lambda x,y : x+y, lambda x,y : x-y, lambda x,y : x*y, lambda x,y : x/y]\n",
    "\n",
    "print('1 Add\\t 2.sub \\t 3. Mul \\t 4. Div \\n:Enter option(1-4): ')\n",
    "n = input()\n",
    "\n",
    "if n.isdigit():\n",
    "    n = int(n)\n",
    "    \n",
    "    if 1 <= n <= 4:\n",
    "        n1 = int(input('Enter n1: '))\n",
    "        n2 = int(input('Enter n2: '))\n",
    "        f = a[n - 1]\n",
    "        print(f(n1, n2))\n",
    "    else:\n",
    "        print('Enter between 1-4')\n",
    "else:\n",
    "    print('Enter a number')"
   ]
  }
 ],
 "metadata": {
  "kernelspec": {
   "display_name": "Python 3",
   "language": "python",
   "name": "python3"
  },
  "language_info": {
   "codemirror_mode": {
    "name": "ipython",
    "version": 3
   },
   "file_extension": ".py",
   "mimetype": "text/x-python",
   "name": "python",
   "nbconvert_exporter": "python",
   "pygments_lexer": "ipython3",
   "version": "3.7.3"
  }
 },
 "nbformat": 4,
 "nbformat_minor": 2
}
