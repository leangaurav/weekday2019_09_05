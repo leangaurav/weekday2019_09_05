{
 "cells": [
  {
   "cell_type": "code",
   "execution_count": 9,
   "metadata": {},
   "outputs": [
    {
     "name": "stdout",
     "output_type": "stream",
     "text": [
      "1#2#3\n",
      "1 2 3,abc\n",
      "\n",
      "12345\n"
     ]
    }
   ],
   "source": [
    "print(1,2,3, sep = '#')\n",
    "print(1,2,3, end = ',')\n",
    "print('abc', end = '\\n\\n')\n",
    "print('12345')"
   ]
  },
  {
   "cell_type": "markdown",
   "metadata": {},
   "source": [
    "### List\n",
    "- sequence\n",
    "- mutable\n",
    "- heterogeneous\n",
    "- similar to but not an array"
   ]
  },
  {
   "cell_type": "code",
   "execution_count": 11,
   "metadata": {},
   "outputs": [
    {
     "name": "stdout",
     "output_type": "stream",
     "text": [
      "[] <class 'list'>\n",
      "0\n"
     ]
    }
   ],
   "source": [
    "r = []\n",
    "print(r, type(r))\n",
    "print( len(r) )"
   ]
  },
  {
   "cell_type": "code",
   "execution_count": 12,
   "metadata": {},
   "outputs": [
    {
     "name": "stdout",
     "output_type": "stream",
     "text": [
      "[10, 20, True, 'abcd', [[], 1, 2]] <class 'list'>\n",
      "5\n"
     ]
    }
   ],
   "source": [
    "r = [10,20,True, 'abcd',[[], 1,2 ]]\n",
    "print(r, type(r))\n",
    "print( len(r) )"
   ]
  },
  {
   "cell_type": "code",
   "execution_count": 16,
   "metadata": {},
   "outputs": [
    {
     "name": "stdout",
     "output_type": "stream",
     "text": [
      "[]\n",
      "[1, 2, 3] [1, 2, 3]\n"
     ]
    }
   ],
   "source": [
    "r = list()\n",
    "print(r)\n",
    "\n",
    "a = [1,2,3] # list\n",
    "r = list(a) # list\n",
    "print(a, r)"
   ]
  },
  {
   "cell_type": "code",
   "execution_count": 15,
   "metadata": {},
   "outputs": [
    {
     "name": "stdout",
     "output_type": "stream",
     "text": [
      "['a', 'b', 'c', 'd']\n"
     ]
    }
   ],
   "source": [
    "r = list('abcd')\n",
    "print(r)"
   ]
  },
  {
   "cell_type": "code",
   "execution_count": 17,
   "metadata": {},
   "outputs": [
    {
     "name": "stdout",
     "output_type": "stream",
     "text": [
      "5\n",
      "10\n",
      "50\n",
      "50\n"
     ]
    }
   ],
   "source": [
    "a = [10,20,30,40,50]\n",
    "#     0 1  2  3  4\n",
    "\n",
    "print( len(a) )\n",
    "print( a[0] )\n",
    "print( a[4] )\n",
    "print( a[-1] )"
   ]
  },
  {
   "cell_type": "code",
   "execution_count": 23,
   "metadata": {},
   "outputs": [
    {
     "name": "stdout",
     "output_type": "stream",
     "text": [
      "[1000, 80, 30, 40, 50]\n",
      "Abcd abcd\n"
     ]
    }
   ],
   "source": [
    "a = [10,20,30,40,50]\n",
    "#     0 1  2  3  4\n",
    "\n",
    "# mutable\n",
    "a[0] = 1000\n",
    "a[1] = a[2] + a[-1]\n",
    "\n",
    "print(a)\n",
    "\n",
    "# immutable\n",
    "s = 'abcd'\n",
    "#s[0] = 'A'\n",
    "\n",
    "s1 = s.capitalize()\n",
    "print(s1, s)"
   ]
  },
  {
   "cell_type": "code",
   "execution_count": 24,
   "metadata": {},
   "outputs": [],
   "source": [
    "# string\n",
    "# list\n",
    "# tuple\n",
    "r = list()"
   ]
  },
  {
   "cell_type": "code",
   "execution_count": 28,
   "metadata": {},
   "outputs": [
    {
     "name": "stdout",
     "output_type": "stream",
     "text": [
      "[1, 'abcd', 3, 4] ['a', 'b', 'c', 'd']\n"
     ]
    },
    {
     "ename": "TypeError",
     "evalue": "'int' object is not iterable",
     "output_type": "error",
     "traceback": [
      "\u001b[1;31m---------------------------------------------------------------------------\u001b[0m",
      "\u001b[1;31mTypeError\u001b[0m                                 Traceback (most recent call last)",
      "\u001b[1;32m<ipython-input-28-2f89ba1b9a50>\u001b[0m in \u001b[0;36m<module>\u001b[1;34m\u001b[0m\n\u001b[0;32m      5\u001b[0m \u001b[0mprint\u001b[0m\u001b[1;33m(\u001b[0m\u001b[0ma1\u001b[0m\u001b[1;33m,\u001b[0m \u001b[0ma2\u001b[0m\u001b[1;33m)\u001b[0m\u001b[1;33m\u001b[0m\u001b[1;33m\u001b[0m\u001b[0m\n\u001b[0;32m      6\u001b[0m \u001b[1;33m\u001b[0m\u001b[0m\n\u001b[1;32m----> 7\u001b[1;33m \u001b[0ma3\u001b[0m \u001b[1;33m=\u001b[0m \u001b[0mlist\u001b[0m\u001b[1;33m(\u001b[0m \u001b[0ma\u001b[0m\u001b[1;33m[\u001b[0m\u001b[1;36m0\u001b[0m\u001b[1;33m]\u001b[0m \u001b[1;33m)\u001b[0m\u001b[1;33m\u001b[0m\u001b[1;33m\u001b[0m\u001b[0m\n\u001b[0m",
      "\u001b[1;31mTypeError\u001b[0m: 'int' object is not iterable"
     ]
    }
   ],
   "source": [
    "a = [1,'abcd',3,4]\n",
    "\n",
    "a1 = list(a)\n",
    "a2 = list(  a[1] )\n",
    "print(a1, a2)\n",
    "\n",
    "a3 = list( a[0] )"
   ]
  },
  {
   "cell_type": "code",
   "execution_count": null,
   "metadata": {},
   "outputs": [],
   "source": [
    "# WAP to print square of all elements of this list \n",
    "a = [10,20,30,40,50]"
   ]
  },
  {
   "cell_type": "code",
   "execution_count": 30,
   "metadata": {},
   "outputs": [
    {
     "name": "stdout",
     "output_type": "stream",
     "text": [
      "100\n",
      "400\n",
      "900\n",
      "1600\n",
      "2500\n",
      "[10, 20, 30, 40, 50]\n"
     ]
    }
   ],
   "source": [
    "a=[10,20,30,40,50]\n",
    "i=0\n",
    "while i<len(a):\n",
    "    #a[i]=a[i]**2\n",
    "    print(a[i]**2)\n",
    "    i+=1\n",
    "    \n",
    "print(a)"
   ]
  },
  {
   "cell_type": "code",
   "execution_count": 35,
   "metadata": {},
   "outputs": [
    {
     "name": "stdout",
     "output_type": "stream",
     "text": [
      "['a', 'b', 'c', 'd', 'e', 'f']\n",
      "['b', 'c', 'd']\n",
      "['b', 'd', 'f']\n",
      "['f', 'd', 'b']\n"
     ]
    }
   ],
   "source": [
    "a = list('abcdef')\n",
    "#         012345\n",
    "print(a)\n",
    "\n",
    "print( a[1:4] )\n",
    "print( a[1::2] )\n",
    "print( a[::-2] )"
   ]
  },
  {
   "cell_type": "code",
   "execution_count": null,
   "metadata": {},
   "outputs": [],
   "source": [
    "\n"
   ]
  },
  {
   "cell_type": "code",
   "execution_count": null,
   "metadata": {},
   "outputs": [],
   "source": []
  },
  {
   "cell_type": "code",
   "execution_count": null,
   "metadata": {},
   "outputs": [],
   "source": []
  }
 ],
 "metadata": {
  "kernelspec": {
   "display_name": "Python 3",
   "language": "python",
   "name": "python3"
  },
  "language_info": {
   "codemirror_mode": {
    "name": "ipython",
    "version": 3
   },
   "file_extension": ".py",
   "mimetype": "text/x-python",
   "name": "python",
   "nbconvert_exporter": "python",
   "pygments_lexer": "ipython3",
   "version": "3.7.3"
  }
 },
 "nbformat": 4,
 "nbformat_minor": 2
}
