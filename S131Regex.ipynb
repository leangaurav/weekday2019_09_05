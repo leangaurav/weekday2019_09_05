{
 "cells": [
  {
   "cell_type": "code",
   "execution_count": 30,
   "metadata": {},
   "outputs": [
    {
     "data": {
      "text/plain": [
       "'/Users/vigneshkarthick/weekday2019_09_05'"
      ]
     },
     "execution_count": 30,
     "metadata": {},
     "output_type": "execute_result"
    }
   ],
   "source": [
    "%pwd"
   ]
  },
  {
   "cell_type": "code",
   "execution_count": 2,
   "metadata": {},
   "outputs": [
    {
     "name": "stdout",
     "output_type": "stream",
     "text": [
      "['A', 'ASCII', 'DEBUG', 'DOTALL', 'I', 'IGNORECASE', 'L', 'LOCALE', 'M', 'MULTILINE', 'Match', 'Pattern', 'RegexFlag', 'S', 'Scanner', 'T', 'TEMPLATE', 'U', 'UNICODE', 'VERBOSE', 'X', '_MAXCACHE', '__all__', '__builtins__', '__cached__', '__doc__', '__file__', '__loader__', '__name__', '__package__', '__spec__', '__version__', '_cache', '_compile', '_compile_repl', '_expand', '_locale', '_pickle', '_special_chars_map', '_subx', 'compile', 'copyreg', 'enum', 'error', 'escape', 'findall', 'finditer', 'fullmatch', 'functools', 'match', 'purge', 'search', 'split', 'sre_compile', 'sre_parse', 'sub', 'subn', 'template']\n"
     ]
    }
   ],
   "source": [
    "import re\n",
    "print(dir(re))"
   ]
  },
  {
   "cell_type": "code",
   "execution_count": 5,
   "metadata": {},
   "outputs": [
    {
     "name": "stdout",
     "output_type": "stream",
     "text": [
      "<re.Match object; span=(0, 3), match='abc'>\n",
      "None\n"
     ]
    }
   ],
   "source": [
    "s = 'abcd abc ab AB A'\n",
    "\n",
    "r = re.search( r'abc', s)\n",
    "print(r)\n",
    "r = re.search( r'abe', s)\n",
    "print(r)"
   ]
  },
  {
   "cell_type": "code",
   "execution_count": 8,
   "metadata": {},
   "outputs": [
    {
     "name": "stdout",
     "output_type": "stream",
     "text": [
      "<re.Match object; span=(0, 2), match='ab'>\n",
      "<re.Match object; span=(5, 7), match='ab'>\n",
      "<re.Match object; span=(9, 11), match='ab'>\n",
      "<re.Match object; span=(12, 14), match='AB'>\n",
      "ab\n",
      "ab\n",
      "ab\n",
      "AB\n"
     ]
    }
   ],
   "source": [
    "s = 'abcd abc ab AB A'\n",
    "\n",
    "for r in re.finditer( r'ab', s,re.IGNORECASE):\n",
    "    print(r)\n",
    "\n",
    "for r in re.findall( r'ab', s,re.IGNORECASE):\n",
    "    print(r)"
   ]
  },
  {
   "cell_type": "code",
   "execution_count": 10,
   "metadata": {},
   "outputs": [
    {
     "name": "stdout",
     "output_type": "stream",
     "text": [
      "<re.Match object; span=(0, 2), match='12'>\n",
      "<re.Match object; span=(9, 11), match='22'>\n",
      "<re.Match object; span=(15, 17), match='33'>\n",
      "<re.Match object; span=(19, 21), match='44'>\n",
      "<re.Match object; span=(21, 23), match='44'>\n"
     ]
    }
   ],
   "source": [
    "s = '123 abcd 22 pq 333 4444'\n",
    "\n",
    "# \\d : digits\n",
    "# \\D : not-digit\n",
    "# \\s : white space : ' ', \\n \\t\n",
    "# \\S :\n",
    "# \\w : alpha numeric\n",
    "# \\W :\n",
    "\n",
    "for r in re.finditer( r'\\d\\d', s):\n",
    "    print(r)"
   ]
  },
  {
   "cell_type": "code",
   "execution_count": 12,
   "metadata": {},
   "outputs": [
    {
     "name": "stdout",
     "output_type": "stream",
     "text": [
      "<re.Match object; span=(0, 4), match='1234'>\n",
      "<re.Match object; span=(4, 7), match='567'>\n",
      "<re.Match object; span=(19, 22), match='333'>\n",
      "<re.Match object; span=(23, 27), match='4444'>\n"
     ]
    }
   ],
   "source": [
    "s = '1234567 abcd 22 pq 333 4444'\n",
    "\n",
    "# * : 0-n repetitions\n",
    "# + : 1-n \n",
    "# ? : 0-1\n",
    "# *? : 0-n non-greedy\n",
    "# +? : 1-n\n",
    "# {m,n} : min-m max-n repetitions\n",
    "\n",
    "for r in re.finditer( r'\\d{3,4}', s):\n",
    "    print(r)"
   ]
  },
  {
   "cell_type": "code",
   "execution_count": 16,
   "metadata": {},
   "outputs": [
    {
     "name": "stdout",
     "output_type": "stream",
     "text": [
      "<re.Match object; span=(19, 22), match='333'>\n",
      "<re.Match object; span=(23, 27), match='4444'>\n"
     ]
    }
   ],
   "source": [
    "s = '1234567 abcd 22 pq 333 4444'\n",
    "\n",
    "# * : 0-n repetitions\n",
    "# + : 1-n \n",
    "# ? : 0-1\n",
    "# *? : 0-n non-greedy\n",
    "# +? : 1-n\n",
    "# {m,n} : min-m max-n repetitions\n",
    "# \\b : \\n \\t , ' ',;.?!\n",
    "\n",
    "for r in re.finditer( r'\\b\\d{3,4}\\b', s):\n",
    "    print(r)"
   ]
  },
  {
   "cell_type": "code",
   "execution_count": 21,
   "metadata": {},
   "outputs": [
    {
     "name": "stdout",
     "output_type": "stream",
     "text": [
      "<re.Match object; span=(0, 7), match='1234567'>\n",
      "<re.Match object; span=(21, 22), match='1'>\n",
      "<re.Match object; span=(23, 26), match='333'>\n",
      "<re.Match object; span=(27, 31), match='4444'>\n"
     ]
    }
   ],
   "source": [
    "s = '1234567 ab1cd 22a pq 1,333 4444'\n",
    "\n",
    "# * : 0-n repetitions\n",
    "# + : 1-n \n",
    "# ? : 0-1\n",
    "# *? : 0-n non-greedy\n",
    "# +? : 1-n\n",
    "# {m,n} : min-m max-n repetitions\n",
    "# \\b : \\n \\t , ' ',;.?!\n",
    "\n",
    "for r in re.finditer( r'\\b\\d+\\b', s):\n",
    "    print(r)"
   ]
  },
  {
   "cell_type": "code",
   "execution_count": 24,
   "metadata": {},
   "outputs": [
    {
     "name": "stdout",
     "output_type": "stream",
     "text": [
      "today is some day. <re.Match object; span=(0, 18), match='today is some day.'>\n",
      "that day. <re.Match object; span=(0, 9), match='that day.'>\n",
      "this day! None\n",
      "this day# None\n",
      "which day? None\n"
     ]
    }
   ],
   "source": [
    "strs = ['today is some day.','that day.' ,\n",
    "     'this day!', 'this day#', 'which day?']\n",
    "# . : match any symbol once\n",
    "# Anchor tags\n",
    "# ^ : beginning\n",
    "# $ : end\n",
    "for s in strs:\n",
    "    print(s, re.search(r'^t.*\\.$', s))"
   ]
  },
  {
   "cell_type": "code",
   "execution_count": 26,
   "metadata": {},
   "outputs": [
    {
     "name": "stdout",
     "output_type": "stream",
     "text": [
      "today is some .day. <re.Match object; span=(0, 19), match='today is some .day.'>\n",
      "that .day. <re.Match object; span=(0, 10), match='that .day.'>\n",
      "this day! <re.Match object; span=(0, 9), match='this day!'>\n",
      "this day# None\n",
      "which day? None\n"
     ]
    }
   ],
   "source": [
    "strs = ['today is some .day.','that .day.' ,\n",
    "     'this day!', 'this day#', 'which day?']\n",
    "# . : match any symbol once\n",
    "# Anchor tags\n",
    "# ^ : beginning\n",
    "# | : or\n",
    "for s in strs:\n",
    "    print(s, re.search(r'^t.*(\\.|!)$', s))"
   ]
  },
  {
   "cell_type": "code",
   "execution_count": 28,
   "metadata": {},
   "outputs": [
    {
     "name": "stdout",
     "output_type": "stream",
     "text": [
      "today is some .day. <re.Match object; span=(0, 19), match='today is some .day.'>\n",
      "that .day. <re.Match object; span=(0, 10), match='that .day.'>\n",
      "this day! <re.Match object; span=(0, 9), match='this day!'>\n",
      "this .day# <re.Match object; span=(0, 6), match='this .'>\n",
      "which day? None\n"
     ]
    }
   ],
   "source": [
    "strs = ['today is some .day.','that .day.' ,\n",
    "     'this day!', 'this .day#', 'which day?']\n",
    "# . : match any symbol once\n",
    "# Anchor tags\n",
    "# ^ : beginning\n",
    "# | : or\n",
    "for s in strs:\n",
    "    print(s, re.search(r'^t.*(\\.|!)', s))"
   ]
  },
  {
   "cell_type": "code",
   "execution_count": 29,
   "metadata": {},
   "outputs": [
    {
     "name": "stdout",
     "output_type": "stream",
     "text": [
      "today is some .day. <re.Match object; span=(0, 15), match='today is some .'>\n",
      "that .day. <re.Match object; span=(0, 6), match='that .'>\n",
      "this day! <re.Match object; span=(0, 9), match='this day!'>\n",
      "this day# None\n",
      "which day? None\n"
     ]
    }
   ],
   "source": [
    "strs = ['today is some .day.','that .day.' ,\n",
    "     'this day!', 'this day#', 'which day?']\n",
    "# . : match any symbol once\n",
    "# Anchor tags\n",
    "# ^ : beginning\n",
    "# | : or\n",
    "for s in strs:\n",
    "    print(s, re.search(r'^t.*?(\\.|!)', s))"
   ]
  },
  {
   "cell_type": "code",
   "execution_count": null,
   "metadata": {},
   "outputs": [],
   "source": [
    "# Search set\n",
    "# [] : [a-z]\n",
    "# [A-Z]  \n",
    "# [abcABC]\n",
    "# [01ab#$]\n",
    "# [^a-z] : don't match small alphabets"
   ]
  },
  {
   "cell_type": "code",
   "execution_count": null,
   "metadata": {},
   "outputs": [],
   "source": []
  },
  {
   "cell_type": "code",
   "execution_count": null,
   "metadata": {},
   "outputs": [],
   "source": []
  }
 ],
 "metadata": {
  "kernelspec": {
   "display_name": "Python 3",
   "language": "python",
   "name": "python3"
  },
  "language_info": {
   "codemirror_mode": {
    "name": "ipython",
    "version": 3
   },
   "file_extension": ".py",
   "mimetype": "text/x-python",
   "name": "python",
   "nbconvert_exporter": "python",
   "pygments_lexer": "ipython3",
   "version": "3.7.3"
  }
 },
 "nbformat": 4,
 "nbformat_minor": 2
}
