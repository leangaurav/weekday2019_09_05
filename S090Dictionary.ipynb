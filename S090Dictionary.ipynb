{
 "cells": [
  {
   "cell_type": "code",
   "execution_count": null,
   "metadata": {},
   "outputs": [],
   "source": [
    "dict\n",
    "# O(1)"
   ]
  },
  {
   "cell_type": "code",
   "execution_count": null,
   "metadata": {},
   "outputs": [],
   "source": [
    "a = [1,30,40,12,34]\n",
    "\n",
    "# 30\n",
    "1\n",
    "10\n",
    "100\n",
    "   # O(1)  =  1,  1,   , 1\n",
    "   # O(log n)=\n",
    "a1 # O(n)   = 1, 10    , 100\n",
    "   # O(n logn)= \n",
    "   # O(n^2) = 1, 100   , 10000\n",
    "   # O(2^n) = 2, 1024  , 1267650600228229401496703205376\n",
    "   # O(n!)  = 1,\n",
    "\n",
    "for i in range(n):\n",
    "    for i in range(n/2):\n",
    "        print(i)"
   ]
  },
  {
   "cell_type": "code",
   "execution_count": null,
   "metadata": {},
   "outputs": [],
   "source": [
    "a = [10,20,30]\n"
   ]
  },
  {
   "cell_type": "markdown",
   "metadata": {},
   "source": [
    "### Dict\n",
    "- key: value\n",
    "- key should be immutable type\n",
    "- values can be mutable type\n",
    "- keys are unique, values may or may not be"
   ]
  },
  {
   "cell_type": "code",
   "execution_count": 3,
   "metadata": {},
   "outputs": [
    {
     "name": "stdout",
     "output_type": "stream",
     "text": [
      "{} <class 'dict'> 0\n",
      "{} <class 'dict'> 0\n"
     ]
    }
   ],
   "source": [
    "d = {}\n",
    "print(d, type(d), len(d))\n",
    "d = dict()\n",
    "print(d, type(d), len(d))"
   ]
  },
  {
   "cell_type": "code",
   "execution_count": 7,
   "metadata": {},
   "outputs": [
    {
     "name": "stdout",
     "output_type": "stream",
     "text": [
      "{1: 10, 'str': [10, 20], (1, 2): 'string'} <class 'dict'> 3\n"
     ]
    },
    {
     "ename": "TypeError",
     "evalue": "unhashable type: 'list'",
     "output_type": "error",
     "traceback": [
      "\u001b[1;31m---------------------------------------------------------------------------\u001b[0m",
      "\u001b[1;31mTypeError\u001b[0m                                 Traceback (most recent call last)",
      "\u001b[1;32m<ipython-input-7-96f1a9df4376>\u001b[0m in \u001b[0;36m<module>\u001b[1;34m\u001b[0m\n\u001b[0;32m      1\u001b[0m \u001b[0md\u001b[0m \u001b[1;33m=\u001b[0m \u001b[1;33m{\u001b[0m \u001b[1;36m1\u001b[0m\u001b[1;33m:\u001b[0m\u001b[1;36m10\u001b[0m\u001b[1;33m,\u001b[0m \u001b[1;34m'str'\u001b[0m\u001b[1;33m:\u001b[0m \u001b[1;33m[\u001b[0m\u001b[1;36m10\u001b[0m\u001b[1;33m,\u001b[0m\u001b[1;36m20\u001b[0m\u001b[1;33m]\u001b[0m\u001b[1;33m,\u001b[0m \u001b[1;33m(\u001b[0m\u001b[1;36m1\u001b[0m\u001b[1;33m,\u001b[0m\u001b[1;36m2\u001b[0m\u001b[1;33m)\u001b[0m\u001b[1;33m:\u001b[0m \u001b[1;34m'string'\u001b[0m \u001b[1;33m}\u001b[0m\u001b[1;33m\u001b[0m\u001b[1;33m\u001b[0m\u001b[0m\n\u001b[0;32m      2\u001b[0m \u001b[0mprint\u001b[0m\u001b[1;33m(\u001b[0m\u001b[0md\u001b[0m\u001b[1;33m,\u001b[0m \u001b[0mtype\u001b[0m\u001b[1;33m(\u001b[0m\u001b[0md\u001b[0m\u001b[1;33m)\u001b[0m\u001b[1;33m,\u001b[0m \u001b[0mlen\u001b[0m\u001b[1;33m(\u001b[0m\u001b[0md\u001b[0m\u001b[1;33m)\u001b[0m\u001b[1;33m)\u001b[0m\u001b[1;33m\u001b[0m\u001b[1;33m\u001b[0m\u001b[0m\n\u001b[1;32m----> 3\u001b[1;33m \u001b[0md\u001b[0m \u001b[1;33m=\u001b[0m \u001b[1;33m{\u001b[0m\u001b[1;33m(\u001b[0m\u001b[1;36m1\u001b[0m\u001b[1;33m,\u001b[0m\u001b[1;36m2\u001b[0m\u001b[1;33m)\u001b[0m\u001b[1;33m:\u001b[0m \u001b[1;34m'string'\u001b[0m\u001b[1;33m,\u001b[0m  \u001b[1;33m[\u001b[0m\u001b[1;36m1\u001b[0m\u001b[1;33m,\u001b[0m\u001b[1;36m2\u001b[0m\u001b[1;33m]\u001b[0m\u001b[1;33m:\u001b[0m \u001b[1;36m1000\u001b[0m\u001b[1;33m}\u001b[0m\u001b[1;33m\u001b[0m\u001b[1;33m\u001b[0m\u001b[0m\n\u001b[0m\u001b[0;32m      4\u001b[0m \u001b[0mprint\u001b[0m\u001b[1;33m(\u001b[0m\u001b[0md\u001b[0m\u001b[1;33m,\u001b[0m \u001b[0mtype\u001b[0m\u001b[1;33m(\u001b[0m\u001b[0md\u001b[0m\u001b[1;33m)\u001b[0m\u001b[1;33m,\u001b[0m \u001b[0mlen\u001b[0m\u001b[1;33m(\u001b[0m\u001b[0md\u001b[0m\u001b[1;33m)\u001b[0m\u001b[1;33m)\u001b[0m\u001b[1;33m\u001b[0m\u001b[1;33m\u001b[0m\u001b[0m\n",
      "\u001b[1;31mTypeError\u001b[0m: unhashable type: 'list'"
     ]
    }
   ],
   "source": [
    "d = { 1:10, 'str': [10,20], (1,2): 'string' }\n",
    "print(d, type(d), len(d))\n",
    "\n",
    "d = {(1,2): 'string',  [1,2]: 1000}\n",
    "print(d, type(d), len(d))"
   ]
  },
  {
   "cell_type": "code",
   "execution_count": 10,
   "metadata": {},
   "outputs": [
    {
     "name": "stdout",
     "output_type": "stream",
     "text": [
      "{1: 100, 2: 100, 3: 100}\n",
      "{1: 100, 2: 100}\n"
     ]
    }
   ],
   "source": [
    "d = dict.fromkeys([1,2,3], 100)\n",
    "print(d)\n",
    "d = dict.fromkeys([1,2,2], 100)\n",
    "print(d)"
   ]
  },
  {
   "cell_type": "code",
   "execution_count": 19,
   "metadata": {},
   "outputs": [
    {
     "name": "stdout",
     "output_type": "stream",
     "text": [
      "{10: 'string'}\n",
      "{10: 'string', 20: [10, 20, 30, 40]}\n",
      "string\n",
      "\n",
      "100 key not there\n"
     ]
    }
   ],
   "source": [
    "d = {}\n",
    "d [10] = 'string'\n",
    "print(d)\n",
    "\n",
    "d [20] = [10,20,30,40]\n",
    "print(d)\n",
    "\n",
    "print(d[10])\n",
    "\n",
    "print()\n",
    "if 100 in d:\n",
    "    print(d[100])\n",
    "else:\n",
    "    print('100 key not there')"
   ]
  },
  {
   "cell_type": "code",
   "execution_count": 16,
   "metadata": {},
   "outputs": [
    {
     "name": "stdout",
     "output_type": "stream",
     "text": [
      "[50, 20]\n",
      "[72, 24]\n",
      "[98, 28]\n",
      "[128, 32]\n",
      "[162, 36]\n"
     ]
    }
   ],
   "source": [
    "def mul(x,y):\n",
    "    return x*y\n",
    "def add(x,y):\n",
    "    return x+y\n",
    "funcs=[mul,add]\n",
    "\n",
    "for i in range(5,10):\n",
    "    result=list(map(lambda x,y:x(i,i)+y(i,i),funcs, funcs))\n",
    "    print(result)"
   ]
  },
  {
   "cell_type": "code",
   "execution_count": 26,
   "metadata": {},
   "outputs": [
    {
     "name": "stdout",
     "output_type": "stream",
     "text": [
      "True\n",
      "False\n",
      "{10: 100, 20: 200}\n",
      "{10: 'string', 20: 200}\n",
      "{10: 'string', 20: 200, 40: 'string'}\n",
      "{20: 200, 40: 'string'}\n",
      "string\n"
     ]
    }
   ],
   "source": [
    "d = {10:100, 20:200}\n",
    "\n",
    "print(10 in d)\n",
    "print(100 in d)\n",
    "\n",
    "print(d)\n",
    "d[10] = 'string'\n",
    "print(d)\n",
    "d[40] = 'string'\n",
    "print(d)\n",
    "\n",
    "del d[10]\n",
    "print(d)\n",
    "print(d[40])"
   ]
  },
  {
   "cell_type": "code",
   "execution_count": 28,
   "metadata": {},
   "outputs": [
    {
     "name": "stdout",
     "output_type": "stream",
     "text": [
      "enter a string : this is a string\n",
      "{'t': 2, 'h': 1, 'i': 3, 's': 3, ' ': 3, 'a': 1, 'r': 1, 'n': 1, 'g': 1}\n"
     ]
    }
   ],
   "source": [
    "s = input('enter a string : ')\n",
    "\n",
    "d = {}\n",
    "\n",
    "for c in s:\n",
    "    if c in d:\n",
    "        d[c] = d[c] + 1\n",
    "    else:\n",
    "        d[c] = 1\n",
    "\n",
    "print(d)\n",
    "\n",
    "# s abcaba\n",
    "# d {} {'a':1} {'a':1,'b':1} {'a':1,'b':1,'c':1} {'a':2,'b':1,'c':1} {'a':2,'b':2,'c':1}  {'a':3,'b':2,'c':1}\n",
    "# c    a       b             c                   a                   b                   a"
   ]
  },
  {
   "cell_type": "code",
   "execution_count": 34,
   "metadata": {},
   "outputs": [
    {
     "name": "stdout",
     "output_type": "stream",
     "text": [
      "{'x': 10, 'y': 'abcd'}\n",
      "{'x': 1000000, 'y': 'abcd', 10: 100}\n"
     ]
    }
   ],
   "source": [
    "d = dict(x = 10, y = 'abcd')\n",
    "print(d)\n",
    "\n",
    "d = dict(      [ ('x' , 10), ('y' ,'abcd'), (10,100), ('x', 1000000) ]           )\n",
    "print(d)"
   ]
  },
  {
   "cell_type": "code",
   "execution_count": 38,
   "metadata": {},
   "outputs": [
    {
     "name": "stdout",
     "output_type": "stream",
     "text": [
      "{'x': 1000000, 'y': 'abcd', 10: 100}\n",
      "1000000\n",
      "None\n",
      "1111111111\n",
      "1000000\n"
     ]
    }
   ],
   "source": [
    "d = dict(      [ ('x' , 10), ('y' ,'abcd'), (10,100), ('x', 1000000) ]           )\n",
    "print(d)\n",
    "\n",
    "print(d.get('x'))\n",
    "print(d.get('z'))\n",
    "print(d.get('z', 1111111111))\n",
    "print(d.get('x', 1111111111))"
   ]
  },
  {
   "cell_type": "code",
   "execution_count": 49,
   "metadata": {},
   "outputs": [
    {
     "name": "stdout",
     "output_type": "stream",
     "text": [
      "enter a string : this is a string\n",
      "{'t': 2, 'h': 1, 'i': 3, 's': 3, ' ': 3, 'a': 1, 'r': 1, 'n': 1, 'g': 1}\n",
      "t occurs 2 times\n",
      "h occurs 1 times\n",
      "i occurs 3 times\n",
      "s occurs 3 times\n",
      "  occurs 3 times\n",
      "a occurs 1 times\n",
      "r occurs 1 times\n",
      "n occurs 1 times\n",
      "g occurs 1 times\n"
     ]
    }
   ],
   "source": [
    "s = input('enter a string : ')\n",
    "\n",
    "d = {}\n",
    "\n",
    "for c in s:\n",
    "    d[c] = d.get(c,0) + 1\n",
    "\n",
    "for k in d:\n",
    "    print( '{} occurs {} times'.format(k, d[k]) )"
   ]
  },
  {
   "cell_type": "code",
   "execution_count": 42,
   "metadata": {},
   "outputs": [
    {
     "name": "stdout",
     "output_type": "stream",
     "text": [
      "dict_keys(['a', 'b', 'c'])\n",
      "dict_values([3, 2, 1])\n",
      "dict_items([('a', 3), ('b', 2), ('c', 1)])\n",
      "\n",
      "a\n",
      "b\n",
      "c\n"
     ]
    }
   ],
   "source": [
    "d = {'a': 3, 'b': 2, 'c': 1}\n",
    "print(d.keys())\n",
    "print(d.values())\n",
    "print(d.items())\n",
    "print()\n",
    "for k in d:\n",
    "    print(k)"
   ]
  },
  {
   "cell_type": "code",
   "execution_count": 48,
   "metadata": {},
   "outputs": [
    {
     "name": "stdout",
     "output_type": "stream",
     "text": [
      "1\n",
      "x = 1 y = 20\n",
      "x = 1 y = 20 , 10.500000 , abcd\n",
      "x = 1 y = 20 , 10.5 , abcd\n"
     ]
    }
   ],
   "source": [
    "x = int(input())\n",
    "y = 20\n",
    "'x = 10 y = 20'\n",
    "s = 'x = ' + str(x) + ' y = ' + str(y)\n",
    "\n",
    "print(s)\n",
    "# %d = int\n",
    "# %f = float\n",
    "# %s = strings\n",
    "s = 'x = %d y = %d , %f , %s' % (x,y, 10.5, 'abcd')\n",
    "print(s)\n",
    "s = 'x = {} y = {} , {} , {}' .format(x,y, 10.5, 'abcd')\n",
    "print(s)\n"
   ]
  },
  {
   "cell_type": "code",
   "execution_count": 51,
   "metadata": {},
   "outputs": [
    {
     "name": "stdout",
     "output_type": "stream",
     "text": [
      "Enter a number : 12312\n",
      "{2: 2, 1: 2, 3: 1}\n"
     ]
    }
   ],
   "source": [
    "# WAP to input a number and count frequency of each digit in that number\n",
    "# 1001234\n",
    "# 1:2\n",
    "# 0:2\n",
    "# 2:1\n",
    "# 3:1\n",
    "# 4:1\n",
    "\n",
    "num = int(input('Enter a number : '))\n",
    "\n",
    "d = {}\n",
    "while num > 0:\n",
    "    digit = num%10\n",
    "    num = num // 10\n",
    "    d[digit] = d.get(digit, 0) + 1\n",
    "    \n",
    "print(d)"
   ]
  },
  {
   "cell_type": "code",
   "execution_count": null,
   "metadata": {},
   "outputs": [],
   "source": []
  },
  {
   "cell_type": "code",
   "execution_count": null,
   "metadata": {},
   "outputs": [],
   "source": []
  }
 ],
 "metadata": {
  "kernelspec": {
   "display_name": "Python 3",
   "language": "python",
   "name": "python3"
  },
  "language_info": {
   "codemirror_mode": {
    "name": "ipython",
    "version": 3
   },
   "file_extension": ".py",
   "mimetype": "text/x-python",
   "name": "python",
   "nbconvert_exporter": "python",
   "pygments_lexer": "ipython3",
   "version": "3.7.3"
  }
 },
 "nbformat": 4,
 "nbformat_minor": 2
}
