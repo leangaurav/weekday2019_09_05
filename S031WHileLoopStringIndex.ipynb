{
 "cells": [
  {
   "cell_type": "code",
   "execution_count": 4,
   "metadata": {},
   "outputs": [
    {
     "name": "stdout",
     "output_type": "stream",
     "text": [
      "Sum is: 96 and Avg is : 48.0\n"
     ]
    }
   ],
   "source": [
    "# WAP to generate 2 random no (1-100) and print their sum and average\n",
    "\n",
    "from random import randint\n",
    "x=randint(1,100)\n",
    "y=randint(1,100)\n",
    "sum_n=x+y\n",
    "avg=sum_n/2\n",
    "print(\"Sum is:\",sum_n, \"and Avg is :\",avg)"
   ]
  },
  {
   "cell_type": "code",
   "execution_count": 4,
   "metadata": {},
   "outputs": [
    {
     "name": "stdout",
     "output_type": "stream",
     "text": [
      "sum: 104\n",
      "avg: 52.0\n"
     ]
    }
   ],
   "source": [
    "import random \n",
    "a=random.randint(1,100)\n",
    "b=random.randint(1,100)\n",
    "s=a+b\n",
    "avg=s/2\n",
    "print(\"sum:\",s)\n",
    "print(\"avg:\",avg)"
   ]
  },
  {
   "cell_type": "markdown",
   "metadata": {},
   "source": [
    "### Loops\n",
    "- while\n",
    "- for"
   ]
  },
  {
   "cell_type": "code",
   "execution_count": 11,
   "metadata": {},
   "outputs": [
    {
     "name": "stdout",
     "output_type": "stream",
     "text": [
      "1\n",
      "2\n",
      "3\n",
      "4\n",
      "5\n",
      "6\n",
      "7\n",
      "8\n",
      "9\n",
      "abc 10\n"
     ]
    }
   ],
   "source": [
    "\"\"\"\n",
    "while <condition>:\n",
    "    <code>  \n",
    "{\n",
    " ...\n",
    " ...\n",
    "}\n",
    "\"\"\"\n",
    "i = 1\n",
    "\n",
    "while i < 10:\n",
    "    print(i)\n",
    "    i = i + 1\n",
    "    \n",
    "print('abc', i)\n",
    "\n",
    "# i 1 2 3....... 9 10\n"
   ]
  },
  {
   "cell_type": "code",
   "execution_count": 5,
   "metadata": {},
   "outputs": [
    {
     "name": "stdout",
     "output_type": "stream",
     "text": [
      "1\n",
      "2\n",
      "3\n",
      "4\n"
     ]
    }
   ],
   "source": [
    "i = 1\n",
    "\n",
    "print(i)\n",
    "i = i + 1\n",
    "\n",
    "print(i)\n",
    "i += 1\n",
    "\n",
    "print(i)\n",
    "i = i + 1\n",
    "\n",
    "print(i)\n",
    "i = i + 1"
   ]
  },
  {
   "cell_type": "code",
   "execution_count": 15,
   "metadata": {},
   "outputs": [
    {
     "name": "stdout",
     "output_type": "stream",
     "text": [
      "1\n",
      "10\n",
      "2.0\n"
     ]
    }
   ],
   "source": [
    "i = 2\n",
    "i -= 1\n",
    "print(i)\n",
    "i *= 10\n",
    "print(i)\n",
    "i /= 5\n",
    "print(i)"
   ]
  },
  {
   "cell_type": "code",
   "execution_count": 16,
   "metadata": {},
   "outputs": [
    {
     "name": "stdout",
     "output_type": "stream",
     "text": [
      "128\n"
     ]
    }
   ],
   "source": [
    "i = 2\n",
    "\n",
    "while i < 100:\n",
    "    i *= 2\n",
    "    \n",
    "print(i)"
   ]
  },
  {
   "cell_type": "code",
   "execution_count": 17,
   "metadata": {},
   "outputs": [
    {
     "name": "stdout",
     "output_type": "stream",
     "text": [
      "2\n",
      "4\n",
      "8\n",
      "16\n",
      "32\n",
      "64\n"
     ]
    }
   ],
   "source": [
    "i = 2\n",
    "\n",
    "while i < 100:\n",
    "    print(i)\n",
    "    i *= 2\n",
    "    "
   ]
  },
  {
   "cell_type": "code",
   "execution_count": 18,
   "metadata": {},
   "outputs": [
    {
     "name": "stdout",
     "output_type": "stream",
     "text": [
      "4\n",
      "8\n",
      "16\n",
      "32\n",
      "64\n",
      "128\n"
     ]
    }
   ],
   "source": [
    "i = 2\n",
    "\n",
    "while i < 100:\n",
    "    i *= 2\n",
    "    print(i)\n",
    "    "
   ]
  },
  {
   "cell_type": "code",
   "execution_count": 22,
   "metadata": {},
   "outputs": [
    {
     "name": "stdout",
     "output_type": "stream",
     "text": [
      "1\n",
      "2\n",
      "3\n",
      "4\n",
      "5\n",
      "6\n",
      "7\n",
      "8\n",
      "9\n"
     ]
    }
   ],
   "source": [
    "i = 1\n",
    "\n",
    "while i < 10:\n",
    "    print(i)\n",
    "    i = i + 1"
   ]
  },
  {
   "cell_type": "code",
   "execution_count": 23,
   "metadata": {},
   "outputs": [
    {
     "name": "stdout",
     "output_type": "stream",
     "text": [
      "10\n",
      "9\n",
      "8\n",
      "7\n",
      "6\n",
      "5\n",
      "4\n",
      "3\n",
      "2\n",
      "1\n"
     ]
    }
   ],
   "source": [
    "10-1\n",
    "i = 10\n",
    "while i > 0:\n",
    "    print(i)\n",
    "    i -= 1\n",
    "    "
   ]
  },
  {
   "cell_type": "code",
   "execution_count": 25,
   "metadata": {},
   "outputs": [
    {
     "name": "stdout",
     "output_type": "stream",
     "text": [
      "9\n",
      "8\n",
      "7\n",
      "6\n",
      "5\n",
      "4\n",
      "3\n",
      "2\n",
      "1\n",
      "0\n"
     ]
    }
   ],
   "source": [
    "i=10\n",
    "while i >= 1:\n",
    "     i=i-1\n",
    "     print(i)\n"
   ]
  },
  {
   "cell_type": "code",
   "execution_count": 26,
   "metadata": {},
   "outputs": [
    {
     "name": "stdout",
     "output_type": "stream",
     "text": [
      "10\n",
      "9\n",
      "8\n",
      "7\n",
      "6\n",
      "5\n",
      "4\n",
      "3\n",
      "2\n",
      "1\n"
     ]
    }
   ],
   "source": [
    "j=10\n",
    "\n",
    "while j>=1:\n",
    "    print(j)\n",
    "    j=j-1\n"
   ]
  },
  {
   "cell_type": "code",
   "execution_count": 31,
   "metadata": {},
   "outputs": [
    {
     "name": "stdout",
     "output_type": "stream",
     "text": [
      "Enter a number: -1\n",
      "0\n",
      "0.0\n"
     ]
    }
   ],
   "source": [
    "# Program to find sum of numbers from 1 to n.\n",
    "n = int(input(\"Enter a number: \"))\n",
    "\n",
    "i = 1\n",
    "s = 0\n",
    "\n",
    "while i <= n:\n",
    "    s += i\n",
    "    i += 1\n",
    "\n",
    "print(s)\n",
    "print( n * (n + 1) / 2 )\n",
    "# n = 5\n",
    "# i 1 2 3 4  5  6\n",
    "# s 0 1 3 6 10  15"
   ]
  },
  {
   "cell_type": "code",
   "execution_count": 40,
   "metadata": {},
   "outputs": [
    {
     "name": "stdout",
     "output_type": "stream",
     "text": [
      "25\n",
      "28\n",
      "50\n",
      "81\n",
      "61\n",
      "53\n",
      "67\n",
      "31\n",
      "44\n",
      "34\n"
     ]
    }
   ],
   "source": [
    "# WAP to print 10 random numbers between 10-100\n",
    "\n",
    "import random as rn\n",
    "\n",
    "i=1\n",
    "while i<=10:\n",
    "    a=rn.randint(10,100)\n",
    "    print(a)\n",
    "    i=i+1\n"
   ]
  },
  {
   "cell_type": "code",
   "execution_count": 41,
   "metadata": {},
   "outputs": [
    {
     "name": "stdout",
     "output_type": "stream",
     "text": [
      "n to exit:a\n",
      "n to exit:b\n",
      "n to exit:y\n",
      "n to exit:n\n",
      "Counted:  3\n"
     ]
    }
   ],
   "source": [
    "s = input('n to exit:')\n",
    "count = 0\n",
    "\n",
    "while s != 'n':\n",
    "    s = input('n to exit:')\n",
    "    count += 1\n",
    "    \n",
    "print(\"Counted: \", count)"
   ]
  },
  {
   "cell_type": "code",
   "execution_count": 46,
   "metadata": {},
   "outputs": [
    {
     "name": "stdout",
     "output_type": "stream",
     "text": [
      "6\n",
      "d\n",
      "f\n",
      "d\n",
      "b\n",
      "f\n",
      "f\n"
     ]
    }
   ],
   "source": [
    "s = 'abcdef'\n",
    "#    012345 +ve\n",
    "#    654321 -ve\n",
    "\n",
    "print(len(s))\n",
    "print( s[3] )# indexing\n",
    "print( s[5] )\n",
    "print( s[-3] )# indexing\n",
    "print( s[-5] )\n",
    "print( s[-1] )\n",
    "print( s[len(s) - 1] )"
   ]
  },
  {
   "cell_type": "code",
   "execution_count": 48,
   "metadata": {},
   "outputs": [
    {
     "name": "stdout",
     "output_type": "stream",
     "text": [
      "Enter a string: abcdefdsdfs898\n",
      "a\n",
      "b\n",
      "c\n",
      "d\n",
      "e\n",
      "f\n",
      "d\n",
      "s\n",
      "d\n",
      "f\n",
      "s\n",
      "8\n",
      "9\n",
      "8\n"
     ]
    }
   ],
   "source": [
    "s = input('Enter a string: ')\n",
    "\n",
    "i = 0\n",
    "while i < len(s):\n",
    "    print(s[i])\n",
    "    i += 1"
   ]
  },
  {
   "cell_type": "code",
   "execution_count": null,
   "metadata": {},
   "outputs": [],
   "source": [
    "# WAP to input a string and print ascii value of each character"
   ]
  },
  {
   "cell_type": "code",
   "execution_count": null,
   "metadata": {},
   "outputs": [],
   "source": [
    "# WAP to input a string and find sum of ascii value of all characters"
   ]
  },
  {
   "cell_type": "code",
   "execution_count": null,
   "metadata": {},
   "outputs": [],
   "source": []
  }
 ],
 "metadata": {
  "kernelspec": {
   "display_name": "Python 3",
   "language": "python",
   "name": "python3"
  },
  "language_info": {
   "codemirror_mode": {
    "name": "ipython",
    "version": 3
   },
   "file_extension": ".py",
   "mimetype": "text/x-python",
   "name": "python",
   "nbconvert_exporter": "python",
   "pygments_lexer": "ipython3",
   "version": "3.7.3"
  }
 },
 "nbformat": 4,
 "nbformat_minor": 2
}
